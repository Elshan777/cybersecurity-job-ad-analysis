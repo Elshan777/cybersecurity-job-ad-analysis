{
 "cells": [
  {
   "cell_type": "code",
   "execution_count": 1,
   "id": "3ea87e27-5bfd-40cb-8857-86b245d4dbf4",
   "metadata": {},
   "outputs": [
    {
     "name": "stderr",
     "output_type": "stream",
     "text": [
      "C:\\Users\\elsha\\anaconda3\\lib\\site-packages\\scipy\\sparse\\sparsetools.py:21: DeprecationWarning: `scipy.sparse.sparsetools` is deprecated!\n",
      "scipy.sparse.sparsetools is a private module for scipy.sparse, and should not be used.\n",
      "  _deprecated()\n"
     ]
    }
   ],
   "source": [
    "import pandas as pd\n",
    "import matplotlib.pyplot as plt\n",
    "import seaborn as sns\n",
    "sns.set()\n",
    "import spacy\n",
    "import pyLDAvis.gensim_models\n",
    "pyLDAvis.enable_notebook()# Visualise inside a notebook\n",
    "import en_core_web_md\n",
    "from gensim.corpora.dictionary import Dictionary\n",
    "from gensim.models import LdaMulticore\n",
    "from gensim.models import CoherenceModel"
   ]
  },
  {
   "cell_type": "markdown",
   "id": "c1dcbc53-a42e-4b83-800e-7657d9e7d243",
   "metadata": {},
   "source": [
    "### Loading the the data (Step 1)"
   ]
  },
  {
   "cell_type": "code",
   "execution_count": 2,
   "id": "aacc38fa-972a-42ec-8043-f2a986e72819",
   "metadata": {},
   "outputs": [
    {
     "data": {
      "text/html": [
       "<div>\n",
       "<style scoped>\n",
       "    .dataframe tbody tr th:only-of-type {\n",
       "        vertical-align: middle;\n",
       "    }\n",
       "\n",
       "    .dataframe tbody tr th {\n",
       "        vertical-align: top;\n",
       "    }\n",
       "\n",
       "    .dataframe thead th {\n",
       "        text-align: right;\n",
       "    }\n",
       "</style>\n",
       "<table border=\"1\" class=\"dataframe\">\n",
       "  <thead>\n",
       "    <tr style=\"text-align: right;\">\n",
       "      <th></th>\n",
       "      <th>country</th>\n",
       "      <th>title</th>\n",
       "      <th>text</th>\n",
       "      <th>job_title</th>\n",
       "    </tr>\n",
       "  </thead>\n",
       "  <tbody>\n",
       "    <tr>\n",
       "      <th>0</th>\n",
       "      <td>AT</td>\n",
       "      <td>Inform</td>\n",
       "      <td>Information Technology Security Manager Global...</td>\n",
       "      <td>Information Technology Security Manager</td>\n",
       "    </tr>\n",
       "    <tr>\n",
       "      <th>1</th>\n",
       "      <td>AT</td>\n",
       "      <td>Architect</td>\n",
       "      <td>Information Security Architect Copmany SWAROVS...</td>\n",
       "      <td>Information Security Architect</td>\n",
       "    </tr>\n",
       "    <tr>\n",
       "      <th>2</th>\n",
       "      <td>AT</td>\n",
       "      <td>Manager</td>\n",
       "      <td>Information Technology Security Manager Copman...</td>\n",
       "      <td>Information Technology Security Manager</td>\n",
       "    </tr>\n",
       "    <tr>\n",
       "      <th>3</th>\n",
       "      <td>AT</td>\n",
       "      <td>Analyst</td>\n",
       "      <td>Threat Detection Analyst Company Radar Cyber S...</td>\n",
       "      <td>Threat Detection Analyst</td>\n",
       "    </tr>\n",
       "    <tr>\n",
       "      <th>4</th>\n",
       "      <td>AT</td>\n",
       "      <td>Engineer</td>\n",
       "      <td>IT Security Engineer Company Global Blue Locat...</td>\n",
       "      <td>IT Security Engineer</td>\n",
       "    </tr>\n",
       "  </tbody>\n",
       "</table>\n",
       "</div>"
      ],
      "text/plain": [
       "  country      title                                               text  \\\n",
       "0      AT     Inform  Information Technology Security Manager Global...   \n",
       "1      AT  Architect  Information Security Architect Copmany SWAROVS...   \n",
       "2      AT    Manager  Information Technology Security Manager Copman...   \n",
       "3      AT    Analyst  Threat Detection Analyst Company Radar Cyber S...   \n",
       "4      AT   Engineer  IT Security Engineer Company Global Blue Locat...   \n",
       "\n",
       "                                 job_title  \n",
       "0  Information Technology Security Manager  \n",
       "1           Information Security Architect  \n",
       "2  Information Technology Security Manager  \n",
       "3                 Threat Detection Analyst  \n",
       "4                     IT Security Engineer  "
      ]
     },
     "execution_count": 2,
     "metadata": {},
     "output_type": "execute_result"
    }
   ],
   "source": [
    "df = pd.read_csv('../data/jobs_3.csv')\n",
    "df.head()"
   ]
  },
  {
   "cell_type": "code",
   "execution_count": 3,
   "id": "f1f084df-0151-4d5b-a04b-16a59712d86b",
   "metadata": {},
   "outputs": [
    {
     "data": {
      "text/html": [
       "<div>\n",
       "<style scoped>\n",
       "    .dataframe tbody tr th:only-of-type {\n",
       "        vertical-align: middle;\n",
       "    }\n",
       "\n",
       "    .dataframe tbody tr th {\n",
       "        vertical-align: top;\n",
       "    }\n",
       "\n",
       "    .dataframe thead th {\n",
       "        text-align: right;\n",
       "    }\n",
       "</style>\n",
       "<table border=\"1\" class=\"dataframe\">\n",
       "  <thead>\n",
       "    <tr style=\"text-align: right;\">\n",
       "      <th></th>\n",
       "      <th>country</th>\n",
       "      <th>title</th>\n",
       "      <th>text</th>\n",
       "      <th>job_title</th>\n",
       "    </tr>\n",
       "  </thead>\n",
       "  <tbody>\n",
       "    <tr>\n",
       "      <th>0</th>\n",
       "      <td>AT</td>\n",
       "      <td>Inform</td>\n",
       "      <td>Information Technology Security Manager Global...</td>\n",
       "      <td>Information Technology Security Manager</td>\n",
       "    </tr>\n",
       "    <tr>\n",
       "      <th>1</th>\n",
       "      <td>AT</td>\n",
       "      <td>Architect</td>\n",
       "      <td>Information Security Architect Copmany SWAROVS...</td>\n",
       "      <td>Information Security Architect</td>\n",
       "    </tr>\n",
       "    <tr>\n",
       "      <th>2</th>\n",
       "      <td>AT</td>\n",
       "      <td>Manager</td>\n",
       "      <td>Information Technology Security Manager Copman...</td>\n",
       "      <td>Information Technology Security Manager</td>\n",
       "    </tr>\n",
       "    <tr>\n",
       "      <th>3</th>\n",
       "      <td>AT</td>\n",
       "      <td>Analyst</td>\n",
       "      <td>Threat Detection Analyst Company Radar Cyber S...</td>\n",
       "      <td>Threat Detection Analyst</td>\n",
       "    </tr>\n",
       "    <tr>\n",
       "      <th>4</th>\n",
       "      <td>AT</td>\n",
       "      <td>Engineer</td>\n",
       "      <td>IT Security Engineer Company Global Blue Locat...</td>\n",
       "      <td>IT Security Engineer</td>\n",
       "    </tr>\n",
       "    <tr>\n",
       "      <th>...</th>\n",
       "      <td>...</td>\n",
       "      <td>...</td>\n",
       "      <td>...</td>\n",
       "      <td>...</td>\n",
       "    </tr>\n",
       "    <tr>\n",
       "      <th>264</th>\n",
       "      <td>LV</td>\n",
       "      <td>NaN</td>\n",
       "      <td>Compensa Vienna Insurance Group ADB Latvia is ...</td>\n",
       "      <td>IT Manager/Team lead</td>\n",
       "    </tr>\n",
       "    <tr>\n",
       "      <th>265</th>\n",
       "      <td>LV</td>\n",
       "      <td>NaN</td>\n",
       "      <td>Netcracker office in Riga is an integral compo...</td>\n",
       "      <td>IT HelpDesk L2 Engineer</td>\n",
       "    </tr>\n",
       "    <tr>\n",
       "      <th>266</th>\n",
       "      <td>LV</td>\n",
       "      <td>NaN</td>\n",
       "      <td>Overview ONE IDENTITY- Software Sales Account ...</td>\n",
       "      <td>Software Sales Account Manager</td>\n",
       "    </tr>\n",
       "    <tr>\n",
       "      <th>267</th>\n",
       "      <td>LV</td>\n",
       "      <td>NaN</td>\n",
       "      <td>The opportunityAt Worldline, our technology ad...</td>\n",
       "      <td>System analyst</td>\n",
       "    </tr>\n",
       "    <tr>\n",
       "      <th>268</th>\n",
       "      <td>LV</td>\n",
       "      <td>NaN</td>\n",
       "      <td>OpenStack, while complex and challenging in ma...</td>\n",
       "      <td>OpenStack Product Manager</td>\n",
       "    </tr>\n",
       "  </tbody>\n",
       "</table>\n",
       "<p>269 rows × 4 columns</p>\n",
       "</div>"
      ],
      "text/plain": [
       "    country      title                                               text  \\\n",
       "0        AT     Inform  Information Technology Security Manager Global...   \n",
       "1        AT  Architect  Information Security Architect Copmany SWAROVS...   \n",
       "2        AT    Manager  Information Technology Security Manager Copman...   \n",
       "3        AT    Analyst  Threat Detection Analyst Company Radar Cyber S...   \n",
       "4        AT   Engineer  IT Security Engineer Company Global Blue Locat...   \n",
       "..      ...        ...                                                ...   \n",
       "264      LV        NaN  Compensa Vienna Insurance Group ADB Latvia is ...   \n",
       "265      LV        NaN  Netcracker office in Riga is an integral compo...   \n",
       "266      LV        NaN  Overview ONE IDENTITY- Software Sales Account ...   \n",
       "267      LV        NaN  The opportunityAt Worldline, our technology ad...   \n",
       "268      LV        NaN  OpenStack, while complex and challenging in ma...   \n",
       "\n",
       "                                   job_title  \n",
       "0    Information Technology Security Manager  \n",
       "1             Information Security Architect  \n",
       "2    Information Technology Security Manager  \n",
       "3                   Threat Detection Analyst  \n",
       "4                       IT Security Engineer  \n",
       "..                                       ...  \n",
       "264                     IT Manager/Team lead  \n",
       "265                  IT HelpDesk L2 Engineer  \n",
       "266          Software Sales Account Manager   \n",
       "267                           System analyst  \n",
       "268                OpenStack Product Manager  \n",
       "\n",
       "[269 rows x 4 columns]"
      ]
     },
     "execution_count": 3,
     "metadata": {},
     "output_type": "execute_result"
    }
   ],
   "source": [
    "df"
   ]
  },
  {
   "cell_type": "code",
   "execution_count": null,
   "id": "9edb7502-06c0-4afb-9d24-d3b19c34ae4f",
   "metadata": {},
   "outputs": [],
   "source": []
  },
  {
   "cell_type": "markdown",
   "id": "6c2302e7-d79b-4d31-8b45-135629e52cde",
   "metadata": {},
   "source": [
    "### Preprocess the data (Step 2)"
   ]
  },
  {
   "cell_type": "code",
   "execution_count": 4,
   "id": "044a584c-5c0c-4272-86eb-15acdac6b941",
   "metadata": {},
   "outputs": [],
   "source": [
    "nlp = en_core_web_md.load()\n",
    "# Tags I want to remove from the text\n",
    "removal= ['ADV','PRON','CCONJ','PUNCT','PART','DET','ADP','SPACE', 'NUM', 'SYM']\n",
    "\n",
    "tokens = []\n",
    "for summary in nlp.pipe(df['text']):\n",
    "    proj_tok= [token.lemma_.lower() for token in summary if token.pos_ not in removal and not token.is_stop and token.is_alpha]\n",
    "    tokens.append(proj_tok)"
   ]
  },
  {
   "cell_type": "code",
   "execution_count": 5,
   "id": "cdeffc8e-e33f-40cd-b918-7967b10621ed",
   "metadata": {},
   "outputs": [
    {
     "data": {
      "text/plain": [
       "0      [information, technology, security, manager, g...\n",
       "1      [information, security, architect, copmany, sw...\n",
       "2      [information, technology, security, manager, c...\n",
       "3      [threat, detection, analyst, company, radar, c...\n",
       "4      [security, engineer, company, global, blue, lo...\n",
       "                             ...                        \n",
       "264    [compensa, vienna, insurance, group, adb, latv...\n",
       "265    [netcracker, office, riga, integral, component...\n",
       "266    [overview, software, sales, account, manager, ...\n",
       "267    [opportunityat, worldline, technology, address...\n",
       "268    [openstack, complex, challenge, regard, contin...\n",
       "Name: tokens, Length: 269, dtype: object"
      ]
     },
     "execution_count": 5,
     "metadata": {},
     "output_type": "execute_result"
    }
   ],
   "source": [
    "df['tokens'] = tokens\n",
    "df['tokens']"
   ]
  },
  {
   "cell_type": "code",
   "execution_count": null,
   "id": "90477ac4-7c24-4c29-906b-9c99ce3143ef",
   "metadata": {},
   "outputs": [],
   "source": []
  },
  {
   "cell_type": "markdown",
   "id": "eed5075e-ad99-4e01-b6bd-5a5eb35fd943",
   "metadata": {
    "tags": []
   },
   "source": [
    "### Create dictionary and corpus (Step 3)"
   ]
  },
  {
   "cell_type": "code",
   "execution_count": 6,
   "id": "15c6ff02-2179-4cb3-8d3f-af450cf376d8",
   "metadata": {},
   "outputs": [],
   "source": [
    "dictionary = Dictionary(df['tokens'])"
   ]
  },
  {
   "cell_type": "code",
   "execution_count": 7,
   "id": "6170de08-22e3-4a93-bea7-c548f4c68acf",
   "metadata": {},
   "outputs": [],
   "source": [
    "dictionary.filter_extremes(no_below=5, no_above=0.5, keep_n=1000)"
   ]
  },
  {
   "cell_type": "markdown",
   "id": "8859c257-90d7-4852-af19-6bc5e12f65ad",
   "metadata": {},
   "source": [
    "We are now ready to construct the corpus using the dictionary from above and the doc2bow function. The function doc2bow() simply counts the number of occurrences of each distinct word, converts the word to its integer word id and returns the result as a sparse vector:\n"
   ]
  },
  {
   "cell_type": "code",
   "execution_count": 8,
   "id": "1bb613b0-f56a-4ebe-86fb-54d5b794e396",
   "metadata": {},
   "outputs": [],
   "source": [
    "corpus = [dictionary.doc2bow(doc) for doc in df['tokens']]"
   ]
  },
  {
   "cell_type": "code",
   "execution_count": null,
   "id": "22ed15e5-4f57-4f9d-bdfd-34648a28ac86",
   "metadata": {},
   "outputs": [],
   "source": []
  },
  {
   "cell_type": "markdown",
   "id": "70a200fe-adbf-40fe-b02c-16afb3b90f4f",
   "metadata": {},
   "source": [
    "### Model building (Step 4)"
   ]
  },
  {
   "cell_type": "code",
   "execution_count": 9,
   "id": "d2236fe9-8581-4954-b72b-db656d046ce7",
   "metadata": {},
   "outputs": [],
   "source": [
    "lda_model = LdaMulticore(corpus=corpus, id2word=dictionary, iterations=50, num_topics=10, workers = 4, passes=10)"
   ]
  },
  {
   "cell_type": "code",
   "execution_count": null,
   "id": "70d22be1-723c-4702-b796-914a142d17ad",
   "metadata": {},
   "outputs": [],
   "source": []
  },
  {
   "cell_type": "markdown",
   "id": "45ef2bc2-131d-46bf-a8b8-20e0ec5a8b0f",
   "metadata": {},
   "source": [
    "#### Calculating the coherence score using C_umass"
   ]
  },
  {
   "cell_type": "code",
   "execution_count": 15,
   "id": "088e755e-f2e8-42c7-98ad-8c941626ada1",
   "metadata": {},
   "outputs": [
    {
     "data": {
      "image/png": "[encoded data removed]",
      "text/plain": [
       "<Figure size 432x288 with 1 Axes>"
      ]
     },
     "metadata": {},
     "output_type": "display_data"
    }
   ],
   "source": [
    "topics = []\n",
    "score = []\n",
    "for i in range(1,20,1):\n",
    "   lda_model = LdaMulticore(corpus=corpus, id2word=dictionary, iterations=10, num_topics=i, workers = 4, passes=10, random_state=100)\n",
    "   cm = CoherenceModel(model=lda_model, corpus=corpus, dictionary=dictionary, coherence='u_mass')\n",
    "   topics.append(i)\n",
    "   score.append(cm.get_coherence())\n",
    "_=plt.plot(topics, score)\n",
    "_=plt.xlabel('Number of Topics')\n",
    "_=plt.ylabel('Coherence Score')\n",
    "plt.show()"
   ]
  },
  {
   "cell_type": "code",
   "execution_count": null,
   "id": "1621525b-fb21-447e-8101-ebdb5abb6892",
   "metadata": {},
   "outputs": [],
   "source": []
  },
  {
   "cell_type": "code",
   "execution_count": null,
   "id": "1cddd0b0-8777-4d5f-9387-4695a183d973",
   "metadata": {},
   "outputs": [],
   "source": []
  },
  {
   "cell_type": "markdown",
   "id": "6f83b489-f23f-4130-a146-bdb2f604e837",
   "metadata": {},
   "source": [
    "#### Calculating the coherence score using C_v:"
   ]
  },
  {
   "cell_type": "code",
   "execution_count": 13,
   "id": "4182965e-3b78-407d-ab82-60c8d70fec8c",
   "metadata": {},
   "outputs": [
    {
     "data": {
      "image/png": "[encoded data removed]",
      "text/plain": [
       "<Figure size 432x288 with 1 Axes>"
      ]
     },
     "metadata": {},
     "output_type": "display_data"
    }
   ],
   "source": [
    "topics = []\n",
    "score = []\n",
    "for i in range(1,20,1):\n",
    "   lda_model = LdaMulticore(corpus=corpus, id2word=dictionary, iterations=10, num_topics=i, workers = 4, passes=10, random_state=100)\n",
    "   cm = CoherenceModel(model=lda_model, texts = df['tokens'], corpus=corpus, dictionary=dictionary, coherence='c_v')\n",
    "   topics.append(i)\n",
    "   score.append(cm.get_coherence())\n",
    "_=plt.plot(topics, score)\n",
    "_=plt.xlabel('Number of Topics')\n",
    "_=plt.ylabel('Coherence Score')\n",
    "plt.savefig('../figures/cv_description.png')\n",
    "plt.show()"
   ]
  },
  {
   "cell_type": "code",
   "execution_count": null,
   "id": "b77c75c9-4636-4000-806c-1b1b69f83eae",
   "metadata": {},
   "outputs": [],
   "source": []
  },
  {
   "cell_type": "code",
   "execution_count": null,
   "id": "9043b388-a7ac-4c98-b2b9-ea93837b1ee3",
   "metadata": {},
   "outputs": [],
   "source": []
  },
  {
   "cell_type": "code",
   "execution_count": 14,
   "id": "13b16dd5-dfe8-4b74-a92f-2c70b0459028",
   "metadata": {},
   "outputs": [],
   "source": [
    "lda_model = LdaMulticore(corpus=corpus, id2word=dictionary, iterations=100, num_topics=3, workers = 4, passes=100)"
   ]
  },
  {
   "cell_type": "code",
   "execution_count": 15,
   "id": "c75880fc-784d-4450-ae97-fd3cc18291cc",
   "metadata": {},
   "outputs": [
    {
     "data": {
      "text/plain": [
       "[(0,\n",
       "  '0.016*\"product\" + 0.014*\"customer\" + 0.009*\"world\" + 0.009*\"people\" + 0.008*\"lead\" + 0.008*\"client\" + 0.008*\"cloud\" + 0.008*\"build\" + 0.008*\"software\" + 0.007*\"drive\"'),\n",
       " (1,\n",
       "  '0.017*\"network\" + 0.012*\"cloud\" + 0.012*\"tool\" + 0.011*\"testing\" + 0.010*\"threat\" + 0.010*\"engineer\" + 0.010*\"incident\" + 0.010*\"infrastructure\" + 0.009*\"software\" + 0.008*\"vulnerability\"'),\n",
       " (2,\n",
       "  '0.014*\"risk\" + 0.010*\"cyber\" + 0.010*\"project\" + 0.009*\"control\" + 0.008*\"requirement\" + 0.008*\"activity\" + 0.007*\"compliance\" + 0.007*\"relate\" + 0.007*\"cybersecurity\" + 0.007*\"international\"')]"
      ]
     },
     "execution_count": 15,
     "metadata": {},
     "output_type": "execute_result"
    }
   ],
   "source": [
    "lda_model.print_topics()"
   ]
  },
  {
   "cell_type": "code",
   "execution_count": null,
   "id": "62e38e85-8b9e-4193-a551-b3e249a0876d",
   "metadata": {},
   "outputs": [],
   "source": []
  },
  {
   "cell_type": "code",
   "execution_count": null,
   "id": "e7cd5bed-adf7-4f29-9cf2-f41eddad2a01",
   "metadata": {},
   "outputs": [],
   "source": []
  },
  {
   "cell_type": "code",
   "execution_count": null,
   "id": "ec8a1cc5-079d-449c-b1e7-c87466abc027",
   "metadata": {},
   "outputs": [],
   "source": []
  },
  {
   "cell_type": "code",
   "execution_count": 25,
   "id": "69faee80-397a-4b85-81ee-ed449fdd90c1",
   "metadata": {},
   "outputs": [
    {
     "name": "stderr",
     "output_type": "stream",
     "text": [
      "C:\\Users\\elsha\\anaconda3\\lib\\site-packages\\pyLDAvis\\_prepare.py:246: FutureWarning: In a future version of pandas all arguments of DataFrame.drop except for the argument 'labels' will be keyword-only\n",
      "  default_term_info = default_term_info.sort_values(\n"
     ]
    },
    {
     "data": {
      "text/html": [
       "\n",
       "<link rel=\"stylesheet\" type=\"text/css\" href=\"https://cdn.jsdelivr.net/gh/bmabey/pyLDAvis@3.3.1/pyLDAvis/js/ldavis.v1.0.0.css\">\n",
       "\n",
       "\n",
       "<div id=\"ldavis_el743229957836442082501578077\"></div>\n",
       "<script type=\"text/javascript\">\n",
       "\n",
       "var ldavis_el743229957836442082501578077_data = {\"mdsDat\": {\"x\": [0.09713456645411482, -0.13333824435456001, 0.03620367790044507], \"y\": [0.08479786652288879, 0.03047511368264301, -0.1152729802055318], \"topics\": [1, 2, 3], \"cluster\": [1, 1, 1], \"Freq\": [36.93380329019934, 35.03745810431161, 28.028738605489036]}, \"tinfo\": {\"Term\": [\"cloud\", \"network\", \"testing\", \"tool\", \"risk\", \"engineer\", \"world\", \"cyber\", \"cybersecurity\", \"linux\", \"threat\", \"sale\", \"product\", \"incident\", \"people\", \"market\", \"vulnerability\", \"aws\", \"code\", \"analysis\", \"status\", \"control\", \"build\", \"infrastructure\", \"activity\", \"test\", \"compliance\", \"automation\", \"source\", \"python\", \"seniority\", \"functions\", \"budapest\", \"hungary\", \"pci\", \"iso\", \"contract\", \"cybersecurity\", \"assign\", \"midsenior\", \"entry\", \"dss\", \"integrity\", \"confidentiality\", \"carry\", \"\\u00e2\", \"locate\", \"cisa\", \"cism\", \"supervision\", \"officer\", \"problemsolving\", \"industries\", \"beneficial\", \"fulltime\", \"tasks\", \"itil\", \"bachelor\\u00e2s\", \"cafeteria\", \"safe\", \"specific\", \"audit\", \"\\u00ef\", \"interpersonal\", \"associate\", \"cyber\", \"risk\", \"type\", \"systems\", \"activity\", \"maintenance\", \"evaluate\", \"cissp\", \"control\", \"services\", \"policy\", \"reporting\", \"compliance\", \"location\", \"implementation\", \"requirement\", \"assessment\", \"plan\", \"standard\", \"report\", \"project\", \"certification\", \"area\", \"relate\", \"degree\", \"english\", \"relevant\", \"international\", \"implement\", \"maintain\", \"industry\", \"computer\", \"design\", \"professional\", \"develop\", \"manage\", \"network\", \"ability\", \"customer\", \"ensure\", \"sale\", \"market\", \"gender\", \"equal\", \"employer\", \"age\", \"want\", \"disability\", \"sexual\", \"religion\", \"origin\", \"race\", \"bank\", \"color\", \"proud\", \"veteran\", \"empower\", \"sex\", \"expression\", \"investment\", \"journey\", \"difference\", \"marital\", \"accessible\", \"society\", \"inclusive\", \"care\", \"blockchain\", \"pregnancy\", \"genetic\", \"status\", \"adoption\", \"unique\", \"baltic\", \"marketing\", \"orientation\", \"world\", \"encourage\", \"digital\", \"identity\", \"people\", \"product\", \"client\", \"drive\", \"employee\", \"build\", \"customer\", \"lead\", \"join\", \"value\", \"create\", \"future\", \"challenge\", \"base\", \"offer\", \"bring\", \"help\", \"deliver\", \"group\", \"software\", \"organization\", \"ensure\", \"ability\", \"cloud\", \"need\", \"time\", \"project\", \"professional\", \"global\", \"aws\", \"python\", \"malware\", \"kubernetes\", \"docker\", \"container\", \"owasp\", \"custom\", \"allow\", \"linux\", \"scripting\", \"cause\", \"static\", \"go\", \"tooling\", \"javascript\", \"exploit\", \"storage\", \"troubleshooting\", \"orchestration\", \"switch\", \"bash\", \"proxy\", \"code\", \"minded\", \"devsecops\", \"developer\", \"deploy\", \"testing\", \"pipeline\", \"jira\", \"siem\", \"source\", \"automation\", \"tool\", \"accenture\", \"configuration\", \"cloud\", \"automate\", \"network\", \"engineer\", \"penetration\", \"web\", \"test\", \"threat\", \"vulnerability\", \"datum\", \"infrastructure\", \"research\", \"incident\", \"software\", \"understand\", \"problem\", \"open\", \"analysis\", \"data\", \"engineering\", \"develop\", \"able\", \"customer\", \"ability\", \"need\", \"product\", \"strong\", \"design\", \"look\"], \"Freq\": [285.0, 285.0, 148.0, 195.0, 237.0, 171.0, 167.0, 191.0, 113.0, 79.0, 186.0, 86.0, 364.0, 168.0, 171.0, 73.0, 143.0, 57.0, 64.0, 158.0, 79.0, 161.0, 170.0, 211.0, 140.0, 106.0, 136.0, 78.0, 70.0, 50.0, 59.260780712243694, 42.54520906236319, 38.64125532926344, 33.72704675289923, 30.77309481737366, 37.47884768226765, 33.624469336745356, 109.55178554832429, 20.94632214637465, 25.699958554990573, 18.971439179084577, 17.02463669341816, 16.999185470373494, 16.941045392486714, 18.73753077495695, 14.049585674866682, 14.97787362095449, 14.03224690965575, 14.03040164818031, 13.991686532675141, 19.59178549211848, 12.099516215904112, 13.021777901328864, 12.0869244575458, 74.29574940031156, 11.055270317730422, 10.1332992848904, 10.131607954553585, 10.123525135634742, 12.872126239576678, 34.00149928040898, 47.41768222218548, 55.37805226658163, 21.082479497005412, 39.02775442818755, 165.59469030497698, 201.75487015657012, 88.88388563186665, 35.54899100716636, 118.958236338039, 32.115955651351044, 30.417915446642525, 34.6006375156977, 133.03020417411813, 93.62282305088495, 79.7577922063831, 32.61410358657357, 107.06267505643658, 80.81204267247337, 110.08911804122009, 136.02305383910837, 67.84045492718244, 77.08088190099707, 103.72218195384963, 74.79740046405534, 164.10800233407042, 75.79521843619413, 95.9371901493306, 114.4367605936662, 94.29622684594892, 95.2717640028423, 84.11325943236028, 96.12419449259703, 95.63381004088775, 92.84464664777714, 102.72719402003587, 82.49216758727164, 100.66593943037881, 96.0549656361651, 100.70906309545043, 85.20940211441318, 99.78914766477217, 90.11749168899354, 96.07071441700626, 86.07557741192485, 85.72230489591738, 72.74437758751303, 55.260131896285564, 51.332921006230364, 57.14007529945634, 42.511843469120144, 53.13770280831061, 39.5582323580992, 38.586366770565704, 38.57571491649408, 34.64575036252867, 36.567466738376794, 36.48431261871684, 28.746678477738797, 28.715918346694433, 25.800074879026894, 27.70996755173488, 24.808327765501407, 22.876358617307783, 22.849079567319862, 21.876677033463956, 20.90265640460943, 16.987626577240018, 22.6345713255243, 16.018710566464097, 19.783892461708078, 23.553567654386562, 18.79908030017779, 15.023695517804065, 15.022306894797964, 75.18570562679645, 20.60382400809326, 38.15537301842245, 30.556809788956844, 33.978282547582836, 41.797276754461144, 140.06149040490624, 42.8813858914728, 106.23557000432338, 68.35296208967029, 134.0083639037961, 245.52387221701977, 123.64170088968704, 107.90688073711173, 86.15532308081674, 117.42413094932267, 224.0140782704063, 125.75239334689849, 91.7111502149972, 82.97395240068532, 87.16907048149834, 55.50572679053777, 59.04387290580182, 89.0783862997113, 90.15625524973277, 53.65928448426665, 78.47191870439443, 79.53609552319439, 62.52642693661781, 100.50612055118802, 69.45621263747277, 80.17490927020506, 80.45895387476077, 83.2488326376031, 70.97644554081613, 63.95741790997009, 71.69586654047099, 68.21096155548659, 65.81039064448676, 56.32905283162138, 49.57195774282247, 28.314081183028005, 29.23385025712799, 27.346421497364794, 27.344326047298214, 25.40487962611767, 21.565031229387756, 23.42701855524009, 76.55018660611992, 34.412839262958855, 20.44964376517332, 16.718346647377267, 16.62874003646225, 14.763934591476055, 15.636677935065233, 12.858983283545294, 13.765343799047494, 22.90188773987043, 12.810092834658061, 11.885045954538576, 11.877544997894423, 11.869938107832779, 60.933209384423044, 12.727692598418, 10.89660155190609, 52.0453492201652, 26.84863311285006, 136.12213125975566, 15.082849321553816, 31.034727061371015, 38.20919401052287, 60.24427067818375, 66.24990602842443, 150.9045621161546, 35.52744165896968, 34.65735971110218, 197.04781211582315, 32.138106319698366, 185.26846884708777, 118.93690992091655, 52.02437730578693, 57.08999723890204, 75.21086895760892, 113.50400576906767, 91.12087252351944, 99.91658512598512, 115.46925931212084, 57.50469899667707, 92.5762293473241, 124.60939192885421, 77.38805899049862, 64.29649961441805, 62.70146740293435, 78.86586208967024, 63.57843937636703, 74.06264358511424, 79.78552087692462, 48.907508520879304, 86.1618187061172, 65.1641204242572, 62.10349212603961, 69.04777301469197, 61.065211129475976, 60.133751649741384, 58.47565277628151], \"Total\": [285.0, 285.0, 148.0, 195.0, 237.0, 171.0, 167.0, 191.0, 113.0, 79.0, 186.0, 86.0, 364.0, 168.0, 171.0, 73.0, 143.0, 57.0, 64.0, 158.0, 79.0, 161.0, 170.0, 211.0, 140.0, 106.0, 136.0, 78.0, 70.0, 50.0, 59.979164912323014, 43.2606706114403, 39.32780918997387, 34.41071747662491, 31.460289146068106, 38.3420566319929, 34.40912285307715, 113.04382155840595, 21.626216809564923, 26.539797272830345, 19.658985296609995, 17.69292265464816, 17.69196511288899, 17.69075249999981, 19.654071927820475, 14.741612736161192, 15.723638528246319, 14.74124979737996, 14.741208473773092, 14.740340911332583, 20.641629727787596, 12.775378422217662, 13.757226097835733, 12.775145405392085, 78.6019834684953, 11.789940601237205, 10.808647983481992, 10.808453164699134, 10.808140314197082, 13.753994988989984, 36.37120191682621, 51.07794535730113, 59.9129235439281, 22.59417145836749, 42.2338147795701, 191.46981716898605, 237.86091029724165, 102.06128075126439, 39.274535814266, 140.449099468824, 35.34988107141531, 33.38673164627586, 38.29170508343534, 161.05091043165245, 112.06695271998882, 97.11939366494639, 36.36960325074496, 136.632032246311, 100.26611913838842, 153.91501673002688, 199.15070985885694, 87.19602514129787, 102.00237397922339, 148.83600297013345, 99.94106748808565, 272.63107873872946, 104.75775323823227, 144.28992463870324, 184.08956505146307, 143.0846903343481, 147.12308948662425, 123.6993470319572, 156.0615167754467, 160.41476022483585, 153.80334287072571, 196.84563109137565, 134.8628361086934, 205.40322346025724, 200.85033185837415, 245.3504291762418, 152.94020281085307, 285.93364721457385, 235.7405659880115, 406.24661139352975, 202.7969991105293, 86.38489801231555, 73.62076249547368, 55.950465840905544, 52.02347753870876, 57.91203122919476, 43.188474210483136, 53.98602518651088, 40.242979382235596, 39.261599008957084, 39.261220931133344, 35.33423947831554, 37.29686192857575, 37.29566152750932, 29.4436849423937, 29.442998751565316, 26.498564779134377, 28.46057703552666, 25.51651290324622, 23.553950361784487, 23.55305955825912, 22.57163452674992, 21.590146029502954, 17.66368022879972, 23.549969225371257, 16.682465970178445, 20.606493178868156, 24.533362977324348, 19.624628097738604, 15.70024481390328, 15.70016670585843, 79.45560970529925, 21.58499631006517, 40.23714476675184, 32.39064447638713, 36.31473240755564, 45.109843534065604, 167.46118962159042, 47.06004394644983, 127.50111189239763, 80.31831437192182, 171.31112452538542, 364.2159404180104, 169.53826943875598, 146.81918795512692, 113.90796529305065, 170.09715077627447, 406.24661139352975, 194.8256724351043, 132.1029343334566, 116.3882956327189, 124.39890045485568, 69.58815531572644, 80.30156555190756, 166.4851313060277, 177.357208196332, 71.3978477115251, 146.41078151381163, 150.49825410464817, 99.90272687309543, 275.0028505928189, 136.50854091947855, 202.7969991105293, 235.7405659880115, 285.58696494513947, 184.67102769006857, 124.22666547173495, 272.63107873872946, 200.85033185837415, 159.53335573746395, 57.04883481371662, 50.28145671345706, 29.011902986061266, 29.97873138999198, 28.04511051243777, 28.045140445766144, 26.111598841845908, 22.24462291254332, 24.177977357751434, 79.31830080955378, 35.790523919733886, 21.278736250784988, 17.41046168895362, 17.410315902963397, 15.476636613191763, 16.44354913764231, 13.543408536493802, 14.509715638252327, 24.18762368925979, 13.543212985694517, 12.576517359530834, 12.57657131393086, 12.576570931424092, 64.83198218297642, 13.544004727859305, 11.60946837472784, 56.135625861017154, 29.032719373601907, 148.11682421166822, 16.452660188419365, 33.880481568708234, 42.608797985163974, 70.73074791904718, 78.50391282504614, 195.0347011902746, 41.669904844311446, 40.70154174898632, 285.58696494513947, 37.78872256167868, 285.93364721457385, 171.03058057471188, 65.973288440626, 74.70687271227683, 106.87283510401953, 186.8534621441648, 143.96833247515698, 165.40517111554388, 211.37673736302543, 84.52232280452935, 168.53257193327838, 275.0028505928189, 135.33300334917703, 105.03607495944952, 106.03551909602366, 158.9340649437946, 116.83750857120003, 200.22332863618175, 245.3504291762418, 83.70912390999132, 406.24661139352975, 235.7405659880115, 184.67102769006857, 364.2159404180104, 182.75302523814315, 205.40322346025724, 152.2932893166413], \"Category\": [\"Default\", \"Default\", \"Default\", \"Default\", \"Default\", \"Default\", \"Default\", \"Default\", \"Default\", \"Default\", \"Default\", \"Default\", \"Default\", \"Default\", \"Default\", \"Default\", \"Default\", \"Default\", \"Default\", \"Default\", \"Default\", \"Default\", \"Default\", \"Default\", \"Default\", \"Default\", \"Default\", \"Default\", \"Default\", \"Default\", \"Topic1\", \"Topic1\", \"Topic1\", \"Topic1\", \"Topic1\", \"Topic1\", \"Topic1\", \"Topic1\", \"Topic1\", \"Topic1\", \"Topic1\", \"Topic1\", \"Topic1\", \"Topic1\", \"Topic1\", \"Topic1\", \"Topic1\", \"Topic1\", \"Topic1\", \"Topic1\", \"Topic1\", \"Topic1\", \"Topic1\", \"Topic1\", \"Topic1\", \"Topic1\", \"Topic1\", \"Topic1\", \"Topic1\", \"Topic1\", \"Topic1\", \"Topic1\", \"Topic1\", \"Topic1\", \"Topic1\", \"Topic1\", \"Topic1\", \"Topic1\", \"Topic1\", \"Topic1\", \"Topic1\", \"Topic1\", \"Topic1\", \"Topic1\", \"Topic1\", \"Topic1\", \"Topic1\", \"Topic1\", \"Topic1\", \"Topic1\", \"Topic1\", \"Topic1\", \"Topic1\", \"Topic1\", \"Topic1\", \"Topic1\", \"Topic1\", \"Topic1\", \"Topic1\", \"Topic1\", \"Topic1\", \"Topic1\", \"Topic1\", \"Topic1\", \"Topic1\", \"Topic1\", \"Topic1\", \"Topic1\", \"Topic1\", \"Topic1\", \"Topic1\", \"Topic1\", \"Topic1\", \"Topic1\", \"Topic1\", \"Topic2\", \"Topic2\", \"Topic2\", \"Topic2\", \"Topic2\", \"Topic2\", \"Topic2\", \"Topic2\", \"Topic2\", \"Topic2\", \"Topic2\", \"Topic2\", \"Topic2\", \"Topic2\", \"Topic2\", \"Topic2\", \"Topic2\", \"Topic2\", \"Topic2\", \"Topic2\", \"Topic2\", \"Topic2\", \"Topic2\", \"Topic2\", \"Topic2\", \"Topic2\", \"Topic2\", \"Topic2\", \"Topic2\", \"Topic2\", \"Topic2\", \"Topic2\", \"Topic2\", \"Topic2\", \"Topic2\", \"Topic2\", \"Topic2\", \"Topic2\", \"Topic2\", \"Topic2\", \"Topic2\", \"Topic2\", \"Topic2\", \"Topic2\", \"Topic2\", \"Topic2\", \"Topic2\", \"Topic2\", \"Topic2\", \"Topic2\", \"Topic2\", \"Topic2\", \"Topic2\", \"Topic2\", \"Topic2\", \"Topic2\", \"Topic2\", \"Topic2\", \"Topic2\", \"Topic2\", \"Topic2\", \"Topic2\", \"Topic2\", \"Topic2\", \"Topic2\", \"Topic2\", \"Topic2\", \"Topic2\", \"Topic2\", \"Topic3\", \"Topic3\", \"Topic3\", \"Topic3\", \"Topic3\", \"Topic3\", \"Topic3\", \"Topic3\", \"Topic3\", \"Topic3\", \"Topic3\", \"Topic3\", \"Topic3\", \"Topic3\", \"Topic3\", \"Topic3\", \"Topic3\", \"Topic3\", \"Topic3\", \"Topic3\", \"Topic3\", \"Topic3\", \"Topic3\", \"Topic3\", \"Topic3\", \"Topic3\", \"Topic3\", \"Topic3\", \"Topic3\", \"Topic3\", \"Topic3\", \"Topic3\", \"Topic3\", \"Topic3\", \"Topic3\", \"Topic3\", \"Topic3\", \"Topic3\", \"Topic3\", \"Topic3\", \"Topic3\", \"Topic3\", \"Topic3\", \"Topic3\", \"Topic3\", \"Topic3\", \"Topic3\", \"Topic3\", \"Topic3\", \"Topic3\", \"Topic3\", \"Topic3\", \"Topic3\", \"Topic3\", \"Topic3\", \"Topic3\", \"Topic3\", \"Topic3\", \"Topic3\", \"Topic3\", \"Topic3\", \"Topic3\", \"Topic3\", \"Topic3\", \"Topic3\", \"Topic3\"], \"logprob\": [30.0, 29.0, 28.0, 27.0, 26.0, 25.0, 24.0, 23.0, 22.0, 21.0, 20.0, 19.0, 18.0, 17.0, 16.0, 15.0, 14.0, 13.0, 12.0, 11.0, 10.0, 9.0, 8.0, 7.0, 6.0, 5.0, 4.0, 3.0, 2.0, 1.0, -5.6246, -5.956, -6.0523, -6.1883, -6.28, -6.0828, -6.1913, -5.0102, -6.6646, -6.4601, -6.7637, -6.8719, -6.8734, -6.8769, -6.7761, -7.064, -7.0, -7.0652, -7.0654, -7.0681, -6.7315, -7.2134, -7.14, -7.2145, -5.3985, -7.3037, -7.3908, -7.3909, -7.3917, -7.1515, -6.1802, -5.8476, -5.6924, -6.6582, -6.0423, -4.5971, -4.3995, -5.2193, -6.1357, -4.9278, -6.2372, -6.2916, -6.1627, -4.816, -5.1673, -5.3276, -6.2218, -5.0332, -5.3145, -5.0053, -4.7938, -5.4894, -5.3617, -5.0649, -5.3918, -4.6061, -5.3786, -5.1429, -4.9666, -5.1602, -5.1499, -5.2744, -5.141, -5.1461, -5.1757, -5.0745, -5.2939, -5.0948, -5.1417, -5.0944, -5.2615, -5.1035, -5.2055, -5.1415, -5.2514, -5.2028, -5.3669, -5.6418, -5.7156, -5.6084, -5.9041, -5.681, -5.9761, -6.001, -6.0013, -6.1087, -6.0547, -6.057, -6.2954, -6.2964, -6.4035, -6.3321, -6.4427, -6.5238, -6.525, -6.5685, -6.614, -6.8214, -6.5344, -6.8801, -6.669, -6.4946, -6.7201, -6.9443, -6.9443, -5.3339, -6.6284, -6.0122, -6.2343, -6.1282, -5.9211, -4.7118, -5.8954, -4.9882, -5.4292, -4.756, -4.1505, -4.8365, -4.9726, -5.1977, -4.8881, -4.2422, -4.8196, -5.1352, -5.2354, -5.186, -5.6374, -5.5756, -5.1644, -5.1523, -5.6712, -5.2911, -5.2777, -5.5183, -5.0437, -5.4132, -5.2697, -5.2661, -5.2321, -5.3915, -5.4957, -5.3815, -5.4313, -5.4671, -5.3995, -5.5273, -6.0873, -6.0554, -6.1221, -6.1222, -6.1958, -6.3596, -6.2768, -5.0928, -5.8923, -6.4127, -6.6142, -6.6196, -6.7385, -6.6811, -6.8767, -6.8085, -6.2995, -6.8805, -6.9554, -6.956, -6.9567, -5.3209, -6.8869, -7.0422, -5.4786, -6.1405, -4.5171, -6.7171, -5.9956, -5.7876, -5.3323, -5.2373, -4.4141, -5.8604, -5.8852, -4.1473, -5.9607, -4.2089, -4.6521, -5.479, -5.3861, -5.1104, -4.6989, -4.9185, -4.8264, -4.6817, -5.3788, -4.9027, -4.6055, -5.0819, -5.2672, -5.2923, -5.0629, -5.2784, -5.1258, -5.0514, -5.5408, -4.9745, -5.2538, -5.3019, -5.1959, -5.3188, -5.3341, -5.3621], \"loglift\": [30.0, 29.0, 28.0, 27.0, 26.0, 25.0, 24.0, 23.0, 22.0, 21.0, 20.0, 19.0, 18.0, 17.0, 16.0, 15.0, 14.0, 13.0, 12.0, 11.0, 10.0, 9.0, 8.0, 7.0, 6.0, 5.0, 4.0, 3.0, 2.0, 1.0, 0.984, 0.9794, 0.9784, 0.976, 0.974, 0.9733, 0.973, 0.9647, 0.9641, 0.9639, 0.9604, 0.9575, 0.9561, 0.9527, 0.9483, 0.948, 0.9475, 0.9468, 0.9466, 0.9439, 0.9438, 0.9417, 0.9411, 0.9407, 0.9397, 0.9317, 0.9315, 0.9314, 0.9306, 0.9298, 0.9287, 0.9217, 0.9173, 0.9268, 0.9171, 0.8509, 0.8314, 0.8578, 0.8964, 0.83, 0.9001, 0.9029, 0.8947, 0.8049, 0.8162, 0.7991, 0.8871, 0.7522, 0.7803, 0.6609, 0.6148, 0.745, 0.7159, 0.6349, 0.7062, 0.4884, 0.6724, 0.5879, 0.5206, 0.579, 0.5615, 0.6104, 0.5114, 0.4788, 0.4913, 0.3457, 0.5045, 0.2829, 0.2584, 0.1056, 0.4111, -0.0567, 0.0344, -0.4458, 0.1391, 1.0411, 1.0368, 1.0363, 1.0354, 1.0353, 1.033, 1.0329, 1.0316, 1.0314, 1.0311, 1.0291, 1.029, 1.0268, 1.0248, 1.0237, 1.022, 1.022, 1.0206, 1.0196, 1.0184, 1.0175, 1.0164, 1.0097, 1.0091, 1.0082, 1.008, 1.008, 1.0058, 1.0047, 1.0046, 0.9935, 1.0022, 0.9956, 0.9905, 0.9823, 0.9725, 0.8701, 0.9558, 0.8663, 0.8874, 0.8032, 0.6544, 0.7331, 0.7408, 0.7695, 0.6782, 0.4535, 0.611, 0.6838, 0.7103, 0.6931, 0.8226, 0.7412, 0.4234, 0.3721, 0.7631, 0.4251, 0.411, 0.5801, 0.0422, 0.3731, 0.1208, -0.0262, -0.184, 0.0925, 0.3849, -0.2869, -0.0312, 0.1633, 1.2592, 1.2577, 1.2476, 1.2468, 1.2467, 1.2466, 1.2445, 1.2409, 1.2404, 1.2364, 1.2327, 1.2322, 1.2314, 1.226, 1.2248, 1.2216, 1.2201, 1.2193, 1.2173, 1.2163, 1.2154, 1.2148, 1.2141, 1.2099, 1.2098, 1.2086, 1.1963, 1.1937, 1.1875, 1.185, 1.1842, 1.163, 1.1115, 1.1022, 1.0154, 1.1125, 1.1112, 0.9008, 1.11, 0.838, 0.9087, 1.0344, 1.003, 0.9206, 0.7735, 0.8145, 0.7679, 0.6673, 0.8868, 0.6728, 0.4803, 0.713, 0.7811, 0.7466, 0.5712, 0.6634, 0.2774, 0.1486, 0.7345, -0.2788, -0.0139, 0.1822, -0.391, 0.1757, 0.0435, 0.3147]}, \"token.table\": {\"Topic\": [1, 2, 3, 1, 2, 3, 1, 3, 2, 3, 1, 2, 3, 2, 3, 2, 3, 1, 2, 3, 1, 2, 3, 1, 2, 3, 1, 1, 3, 1, 3, 1, 2, 3, 1, 2, 3, 3, 1, 1, 2, 2, 1, 2, 3, 3, 1, 2, 1, 2, 3, 1, 1, 2, 3, 1, 1, 2, 1, 3, 3, 1, 2, 3, 1, 2, 3, 1, 1, 1, 3, 1, 2, 3, 1, 2, 3, 1, 2, 3, 2, 1, 2, 3, 1, 2, 3, 1, 1, 3, 3, 1, 1, 2, 3, 1, 2, 3, 3, 1, 2, 3, 1, 2, 3, 1, 2, 3, 1, 2, 3, 1, 2, 3, 1, 2, 3, 1, 2, 3, 2, 3, 1, 2, 3, 1, 2, 3, 1, 2, 3, 3, 2, 1, 2, 3, 2, 3, 1, 2, 3, 1, 1, 2, 3, 2, 2, 2, 3, 1, 2, 3, 1, 2, 3, 1, 2, 3, 1, 2, 3, 1, 2, 1, 3, 3, 2, 1, 3, 1, 1, 2, 3, 2, 2, 1, 2, 3, 3, 1, 2, 3, 1, 2, 3, 1, 2, 3, 1, 2, 3, 1, 2, 3, 1, 2, 3, 2, 1, 1, 2, 3, 1, 2, 3, 1, 1, 2, 3, 1, 3, 2, 1, 1, 3, 1, 3, 1, 2, 3, 2, 3, 1, 2, 3, 1, 3, 1, 1, 2, 1, 2, 3, 1, 2, 3, 1, 3, 3, 1, 2, 3, 2, 1, 2, 1, 2, 1, 3, 1, 2, 3, 1, 2, 3, 1, 2, 3, 1, 2, 1, 2, 3, 3, 1, 2, 3, 2, 3, 2, 3, 1, 1, 3, 1, 2, 3, 2, 3, 1, 2, 3, 1, 2, 3, 2, 1, 2, 3, 1, 1, 2, 3, 1, 2, 3, 1, 2, 3, 2, 3, 3, 2, 1, 2, 3, 1, 2, 3, 2, 1, 2, 3, 1, 2, 1, 2, 3, 1, 2, 3, 1, 2, 3, 1, 3, 2, 1, 3, 1, 1, 2, 2, 2, 1, 3, 2, 1, 2, 3, 2, 3, 1, 2, 1, 2, 3, 3, 2, 3, 3, 1, 2, 3, 1, 3, 1, 3, 1, 1, 2, 3, 1, 3, 1, 2, 3, 1, 2, 3, 1, 2, 3, 3, 1, 3, 1, 2, 3, 1, 2, 3, 1, 2, 3, 1, 2, 3, 2, 1, 2, 3, 2, 2, 3, 1, 2, 3, 1, 1, 3], \"Freq\": [0.38177561686424777, 0.33935610387933135, 0.2757268344019567, 0.2867070980913159, 0.1314074199585198, 0.58536032526977, 0.1439888097277258, 0.8639328583663547, 0.9766467115048815, 0.04246290050021224, 0.8472820434595586, 0.08544020606314877, 0.06408015454736157, 0.9728980120421711, 0.046328476763912906, 0.9956360067372468, 0.9512789121967733, 0.4907695529437563, 0.012583834690865546, 0.49706147028918907, 0.6653271199661414, 0.249497669987303, 0.08316588999576767, 0.7798520619467294, 0.011468412675687198, 0.21789984083805675, 0.9710436265816055, 0.9234306728755555, 0.07103312868273504, 0.920162306279647, 0.05873376423061577, 0.05292584306695215, 0.1058516861339043, 0.8468134890712344, 0.10190574854311789, 0.06369109283944868, 0.8407224254807226, 0.9816151404819851, 0.9252017700979104, 0.06174622432900356, 0.9570664770995553, 0.9652597252751869, 0.2763009503560066, 0.5345822735148823, 0.18620281437035227, 0.9541551270581831, 0.9393239465544624, 0.9681712135064316, 0.014006024439845673, 0.7563253197516663, 0.23810241547737643, 0.9916646974055844, 0.03527395945562713, 0.687842209384729, 0.27631268240241247, 0.9252285508233506, 0.040760820313312865, 0.9782596875195086, 0.966720793013145, 0.050880041737533944, 0.9399054419532168, 0.7254832950375183, 0.01909166565888206, 0.25773748639490784, 0.09962445868914895, 0.7347303828324734, 0.16188974536986703, 0.9497159462346466, 0.9497186085461163, 0.9140360797132718, 0.07834594968970901, 0.1415609589472055, 0.731398287893895, 0.1297642123682717, 0.017507801873802215, 0.29062951110511676, 0.6898073938278072, 0.030848971952690967, 0.030848971952690967, 0.9408936445570745, 0.9849310660923807, 0.7831252909062175, 0.21224891061944212, 0.007318927952394556, 0.6080251785147962, 0.029659764805599814, 0.36333211886859773, 0.9609540351661232, 0.1474145632370162, 0.8599182855492613, 0.9627336348060997, 0.9881100470121236, 0.8258258189508538, 0.0993474669414561, 0.07451060020609207, 0.13665715643659804, 0.699363094704943, 0.1607731252195271, 0.9890030541985325, 0.23630966341034934, 0.5513892146241485, 0.21169407347177127, 0.8669773777111456, 0.052227552874165396, 0.08356408459866463, 0.9730739679847668, 0.008846126981679699, 0.026538380945039092, 0.08558895274547954, 0.368032496805562, 0.5477692975710691, 0.21160160691439767, 0.18741856612418079, 0.604576019755422, 0.6569535830866937, 0.16074396181908465, 0.18171056553461742, 0.15947028849458764, 0.5315676283152921, 0.3122959816352341, 0.0688877942938582, 0.9299852229670857, 0.49171574962912956, 0.21908127458723595, 0.2921083661163146, 0.41165609670667824, 0.2649271909498424, 0.32606423501519066, 0.05344199791105066, 0.01781399930368355, 0.9263279637915447, 0.9475024734074331, 0.9726659547046824, 0.094116826291893, 0.8313652989117215, 0.07058761971891975, 0.9939621920154635, 0.9627346623585501, 0.06811098834749277, 0.7355986741529219, 0.19752186620772902, 0.9608361677619089, 0.23703346759409835, 0.7549954893737947, 0.008779017318299939, 0.984251437743821, 0.9838170169581687, 0.9137263035480842, 0.08499779567889156, 0.2981922871841126, 0.0058469075918453454, 0.6957820034295962, 0.33962076478890346, 0.28967653467288823, 0.3695873028585126, 0.6457178158200447, 0.2243019781269629, 0.12914356316400896, 0.4240693914466057, 0.39448315483405183, 0.18244845911074897, 0.9664791805544699, 0.9803266219958627, 0.898560551474237, 0.0898560551474237, 0.9598765307101573, 0.9764816366989015, 0.941452069459038, 0.05088930105183989, 0.9939744204665343, 0.08622156993208932, 0.8047346526995003, 0.11496209324278575, 0.9830123694839614, 0.9554038680622947, 0.3510237701772938, 0.413706586280382, 0.23819470119173508, 0.9764325986242698, 0.20019473567929358, 0.6306134173897748, 0.17016552532739954, 0.08196117714779073, 0.5327476514606397, 0.3824854933563568, 0.988064257105249, 0.8466313135646665, 0.14940552592317644, 0.5984486705927016, 0.0997414450987836, 0.3054581756150248, 0.7146801029359235, 0.11694765320769658, 0.16892438796667283, 0.4390842621763134, 0.011867142220981444, 0.5518221132756371, 0.9705678606445219, 0.9449579375630921, 0.5232526596040501, 0.2641663912564136, 0.2133651621686418, 0.35954760655367235, 0.09461779119833483, 0.5440522993904253, 0.9608881710723656, 0.6151420413152345, 0.30116329106058354, 0.083300484761438, 0.9294432433025949, 0.044259202062028324, 0.9765185683460312, 0.9649977922448459, 0.9251850939434992, 0.9730259487213168, 0.05903103814932741, 0.9149810913145748, 0.09083825473330807, 0.6964266196220286, 0.21952578227216119, 0.9746746507847064, 0.967352474750859, 0.15911660723422363, 0.6467320165003928, 0.19504616370646766, 0.02521486188669214, 0.9707721826376475, 0.9539776670045959, 0.8078501561250505, 0.18949571563427112, 0.1969883251889409, 0.4136754828967759, 0.3808440953652858, 0.6046682618476509, 0.19505427801537123, 0.20155608728255028, 0.9052364259826577, 0.08486591493587416, 0.96512110954778, 0.555772768950246, 0.29423264238542435, 0.15038557277477244, 0.9624268430925497, 0.01358312473416017, 0.9915681055936925, 0.05507406684301714, 0.9362591363312914, 0.9796608366190139, 0.9598342780595523, 0.2815817979161899, 0.3844674548471055, 0.3357321436693034, 0.3497314883160874, 0.0034973148831608744, 0.6470032533847617, 0.33266197974140305, 0.5074504775716318, 0.1578734819111743, 0.9689157427853752, 0.04844578713926876, 0.009430802136163636, 0.40552449185503636, 0.5941405345783091, 0.9598903903919769, 0.46150958449670504, 0.505462878258296, 0.029302195841060637, 0.9310606446303201, 0.06650433175930859, 0.9905406347143637, 0.9574289246484409, 0.9853692016646441, 0.21220709670398774, 0.7881977877576688, 0.029186662651666175, 0.7822025590646535, 0.1867946409706635, 0.0607804445328468, 0.911706667992702, 0.75488439137391, 0.09803693394466363, 0.14705540091699545, 0.8237283716576029, 0.04118641858288014, 0.13385586039436048, 0.9553991149690111, 0.04760269271229253, 0.34273938752850625, 0.6093144667173445, 0.9393068137324839, 0.13728119626673954, 0.6754234856323585, 0.18944805084810057, 0.47796784357664196, 0.33856055586678807, 0.1842167730451641, 0.6015455052252723, 0.2640931486354854, 0.13571453471545777, 0.9849540206382081, 0.9541551560780801, 0.9944023755106973, 0.9920405655268197, 0.6192637804762632, 0.14123559905598984, 0.2335819522849063, 0.6790658319182473, 0.25060762844601986, 0.07275705341981221, 0.9933465917529274, 0.7504422544710264, 0.04002358690512141, 0.2101238312518874, 0.907351113304324, 0.08248646484584764, 0.6828999007655387, 0.19583158919011773, 0.12051174719391859, 0.04732477607425206, 0.27211746242694934, 0.6862092530766549, 0.8492357981291325, 0.134532403664021, 0.016816550458002625, 0.9451799284794307, 0.07270614834457159, 0.9955443830904255, 0.02794035656596321, 0.9499721232427492, 0.983674915885302, 0.8387842956243219, 0.16061826937487014, 0.9797577002310331, 0.9933370261130372, 0.09387732555592783, 0.8918345927813144, 0.9590908219804901, 0.18181629714825087, 0.3672689202394668, 0.4545407428706272, 0.1413812280261084, 0.8482873681566503, 0.9348055111775332, 0.05498855948103137, 0.6987556634456881, 0.060469240105876856, 0.24187696042350743, 0.9764244224945484, 0.9439232834305205, 0.050342575116294426, 0.9648707355154121, 0.3720868637407784, 0.29000887909207723, 0.33378380423805115, 0.949774505502556, 0.9541592204702096, 0.9166244553531664, 0.07638537127943053, 0.9329987632716054, 0.2713505258073695, 0.028070744049038227, 0.7017686012259557, 0.08101712998417553, 0.9181941398206559, 0.3692733289938389, 0.021407149506889215, 0.6101037609463426, 0.22539444243853415, 0.5151872970023638, 0.2575936485011819, 0.13330961024538177, 0.0974185613331636, 0.7742211979635633, 0.9692028297165358, 0.04134345782980067, 0.9508995300854155, 0.8720251141753129, 0.009798034990733853, 0.11757641988880624, 0.31773476488254915, 0.110837708679959, 0.5689669045571228, 0.024852658055059245, 0.9444010060922513, 0.024852658055059245, 0.04295964618107534, 0.7131301266058506, 0.24057401861402192, 0.9811852157545167, 0.3403526258696883, 0.027783887826097003, 0.6320834480437069, 0.981735547614325, 0.22755603845811007, 0.762982011300722, 0.005971532880303104, 0.8360146032424345, 0.1612313877681838, 0.9496925642102906, 0.9179989348988128, 0.06676355890173184], \"Term\": [\"ability\", \"ability\", \"ability\", \"able\", \"able\", \"able\", \"accenture\", \"accenture\", \"accessible\", \"accessible\", \"activity\", \"activity\", \"activity\", \"adoption\", \"adoption\", \"age\", \"allow\", \"analysis\", \"analysis\", \"analysis\", \"area\", \"area\", \"area\", \"assessment\", \"assessment\", \"assessment\", \"assign\", \"associate\", \"associate\", \"audit\", \"audit\", \"automate\", \"automate\", \"automate\", \"automation\", \"automation\", \"automation\", \"aws\", \"bachelor\\u00e2s\", \"baltic\", \"baltic\", \"bank\", \"base\", \"base\", \"base\", \"bash\", \"beneficial\", \"blockchain\", \"bring\", \"bring\", \"bring\", \"budapest\", \"build\", \"build\", \"build\", \"cafeteria\", \"care\", \"care\", \"carry\", \"carry\", \"cause\", \"certification\", \"certification\", \"certification\", \"challenge\", \"challenge\", \"challenge\", \"cisa\", \"cism\", \"cissp\", \"cissp\", \"client\", \"client\", \"client\", \"cloud\", \"cloud\", \"cloud\", \"code\", \"code\", \"code\", \"color\", \"compliance\", \"compliance\", \"compliance\", \"computer\", \"computer\", \"computer\", \"confidentiality\", \"configuration\", \"configuration\", \"container\", \"contract\", \"control\", \"control\", \"control\", \"create\", \"create\", \"create\", \"custom\", \"customer\", \"customer\", \"customer\", \"cyber\", \"cyber\", \"cyber\", \"cybersecurity\", \"cybersecurity\", \"cybersecurity\", \"data\", \"data\", \"data\", \"datum\", \"datum\", \"datum\", \"degree\", \"degree\", \"degree\", \"deliver\", \"deliver\", \"deliver\", \"deploy\", \"deploy\", \"design\", \"design\", \"design\", \"develop\", \"develop\", \"develop\", \"developer\", \"developer\", \"developer\", \"devsecops\", \"difference\", \"digital\", \"digital\", \"digital\", \"disability\", \"docker\", \"drive\", \"drive\", \"drive\", \"dss\", \"employee\", \"employee\", \"employee\", \"employer\", \"empower\", \"encourage\", \"encourage\", \"engineer\", \"engineer\", \"engineer\", \"engineering\", \"engineering\", \"engineering\", \"english\", \"english\", \"english\", \"ensure\", \"ensure\", \"ensure\", \"entry\", \"equal\", \"evaluate\", \"evaluate\", \"exploit\", \"expression\", \"fulltime\", \"fulltime\", \"functions\", \"future\", \"future\", \"future\", \"gender\", \"genetic\", \"global\", \"global\", \"global\", \"go\", \"group\", \"group\", \"group\", \"help\", \"help\", \"help\", \"hungary\", \"identity\", \"identity\", \"implement\", \"implement\", \"implement\", \"implementation\", \"implementation\", \"implementation\", \"incident\", \"incident\", \"incident\", \"inclusive\", \"industries\", \"industry\", \"industry\", \"industry\", \"infrastructure\", \"infrastructure\", \"infrastructure\", \"integrity\", \"international\", \"international\", \"international\", \"interpersonal\", \"interpersonal\", \"investment\", \"iso\", \"itil\", \"javascript\", \"jira\", \"jira\", \"join\", \"join\", \"join\", \"journey\", \"kubernetes\", \"lead\", \"lead\", \"lead\", \"linux\", \"linux\", \"locate\", \"location\", \"location\", \"look\", \"look\", \"look\", \"maintain\", \"maintain\", \"maintain\", \"maintenance\", \"maintenance\", \"malware\", \"manage\", \"manage\", \"manage\", \"marital\", \"market\", \"market\", \"marketing\", \"marketing\", \"midsenior\", \"minded\", \"need\", \"need\", \"need\", \"network\", \"network\", \"network\", \"offer\", \"offer\", \"offer\", \"officer\", \"officer\", \"open\", \"open\", \"open\", \"orchestration\", \"organization\", \"organization\", \"organization\", \"orientation\", \"orientation\", \"origin\", \"owasp\", \"pci\", \"penetration\", \"penetration\", \"people\", \"people\", \"people\", \"pipeline\", \"pipeline\", \"plan\", \"plan\", \"plan\", \"policy\", \"policy\", \"policy\", \"pregnancy\", \"problem\", \"problem\", \"problem\", \"problemsolving\", \"product\", \"product\", \"product\", \"professional\", \"professional\", \"professional\", \"project\", \"project\", \"project\", \"proud\", \"proxy\", \"python\", \"race\", \"relate\", \"relate\", \"relate\", \"relevant\", \"relevant\", \"relevant\", \"religion\", \"report\", \"report\", \"report\", \"reporting\", \"reporting\", \"requirement\", \"requirement\", \"requirement\", \"research\", \"research\", \"research\", \"risk\", \"risk\", \"risk\", \"safe\", \"safe\", \"sale\", \"scripting\", \"scripting\", \"seniority\", \"services\", \"services\", \"sex\", \"sexual\", \"siem\", \"siem\", \"society\", \"software\", \"software\", \"software\", \"source\", \"source\", \"specific\", \"specific\", \"standard\", \"standard\", \"standard\", \"static\", \"status\", \"status\", \"storage\", \"strong\", \"strong\", \"strong\", \"supervision\", \"switch\", \"systems\", \"systems\", \"tasks\", \"test\", \"test\", \"test\", \"testing\", \"testing\", \"threat\", \"threat\", \"threat\", \"time\", \"time\", \"time\", \"tool\", \"tool\", \"tool\", \"tooling\", \"troubleshooting\", \"troubleshooting\", \"type\", \"type\", \"type\", \"understand\", \"understand\", \"understand\", \"unique\", \"unique\", \"unique\", \"value\", \"value\", \"value\", \"veteran\", \"vulnerability\", \"vulnerability\", \"vulnerability\", \"want\", \"web\", \"web\", \"world\", \"world\", \"world\", \"\\u00e2\", \"\\u00ef\", \"\\u00ef\"]}, \"R\": 30, \"lambda.step\": 0.01, \"plot.opts\": {\"xlab\": \"PC1\", \"ylab\": \"PC2\"}, \"topic.order\": [1, 2, 3]};\n",
       "\n",
       "function LDAvis_load_lib(url, callback){\n",
       "  var s = document.createElement('script');\n",
       "  s.src = url;\n",
       "  s.async = true;\n",
       "  s.onreadystatechange = s.onload = callback;\n",
       "  s.onerror = function(){console.warn(\"failed to load library \" + url);};\n",
       "  document.getElementsByTagName(\"head\")[0].appendChild(s);\n",
       "}\n",
       "\n",
       "if(typeof(LDAvis) !== \"undefined\"){\n",
       "   // already loaded: just create the visualization\n",
       "   !function(LDAvis){\n",
       "       new LDAvis(\"#\" + \"ldavis_el743229957836442082501578077\", ldavis_el743229957836442082501578077_data);\n",
       "   }(LDAvis);\n",
       "}else if(typeof define === \"function\" && define.amd){\n",
       "   // require.js is available: use it to load d3/LDAvis\n",
       "   require.config({paths: {d3: \"https://d3js.org/d3.v5\"}});\n",
       "   require([\"d3\"], function(d3){\n",
       "      window.d3 = d3;\n",
       "      LDAvis_load_lib(\"https://cdn.jsdelivr.net/gh/bmabey/pyLDAvis@3.3.1/pyLDAvis/js/ldavis.v3.0.0.js\", function(){\n",
       "        new LDAvis(\"#\" + \"ldavis_el743229957836442082501578077\", ldavis_el743229957836442082501578077_data);\n",
       "      });\n",
       "    });\n",
       "}else{\n",
       "    // require.js not available: dynamically load d3 & LDAvis\n",
       "    LDAvis_load_lib(\"https://d3js.org/d3.v5.js\", function(){\n",
       "         LDAvis_load_lib(\"https://cdn.jsdelivr.net/gh/bmabey/pyLDAvis@3.3.1/pyLDAvis/js/ldavis.v3.0.0.js\", function(){\n",
       "                 new LDAvis(\"#\" + \"ldavis_el743229957836442082501578077\", ldavis_el743229957836442082501578077_data);\n",
       "            })\n",
       "         });\n",
       "}\n",
       "</script>"
      ],
      "text/plain": [
       "<IPython.core.display.HTML object>"
      ]
     },
     "execution_count": 25,
     "metadata": {},
     "output_type": "execute_result"
    }
   ],
   "source": [
    "lda_display = pyLDAvis.gensim_models.prepare(lda_model, corpus, dictionary)\n",
    "pyLDAvis.display(lda_display)"
   ]
  },
  {
   "cell_type": "code",
   "execution_count": null,
   "id": "6843847c-2aae-42a9-9340-16a8c2d8d7de",
   "metadata": {},
   "outputs": [],
   "source": []
  },
  {
   "cell_type": "code",
   "execution_count": null,
   "id": "fbc21627-4ae7-4adc-922e-f140c14373ef",
   "metadata": {},
   "outputs": [],
   "source": []
  },
  {
   "cell_type": "code",
   "execution_count": null,
   "id": "76bfe515-160f-4208-83f9-12ac1dcd02e1",
   "metadata": {},
   "outputs": [],
   "source": []
  },
  {
   "cell_type": "code",
   "execution_count": null,
   "id": "26ff3896-cba4-442e-86b4-36bae282f09e",
   "metadata": {},
   "outputs": [],
   "source": []
  },
  {
   "cell_type": "code",
   "execution_count": null,
   "id": "135df5c6-7ae6-41e8-8f3f-e15c7fb18023",
   "metadata": {},
   "outputs": [],
   "source": []
  },
  {
   "cell_type": "markdown",
   "id": "fab399a9-51e4-4df6-a520-49b6dcc88687",
   "metadata": {},
   "source": [
    "# LDA Topic modelling with job title names"
   ]
  },
  {
   "cell_type": "code",
   "execution_count": 22,
   "id": "22d528c0-9fb7-4d65-8b84-14d0bd6343a2",
   "metadata": {},
   "outputs": [],
   "source": [
    "nlp = en_core_web_md.load()\n",
    "# Tags I want to remove from the text\n",
    "removal= ['ADV','PRON','CCONJ','PUNCT','PART','DET','ADP','SPACE', 'NUM', 'SYM']\n",
    "\n",
    "tokens = []\n",
    "for summary in nlp.pipe(df['job_title']):\n",
    "    proj_tok= [token.lemma_.lower() for token in summary if token.pos_ not in removal and not token.is_stop and token.is_alpha]\n",
    "    tokens.append(proj_tok)"
   ]
  },
  {
   "cell_type": "code",
   "execution_count": null,
   "id": "a542e524-3cc0-4a50-9e88-58d54ab49fdf",
   "metadata": {},
   "outputs": [],
   "source": [
    "df['tokens'] = tokens"
   ]
  },
  {
   "cell_type": "code",
   "execution_count": 24,
   "id": "960afce2-e761-47ed-bc88-ca3c3abcf97e",
   "metadata": {},
   "outputs": [],
   "source": [
    "dictionary = Dictionary(df['tokens'])\n",
    "\n",
    "dictionary.filter_extremes(no_below=5, no_above=0.5, keep_n=1000)\n",
    "\n",
    "corpus = [dictionary.doc2bow(doc) for doc in df['tokens']]"
   ]
  },
  {
   "cell_type": "code",
   "execution_count": null,
   "id": "4434ebc0-b1f5-4716-89cf-97409b908e86",
   "metadata": {},
   "outputs": [
    {
     "data": {
      "image/png": "[encoded data removed]",
      "text/plain": [
       "<Figure size 432x288 with 1 Axes>"
      ]
     },
     "metadata": {},
     "output_type": "display_data"
    }
   ],
   "source": [
    "topics = []\n",
    "score = []\n",
    "for i in range(1,20,1):\n",
    "   lda_model = LdaMulticore(corpus=corpus, id2word=dictionary, iterations=10, num_topics=i, workers = 4, passes=10, random_state=100)\n",
    "   cm = CoherenceModel(model=lda_model, texts = df['tokens'], corpus=corpus, dictionary=dictionary, coherence='c_v')\n",
    "   topics.append(i)\n",
    "   score.append(cm.get_coherence())\n",
    "_=plt.plot(topics, score)\n",
    "_=plt.xlabel('Number of Topics')\n",
    "_=plt.ylabel('Coherence Score')\n",
    "plt.savefig('../figures/cv_title.png')\n",
    "plt.show()"
   ]
  },
  {
   "cell_type": "code",
   "execution_count": 27,
   "id": "b9afe247-32a9-4432-a711-3466b54370ea",
   "metadata": {},
   "outputs": [],
   "source": [
    "lda_model = LdaMulticore(corpus=corpus, id2word=dictionary, iterations=100, num_topics=3, workers = 4, passes=100)"
   ]
  },
  {
   "cell_type": "code",
   "execution_count": 28,
   "id": "1e5b6787-c106-47ac-939d-e602188bcb59",
   "metadata": {},
   "outputs": [
    {
     "data": {
      "text/plain": [
       "[(0,\n",
       "  '0.161*\"analyst\" + 0.161*\"information\" + 0.156*\"manager\" + 0.112*\"senior\" + 0.068*\"product\" + 0.046*\"researcher\" + 0.046*\"officer\" + 0.035*\"technology\" + 0.035*\"operations\" + 0.029*\"penetration\"'),\n",
       " (1,\n",
       "  '0.216*\"cyber\" + 0.156*\"specialist\" + 0.096*\"consultant\" + 0.096*\"cybersecurity\" + 0.069*\"m\" + 0.062*\"data\" + 0.055*\"services\" + 0.049*\"f\" + 0.037*\"technical\" + 0.036*\"automotive\"'),\n",
       " (2,\n",
       "  '0.459*\"engineer\" + 0.117*\"architect\" + 0.073*\"application\" + 0.046*\"network\" + 0.035*\"expert\" + 0.035*\"team\" + 0.035*\"software\" + 0.035*\"system\" + 0.029*\"sales\" + 0.029*\"support\"')]"
      ]
     },
     "execution_count": 28,
     "metadata": {},
     "output_type": "execute_result"
    }
   ],
   "source": [
    "lda_model.print_topics()"
   ]
  },
  {
   "cell_type": "code",
   "execution_count": null,
   "id": "f33ac2d7-b77f-44bb-a9c3-ab21d5376f89",
   "metadata": {},
   "outputs": [],
   "source": []
  },
  {
   "cell_type": "code",
   "execution_count": null,
   "id": "e975fe49-1f35-42db-8654-c19cc97ef7c2",
   "metadata": {},
   "outputs": [],
   "source": []
  },
  {
   "cell_type": "code",
   "execution_count": null,
   "id": "7f97e66d-7452-4ac3-b175-07bc429ceed6",
   "metadata": {},
   "outputs": [],
   "source": []
  },
  {
   "cell_type": "markdown",
   "id": "d2850d84-f50f-4950-9cb4-485a25fef4eb",
   "metadata": {},
   "source": [
    "## Visualisations of the Result (Not ready)"
   ]
  },
  {
   "cell_type": "code",
   "execution_count": null,
   "id": "05169017-45f4-49ea-90c6-a7be681858bd",
   "metadata": {},
   "outputs": [],
   "source": [
    "import gensim\n",
    "from gensim.utils import simple_preprocess\n",
    "import nltk\n",
    "nltk.download('stopwords')\n",
    "from nltk.corpus import stopwords\n",
    "stop_words = stopwords.words('english')\n",
    "stop_words.extend(['from', 'subject', 're', 'edu', 'use'])\n",
    "def sent_to_words(sentences):\n",
    "    for sentence in sentences:\n",
    "        # deacc=True removes punctuations\n",
    "        yield(gensim.utils.simple_preprocess(str(sentence), deacc=True))\n",
    "def remove_stopwords(texts):\n",
    "    return [[word for word in simple_preprocess(str(doc)) \n",
    "             if word not in stop_words] for doc in texts]\n",
    "data = df.text.values.tolist()\n",
    "data_words = list(sent_to_words(data))\n",
    "# remove stop words\n",
    "data_words = remove_stopwords(data_words)\n",
    "print(data_words[:1][0][:30])"
   ]
  },
  {
   "cell_type": "code",
   "execution_count": null,
   "id": "2f5a50d1-2539-4713-aeae-755f89fc8c34",
   "metadata": {},
   "outputs": [],
   "source": [
    "import gensim.corpora as corpora\n",
    "# Create Dictionary\n",
    "id2word = corpora.Dictionary(data_words)\n",
    "# Create Corpus\n",
    "texts = data_words\n",
    "# Term Document Frequency\n",
    "corpus = [id2word.doc2bow(text) for text in texts]\n",
    "# View\n",
    "print(corpus[:1][0][:30])"
   ]
  },
  {
   "cell_type": "code",
   "execution_count": null,
   "id": "5c76ca24-b823-440d-aa1e-471870a65da7",
   "metadata": {},
   "outputs": [],
   "source": [
    "from pprint import pprint\n",
    "# number of topics\n",
    "num_topics = 3\n",
    "# Build LDA model\n",
    "lda_model = gensim.models.LdaMulticore(corpus=corpus,\n",
    "                                       id2word=id2word,\n",
    "                                       num_topics=num_topics)\n",
    "# Print the Keyword in the 10 topics\n",
    "pprint(lda_model.print_topics())\n",
    "doc_lda = lda_model[corpus]"
   ]
  },
  {
   "cell_type": "code",
   "execution_count": null,
   "id": "e9941fa3-3b4d-4cc1-87ff-c2d867706841",
   "metadata": {},
   "outputs": [],
   "source": []
  },
  {
   "cell_type": "code",
   "execution_count": 36,
   "id": "6926b47c-ca31-416b-8486-79f62d0d429d",
   "metadata": {},
   "outputs": [
    {
     "name": "stderr",
     "output_type": "stream",
     "text": [
      "C:\\Users\\elsha\\anaconda3\\lib\\site-packages\\pyLDAvis\\_prepare.py:246: FutureWarning: In a future version of pandas all arguments of DataFrame.drop except for the argument 'labels' will be keyword-only\n",
      "  default_term_info = default_term_info.sort_values(\n"
     ]
    },
    {
     "data": {
      "text/html": [
       "\n",
       "<link rel=\"stylesheet\" type=\"text/css\" href=\"https://cdn.jsdelivr.net/gh/bmabey/pyLDAvis@3.3.1/pyLDAvis/js/ldavis.v1.0.0.css\">\n",
       "\n",
       "\n",
       "<div id=\"ldavis_el1314025687032402243595811700\"></div>\n",
       "<script type=\"text/javascript\">\n",
       "\n",
       "var ldavis_el1314025687032402243595811700_data = {\"mdsDat\": {\"x\": [-0.006888147730069057, 0.004791654920946721, 0.0020964928091223374], \"y\": [-0.0009385310389683469, -0.003128703829357588, 0.004067234868325936], \"topics\": [1, 2, 3], \"cluster\": [1, 1, 1], \"Freq\": [57.904459532842246, 23.94346044897661, 18.152080018181145]}, \"tinfo\": {\"Term\": [\"security\", \"experience\", \"work\", \"technology\", \"technical\", \"business\", \"team\", \"services\", \"data\", \"nuclear\", \"job\", \"solutions\", \"product\", \"company\", \"requirements\", \"teams\", \"global\", \"working\", \"skills\", \"development\", \"ability\", \"systems\", \"processes\", \"information\", \"international\", \"related\", \"knowledge\", \"years\", \"understanding\", \"cloud\", \"diligentas\", \"mainly\", \"cio\", \"securityrelated\", \"fortinet\", \"epicor\", \"danfoss\", \"touch\", \"netskope\", \"accelerator\", \"resides\", \"log\", \"directory\", \"district\", \"endpoint\", \"advantage\", \"blackboardas\", \"zendesk\", \"carried\", \"quadron\", \"vectors\", \"novel\", \"sdwan\", \"enthusiasm\", \"workloads\", \"protection\", \"questionnaires\", \"insight\", \"engineer\", \"sme\", \"expert\", \"erste\", \"information\", \"security\", \"knowledge\", \"able\", \"acronis\", \"corporate\", \"customer\", \"management\", \"network\", \"employees\", \"threat\", \"policies\", \"secure\", \"incident\", \"building\", \"team\", \"support\", \"employment\", \"detection\", \"environment\", \"written\", \"organization\", \"practices\", \"software\", \"including\", \"skills\", \"systems\", \"work\", \"development\", \"experience\", \"cloud\", \"cyber\", \"testing\", \"working\", \"customers\", \"business\", \"new\", \"level\", \"solutions\", \"design\", \"services\", \"technical\", \"related\", \"infrastructure\", \"technology\", \"tools\", \"company\", \"teams\", \"data\", \"ability\", \"job\", \"role\", \"un\", \"fleet\", \"unhcr\", \"atlassian\", \"tribe\", \"ravenpack\", \"visualize\", \"june\", \"emissions\", \"logicstrategic\", \"reform\", \"jira\", \"exact\", \"comprehend\", \"confluence\", \"refugees\", \"workflows\", \"interpreters\", \"dialect\", \"comm\", \"computernetwork\", \"temporary\", \"yrs\", \"appreciate\", \"otherscurious\", \"synthetic\", \"tasking\", \"selfeducate\", \"excello\", \"johnson\", \"injection\", \"simultaneous\", \"novartis\", \"agencies\", \"product\", \"hidden\", \"prague\", \"title\", \"process\", \"specialist\", \"experience\", \"job\", \"nuclear\", \"ability\", \"must\", \"global\", \"technology\", \"business\", \"company\", \"insurance\", \"lead\", \"work\", \"working\", \"opportunities\", \"events\", \"application\", \"end\", \"international\", \"teams\", \"security\", \"team\", \"english\", \"people\", \"world\", \"skills\", \"services\", \"understanding\", \"data\", \"technical\", \"development\", \"requirements\", \"solutions\", \"systems\", \"cloud\", \"support\", \"new\", \"management\", \"information\", \"software\", \"knowledge\", \"role\", \"citadele\", \"itdb\", \"aircraft\", \"radioactive\", \"synack\", \"section\", \"gnss\", \"coupled\", \"ingenuity\", \"nuclear\", \"egnos\", \"recrur\", \"infosphere\", \"aggregation\", \"nortal\", \"agility\", \"worldwork\", \"trackrecord\", \"zoominfo\", \"articulated\", \"abap\", \"retrieval\", \"goalsmust\", \"powerpoint\", \"trafficking\", \"encompasses\", \"assessed\", \"caufield\", \"thereof\", \"satisfy\", \"specification\", \"counselors\", \"nsns\", \"sae\", \"programme\", \"idm\", \"iaea\", \"strategies\", \"states\", \"accenture\", \"division\", \"processes\", \"technical\", \"global\", \"professional\", \"data\", \"excellent\", \"related\", \"required\", \"requirements\", \"risk\", \"security\", \"experience\", \"technology\", \"services\", \"solutions\", \"years\", \"international\", \"degree\", \"work\", \"well\", \"team\", \"business\", \"knowledge\", \"role\", \"information\", \"development\", \"teams\", \"systems\", \"system\", \"skills\", \"management\", \"job\", \"support\", \"cloud\", \"software\", \"working\", \"company\", \"new\", \"environment\"], \"Freq\": [2078.0, 817.0, 559.0, 334.0, 347.0, 436.0, 563.0, 324.0, 256.0, 93.0, 242.0, 306.0, 200.0, 253.0, 192.0, 241.0, 137.0, 335.0, 358.0, 321.0, 224.0, 307.0, 140.0, 508.0, 137.0, 192.0, 387.0, 188.0, 185.0, 274.0, 9.497113721012614, 4.785278850722165, 3.1340225899528207, 6.976075535932058, 7.715341725305355, 4.668402380439826, 6.757238281307909, 6.026786298375295, 5.249380720618105, 3.709209268063724, 2.2391351705918168, 10.425182786417361, 20.563847472759306, 2.2026981195349444, 23.241362700435463, 40.51613789012377, 2.9282530631147137, 2.2030580252246983, 2.9263971439127108, 2.876050152584741, 8.0191439229571, 5.04808928300735, 4.308777981031467, 2.1619757029426516, 7.206537246769788, 35.81476250942717, 2.1460813057232113, 7.799614057199121, 98.49211613415888, 4.327569370270691, 50.48034418121557, 19.272146283942874, 352.59197093416896, 1386.4099285736113, 261.86093141644955, 59.81889705544546, 12.117222498476615, 33.56146231333345, 158.60610268417122, 252.03005674914388, 159.81025888714447, 65.7764779677703, 78.78949478160405, 47.07763855959379, 61.7190717205858, 74.73609028763723, 53.11265392741739, 350.9609752076157, 214.9175638842487, 74.65214900263597, 38.74835809884527, 140.18192472263735, 75.37262380277004, 66.95190540394337, 67.26582012220142, 164.81858572320576, 110.28519794884406, 218.9302502738573, 189.84160166705638, 330.7449883597197, 194.67357537855887, 453.2114381853646, 167.44350230994837, 116.02865852719756, 104.90929362690665, 199.71937221159212, 105.10887178075004, 247.67088434220966, 151.61825607606718, 120.77175510423932, 179.14363093384497, 100.69036303300184, 185.50939067437395, 195.6757544987041, 118.45821100791487, 117.6965085963816, 175.5278186849688, 113.80577483997727, 139.10465700232785, 134.12275022928733, 138.82346218935766, 123.05968585702456, 125.4328316624135, 118.71859033531507, 10.732195242217347, 6.8034842893676775, 6.3041613097455915, 9.829819465808992, 1.6988842804505535, 2.5392530843272074, 1.579162135061354, 1.1217839876338946, 1.1202457841360882, 0.7845273328232294, 1.1230973139963267, 14.197832943316369, 0.781257938862401, 1.491323164567296, 6.950157126172184, 1.112660792890207, 6.098377127859756, 1.5023732113986543, 1.8566446093184743, 0.7653633979884401, 0.7710000712901788, 1.432909837016871, 1.1523639861562456, 1.1420471389144833, 0.7579196836254105, 2.6796888896588658, 1.1055466788664905, 0.747091290621905, 1.1316598589743285, 2.4824929706301915, 1.5169746573084555, 2.4711425389702457, 2.7795763093437746, 2.859288841509372, 67.65084190177215, 4.925991875649046, 11.044400145228863, 5.099904541411627, 37.68563648174453, 13.174009523279713, 218.70961541954847, 72.95308237183187, 30.165207399706183, 65.60427041195278, 18.450712619400715, 42.10687540763719, 91.8174427312606, 116.24917226315391, 70.06902371505994, 15.930804866682639, 21.86154586291505, 135.75642089623457, 85.87791019805414, 31.947890131801238, 23.17262606007183, 51.19416881498971, 18.51247064286215, 38.84730883137442, 62.36831326024487, 365.0328668294605, 123.11787764271918, 38.22513312036876, 44.18593564267966, 42.094151161163026, 81.27230356841979, 73.90293266735928, 48.03371880784716, 61.262286994367805, 75.62896199781058, 71.26160031423262, 48.73082229103648, 66.3809059220865, 64.87571842031663, 60.14519559383694, 68.22484192140135, 55.86951958966526, 67.35439197727703, 77.22804732808054, 53.31734474555194, 60.66456782056601, 45.277359091026696, 0.998849536244342, 4.014878398390945, 2.572184573323322, 2.8165533174407757, 5.3262716385189135, 5.659573059374567, 0.8940654968750473, 0.8977094655749874, 4.356631355931709, 34.90070122604741, 0.8920811389518971, 0.5857259323213463, 1.1360309249352851, 1.1696319080126565, 1.3992037038647198, 3.5082212731922144, 1.9609804960091237, 0.5601213407931198, 0.8519978472022882, 0.564167473946646, 0.8501030209131489, 0.8665436181599506, 0.8455299925336833, 0.5642014772501555, 1.1633455602745584, 1.6419216759845834, 0.556133439596674, 0.8379734082389513, 0.8225376762015173, 0.5597042544005318, 1.9301242138373516, 1.3509252520196104, 1.9140852611159478, 1.413076739739648, 4.320695167389778, 1.8544280768860644, 11.260177111469174, 8.356961331731231, 8.726982992836648, 11.746418944400638, 4.787501668703127, 35.03919678522689, 75.72117669283189, 32.874881317570804, 33.381545929735445, 56.25639634213649, 20.166245833225606, 42.11785019513045, 23.596447514379026, 41.58072860564259, 36.129122662129454, 327.02438856691765, 146.04628076396287, 67.0456998660328, 64.9349411611886, 60.86493332120205, 39.872515773703384, 30.454408462028898, 28.718320824120433, 92.78751250546377, 29.977119376555986, 89.73167908506926, 72.39856104803971, 64.98932648156125, 39.54960459776107, 79.13389547669959, 55.38291698593136, 44.70751184254379, 52.706260122180396, 34.97207031264508, 58.14081574866041, 59.897417673163176, 43.670473892831794, 54.357801613489016, 46.61459179922297, 44.966670671874546, 50.377091647800064, 43.94637025039765, 43.54873915467024, 36.05820279348641], \"Total\": [2078.0, 817.0, 559.0, 334.0, 347.0, 436.0, 563.0, 324.0, 256.0, 93.0, 242.0, 306.0, 200.0, 253.0, 192.0, 241.0, 137.0, 335.0, 358.0, 321.0, 224.0, 307.0, 140.0, 508.0, 137.0, 192.0, 387.0, 188.0, 185.0, 274.0, 11.616088539056268, 6.172065369933475, 4.083038773824134, 9.118289497439076, 10.093251189838563, 6.111030827120464, 8.968212022752473, 8.04911627685641, 7.014528099245341, 4.989260385655215, 3.0140131268355748, 14.042472952967257, 27.785283495348764, 2.9804706837498767, 31.57115589969616, 55.07845424152649, 3.983795854096002, 2.9988871528592442, 3.9906337710619564, 3.926018412290389, 10.951984302998195, 6.903312844170304, 5.9027461129917125, 2.9721775679353253, 9.91272493788887, 49.52460530522606, 2.9687348287514848, 10.805017561334518, 136.6054498027293, 6.002289297663611, 70.7867892674987, 26.853645481611963, 508.9539137389491, 2078.4671839699895, 387.5148257185768, 86.0106936968867, 16.92201208439316, 47.887994826968516, 235.2538505333369, 379.28186639958415, 239.53679855659485, 95.98202624997927, 115.96715129584005, 68.44742328030944, 90.60807630867393, 110.75178245587155, 77.89382676902139, 563.8105319354041, 337.50020741913903, 111.56971744327, 56.103413686830685, 218.57175990520366, 113.51956771880731, 100.50293770123821, 101.16168645723056, 263.10260114063226, 171.1953245152546, 358.3433695909375, 307.4235802095534, 559.288921761418, 321.3180926787229, 817.967334368876, 274.2032897030083, 183.25837761505815, 164.15983548606664, 335.9743740574463, 164.5465786976746, 436.3186176534033, 251.0365148204027, 193.6115482078691, 306.38947017713355, 157.97071232752026, 324.3472645029218, 347.02589318934656, 192.08940449182208, 193.62975298743993, 334.3909612822622, 185.32895213562148, 253.12005096778546, 241.198575332076, 256.34214552586195, 224.4216921465504, 242.0563879270772, 203.54555402410284, 19.789862943162017, 13.148706340793824, 12.250541683900542, 19.258646608413635, 3.35668654916116, 5.074245296277533, 3.316732702529649, 2.3783296566325824, 2.380809222738594, 1.6679238362544324, 2.3921103593416664, 30.323387518154078, 1.6696727933286066, 3.192891751252866, 14.883324922213975, 2.3830437407354, 13.096296054043997, 3.2369484523287437, 4.0008570579410385, 1.6631424093362008, 1.6787954309671258, 3.12118705148278, 2.5229466858278067, 2.5295749020016123, 1.686191442451311, 6.0094994792393095, 2.4808701518057963, 1.6862055299927674, 2.5578693723412886, 5.618369638717468, 3.435725821156373, 5.721019568050712, 6.5597018947085735, 6.782666598653565, 200.40566265940174, 12.271613824181154, 29.468135395011302, 12.877970214330212, 115.9762320655268, 36.85076527187641, 817.967334368876, 242.0563879270772, 93.06604851315343, 224.4216921465504, 54.05704341798987, 137.58667543228057, 334.3909612822622, 436.3186176534033, 253.12005096778546, 47.33489535665933, 68.30144439975801, 559.288921761418, 335.9743740574463, 106.98975463550144, 73.91412737159624, 186.09221542287705, 57.09310514313974, 137.2023831886643, 241.198575332076, 2078.4671839699895, 563.8105319354041, 136.21061272412115, 162.90072296481637, 154.8336263766802, 358.3433695909375, 324.3472645029218, 185.75065632470756, 256.34214552586195, 347.02589318934656, 321.3180926787229, 192.13390058324552, 306.38947017713355, 307.4235802095534, 274.2032897030083, 337.50020741913903, 251.0365148204027, 379.28186639958415, 508.9539137389491, 263.10260114063226, 387.5148257185768, 203.54555402410284, 2.2640235894245304, 9.390004723552622, 6.292398089853167, 6.951711935801745, 13.164319252005276, 14.986396559436884, 2.3684028873648924, 2.3786267479731724, 11.584585772954119, 93.06604851315343, 2.381395800972494, 1.5755573460029626, 3.078069858379873, 3.194328026220961, 3.8445617049124228, 9.666071891032745, 5.41027189066089, 1.5503855099329162, 2.385577066331426, 1.5803305120665092, 2.3838676983210494, 2.4311646154682407, 2.375334691882011, 1.585037076568912, 3.2769599983244184, 4.694391068431411, 1.590750844634567, 2.400959073158963, 2.357138525162579, 1.6039810361733111, 5.55966328664936, 3.9007966238422442, 5.58084577704339, 4.114694942388372, 13.211776351530066, 5.492062661761753, 36.90816754446053, 26.920339805180294, 28.747725346089332, 41.55426741529778, 15.716759321654227, 140.83130588479304, 347.02589318934656, 137.58667543228057, 141.37497479185475, 256.34214552586195, 81.20342203715872, 192.08940449182208, 99.9688501682549, 192.13390058324552, 163.93631558884553, 2078.4671839699895, 817.967334368876, 334.3909612822622, 324.3472645029218, 306.38947017713355, 188.40106037716012, 137.2023831886643, 127.88529268791771, 559.288921761418, 140.30368538218303, 563.8105319354041, 436.3186176534033, 387.5148257185768, 203.54555402410284, 508.9539137389491, 321.3180926787229, 241.198575332076, 307.4235802095534, 174.43603081756544, 358.3433695909375, 379.28186639958415, 242.0563879270772, 337.50020741913903, 274.2032897030083, 263.10260114063226, 335.9743740574463, 253.12005096778546, 251.0365148204027, 218.57175990520366], \"Category\": [\"Default\", \"Default\", \"Default\", \"Default\", \"Default\", \"Default\", \"Default\", \"Default\", \"Default\", \"Default\", \"Default\", \"Default\", \"Default\", \"Default\", \"Default\", \"Default\", \"Default\", \"Default\", \"Default\", \"Default\", \"Default\", \"Default\", \"Default\", \"Default\", \"Default\", \"Default\", \"Default\", \"Default\", \"Default\", \"Default\", \"Topic1\", \"Topic1\", \"Topic1\", \"Topic1\", \"Topic1\", \"Topic1\", \"Topic1\", \"Topic1\", \"Topic1\", \"Topic1\", \"Topic1\", \"Topic1\", \"Topic1\", \"Topic1\", \"Topic1\", \"Topic1\", \"Topic1\", \"Topic1\", \"Topic1\", \"Topic1\", \"Topic1\", \"Topic1\", \"Topic1\", \"Topic1\", \"Topic1\", \"Topic1\", \"Topic1\", \"Topic1\", \"Topic1\", \"Topic1\", \"Topic1\", \"Topic1\", \"Topic1\", \"Topic1\", \"Topic1\", \"Topic1\", \"Topic1\", \"Topic1\", \"Topic1\", \"Topic1\", \"Topic1\", \"Topic1\", \"Topic1\", \"Topic1\", \"Topic1\", \"Topic1\", \"Topic1\", \"Topic1\", \"Topic1\", \"Topic1\", \"Topic1\", \"Topic1\", \"Topic1\", \"Topic1\", \"Topic1\", \"Topic1\", \"Topic1\", \"Topic1\", \"Topic1\", \"Topic1\", \"Topic1\", \"Topic1\", \"Topic1\", \"Topic1\", \"Topic1\", \"Topic1\", \"Topic1\", \"Topic1\", \"Topic1\", \"Topic1\", \"Topic1\", \"Topic1\", \"Topic1\", \"Topic1\", \"Topic1\", \"Topic1\", \"Topic1\", \"Topic1\", \"Topic1\", \"Topic1\", \"Topic1\", \"Topic1\", \"Topic1\", \"Topic1\", \"Topic2\", \"Topic2\", \"Topic2\", \"Topic2\", \"Topic2\", \"Topic2\", \"Topic2\", \"Topic2\", \"Topic2\", \"Topic2\", \"Topic2\", \"Topic2\", \"Topic2\", \"Topic2\", \"Topic2\", \"Topic2\", \"Topic2\", \"Topic2\", \"Topic2\", \"Topic2\", \"Topic2\", \"Topic2\", \"Topic2\", \"Topic2\", \"Topic2\", \"Topic2\", \"Topic2\", \"Topic2\", \"Topic2\", \"Topic2\", \"Topic2\", \"Topic2\", \"Topic2\", \"Topic2\", \"Topic2\", \"Topic2\", \"Topic2\", \"Topic2\", \"Topic2\", \"Topic2\", \"Topic2\", \"Topic2\", \"Topic2\", \"Topic2\", \"Topic2\", \"Topic2\", \"Topic2\", \"Topic2\", \"Topic2\", \"Topic2\", \"Topic2\", \"Topic2\", \"Topic2\", \"Topic2\", \"Topic2\", \"Topic2\", \"Topic2\", \"Topic2\", \"Topic2\", \"Topic2\", \"Topic2\", \"Topic2\", \"Topic2\", \"Topic2\", \"Topic2\", \"Topic2\", \"Topic2\", \"Topic2\", \"Topic2\", \"Topic2\", \"Topic2\", \"Topic2\", \"Topic2\", \"Topic2\", \"Topic2\", \"Topic2\", \"Topic2\", \"Topic2\", \"Topic2\", \"Topic2\", \"Topic2\", \"Topic3\", \"Topic3\", \"Topic3\", \"Topic3\", \"Topic3\", \"Topic3\", \"Topic3\", \"Topic3\", \"Topic3\", \"Topic3\", \"Topic3\", \"Topic3\", \"Topic3\", \"Topic3\", \"Topic3\", \"Topic3\", \"Topic3\", \"Topic3\", \"Topic3\", \"Topic3\", \"Topic3\", \"Topic3\", \"Topic3\", \"Topic3\", \"Topic3\", \"Topic3\", \"Topic3\", \"Topic3\", \"Topic3\", \"Topic3\", \"Topic3\", \"Topic3\", \"Topic3\", \"Topic3\", \"Topic3\", \"Topic3\", \"Topic3\", \"Topic3\", \"Topic3\", \"Topic3\", \"Topic3\", \"Topic3\", \"Topic3\", \"Topic3\", \"Topic3\", \"Topic3\", \"Topic3\", \"Topic3\", \"Topic3\", \"Topic3\", \"Topic3\", \"Topic3\", \"Topic3\", \"Topic3\", \"Topic3\", \"Topic3\", \"Topic3\", \"Topic3\", \"Topic3\", \"Topic3\", \"Topic3\", \"Topic3\", \"Topic3\", \"Topic3\", \"Topic3\", \"Topic3\", \"Topic3\", \"Topic3\", \"Topic3\", \"Topic3\", \"Topic3\", \"Topic3\", \"Topic3\", \"Topic3\", \"Topic3\", \"Topic3\", \"Topic3\", \"Topic3\", \"Topic3\", \"Topic3\"], \"logprob\": [30.0, 29.0, 28.0, 27.0, 26.0, 25.0, 24.0, 23.0, 22.0, 21.0, 20.0, 19.0, 18.0, 17.0, 16.0, 15.0, 14.0, 13.0, 12.0, 11.0, 10.0, 9.0, 8.0, 7.0, 6.0, 5.0, 4.0, 3.0, 2.0, 1.0, -8.4765, -9.1619, -9.5851, -8.785, -8.6842, -9.1866, -8.8168, -8.9312, -9.0693, -9.4166, -9.9214, -8.3832, -7.7039, -9.9378, -7.5815, -7.0257, -9.653, -9.9376, -9.6537, -9.671, -8.6456, -9.1084, -9.2668, -9.9564, -8.7525, -7.1491, -9.9638, -8.6734, -6.1375, -9.2624, -6.8059, -7.7688, -4.8621, -3.493, -5.1596, -6.6361, -8.2328, -7.2141, -5.661, -5.1979, -5.6535, -6.5412, -6.3607, -6.8756, -6.6048, -6.4135, -6.755, -4.8668, -5.3572, -6.4146, -7.0704, -5.7845, -6.405, -6.5235, -6.5188, -5.6226, -6.0244, -5.3387, -5.4813, -4.9261, -5.4561, -4.6111, -5.6068, -5.9736, -6.0743, -5.4305, -6.0724, -5.2153, -5.7061, -5.9335, -5.5393, -6.1154, -5.5043, -5.451, -5.9529, -5.9593, -5.5596, -5.9929, -5.7922, -5.8287, -5.7942, -5.9148, -5.8957, -5.9507, -7.4711, -7.9269, -8.0031, -7.5589, -9.3144, -8.9125, -9.3874, -9.7294, -9.7308, -10.087, -9.7283, -7.1913, -10.0912, -9.4447, -7.9056, -9.7376, -8.0363, -9.4373, -9.2256, -10.1117, -10.1044, -9.4846, -9.7025, -9.7115, -10.1215, -8.8586, -9.744, -10.1359, -9.7207, -8.9351, -9.4276, -8.9397, -8.822, -8.7938, -5.63, -8.2498, -7.4424, -8.2151, -6.2151, -7.2661, -4.4566, -5.5545, -6.4377, -5.6607, -6.9292, -6.1041, -5.3245, -5.0886, -5.5949, -7.0761, -6.7596, -4.9335, -5.3914, -6.3802, -6.7014, -5.9087, -6.9259, -6.1847, -5.7113, -3.9444, -5.0312, -6.2008, -6.0559, -6.1044, -5.4465, -5.5416, -5.9724, -5.7292, -5.5185, -5.578, -5.958, -5.6489, -5.6719, -5.7476, -5.6215, -5.8213, -5.6344, -5.4976, -5.8681, -5.739, -6.0315, -9.5686, -8.1774, -8.6227, -8.5319, -7.8948, -7.8341, -9.6794, -9.6753, -8.0957, -6.0149, -9.6816, -10.1023, -9.4399, -9.4107, -9.2315, -8.3123, -8.894, -10.147, -9.7276, -10.1398, -9.7298, -9.7107, -9.7352, -10.1398, -9.4161, -9.0716, -10.1542, -9.7442, -9.7628, -10.1478, -8.9098, -9.2666, -8.9182, -9.2217, -8.104, -8.9499, -7.1462, -7.4443, -7.401, -7.1039, -8.0014, -6.011, -5.2404, -6.0747, -6.0594, -5.5375, -6.5634, -5.827, -6.4063, -5.8398, -5.9803, -3.7774, -4.5835, -5.3621, -5.394, -5.4588, -5.8817, -6.1512, -6.2099, -5.0371, -6.167, -5.0706, -5.2852, -5.3932, -5.8899, -5.1963, -5.5532, -5.7673, -5.6027, -6.0129, -5.5046, -5.4748, -5.7908, -5.5718, -5.7255, -5.7615, -5.6479, -5.7845, -5.7936, -5.9823], \"loglift\": [30.0, 29.0, 28.0, 27.0, 26.0, 25.0, 24.0, 23.0, 22.0, 21.0, 20.0, 19.0, 18.0, 17.0, 16.0, 15.0, 14.0, 13.0, 12.0, 11.0, 10.0, 9.0, 8.0, 7.0, 6.0, 5.0, 4.0, 3.0, 2.0, 1.0, 0.345, 0.2919, 0.2819, 0.2786, 0.2777, 0.2771, 0.2633, 0.257, 0.2565, 0.2499, 0.2492, 0.2485, 0.2454, 0.244, 0.2401, 0.2393, 0.2385, 0.238, 0.2362, 0.2352, 0.2347, 0.2334, 0.2316, 0.2281, 0.2275, 0.2223, 0.2219, 0.2204, 0.2193, 0.2192, 0.2083, 0.2146, 0.1793, 0.1415, 0.1544, 0.1832, 0.2124, 0.1909, 0.1521, 0.1376, 0.1417, 0.1685, 0.1598, 0.1721, 0.1624, 0.153, 0.1634, 0.0723, 0.0951, 0.1446, 0.1763, 0.1022, 0.1368, 0.1402, 0.1383, 0.0787, 0.1066, 0.0536, 0.0643, 0.0211, 0.0453, -0.0441, 0.0532, 0.0893, 0.0986, 0.0263, 0.0982, -0.0199, 0.0421, 0.0744, 0.0097, 0.096, -0.0123, -0.0266, 0.063, 0.0485, -0.0981, 0.0587, -0.0523, -0.0405, -0.0669, -0.0545, -0.111, 0.0072, 0.8176, 0.7706, 0.7651, 0.7569, 0.7485, 0.7372, 0.6874, 0.678, 0.6756, 0.6752, 0.6734, 0.6706, 0.67, 0.6682, 0.668, 0.6679, 0.6652, 0.6619, 0.6617, 0.6534, 0.6513, 0.651, 0.6459, 0.6342, 0.6298, 0.6218, 0.6212, 0.6154, 0.614, 0.6127, 0.612, 0.59, 0.5708, 0.5657, 0.3435, 0.5167, 0.4481, 0.5032, 0.3054, 0.4008, 0.1104, 0.2301, 0.3029, 0.1996, 0.3545, 0.2454, 0.137, 0.1068, 0.1451, 0.3405, 0.2903, 0.0137, 0.0654, 0.2208, 0.2695, 0.1389, 0.3032, 0.1677, 0.0769, -0.3099, -0.0921, 0.1588, 0.1247, 0.127, -0.0542, -0.0496, 0.077, -0.0019, -0.0941, -0.0766, 0.0576, -0.1, -0.1263, -0.0876, -0.1693, -0.0731, -0.2988, -0.4561, -0.1668, -0.4249, -0.0736, 0.8881, 0.8567, 0.8118, 0.8029, 0.8015, 0.7326, 0.7322, 0.732, 0.7284, 0.7256, 0.7245, 0.7169, 0.7096, 0.7017, 0.6956, 0.6929, 0.6915, 0.6883, 0.6768, 0.6763, 0.6753, 0.6748, 0.6735, 0.6734, 0.6708, 0.6559, 0.6554, 0.6537, 0.6536, 0.6535, 0.6484, 0.646, 0.6363, 0.6376, 0.5887, 0.6207, 0.5192, 0.5366, 0.5142, 0.4429, 0.5177, 0.3153, 0.184, 0.2748, 0.263, 0.1898, 0.3134, 0.1889, 0.2626, 0.1758, 0.194, -0.143, -0.0165, 0.0994, 0.098, 0.0902, 0.1535, 0.2012, 0.2128, -0.09, 0.163, -0.1315, -0.0898, -0.0791, 0.0681, -0.1548, -0.0518, 0.0209, -0.0571, 0.0994, -0.1122, -0.1393, -0.0061, -0.1196, -0.0656, -0.0602, -0.1911, -0.0445, -0.0453, -0.0956]}, \"token.table\": {\"Topic\": [1, 2, 3, 1, 2, 3, 1, 2, 3, 1, 2, 3, 1, 2, 3, 1, 2, 3, 1, 2, 3, 1, 2, 3, 1, 2, 3, 1, 2, 3, 1, 2, 3, 1, 2, 3, 1, 2, 1, 3, 1, 3, 1, 2, 3, 1, 2, 1, 2, 3, 1, 2, 3, 1, 2, 1, 2, 3, 1, 2, 1, 2, 3, 1, 2, 3, 1, 2, 1, 2, 3, 1, 2, 3, 1, 2, 1, 2, 3, 1, 2, 3, 1, 2, 3, 1, 2, 3, 1, 2, 3, 1, 2, 3, 1, 2, 3, 1, 2, 3, 1, 2, 3, 1, 2, 3, 1, 2, 3, 1, 2, 3, 1, 2, 3, 1, 2, 3, 1, 2, 3, 1, 2, 3, 1, 1, 2, 3, 1, 2, 3, 1, 2, 3, 1, 2, 3, 1, 2, 3, 1, 2, 3, 1, 2, 3, 1, 2, 3, 1, 2, 3, 1, 2, 3, 1, 1, 2, 3, 1, 2, 3, 1, 2, 3, 1, 2, 3, 1, 2, 1, 2, 3, 1, 2, 1, 2, 3, 1, 2, 3, 1, 2, 3, 1, 2, 3, 1, 2, 3, 1, 2, 3, 1, 2, 3, 1, 2, 3, 1, 2, 3, 1, 2, 3, 1, 2, 3, 1, 2, 3, 1, 2, 3, 1, 2, 3, 1, 2, 3, 1, 2, 3, 1, 2, 1, 2, 3, 1, 2, 3, 1, 2, 3, 1, 2, 3, 1, 2, 3, 1, 2, 3, 1, 2, 3, 1, 2, 3, 1, 2, 3, 1, 2, 3, 1, 2, 3, 1, 2, 3, 1, 2, 3, 1, 2, 1, 2, 3, 1, 2, 3, 1, 2, 3, 1, 2, 3, 1, 2, 3, 1, 2, 3, 1, 2, 3, 1, 2, 3, 1, 2, 3, 1, 2, 3, 1, 2, 3, 1, 2, 3, 1, 2, 3, 1, 2, 1, 2, 3, 1, 2, 3, 1, 3, 1, 2, 3, 1, 2, 3, 1, 2, 3, 1, 2, 3, 1, 2, 3, 1, 2, 3, 1, 2, 3, 1, 2, 3, 1, 3, 1, 1, 2, 3, 1, 2, 3, 1, 3, 1, 2, 3, 1, 2, 3, 1, 2, 3, 1, 2, 3, 1, 2, 3, 1, 1, 3, 1, 2, 3, 1, 2, 3, 1, 2, 3, 1, 3, 1, 2, 3, 1, 2, 3, 1, 2, 3, 1, 2, 3, 1, 2, 3, 1, 2, 1, 2, 3, 1, 2, 3, 1, 2, 3, 1, 2, 3, 1, 2, 3, 1, 2, 3, 1, 2, 3, 1, 2, 3, 1, 2, 3, 1, 2, 3, 1, 2, 3, 1, 2, 3, 1, 2, 3, 1, 2, 3, 1, 2, 3, 1, 2, 1, 2, 3, 1, 2, 3, 1, 2, 3, 1, 2, 3, 1, 2, 3, 1, 2, 3, 1, 2, 3, 1, 2, 3, 1, 2, 3, 1, 2, 3, 1, 2, 3, 1, 3, 1, 2, 3, 1, 2, 1, 2, 3, 1, 2, 3, 1, 2, 3, 1, 2, 3, 1, 2, 3, 1, 2, 3, 1, 2, 3, 1, 2, 3, 1, 2, 3, 1, 2, 3, 1, 2, 3, 1, 2, 3, 1, 2, 3, 1, 2, 3, 1, 2, 1, 1, 2, 3], \"Freq\": [0.4194863669256045, 0.4194863669256045, 0.4194863669256045, 0.548075361269798, 0.29408921824233064, 0.16041230085945307, 0.6975876768468825, 0.186023380492502, 0.11626461280781376, 0.8017220370980296, 0.2004305092745074, 0.2004305092745074, 0.45723342467121303, 0.2647140879675444, 0.28877900505550297, 0.7091355295194101, 0.17728388237985251, 0.11818925491990169, 0.7443927133504772, 0.16340327854034864, 0.1089355190268991, 0.44230391636757344, 0.44230391636757344, 0.14743463878919114, 0.31305488722241426, 0.31305488722241426, 0.31305488722241426, 0.41381856508959103, 0.20690928254479551, 0.41381856508959103, 0.4767657667491926, 0.15892192224973087, 0.4767657667491926, 0.5749837507004394, 0.27405767556749916, 0.15046303756647011, 0.39532334037972783, 0.39532334037972783, 0.6327790246183099, 0.6327790246183099, 0.6286339582172112, 0.6286339582172112, 0.31154837211555386, 0.5192472868592564, 0.20769891474370256, 0.7530506355930621, 0.25101687853102067, 0.6804133549268407, 0.1668938417745081, 0.1540558539456998, 0.5683919731268556, 0.2658607616238518, 0.16501702445618388, 0.7517602897450706, 0.2505867632483569, 0.41650022742132425, 0.41650022742132425, 0.41650022742132425, 0.7347468800033534, 0.24491562666778446, 0.44169151093261355, 0.44169151093261355, 0.44169151093261355, 0.6090371861726349, 0.2188157555111263, 0.17140567515038227, 0.6012714211281062, 0.6012714211281062, 0.5491465392352125, 0.2765486168810423, 0.17383055918236945, 0.3131957103173347, 0.3131957103173347, 0.3131957103173347, 0.5956651903823188, 0.5956651903823188, 0.3359464384559188, 0.4703250138382864, 0.2015678630735513, 0.7099900533077368, 0.1670564831312322, 0.12529236234842414, 0.25635789210025783, 0.25635789210025783, 0.25635789210025783, 0.4204106427593568, 0.4204106427593568, 0.4204106427593568, 0.6758656644281736, 0.18278128031705326, 0.14027400582471528, 0.6381171874312808, 0.20662842259679567, 0.15800997022107904, 0.6329860686841986, 0.174616846533572, 0.1909871758960944, 0.7805346240968554, 0.11150494629955075, 0.11150494629955075, 0.5422440376117414, 0.2379632107504765, 0.21845802954142104, 0.5630045370088314, 0.21112670137831177, 0.22676571629522374, 0.639359021124099, 0.17724804546014628, 0.189908620135871, 0.6951448661876092, 0.16041804604329443, 0.14259381870515062, 0.6068752567723447, 0.22096483708121267, 0.1711699442178408, 0.24994644535354385, 0.4998928907070877, 0.24994644535354385, 0.774787482872543, 0.08608749809694921, 0.08608749809694921, 0.7557957795721387, 0.10797082565316268, 0.14396110087088357, 0.6710349512593433, 0.4453844368765986, 0.25450539250091353, 0.31813174062614186, 0.41992179527301954, 0.41992179527301954, 0.41992179527301954, 0.4200252546273831, 0.4200252546273831, 0.4200252546273831, 0.6876287423658578, 0.18753511155432487, 0.12502340770288325, 0.6722254184979481, 0.22407513949931607, 0.10755606695967171, 0.4260403470536344, 0.2130201735268172, 0.4260403470536344, 0.4729117453378571, 0.3327897467192328, 0.19266774810060847, 0.7285130792509675, 0.12669792682625522, 0.15837240853281903, 0.7173945120163281, 0.13908669110520647, 0.13908669110520647, 0.5579594605739658, 0.2789797302869829, 0.1615145806924638, 0.6729073059350672, 0.6405219048458919, 0.19215657145376758, 0.16470563267465793, 0.8181925670887206, 0.16363851341774413, 0.16363851341774413, 0.7075389452434029, 0.1861944592745797, 0.11171667556474782, 0.5141101079223815, 0.31117190742670464, 0.17587977376292002, 0.5989197428356198, 0.5989197428356198, 0.5664785897686724, 0.18472127927239315, 0.24629503902985753, 0.3909503787852436, 0.3909503787852436, 0.5538118467157664, 0.26773685304801953, 0.17849123536534636, 0.7063464880580079, 0.15539622737276176, 0.12714236785044145, 0.2281593277882029, 0.5323717648391401, 0.2281593277882029, 0.7926088283678152, 0.0990761035459769, 0.0990761035459769, 0.4578931775338104, 0.30526211835587364, 0.23984880727961497, 0.4222254605983062, 0.4222254605983062, 0.4222254605983062, 0.42099330398264256, 0.42099330398264256, 0.42099330398264256, 0.40744437297623604, 0.40744437297623604, 0.2444666237857416, 0.43350838214132376, 0.27094273883832737, 0.2980370127221601, 0.3641619047657473, 0.3641619047657473, 0.3641619047657473, 0.6771900039611854, 0.1625256009506845, 0.1625256009506845, 0.6425409123261324, 0.2102861167612797, 0.14603202552866645, 0.6935794980074749, 0.1512907120299591, 0.15522034091385414, 0.32487891633698823, 0.32487891633698823, 0.32487891633698823, 0.6094104763313634, 0.20657982248520793, 0.18592184023668715, 0.34528640716171094, 0.2589648053712832, 0.34528640716171094, 0.2910593138259871, 0.5821186276519742, 0.7403967605409358, 0.09254959506761698, 0.18509919013523396, 0.443647331250424, 0.33801701428603736, 0.21126063392877334, 0.4956182131799747, 0.2842516222649855, 0.21865509404998884, 0.30893293938016664, 0.6178658787603333, 0.30893293938016664, 0.42598487623408104, 0.21299243811704052, 0.42598487623408104, 0.3297784587560732, 0.4616898422585025, 0.19786707525364394, 0.5164085983042016, 0.30158262140965375, 0.18177582660307895, 0.3559751544678626, 0.3559751544678626, 0.1779875772339313, 0.4204631587598647, 0.4204631587598647, 0.4204631587598647, 0.6761031646058133, 0.15741333221738402, 0.16773551793655675, 0.5270752370813339, 0.3221015337719263, 0.1464097880781483, 0.6249627210774099, 0.21176422780308932, 0.16527939730972824, 0.7121252811732809, 0.14242505623465618, 0.14242505623465618, 0.5995477600737733, 0.5995477600737733, 0.8101015948983529, 0.16202031897967056, 0.16202031897967056, 0.664413520193214, 0.17664962640057674, 0.15819369528409857, 0.4809734006160491, 0.33298158504188013, 0.16649079252094007, 0.7128063255656394, 0.14256126511312786, 0.14256126511312786, 0.6679558254269526, 0.183687851992412, 0.15029006072106435, 0.6054896042065606, 0.22307511733925917, 0.1752733064808465, 0.2601076733200149, 0.2601076733200149, 0.2601076733200149, 0.30489190394662796, 0.45733785591994197, 0.15244595197331398, 0.7242899333792167, 0.14485798667584332, 0.14485798667584332, 0.35836862008029835, 0.17918431004014918, 0.35836862008029835, 0.3008615971918335, 0.32235171127696444, 0.3760769964897918, 0.523414603489688, 0.2990940591369646, 0.17758709761257274, 0.666647179997551, 0.18904920029781297, 0.1392994107457569, 0.593052470095711, 0.593052470095711, 0.5831772767547403, 0.27010315976009025, 0.1473289962327765, 0.6866584269728192, 0.16070729141917045, 0.14609753765379133, 0.6309000683849451, 0.6309000683849451, 0.6623060799636478, 0.18781814207924338, 0.14827748058887635, 0.3732845615288643, 0.3732845615288643, 0.23754472097291363, 0.5173473817126588, 0.32765334175135064, 0.15520421451379765, 0.5325520453623692, 0.22012151208311262, 0.24852428783577232, 0.49399801725291, 0.3393117694262412, 0.16466600575096998, 0.5587976239522664, 0.20512824170399654, 0.23342179228385812, 0.454140294261425, 0.2270701471307125, 0.30276019617428335, 0.726911396428658, 0.16153586587303512, 0.12115189940477633, 0.7641329420688677, 0.2547109806896226, 0.6736876532826306, 0.2876989176867178, 0.2876989176867178, 0.4315483765300767, 0.39414728362998147, 0.5912209254449722, 0.19707364181499074, 0.6346960347313945, 0.6346960347313945, 0.41804091357859025, 0.41804091357859025, 0.41804091357859025, 0.4196314078949315, 0.4196314078949315, 0.4196314078949315, 0.6142972867877451, 0.16658909472210037, 0.21864818682275672, 0.5801807253197546, 0.1800560871681997, 0.24007478289093293, 0.5308797650511792, 0.25503047536772333, 0.21859755031519143, 0.6635671166103408, 0.41132549957231124, 0.41132549957231124, 0.5672934618906846, 0.21349753942122543, 0.2195974691189747, 0.5846357124848259, 0.22108073161190897, 0.19651620587725244, 0.4860627647985737, 0.24303138239928684, 0.24303138239928684, 0.6234487674403835, 0.6234487674403835, 0.6776506940042969, 0.16941267350107422, 0.16941267350107422, 0.40036308769781087, 0.20018154384890544, 0.40036308769781087, 0.6842657136741874, 0.20969433160983164, 0.11036543768938507, 0.6668375669769594, 0.17561018177964657, 0.15732747792313542, 0.7676878434234832, 0.10966969191764045, 0.10966969191764045, 0.5930475153905403, 0.5930475153905403, 0.5734594379423985, 0.22815052907385747, 0.200402491754064, 0.3495880369242379, 0.3495880369242379, 0.17479401846211895, 0.611145673631402, 0.22604018065818982, 0.1618559318293211, 0.6664123972759858, 0.16660309931899644, 0.16660309931899644, 0.6271317702093148, 0.20144232618844657, 0.17103593732981312, 0.5842237329387149, 0.21541210264779428, 0.19909300396235532, 0.4613201347265908, 0.3527742206732753, 0.1899553495933021, 0.35973401569168395, 0.17986700784584198, 0.35973401569168395, 0.38263896943402426, 0.3478536085763857, 0.3130682477187471, 0.4086129699552776, 0.2600264354260858, 0.29717306905838375, 0.6370366455300962, 0.20148135765603042, 0.15999990166802416, 0.37981455055022056, 0.22788873033013235, 0.37981455055022056, 0.4992096280836593, 0.4992096280836593, 0.16640320936121977, 0.5618105361643643, 0.23504318349733605, 0.2006466200587015, 0.618039773886205, 0.21143465948738593, 0.1724005685050993, 0.4030843771779477, 0.4030843771779477, 0.6225495625190168, 0.21815839370324522, 0.15962809295359406, 0.5555588370101783, 0.2570496111539631, 0.18656826616013447, 0.564799353151026, 0.21900383081366318, 0.21900383081366318, 0.5263300159941732, 0.27512705381513597, 0.20036426745232727, 0.3203909229102212, 0.3203909229102212, 0.3203909229102212, 0.6396205240404987, 0.2132068413468329, 0.14619897692354256, 0.4242432039207483, 0.4242432039207483, 0.4242432039207483, 0.6812273916987549, 0.14659323618833967, 0.18108576235030194, 0.3106079555572292, 0.3882599444465365, 0.2329559666679219, 0.6151224548907835, 0.2374156843438112, 0.15108270821878894, 0.7454234469505397, 0.1242372411584233, 0.1242372411584233, 0.6450008682313273, 0.6450008682313273, 0.6103217619448037, 0.30516088097240185, 0.30516088097240185, 0.2979128331925724, 0.5958256663851448, 0.2021236838015656, 0.5558401304543054, 0.252654604751957, 0.5491232279777011, 0.25841093081303584, 0.18842463705117196, 0.2448871304966498, 0.4897742609932996, 0.2448871304966498, 0.7304612368564055, 0.18261530921410138, 0.09130765460705069, 0.3015015346992861, 0.6030030693985722, 0.3015015346992861, 0.5559369291514356, 0.22807668888264024, 0.21382189582747524, 0.5918229149927599, 0.24316591069188925, 0.16628257128195367, 0.3054298699031657, 0.4581448048547485, 0.22907240242737426, 0.5952834961329615, 0.25597190333717346, 0.14882087403324037, 0.7061630423380639, 0.10088043461972342, 0.10088043461972342, 0.5683519921306568, 0.2712589053350862, 0.1550050887629064, 0.3696671887141869, 0.3696671887141869, 0.3696671887141869, 0.6606790486181037, 0.16737202564991957, 0.16737202564991957, 0.5785530069830439, 0.21231303008552072, 0.21231303008552072, 0.39636192299160256, 0.39636192299160256, 0.6669140578007845, 0.41918578700029757, 0.41918578700029757, 0.41918578700029757], \"Term\": [\"abap\", \"abap\", \"abap\", \"ability\", \"ability\", \"ability\", \"able\", \"able\", \"able\", \"accelerator\", \"accelerator\", \"accelerator\", \"accenture\", \"accenture\", \"accenture\", \"acronis\", \"acronis\", \"acronis\", \"advantage\", \"advantage\", \"advantage\", \"agencies\", \"agencies\", \"agencies\", \"aggregation\", \"aggregation\", \"aggregation\", \"agility\", \"agility\", \"agility\", \"aircraft\", \"aircraft\", \"aircraft\", \"application\", \"application\", \"application\", \"appreciate\", \"appreciate\", \"articulated\", \"articulated\", \"assessed\", \"assessed\", \"atlassian\", \"atlassian\", \"atlassian\", \"blackboardas\", \"blackboardas\", \"building\", \"building\", \"building\", \"business\", \"business\", \"business\", \"carried\", \"carried\", \"caufield\", \"caufield\", \"caufield\", \"cio\", \"cio\", \"citadele\", \"citadele\", \"citadele\", \"cloud\", \"cloud\", \"cloud\", \"comm\", \"comm\", \"company\", \"company\", \"company\", \"comprehend\", \"comprehend\", \"comprehend\", \"computernetwork\", \"computernetwork\", \"confluence\", \"confluence\", \"confluence\", \"corporate\", \"corporate\", \"corporate\", \"counselors\", \"counselors\", \"counselors\", \"coupled\", \"coupled\", \"coupled\", \"customer\", \"customer\", \"customer\", \"customers\", \"customers\", \"customers\", \"cyber\", \"cyber\", \"cyber\", \"danfoss\", \"danfoss\", \"danfoss\", \"data\", \"data\", \"data\", \"degree\", \"degree\", \"degree\", \"design\", \"design\", \"design\", \"detection\", \"detection\", \"detection\", \"development\", \"development\", \"development\", \"dialect\", \"dialect\", \"dialect\", \"diligentas\", \"diligentas\", \"diligentas\", \"directory\", \"directory\", \"directory\", \"district\", \"division\", \"division\", \"division\", \"egnos\", \"egnos\", \"egnos\", \"emissions\", \"emissions\", \"emissions\", \"employees\", \"employees\", \"employees\", \"employment\", \"employment\", \"employment\", \"encompasses\", \"encompasses\", \"encompasses\", \"end\", \"end\", \"end\", \"endpoint\", \"endpoint\", \"endpoint\", \"engineer\", \"engineer\", \"engineer\", \"english\", \"english\", \"english\", \"enthusiasm\", \"environment\", \"environment\", \"environment\", \"epicor\", \"epicor\", \"epicor\", \"erste\", \"erste\", \"erste\", \"events\", \"events\", \"events\", \"exact\", \"exact\", \"excellent\", \"excellent\", \"excellent\", \"excello\", \"excello\", \"experience\", \"experience\", \"experience\", \"expert\", \"expert\", \"expert\", \"fleet\", \"fleet\", \"fleet\", \"fortinet\", \"fortinet\", \"fortinet\", \"global\", \"global\", \"global\", \"gnss\", \"gnss\", \"gnss\", \"goalsmust\", \"goalsmust\", \"goalsmust\", \"hidden\", \"hidden\", \"hidden\", \"iaea\", \"iaea\", \"iaea\", \"idm\", \"idm\", \"idm\", \"incident\", \"incident\", \"incident\", \"including\", \"including\", \"including\", \"information\", \"information\", \"information\", \"infosphere\", \"infosphere\", \"infosphere\", \"infrastructure\", \"infrastructure\", \"infrastructure\", \"ingenuity\", \"ingenuity\", \"ingenuity\", \"injection\", \"injection\", \"insight\", \"insight\", \"insight\", \"insurance\", \"insurance\", \"insurance\", \"international\", \"international\", \"international\", \"interpreters\", \"interpreters\", \"interpreters\", \"itdb\", \"itdb\", \"itdb\", \"jira\", \"jira\", \"jira\", \"job\", \"job\", \"job\", \"johnson\", \"johnson\", \"johnson\", \"june\", \"june\", \"june\", \"knowledge\", \"knowledge\", \"knowledge\", \"lead\", \"lead\", \"lead\", \"level\", \"level\", \"level\", \"log\", \"log\", \"log\", \"logicstrategic\", \"logicstrategic\", \"mainly\", \"mainly\", \"mainly\", \"management\", \"management\", \"management\", \"must\", \"must\", \"must\", \"netskope\", \"netskope\", \"netskope\", \"network\", \"network\", \"network\", \"new\", \"new\", \"new\", \"nortal\", \"nortal\", \"nortal\", \"novartis\", \"novartis\", \"novartis\", \"novel\", \"novel\", \"novel\", \"nsns\", \"nsns\", \"nsns\", \"nuclear\", \"nuclear\", \"nuclear\", \"opportunities\", \"opportunities\", \"opportunities\", \"organization\", \"organization\", \"organization\", \"otherscurious\", \"otherscurious\", \"people\", \"people\", \"people\", \"policies\", \"policies\", \"policies\", \"powerpoint\", \"powerpoint\", \"practices\", \"practices\", \"practices\", \"prague\", \"prague\", \"prague\", \"process\", \"process\", \"process\", \"processes\", \"processes\", \"processes\", \"product\", \"product\", \"product\", \"professional\", \"professional\", \"professional\", \"programme\", \"programme\", \"programme\", \"protection\", \"protection\", \"protection\", \"quadron\", \"quadron\", \"questionnaires\", \"radioactive\", \"radioactive\", \"radioactive\", \"ravenpack\", \"ravenpack\", \"ravenpack\", \"recrur\", \"recrur\", \"reform\", \"reform\", \"reform\", \"refugees\", \"refugees\", \"refugees\", \"related\", \"related\", \"related\", \"required\", \"required\", \"required\", \"requirements\", \"requirements\", \"requirements\", \"resides\", \"retrieval\", \"retrieval\", \"risk\", \"risk\", \"risk\", \"role\", \"role\", \"role\", \"sae\", \"sae\", \"sae\", \"satisfy\", \"satisfy\", \"sdwan\", \"sdwan\", \"sdwan\", \"section\", \"section\", \"section\", \"secure\", \"secure\", \"secure\", \"security\", \"security\", \"security\", \"securityrelated\", \"securityrelated\", \"securityrelated\", \"selfeducate\", \"selfeducate\", \"services\", \"services\", \"services\", \"simultaneous\", \"simultaneous\", \"simultaneous\", \"skills\", \"skills\", \"skills\", \"sme\", \"sme\", \"sme\", \"software\", \"software\", \"software\", \"solutions\", \"solutions\", \"solutions\", \"specialist\", \"specialist\", \"specialist\", \"specification\", \"specification\", \"specification\", \"states\", \"states\", \"states\", \"strategies\", \"strategies\", \"strategies\", \"support\", \"support\", \"support\", \"synack\", \"synack\", \"synack\", \"synthetic\", \"synthetic\", \"synthetic\", \"system\", \"system\", \"system\", \"systems\", \"systems\", \"systems\", \"tasking\", \"tasking\", \"team\", \"team\", \"team\", \"teams\", \"teams\", \"teams\", \"technical\", \"technical\", \"technical\", \"technology\", \"technology\", \"technology\", \"temporary\", \"temporary\", \"temporary\", \"testing\", \"testing\", \"testing\", \"thereof\", \"thereof\", \"thereof\", \"threat\", \"threat\", \"threat\", \"title\", \"title\", \"title\", \"tools\", \"tools\", \"tools\", \"touch\", \"touch\", \"touch\", \"trackrecord\", \"trackrecord\", \"trafficking\", \"trafficking\", \"trafficking\", \"tribe\", \"tribe\", \"un\", \"un\", \"un\", \"understanding\", \"understanding\", \"understanding\", \"unhcr\", \"unhcr\", \"unhcr\", \"vectors\", \"vectors\", \"vectors\", \"visualize\", \"visualize\", \"visualize\", \"well\", \"well\", \"well\", \"work\", \"work\", \"work\", \"workflows\", \"workflows\", \"workflows\", \"working\", \"working\", \"working\", \"workloads\", \"workloads\", \"workloads\", \"world\", \"world\", \"world\", \"worldwork\", \"worldwork\", \"worldwork\", \"written\", \"written\", \"written\", \"years\", \"years\", \"years\", \"yrs\", \"yrs\", \"zendesk\", \"zoominfo\", \"zoominfo\", \"zoominfo\"]}, \"R\": 30, \"lambda.step\": 0.01, \"plot.opts\": {\"xlab\": \"PC1\", \"ylab\": \"PC2\"}, \"topic.order\": [3, 2, 1]};\n",
       "\n",
       "function LDAvis_load_lib(url, callback){\n",
       "  var s = document.createElement('script');\n",
       "  s.src = url;\n",
       "  s.async = true;\n",
       "  s.onreadystatechange = s.onload = callback;\n",
       "  s.onerror = function(){console.warn(\"failed to load library \" + url);};\n",
       "  document.getElementsByTagName(\"head\")[0].appendChild(s);\n",
       "}\n",
       "\n",
       "if(typeof(LDAvis) !== \"undefined\"){\n",
       "   // already loaded: just create the visualization\n",
       "   !function(LDAvis){\n",
       "       new LDAvis(\"#\" + \"ldavis_el1314025687032402243595811700\", ldavis_el1314025687032402243595811700_data);\n",
       "   }(LDAvis);\n",
       "}else if(typeof define === \"function\" && define.amd){\n",
       "   // require.js is available: use it to load d3/LDAvis\n",
       "   require.config({paths: {d3: \"https://d3js.org/d3.v5\"}});\n",
       "   require([\"d3\"], function(d3){\n",
       "      window.d3 = d3;\n",
       "      LDAvis_load_lib(\"https://cdn.jsdelivr.net/gh/bmabey/pyLDAvis@3.3.1/pyLDAvis/js/ldavis.v3.0.0.js\", function(){\n",
       "        new LDAvis(\"#\" + \"ldavis_el1314025687032402243595811700\", ldavis_el1314025687032402243595811700_data);\n",
       "      });\n",
       "    });\n",
       "}else{\n",
       "    // require.js not available: dynamically load d3 & LDAvis\n",
       "    LDAvis_load_lib(\"https://d3js.org/d3.v5.js\", function(){\n",
       "         LDAvis_load_lib(\"https://cdn.jsdelivr.net/gh/bmabey/pyLDAvis@3.3.1/pyLDAvis/js/ldavis.v3.0.0.js\", function(){\n",
       "                 new LDAvis(\"#\" + \"ldavis_el1314025687032402243595811700\", ldavis_el1314025687032402243595811700_data);\n",
       "            })\n",
       "         });\n",
       "}\n",
       "</script>"
      ],
      "text/plain": [
       "PreparedData(topic_coordinates=              x         y  topics  cluster      Freq\n",
       "topic                                               \n",
       "2     -0.006888 -0.000939       1        1  57.90446\n",
       "1      0.004792 -0.003129       2        1  23.94346\n",
       "0      0.002096  0.004067       3        1  18.15208, topic_info=            Term         Freq        Total Category  logprob  loglift\n",
       "339     security  2078.000000  2078.000000  Default  30.0000  30.0000\n",
       "136   experience   817.000000   817.000000  Default  29.0000  29.0000\n",
       "424         work   559.000000   559.000000  Default  28.0000  28.0000\n",
       "382   technology   334.000000   334.000000  Default  27.0000  27.0000\n",
       "381    technical   347.000000   347.000000  Default  26.0000  26.0000\n",
       "..           ...          ...          ...      ...      ...      ...\n",
       "696     software    44.966671   263.102601   Topic3  -5.7615  -0.0602\n",
       "426      working    50.377092   335.974374   Topic3  -5.6479  -0.1911\n",
       "67       company    43.946370   253.120051   Topic3  -5.7845  -0.0445\n",
       "582          new    43.548739   251.036515   Topic3  -5.7936  -0.0453\n",
       "128  environment    36.058203   218.571760   Topic3  -5.9823  -0.0956\n",
       "\n",
       "[275 rows x 6 columns], token_table=      Topic      Freq      Term\n",
       "term                           \n",
       "6982      1  0.419486      abap\n",
       "6982      2  0.419486      abap\n",
       "6982      3  0.419486      abap\n",
       "0         1  0.548075   ability\n",
       "0         2  0.294089   ability\n",
       "...     ...       ...       ...\n",
       "7162      2  0.396362       yrs\n",
       "3238      1  0.666914   zendesk\n",
       "6049      1  0.419186  zoominfo\n",
       "6049      2  0.419186  zoominfo\n",
       "6049      3  0.419186  zoominfo\n",
       "\n",
       "[531 rows x 3 columns], R=30, lambda_step=0.01, plot_opts={'xlab': 'PC1', 'ylab': 'PC2'}, topic_order=[3, 2, 1])"
      ]
     },
     "execution_count": 36,
     "metadata": {},
     "output_type": "execute_result"
    }
   ],
   "source": [
    "import pyLDAvis.gensim_models\n",
    "import pickle \n",
    "import os\n",
    "import pyLDAvis\n",
    "# Visualize the topics\n",
    "pyLDAvis.enable_notebook()\n",
    "num_topics = 7\n",
    "LDAvis_data_filepath = os.path.join('./'+str(num_topics))\n",
    "# # this is a bit time consuming - make the if statement True\n",
    "# # if you want to execute visualization prep yourself\n",
    "if 1 == 1:\n",
    "    LDAvis_prepared = pyLDAvis.gensim_models.prepare(lda_model, corpus, id2word)\n",
    "    with open(LDAvis_data_filepath, 'wb') as f:\n",
    "        pickle.dump(LDAvis_prepared, f)\n",
    "# load the pre-prepared pyLDAvis data from disk\n",
    "with open(LDAvis_data_filepath, 'rb') as f:\n",
    "    LDAvis_prepared = pickle.load(f)\n",
    "pyLDAvis.save_html(LDAvis_prepared, './'+ str(num_topics) +'.html')\n",
    "LDAvis_prepared"
   ]
  },
  {
   "cell_type": "code",
   "execution_count": null,
   "id": "178306bc-4ce5-4cad-9660-1ffd8807f610",
   "metadata": {},
   "outputs": [],
   "source": []
  }
 ],
 "metadata": {
  "kernelspec": {
   "display_name": "Python 3 (ipykernel)",
   "language": "python",
   "name": "python3"
  },
  "language_info": {
   "codemirror_mode": {
    "name": "ipython",
    "version": 3
   },
   "file_extension": ".py",
   "mimetype": "text/x-python",
   "name": "python",
   "nbconvert_exporter": "python",
   "pygments_lexer": "ipython3",
   "version": "3.8.8"
  }
 },
 "nbformat": 4,
 "nbformat_minor": 5
}
