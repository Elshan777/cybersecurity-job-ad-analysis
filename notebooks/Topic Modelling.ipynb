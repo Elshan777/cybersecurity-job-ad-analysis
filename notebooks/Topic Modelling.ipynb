{
 "cells": [
  {
   "cell_type": "code",
   "execution_count": 3,
   "id": "3ea87e27-5bfd-40cb-8857-86b245d4dbf4",
   "metadata": {},
   "outputs": [
    {
     "name": "stderr",
     "output_type": "stream",
     "text": [
      "C:\\Users\\elsha\\anaconda3\\lib\\site-packages\\seaborn\\rcmod.py:400: DeprecationWarning: distutils Version classes are deprecated. Use packaging.version instead.\n",
      "  if LooseVersion(mpl.__version__) >= \"3.0\":\n",
      "C:\\Users\\elsha\\anaconda3\\lib\\site-packages\\setuptools\\_distutils\\version.py:351: DeprecationWarning: distutils Version classes are deprecated. Use packaging.version instead.\n",
      "  other = LooseVersion(other)\n"
     ]
    }
   ],
   "source": [
    "import pandas as pd\n",
    "import matplotlib.pyplot as plt\n",
    "import seaborn as sns\n",
    "sns.set()\n",
    "import spacy\n",
    "import pyLDAvis.gensim_models\n",
    "pyLDAvis.enable_notebook()# Visualise inside a notebook\n",
    "import en_core_web_md\n",
    "from gensim.corpora.dictionary import Dictionary\n",
    "from gensim.models import LdaMulticore\n",
    "from gensim.models import CoherenceModel"
   ]
  },
  {
   "cell_type": "markdown",
   "id": "c1dcbc53-a42e-4b83-800e-7657d9e7d243",
   "metadata": {},
   "source": [
    "### Collecting the data (Step 1)"
   ]
  },
  {
   "cell_type": "code",
   "execution_count": 4,
   "id": "aacc38fa-972a-42ec-8043-f2a986e72819",
   "metadata": {},
   "outputs": [
    {
     "data": {
      "text/html": [
       "<div>\n",
       "<style scoped>\n",
       "    .dataframe tbody tr th:only-of-type {\n",
       "        vertical-align: middle;\n",
       "    }\n",
       "\n",
       "    .dataframe tbody tr th {\n",
       "        vertical-align: top;\n",
       "    }\n",
       "\n",
       "    .dataframe thead th {\n",
       "        text-align: right;\n",
       "    }\n",
       "</style>\n",
       "<table border=\"1\" class=\"dataframe\">\n",
       "  <thead>\n",
       "    <tr style=\"text-align: right;\">\n",
       "      <th></th>\n",
       "      <th>country</th>\n",
       "      <th>title</th>\n",
       "      <th>text</th>\n",
       "    </tr>\n",
       "  </thead>\n",
       "  <tbody>\n",
       "    <tr>\n",
       "      <th>0</th>\n",
       "      <td>AT</td>\n",
       "      <td>Inform</td>\n",
       "      <td>https://www.linkedin.com/company/global-blue/l...</td>\n",
       "    </tr>\n",
       "    <tr>\n",
       "      <th>1</th>\n",
       "      <td>AT</td>\n",
       "      <td>Architect</td>\n",
       "      <td>https://www.linkedin.com/jobs/view/2589036509/...</td>\n",
       "    </tr>\n",
       "    <tr>\n",
       "      <th>2</th>\n",
       "      <td>AT</td>\n",
       "      <td>Manager</td>\n",
       "      <td>www.linkedin.com/jobs/view/2540581439/\\n\\nInfo...</td>\n",
       "    </tr>\n",
       "    <tr>\n",
       "      <th>3</th>\n",
       "      <td>AT</td>\n",
       "      <td>Analyst</td>\n",
       "      <td>https://www.linkedin.com/jobs/view/2997674064\\...</td>\n",
       "    </tr>\n",
       "    <tr>\n",
       "      <th>4</th>\n",
       "      <td>AT</td>\n",
       "      <td>Engineer</td>\n",
       "      <td>https://www.linkedin.com/jobs/view/3020920801\\...</td>\n",
       "    </tr>\n",
       "  </tbody>\n",
       "</table>\n",
       "</div>"
      ],
      "text/plain": [
       "  country      title                                               text\n",
       "0      AT     Inform  https://www.linkedin.com/company/global-blue/l...\n",
       "1      AT  Architect  https://www.linkedin.com/jobs/view/2589036509/...\n",
       "2      AT    Manager  www.linkedin.com/jobs/view/2540581439/\\n\\nInfo...\n",
       "3      AT    Analyst  https://www.linkedin.com/jobs/view/2997674064\\...\n",
       "4      AT   Engineer  https://www.linkedin.com/jobs/view/3020920801\\..."
      ]
     },
     "execution_count": 4,
     "metadata": {},
     "output_type": "execute_result"
    }
   ],
   "source": [
    "df = pd.read_csv('../data/jobs.csv')\n",
    "df.head()"
   ]
  },
  {
   "cell_type": "code",
   "execution_count": null,
   "id": "9edb7502-06c0-4afb-9d24-d3b19c34ae4f",
   "metadata": {},
   "outputs": [],
   "source": []
  },
  {
   "cell_type": "markdown",
   "id": "6c2302e7-d79b-4d31-8b45-135629e52cde",
   "metadata": {},
   "source": [
    "### Preprocess the data (Step 2)"
   ]
  },
  {
   "cell_type": "code",
   "execution_count": 5,
   "id": "044a584c-5c0c-4272-86eb-15acdac6b941",
   "metadata": {},
   "outputs": [],
   "source": [
    "nlp = en_core_web_md.load()\n",
    "# Tags I want to remove from the text\n",
    "removal= ['ADV','PRON','CCONJ','PUNCT','PART','DET','ADP','SPACE', 'NUM', 'SYM']\n",
    "\n",
    "tokens = []\n",
    "for summary in nlp.pipe(df['text']):\n",
    "    proj_tok= [token.lemma_.lower() for token in summary if token.pos_ not in removal and not token.is_stop and token.is_alpha]\n",
    "    tokens.append(proj_tok)"
   ]
  },
  {
   "cell_type": "code",
   "execution_count": 8,
   "id": "cdeffc8e-e33f-40cd-b918-7967b10621ed",
   "metadata": {},
   "outputs": [
    {
     "data": {
      "text/plain": [
       "0      [information, technology, security, manager, g...\n",
       "1      [information, security, architect, copmany, sw...\n",
       "2      [information, technology, security, manager, c...\n",
       "3      [threat, detection, analyst, company, radar, c...\n",
       "4      [security, engineer, company, global, blue, lo...\n",
       "                             ...                        \n",
       "116    [cyber, security, incident, responder, company...\n",
       "117    [cybersecurity, professional, active, director...\n",
       "118    [cyber, security, developer, job, strong, inte...\n",
       "119    [cybersecurity, professional, active, director...\n",
       "120    [incident, response, engineer, curious, ikea, ...\n",
       "Name: tokens, Length: 121, dtype: object"
      ]
     },
     "execution_count": 8,
     "metadata": {},
     "output_type": "execute_result"
    }
   ],
   "source": [
    "df['tokens'] = tokens\n",
    "df['tokens']"
   ]
  },
  {
   "cell_type": "code",
   "execution_count": null,
   "id": "90477ac4-7c24-4c29-906b-9c99ce3143ef",
   "metadata": {},
   "outputs": [],
   "source": []
  },
  {
   "cell_type": "markdown",
   "id": "eed5075e-ad99-4e01-b6bd-5a5eb35fd943",
   "metadata": {},
   "source": [
    "### Create dictionary and corpus (Step 3)"
   ]
  },
  {
   "cell_type": "code",
   "execution_count": 9,
   "id": "15c6ff02-2179-4cb3-8d3f-af450cf376d8",
   "metadata": {},
   "outputs": [],
   "source": [
    "dictionary = Dictionary(df['tokens'])"
   ]
  },
  {
   "cell_type": "code",
   "execution_count": 14,
   "id": "6170de08-22e3-4a93-bea7-c548f4c68acf",
   "metadata": {},
   "outputs": [],
   "source": [
    "dictionary.filter_extremes(no_below=5, no_above=0.5, keep_n=1000)"
   ]
  },
  {
   "cell_type": "markdown",
   "id": "8859c257-90d7-4852-af19-6bc5e12f65ad",
   "metadata": {},
   "source": [
    "We are now ready to construct the corpus using the dictionary from above and the doc2bow function. The function doc2bow() simply counts the number of occurrences of each distinct word, converts the word to its integer word id and returns the result as a sparse vector:\n"
   ]
  },
  {
   "cell_type": "code",
   "execution_count": 15,
   "id": "1bb613b0-f56a-4ebe-86fb-54d5b794e396",
   "metadata": {},
   "outputs": [],
   "source": [
    "corpus = [dictionary.doc2bow(doc) for doc in df['tokens']]"
   ]
  },
  {
   "cell_type": "code",
   "execution_count": null,
   "id": "887b0d74-ba85-496a-9a33-325a0bd811b3",
   "metadata": {},
   "outputs": [],
   "source": []
  },
  {
   "cell_type": "markdown",
   "id": "70a200fe-adbf-40fe-b02c-16afb3b90f4f",
   "metadata": {},
   "source": [
    "### Model building (Step 4)"
   ]
  },
  {
   "cell_type": "code",
   "execution_count": 16,
   "id": "d2236fe9-8581-4954-b72b-db656d046ce7",
   "metadata": {},
   "outputs": [],
   "source": [
    "lda_model = LdaMulticore(corpus=corpus, id2word=dictionary, iterations=50, num_topics=10, workers = 4, passes=10)"
   ]
  },
  {
   "cell_type": "code",
   "execution_count": null,
   "id": "70d22be1-723c-4702-b796-914a142d17ad",
   "metadata": {},
   "outputs": [],
   "source": []
  },
  {
   "cell_type": "markdown",
   "id": "45ef2bc2-131d-46bf-a8b8-20e0ec5a8b0f",
   "metadata": {},
   "source": [
    "#### Calculating the coherence score using C_umass"
   ]
  },
  {
   "cell_type": "code",
   "execution_count": 17,
   "id": "088e755e-f2e8-42c7-98ad-8c941626ada1",
   "metadata": {},
   "outputs": [
    {
     "data": {
      "image/png": "[encoded data removed]",
      "text/plain": [
       "<Figure size 432x288 with 1 Axes>"
      ]
     },
     "metadata": {},
     "output_type": "display_data"
    }
   ],
   "source": [
    "topics = []\n",
    "score = []\n",
    "for i in range(1,20,1):\n",
    "   lda_model = LdaMulticore(corpus=corpus, id2word=dictionary, iterations=10, num_topics=i, workers = 4, passes=10, random_state=100)\n",
    "   cm = CoherenceModel(model=lda_model, corpus=corpus, dictionary=dictionary, coherence='u_mass')\n",
    "   topics.append(i)\n",
    "   score.append(cm.get_coherence())\n",
    "_=plt.plot(topics, score)\n",
    "_=plt.xlabel('Number of Topics')\n",
    "_=plt.ylabel('Coherence Score')\n",
    "plt.show()"
   ]
  },
  {
   "cell_type": "code",
   "execution_count": null,
   "id": "cd9bd60d-9533-4486-96dc-6037e076392e",
   "metadata": {},
   "outputs": [],
   "source": []
  },
  {
   "cell_type": "markdown",
   "id": "6f83b489-f23f-4130-a146-bdb2f604e837",
   "metadata": {},
   "source": [
    "#### Calculating the coherence score using C_v:"
   ]
  },
  {
   "cell_type": "code",
   "execution_count": 19,
   "id": "4182965e-3b78-407d-ab82-60c8d70fec8c",
   "metadata": {},
   "outputs": [
    {
     "data": {
      "image/png": "[encoded data removed]",
      "text/plain": [
       "<Figure size 432x288 with 1 Axes>"
      ]
     },
     "metadata": {},
     "output_type": "display_data"
    }
   ],
   "source": [
    "topics = []\n",
    "score = []\n",
    "for i in range(1,20,1):\n",
    "   lda_model = LdaMulticore(corpus=corpus, id2word=dictionary, iterations=10, num_topics=i, workers = 4, passes=10, random_state=100)\n",
    "   cm = CoherenceModel(model=lda_model, texts = df['tokens'], corpus=corpus, dictionary=dictionary, coherence='c_v')\n",
    "   topics.append(i)\n",
    "   score.append(cm.get_coherence())\n",
    "_=plt.plot(topics, score)\n",
    "_=plt.xlabel('Number of Topics')\n",
    "_=plt.ylabel('Coherence Score')\n",
    "plt.show()"
   ]
  },
  {
   "cell_type": "code",
   "execution_count": 34,
   "id": "13b16dd5-dfe8-4b74-a92f-2c70b0459028",
   "metadata": {},
   "outputs": [],
   "source": [
    "lda_model = LdaMulticore(corpus=corpus, id2word=dictionary, iterations=100, num_topics=5, workers = 4, passes=100)"
   ]
  },
  {
   "cell_type": "code",
   "execution_count": 35,
   "id": "c75880fc-784d-4450-ae97-fd3cc18291cc",
   "metadata": {},
   "outputs": [
    {
     "data": {
      "text/plain": [
       "[(0,\n",
       "  '0.016*\"product\" + 0.013*\"strong\" + 0.011*\"design\" + 0.010*\"software\" + 0.010*\"new\" + 0.009*\"developer\" + 0.009*\"expect\" + 0.008*\"tool\" + 0.008*\"infrastructure\" + 0.008*\"quality\"'),\n",
       " (1,\n",
       "  '0.024*\"incident\" + 0.020*\"threat\" + 0.016*\"response\" + 0.013*\"cloud\" + 0.013*\"analysis\" + 0.011*\"computer\" + 0.010*\"understanding\" + 0.008*\"detection\" + 0.008*\"cyber\" + 0.008*\"able\"'),\n",
       " (2,\n",
       "  '0.027*\"application\" + 0.027*\"testing\" + 0.026*\"vulnerability\" + 0.022*\"software\" + 0.020*\"penetration\" + 0.017*\"engineer\" + 0.014*\"code\" + 0.013*\"tool\" + 0.011*\"web\" + 0.009*\"engineering\"'),\n",
       " (3,\n",
       "  '0.015*\"infrastructure\" + 0.012*\"design\" + 0.012*\"service\" + 0.010*\"new\" + 0.009*\"include\" + 0.009*\"professional\" + 0.008*\"cyber\" + 0.008*\"implementation\" + 0.008*\"tool\" + 0.007*\"engineer\"'),\n",
       " (4,\n",
       "  '0.017*\"risk\" + 0.011*\"cyber\" + 0.011*\"customer\" + 0.010*\"compliance\" + 0.010*\"control\" + 0.009*\"service\" + 0.008*\"requirement\" + 0.008*\"relate\" + 0.008*\"location\" + 0.007*\"services\"')]"
      ]
     },
     "execution_count": 35,
     "metadata": {},
     "output_type": "execute_result"
    }
   ],
   "source": [
    "lda_model.print_topics()"
   ]
  },
  {
   "cell_type": "code",
   "execution_count": null,
   "id": "62e38e85-8b9e-4193-a551-b3e249a0876d",
   "metadata": {},
   "outputs": [],
   "source": []
  },
  {
   "cell_type": "code",
   "execution_count": 26,
   "id": "1dbdcfed-511a-4103-b28a-07fb631531ca",
   "metadata": {},
   "outputs": [
    {
     "data": {
      "text/plain": [
       "'https://www.linkedin.com/jobs/view/2589036509/\\n\\nInformation Security Architect\\n\\nCopmany: SWAROVSKI  \\nLocation: Wattens, Tyrol, Austria\\nEmployment Type: Full-time\\nIndustry: Luxury Goods & Jewelry\\nSize: 10,001+ employees\\n\\n\\nReference Number R-57255\\n\\nYou will be part of an international team, based in Wattens/Austria, and will be responsible to coordinate the overall Information Security Program and to oversee the evolution of the information security policies and controls. This includes ensuring a coordinated execution and evolution of the Information Security Program, in line with the information security strategic objectives.\\n\\nAbout The Job\\n\\n\\ncoordinate the Information Security Program\\ndefine the information security policy and control framework, and oversee corporate-wide information security policies, controls and services, and their evolution\\ndefine an overall reporting framework and KPIs for the Information Security Program\\ndefine the Information Security Awareness Program and oversee information security awareness initiatives\\nmanage Information Security Management processes\\nperform information security risk assessment and consulting activities\\nYou can watch this video for insight into the working environment. https //youtu.be/6d-pYXoC6w8WHAT\\n\\nAbout You\\n\\nWe are looking for a unique and amazing talent, who brings along the following\\n\\n\\nAt least 5 years of experience in the information security field\\nSolid know-how about information security management frameworks (e.g. ISO 27000, NIST CSF)\\nIdeally experience with managing a security program, policies and/or controls\\nSecurity certifications such as CISM are beneficial\\nAbility to translate security topics into business language and to communicate to stakeholders in business and IT\\nStrong lateral leadership skills\\nFluency in English; fluency in German is an advantage\\n\\nAbout Our Offer\\n\\n\\nAn environment in which you can develop yourself and contribute ideas.\\nExperience in an international organization with truly global challenges\\nWorking at the founding location in Wattens, Tyrol, where our heritage, technology and creativity as well as nature are combined in a unique working world with hundreds of professional fields, you will immerse yourself and write the next chapter of this innovative company with your colleagues.\\nFlexible working hours with no core hours to help you perform in the way that best supports you and the Swarovski company.\\nThe annual basic salary is at least 32,546,64 euros gross for this position. We will then clarify your actual salary personally and take your qualifications and experience into account.\\n\\nAs required by law, we advise that the collectively agreed base monthly salary for this position is set at a minimum of â\\x82¬ 32,546,64 gross. Our actual salaries are market competitive and take individual qualifications and experience into account.'"
      ]
     },
     "execution_count": 26,
     "metadata": {},
     "output_type": "execute_result"
    }
   ],
   "source": [
    "df['text'][1]"
   ]
  },
  {
   "cell_type": "code",
   "execution_count": 27,
   "id": "bc9fe846-3542-4192-ae33-e9a8d7b477ab",
   "metadata": {},
   "outputs": [
    {
     "data": {
      "text/plain": [
       "[(0, 0.9949639)]"
      ]
     },
     "execution_count": 27,
     "metadata": {},
     "output_type": "execute_result"
    }
   ],
   "source": [
    "lda_model[corpus][1]"
   ]
  },
  {
   "cell_type": "code",
   "execution_count": null,
   "id": "e7cd5bed-adf7-4f29-9cf2-f41eddad2a01",
   "metadata": {},
   "outputs": [],
   "source": []
  },
  {
   "cell_type": "code",
   "execution_count": null,
   "id": "ec8a1cc5-079d-449c-b1e7-c87466abc027",
   "metadata": {},
   "outputs": [],
   "source": []
  },
  {
   "cell_type": "code",
   "execution_count": 28,
   "id": "69faee80-397a-4b85-81ee-ed449fdd90c1",
   "metadata": {},
   "outputs": [
    {
     "name": "stderr",
     "output_type": "stream",
     "text": [
      "C:\\Users\\elsha\\anaconda3\\lib\\site-packages\\pyLDAvis\\_prepare.py:246: FutureWarning: In a future version of pandas all arguments of DataFrame.drop except for the argument 'labels' will be keyword-only\n",
      "  default_term_info = default_term_info.sort_values(\n"
     ]
    },
    {
     "data": {
      "text/html": [
       "\n",
       "<link rel=\"stylesheet\" type=\"text/css\" href=\"https://cdn.jsdelivr.net/gh/bmabey/pyLDAvis@3.3.1/pyLDAvis/js/ldavis.v1.0.0.css\">\n",
       "\n",
       "\n",
       "<div id=\"ldavis_el114162515017437696721229271\"></div>\n",
       "<script type=\"text/javascript\">\n",
       "\n",
       "var ldavis_el114162515017437696721229271_data = {\"mdsDat\": {\"x\": [0.0773347094315783, -0.0773347094315783], \"y\": [0.0, 0.0], \"topics\": [1, 2], \"cluster\": [1, 1], \"Freq\": [55.354680710574165, 44.64531928942583]}, \"tinfo\": {\"Term\": [\"testing\", \"cloud\", \"tool\", \"cybersecurity\", \"engineer\", \"risk\", \"automation\", \"linux\", \"cyber\", \"code\", \"application\", \"penetration\", \"software\", \"firewall\", \"web\", \"aws\", \"etc\", \"research\", \"infrastructure\", \"windows\", \"audit\", \"azure\", \"python\", \"test\", \"implement\", \"prague\", \"malware\", \"log\", \"developer\", \"stakeholder\", \"cybersecurity\", \"prague\", \"audit\", \"stakeholder\", \"governance\", \"bring\", \"department\", \"cooperation\", \"creation\", \"contract\", \"flexible\", \"regular\", \"university\", \"dss\", \"definition\", \"contribution\", \"solutions\", \"continuity\", \"free\", \"law\", \"european\", \"player\", \"accord\", \"austria\", \"important\", \"term\", \"country\", \"compensation\", \"regulation\", \"owner\", \"specific\", \"audits\", \"reporting\", \"risk\", \"employee\", \"cyber\", \"compliance\", \"travel\", \"control\", \"manager\", \"salary\", \"incident\", \"analyst\", \"requirement\", \"benefit\", \"applicant\", \"global\", \"program\", \"ensure\", \"response\", \"position\", \"location\", \"require\", \"professional\", \"international\", \"organization\", \"opportunity\", \"customer\", \"strong\", \"degree\", \"relevant\", \"communication\", \"service\", \"senior\", \"relate\", \"computer\", \"maintain\", \"manage\", \"product\", \"ability\", \"services\", \"include\", \"new\", \"testing\", \"linux\", \"automation\", \"code\", \"web\", \"aws\", \"python\", \"malware\", \"source\", \"azure\", \"log\", \"automate\", \"deploy\", \"owasp\", \"scripting\", \"method\", \"deployment\", \"ip\", \"programming\", \"troubleshooting\", \"cloud\", \"cd\", \"ci\", \"firewall\", \"iam\", \"anti\", \"gcp\", \"wan\", \"scale\", \"powershell\", \"firewalls\", \"tool\", \"penetration\", \"prevention\", \"research\", \"cisco\", \"device\", \"engineer\", \"developer\", \"etc\", \"public\", \"windows\", \"application\", \"software\", \"test\", \"protocol\", \"implement\", \"infrastructure\", \"engineering\", \"vulnerability\", \"design\", \"threat\", \"understanding\", \"analysis\", \"expect\", \"service\", \"include\", \"practice\", \"ability\", \"product\", \"new\", \"perform\", \"standard\", \"need\"], \"Freq\": [78.0, 92.0, 102.0, 84.0, 100.0, 118.0, 42.0, 40.0, 123.0, 37.0, 100.0, 45.0, 111.0, 35.0, 31.0, 31.0, 49.0, 39.0, 98.0, 39.0, 37.0, 25.0, 24.0, 50.0, 66.0, 33.0, 23.0, 23.0, 32.0, 34.0, 83.47129646739388, 32.966303780154284, 36.594069881476365, 33.69085524695183, 21.49109417164098, 20.44255998687989, 21.319080781790024, 15.75759777057263, 14.799151706722434, 14.765357139867119, 23.989846347716124, 15.635096540403794, 12.870245731340367, 14.707960892643896, 12.858011569835186, 11.921573283282854, 11.907412499872136, 11.905666850035903, 12.798085085792032, 10.966970346792657, 10.9650032590828, 14.595693014766788, 10.942185041648479, 11.852284585790906, 11.848978754388229, 10.014762761108003, 10.00051092963757, 9.996468845406348, 10.893562005611212, 9.07777481404703, 17.235893409832094, 19.899715718167467, 17.187070292873486, 108.62738528032861, 29.654157463903562, 110.51888286771984, 60.03353857657638, 13.550666990429956, 72.52112392559327, 29.740864442053752, 28.121769160723314, 91.25108114976705, 43.378924081207046, 74.81390290959452, 25.45711842744956, 26.97445345142388, 46.38033573420756, 35.00372105791269, 53.627199262326926, 52.97212083724099, 40.18589785236445, 50.14062959276814, 44.61501951707779, 61.239747767858766, 34.33132102047884, 41.52497876022203, 47.764477563272386, 65.29074796463286, 63.78421506231095, 44.245611685668145, 39.453147563992225, 50.047292967010684, 72.34401409249861, 47.9071869664971, 50.32509520984755, 49.08351890559208, 47.4698955002454, 45.28922927520472, 52.4014046217551, 51.625589725188604, 47.116129950304526, 43.60155344795788, 42.55594853780929, 77.88520766903125, 40.15480597318004, 41.99038864076041, 37.30245131087803, 30.620761704041865, 30.604900139252923, 24.061194179193542, 23.10864085178955, 20.297325359290113, 24.90832104516029, 23.043560931239764, 22.082993415865133, 15.562847717907667, 15.54341965815532, 21.024598412307764, 15.510867912309884, 12.733195690804827, 14.546384867767246, 16.323524704179395, 11.782586982540767, 88.40468882055882, 9.896355372251856, 9.89396380801356, 34.168004484668415, 9.885826324843375, 9.874148637597926, 8.97036944060346, 9.864059282629011, 11.655652761441143, 10.75484443480638, 10.752970529089717, 93.96950886228716, 42.3744713190002, 11.63438433951907, 36.59301798533619, 16.864366349656596, 21.77326862194113, 86.6816529121896, 29.034563522359523, 43.071455455717064, 27.27101063562112, 34.99272244811727, 77.55305765410706, 82.95997280850807, 41.11015520055026, 24.377212467788606, 50.64478693505099, 69.9273946152237, 62.288074819825674, 63.3058404288025, 64.56939864440815, 62.89153229502639, 55.8160595788095, 51.53783944968475, 29.29067484929173, 56.14737916430144, 46.736630094711515, 36.43021755332092, 45.422622384514234, 44.655407126337046, 42.0954796667283, 36.21902738181236, 36.97698824736463, 36.42249347170216], \"Total\": [78.0, 92.0, 102.0, 84.0, 100.0, 118.0, 42.0, 40.0, 123.0, 37.0, 100.0, 45.0, 111.0, 35.0, 31.0, 31.0, 49.0, 39.0, 98.0, 39.0, 37.0, 25.0, 24.0, 50.0, 66.0, 33.0, 23.0, 23.0, 32.0, 34.0, 84.15982270074137, 33.46946333026955, 37.292654136040305, 34.42294083571103, 21.991860061046264, 21.03408060560596, 21.9894829041109, 16.25312763695629, 15.296625682293456, 15.296102461023589, 24.856564798226525, 16.25137756627848, 13.383430439061913, 15.295277519030591, 13.383243283786857, 12.427085867886555, 12.42686373143984, 12.426833845361658, 13.382382283001922, 11.47064744210676, 11.470615624406356, 15.293844092951801, 11.470260931076494, 12.426056361921715, 12.426014963575826, 10.514247309684894, 10.514015830912724, 10.513954663101474, 11.469558251521002, 9.558104807434177, 18.16060615989324, 21.027690350444164, 18.16003430197402, 118.48951444913529, 31.540261132758385, 123.23979527426967, 68.7657578997583, 14.33632592991199, 85.92974250509397, 33.43293805929818, 31.523248911430997, 115.45916161441065, 51.55553171927176, 94.46790655460644, 28.65611459688884, 30.564668462067985, 56.318122826419376, 41.05818350692346, 67.74883488739749, 66.79568759765662, 48.68254265858009, 62.98086455501019, 55.35268330977653, 83.91287552471461, 41.99657904348183, 53.426689756920446, 63.900346973739346, 98.14568758474759, 98.12896321553178, 61.023727603746636, 52.45784019078465, 74.33010482789811, 128.49139325680005, 71.46879806294463, 79.0624774116724, 79.9945573989939, 76.19324018096874, 69.54803120914482, 97.05681174809214, 97.04821210970283, 78.08102668793255, 90.3381835426694, 84.6514282045376, 78.51154364077897, 40.676447987011784, 42.56855179367045, 37.83895544514219, 31.21839807686219, 31.218529497179432, 24.596939509373627, 23.651130588068835, 20.81339587819622, 25.54356982106823, 23.651643172077613, 22.70589084804289, 16.084139238861397, 16.084253528101705, 21.761141667303384, 16.084483123308175, 13.246521209064966, 15.138783237281888, 17.031559027249212, 12.300689538177723, 92.74017092800739, 10.408941897811282, 10.408956749246897, 35.960556998228846, 10.40899701171164, 10.409071268469928, 9.462998702169715, 10.409136582284347, 12.301652374214768, 11.35540446198861, 11.355423948445814, 102.24236375001267, 45.43312550537004, 12.301876422863707, 39.75912152773158, 17.981679966952182, 23.6653900571489, 100.41119786655285, 32.192104612966446, 49.251109268357965, 30.298982468905166, 39.777054067175584, 100.51359557031316, 111.9305908982894, 50.22957382343999, 27.462074163716853, 66.38258905896176, 98.68621018900923, 89.2072295015501, 91.1087480439086, 100.65926685219462, 103.5475034113398, 90.23632218907693, 86.45843475312932, 35.05864080931241, 128.49139325680005, 90.3381835426694, 55.06442369207964, 97.04821210970283, 97.05681174809214, 84.6514282045376, 57.93620175407233, 77.05709949484341, 71.32450148236377], \"Category\": [\"Default\", \"Default\", \"Default\", \"Default\", \"Default\", \"Default\", \"Default\", \"Default\", \"Default\", \"Default\", \"Default\", \"Default\", \"Default\", \"Default\", \"Default\", \"Default\", \"Default\", \"Default\", \"Default\", \"Default\", \"Default\", \"Default\", \"Default\", \"Default\", \"Default\", \"Default\", \"Default\", \"Default\", \"Default\", \"Default\", \"Topic1\", \"Topic1\", \"Topic1\", \"Topic1\", \"Topic1\", \"Topic1\", \"Topic1\", \"Topic1\", \"Topic1\", \"Topic1\", \"Topic1\", \"Topic1\", \"Topic1\", \"Topic1\", \"Topic1\", \"Topic1\", \"Topic1\", \"Topic1\", \"Topic1\", \"Topic1\", \"Topic1\", \"Topic1\", \"Topic1\", \"Topic1\", \"Topic1\", \"Topic1\", \"Topic1\", \"Topic1\", \"Topic1\", \"Topic1\", \"Topic1\", \"Topic1\", \"Topic1\", \"Topic1\", \"Topic1\", \"Topic1\", \"Topic1\", \"Topic1\", \"Topic1\", \"Topic1\", \"Topic1\", \"Topic1\", \"Topic1\", \"Topic1\", \"Topic1\", \"Topic1\", \"Topic1\", \"Topic1\", \"Topic1\", \"Topic1\", \"Topic1\", \"Topic1\", \"Topic1\", \"Topic1\", \"Topic1\", \"Topic1\", \"Topic1\", \"Topic1\", \"Topic1\", \"Topic1\", \"Topic1\", \"Topic1\", \"Topic1\", \"Topic1\", \"Topic1\", \"Topic1\", \"Topic1\", \"Topic1\", \"Topic1\", \"Topic1\", \"Topic1\", \"Topic1\", \"Topic1\", \"Topic2\", \"Topic2\", \"Topic2\", \"Topic2\", \"Topic2\", \"Topic2\", \"Topic2\", \"Topic2\", \"Topic2\", \"Topic2\", \"Topic2\", \"Topic2\", \"Topic2\", \"Topic2\", \"Topic2\", \"Topic2\", \"Topic2\", \"Topic2\", \"Topic2\", \"Topic2\", \"Topic2\", \"Topic2\", \"Topic2\", \"Topic2\", \"Topic2\", \"Topic2\", \"Topic2\", \"Topic2\", \"Topic2\", \"Topic2\", \"Topic2\", \"Topic2\", \"Topic2\", \"Topic2\", \"Topic2\", \"Topic2\", \"Topic2\", \"Topic2\", \"Topic2\", \"Topic2\", \"Topic2\", \"Topic2\", \"Topic2\", \"Topic2\", \"Topic2\", \"Topic2\", \"Topic2\", \"Topic2\", \"Topic2\", \"Topic2\", \"Topic2\", \"Topic2\", \"Topic2\", \"Topic2\", \"Topic2\", \"Topic2\", \"Topic2\", \"Topic2\", \"Topic2\", \"Topic2\", \"Topic2\", \"Topic2\", \"Topic2\", \"Topic2\"], \"logprob\": [30.0, 29.0, 28.0, 27.0, 26.0, 25.0, 24.0, 23.0, 22.0, 21.0, 20.0, 19.0, 18.0, 17.0, 16.0, 15.0, 14.0, 13.0, 12.0, 11.0, 10.0, 9.0, 8.0, 7.0, 6.0, 5.0, 4.0, 3.0, 2.0, 1.0, -4.7508, -5.6798, -5.5754, -5.6581, -6.1076, -6.1577, -6.1157, -6.418, -6.4807, -6.483, -5.9977, -6.4258, -6.6204, -6.4869, -6.6213, -6.6969, -6.6981, -6.6983, -6.626, -6.7804, -6.7806, -6.4946, -6.7827, -6.7028, -6.703, -6.8712, -6.8726, -6.8731, -6.7871, -6.9695, -6.3283, -6.1846, -6.3311, -4.4874, -5.7857, -4.4701, -5.0804, -6.5688, -4.8914, -5.7828, -5.8387, -4.6617, -5.4053, -4.8603, -5.9383, -5.8804, -5.3384, -5.6198, -5.1932, -5.2055, -5.4818, -5.2605, -5.3772, -5.0605, -5.6392, -5.449, -5.309, -4.9964, -5.0198, -5.3855, -5.5002, -5.2623, -4.8939, -5.306, -5.2568, -5.2818, -5.3152, -5.3622, -5.2164, -5.2313, -5.3227, -5.4002, -5.4245, -4.605, -5.2675, -5.2228, -5.3412, -5.5386, -5.5391, -5.7797, -5.8201, -5.9498, -5.7451, -5.8229, -5.8655, -6.2154, -6.2166, -5.9146, -6.2187, -6.4161, -6.2829, -6.1677, -6.4937, -4.4783, -6.6681, -6.6683, -5.429, -6.6692, -6.6704, -6.7663, -6.6714, -6.5045, -6.5849, -6.5851, -4.4173, -5.2137, -6.5063, -5.3604, -6.1351, -5.8796, -4.498, -5.5918, -5.1974, -5.6544, -5.4051, -4.6093, -4.5419, -5.244, -5.7666, -5.0354, -4.7128, -4.8285, -4.8123, -4.7925, -4.8189, -4.9382, -5.018, -5.583, -4.9323, -5.1157, -5.3649, -5.1443, -5.1613, -5.2203, -5.3707, -5.35, -5.3651], \"loglift\": [30.0, 29.0, 28.0, 27.0, 26.0, 25.0, 24.0, 23.0, 22.0, 21.0, 20.0, 19.0, 18.0, 17.0, 16.0, 15.0, 14.0, 13.0, 12.0, 11.0, 10.0, 9.0, 8.0, 7.0, 6.0, 5.0, 4.0, 3.0, 2.0, 1.0, 0.5832, 0.5763, 0.5725, 0.5699, 0.5684, 0.5629, 0.5604, 0.5604, 0.5583, 0.5561, 0.5559, 0.5527, 0.5523, 0.5523, 0.5514, 0.5499, 0.5487, 0.5486, 0.5468, 0.5465, 0.5463, 0.5447, 0.5443, 0.5441, 0.5439, 0.5427, 0.5413, 0.5409, 0.5399, 0.5398, 0.5391, 0.5363, 0.5363, 0.5045, 0.5297, 0.4825, 0.4556, 0.535, 0.4218, 0.4744, 0.4772, 0.3561, 0.4187, 0.3582, 0.473, 0.4665, 0.3973, 0.4319, 0.3577, 0.3595, 0.3996, 0.3634, 0.3758, 0.2764, 0.3899, 0.3394, 0.3004, 0.1838, 0.1606, 0.2699, 0.3065, 0.1959, 0.017, 0.1914, 0.1397, 0.103, 0.1182, 0.1625, -0.025, -0.0398, 0.0863, -0.1371, -0.0963, 0.7984, 0.7935, 0.7927, 0.7921, 0.7871, 0.7866, 0.7844, 0.7832, 0.7813, 0.7812, 0.7804, 0.7786, 0.7735, 0.7722, 0.772, 0.7701, 0.7669, 0.7665, 0.764, 0.7634, 0.7585, 0.7559, 0.7557, 0.7553, 0.7549, 0.7537, 0.753, 0.7526, 0.7525, 0.7521, 0.7519, 0.722, 0.7367, 0.7506, 0.7234, 0.7423, 0.7231, 0.6594, 0.7032, 0.6723, 0.7011, 0.6783, 0.5471, 0.5069, 0.6061, 0.6873, 0.5358, 0.4619, 0.4472, 0.4423, 0.3624, 0.3078, 0.3261, 0.2891, 0.6267, -0.0215, 0.1474, 0.3933, 0.0472, 0.0301, 0.1078, 0.3367, 0.0722, 0.1344]}, \"token.table\": {\"Topic\": [1, 2, 1, 2, 1, 2, 1, 2, 1, 2, 1, 2, 1, 2, 1, 2, 1, 2, 1, 2, 1, 2, 1, 2, 1, 2, 1, 2, 1, 2, 1, 2, 1, 2, 1, 2, 1, 2, 1, 2, 1, 2, 1, 2, 1, 2, 1, 2, 1, 2, 1, 2, 1, 2, 1, 2, 1, 2, 1, 1, 2, 1, 1, 2, 1, 2, 1, 2, 1, 2, 1, 2, 1, 2, 1, 2, 1, 2, 1, 2, 1, 2, 1, 2, 1, 2, 1, 2, 1, 2, 1, 2, 1, 2, 1, 2, 1, 2, 1, 2, 1, 2, 1, 2, 1, 2, 1, 2, 2, 1, 2, 1, 2, 1, 2, 1, 2, 1, 2, 1, 2, 1, 2, 1, 2, 1, 2, 1, 2, 1, 2, 1, 2, 1, 2, 1, 2, 1, 2, 1, 2, 1, 2, 1, 2, 1, 2, 1, 2, 1, 2, 1, 2, 1, 2, 1, 2, 1, 1, 2, 1, 2, 1, 2, 1, 2, 1, 2, 1, 2, 1, 2, 1, 2, 1, 2, 1, 2, 1, 2, 1, 2, 1, 2, 1, 2, 1, 2, 1, 2, 1, 2, 1, 2, 1, 2, 1, 2, 1, 2, 1, 2, 1, 2, 1, 2, 1, 2, 1, 2, 1, 2, 1, 2, 1, 2, 1, 2, 1, 2, 1, 2, 1, 2, 1, 2, 1, 2, 1, 2, 1, 2, 1, 2, 1, 1, 2, 1, 2, 1, 2, 1, 2, 1, 2, 1, 2, 1, 2, 1, 2, 1, 2, 1, 2, 1, 2, 1, 2], \"Freq\": [0.5358161564194449, 0.46368705843990426, 0.9590017233346095, 0.08718197484860087, 0.4048188022364491, 0.6014450776084387, 0.834052109755011, 0.155172485535816, 0.09607005026750999, 0.9607005026751, 0.8833729059913774, 0.13087006014687072, 0.22882476613733918, 0.776014424291846, 0.9921524991229445, 0.026814932408728228, 0.9511268078749098, 0.04755634039374549, 0.965712664620827, 0.08047605538506893, 0.04404143429968941, 0.968911554593167, 0.023491520332826796, 0.9866438539787254, 0.03203225828078639, 0.993000006704378, 0.039148795841965844, 0.978719896049146, 0.8724141549431903, 0.10468969859318285, 0.950837850962197, 0.04754189254810985, 0.0960712443029654, 0.9607124430296541, 0.09607110722910357, 0.9607110722910357, 0.055612156474693156, 0.9454066600697837, 0.043131255420104105, 0.9488876192422904, 0.026427790837137952, 0.9778282609741042, 0.6726749560728944, 0.3228839789149893, 0.9511169032423938, 0.09511169032423938, 0.8725272844002333, 0.130879092660035, 0.6125416727490547, 0.3875263643922591, 0.9656522449182843, 0.08047102040985701, 0.9806419666854288, 0.06537613111236193, 0.9656326613956849, 0.08046938844964041, 0.8495312318161842, 0.1512863837480876, 0.9844259121930028, 0.9511113698914697, 0.09511113698914697, 0.98060842381488, 0.6622807542498829, 0.33623484446532514, 0.9006830930948071, 0.10548540729939183, 0.9862188076979973, 0.011882154309614425, 0.9713639455205049, 0.0747203035015773, 0.721031010850582, 0.2785801632831794, 0.9550019930697907, 0.04547628538427575, 0.06217305042870236, 0.9947688068592377, 0.07549151843094261, 0.9813897396022538, 0.3576421836338371, 0.6457428315610948, 0.09319055203342157, 0.9008420029897418, 0.08451160091467982, 0.9296276100614781, 0.980694857045699, 0.06537965713637993, 0.9511652384146358, 0.06341101589430906, 0.13942668046452442, 0.8664372286009732, 0.3026660524137322, 0.695010935172274, 0.7970616777358775, 0.20664562015374605, 0.12182466728429162, 0.8730767822040899, 0.9589720691708112, 0.08717927901552829, 0.17114183155686566, 0.8271855191915173, 0.05561649114885805, 0.9454803495305868, 0.08806364293751157, 0.9687000723126273, 0.9655396952402836, 0.040230820635011814, 0.9714264415023013, 0.0747251108847924, 0.9510727289792867, 0.8167885876057814, 0.17756273643603943, 0.9548987644386149, 0.045471369735172136, 0.09607073562177547, 0.9607073562177547, 0.24102705584123305, 0.7682737404939303, 0.9657158819762734, 0.08047632349802279, 0.7881574638823823, 0.20786570476018873, 0.4870587195193879, 0.520267268577528, 0.29386071209399584, 0.7093189602268865, 0.8095897516985265, 0.19049170628200626, 0.06605550686116742, 0.9908326029175112, 0.9589694091390958, 0.08717903719446325, 0.024584250825423735, 0.9833700330169494, 0.7938919281796751, 0.20641190132671552, 0.0422803605112971, 0.9724482917598333, 0.616852622205972, 0.38061119242496144, 0.042281276841136084, 0.9724693673461299, 0.6470348508453965, 0.34508525378421145, 0.8973186845496688, 0.11964249127328917, 0.062171721175851194, 0.9947475388136191, 0.4907149615150743, 0.5047353889869336, 0.5079654403006878, 0.4961522905262532, 0.7511696301074265, 0.25038987670247553, 0.7861239427539055, 0.22460684078683016, 0.06217260864813177, 0.9947617383701083, 0.9416092605513083, 0.06603111642947412, 0.9244356300126378, 0.3797280341812125, 0.6213731468419841, 0.980786773347113, 0.06538578488980754, 0.8216497704429202, 0.16432995408858403, 0.08806379405924529, 0.9687017346516983, 0.34505037419892076, 0.6537796563769025, 0.9859733833901971, 0.029877981314854456, 0.08128841207845704, 0.9754609449414845, 0.5357686808728515, 0.4636459738322753, 0.7269444601744562, 0.2740938128526638, 0.8524488180072093, 0.14613408308695017, 0.05871453097159663, 0.9394324955455461, 0.10924156646418309, 0.8739325317134647, 0.09901322604080186, 0.8911190343672167, 0.04065546445804409, 0.9757311469930582, 0.9845319225860527, 0.061533245161628294, 0.9590604763301382, 0.08718731603001256, 0.63241124787494, 0.3667985237674652, 0.7434541692559273, 0.24781805641864244, 0.9361215798007649, 0.055065975282397935, 0.8129687182130154, 0.19872568667429266, 0.7939204194881446, 0.21171211186350525, 0.07545438341507447, 0.9306040621192518, 0.79346439727135, 0.20959436909054527, 0.9199126227054555, 0.0843956534592161, 0.8882333188013056, 0.09516785558585418, 0.08128989257541358, 0.9754787109049631, 0.04595347134302806, 0.9650228982035893, 0.6716217608378556, 0.3358108804189278, 0.5603488153957705, 0.4358268564189326, 0.6019388063100849, 0.39702346799175814, 0.2590891352155204, 0.7415309732030412, 0.9656499225657493, 0.08047082688047912, 0.048045979899300525, 0.9609195979860105, 0.9360921023409241, 0.055064241314172, 0.9877134020091548, 0.029050394176739845, 0.5190955831743546, 0.4801634144362779, 0.6522029572393375, 0.34648282103339806, 0.9510904304855746, 0.1791773115900913, 0.8162521972437492, 0.01273698049519178, 0.9934844786249589, 0.3959535348440855, 0.6084164071994485, 0.07824545234067917, 0.9193840650029802, 0.9765402982914707, 0.06975287844939076, 0.08129625553886992, 0.9755550664664391, 0.37678840598975216, 0.6205926686890035, 0.9713503618666555, 0.07471925860512733, 0.3073250439848629, 0.6914813489659414, 0.09606944746041021, 0.9606944746041021, 0.03203239312721685, 0.9930041869437222, 0.1257006109993965, 0.8799042769957754], \"Term\": [\"ability\", \"ability\", \"accord\", \"accord\", \"analysis\", \"analysis\", \"analyst\", \"analyst\", \"anti\", \"anti\", \"applicant\", \"applicant\", \"application\", \"application\", \"audit\", \"audit\", \"audits\", \"audits\", \"austria\", \"austria\", \"automate\", \"automate\", \"automation\", \"automation\", \"aws\", \"aws\", \"azure\", \"azure\", \"benefit\", \"benefit\", \"bring\", \"bring\", \"cd\", \"cd\", \"ci\", \"ci\", \"cisco\", \"cisco\", \"cloud\", \"cloud\", \"code\", \"code\", \"communication\", \"communication\", \"compensation\", \"compensation\", \"compliance\", \"compliance\", \"computer\", \"computer\", \"continuity\", \"continuity\", \"contract\", \"contract\", \"contribution\", \"contribution\", \"control\", \"control\", \"cooperation\", \"country\", \"country\", \"creation\", \"customer\", \"customer\", \"cyber\", \"cyber\", \"cybersecurity\", \"cybersecurity\", \"definition\", \"definition\", \"degree\", \"degree\", \"department\", \"department\", \"deploy\", \"deploy\", \"deployment\", \"deployment\", \"design\", \"design\", \"developer\", \"developer\", \"device\", \"device\", \"dss\", \"dss\", \"employee\", \"employee\", \"engineer\", \"engineer\", \"engineering\", \"engineering\", \"ensure\", \"ensure\", \"etc\", \"etc\", \"european\", \"european\", \"expect\", \"expect\", \"firewall\", \"firewall\", \"firewalls\", \"firewalls\", \"flexible\", \"flexible\", \"free\", \"free\", \"gcp\", \"global\", \"global\", \"governance\", \"governance\", \"iam\", \"iam\", \"implement\", \"implement\", \"important\", \"important\", \"incident\", \"incident\", \"include\", \"include\", \"infrastructure\", \"infrastructure\", \"international\", \"international\", \"ip\", \"ip\", \"law\", \"law\", \"linux\", \"linux\", \"location\", \"location\", \"log\", \"log\", \"maintain\", \"maintain\", \"malware\", \"malware\", \"manage\", \"manage\", \"manager\", \"manager\", \"method\", \"method\", \"need\", \"need\", \"new\", \"new\", \"opportunity\", \"opportunity\", \"organization\", \"organization\", \"owasp\", \"owasp\", \"owner\", \"penetration\", \"penetration\", \"perform\", \"perform\", \"player\", \"player\", \"position\", \"position\", \"powershell\", \"powershell\", \"practice\", \"practice\", \"prague\", \"prague\", \"prevention\", \"prevention\", \"product\", \"product\", \"professional\", \"professional\", \"program\", \"program\", \"programming\", \"programming\", \"protocol\", \"protocol\", \"public\", \"public\", \"python\", \"python\", \"regular\", \"regular\", \"regulation\", \"regulation\", \"relate\", \"relate\", \"relevant\", \"relevant\", \"reporting\", \"reporting\", \"require\", \"require\", \"requirement\", \"requirement\", \"research\", \"research\", \"response\", \"response\", \"risk\", \"risk\", \"salary\", \"salary\", \"scale\", \"scale\", \"scripting\", \"scripting\", \"senior\", \"senior\", \"service\", \"service\", \"services\", \"services\", \"software\", \"software\", \"solutions\", \"solutions\", \"source\", \"source\", \"specific\", \"specific\", \"stakeholder\", \"stakeholder\", \"standard\", \"standard\", \"strong\", \"strong\", \"term\", \"test\", \"test\", \"testing\", \"testing\", \"threat\", \"threat\", \"tool\", \"tool\", \"travel\", \"travel\", \"troubleshooting\", \"troubleshooting\", \"understanding\", \"understanding\", \"university\", \"university\", \"vulnerability\", \"vulnerability\", \"wan\", \"wan\", \"web\", \"web\", \"windows\", \"windows\"]}, \"R\": 30, \"lambda.step\": 0.01, \"plot.opts\": {\"xlab\": \"PC1\", \"ylab\": \"PC2\"}, \"topic.order\": [1, 2]};\n",
       "\n",
       "function LDAvis_load_lib(url, callback){\n",
       "  var s = document.createElement('script');\n",
       "  s.src = url;\n",
       "  s.async = true;\n",
       "  s.onreadystatechange = s.onload = callback;\n",
       "  s.onerror = function(){console.warn(\"failed to load library \" + url);};\n",
       "  document.getElementsByTagName(\"head\")[0].appendChild(s);\n",
       "}\n",
       "\n",
       "if(typeof(LDAvis) !== \"undefined\"){\n",
       "   // already loaded: just create the visualization\n",
       "   !function(LDAvis){\n",
       "       new LDAvis(\"#\" + \"ldavis_el114162515017437696721229271\", ldavis_el114162515017437696721229271_data);\n",
       "   }(LDAvis);\n",
       "}else if(typeof define === \"function\" && define.amd){\n",
       "   // require.js is available: use it to load d3/LDAvis\n",
       "   require.config({paths: {d3: \"https://d3js.org/d3.v5\"}});\n",
       "   require([\"d3\"], function(d3){\n",
       "      window.d3 = d3;\n",
       "      LDAvis_load_lib(\"https://cdn.jsdelivr.net/gh/bmabey/pyLDAvis@3.3.1/pyLDAvis/js/ldavis.v3.0.0.js\", function(){\n",
       "        new LDAvis(\"#\" + \"ldavis_el114162515017437696721229271\", ldavis_el114162515017437696721229271_data);\n",
       "      });\n",
       "    });\n",
       "}else{\n",
       "    // require.js not available: dynamically load d3 & LDAvis\n",
       "    LDAvis_load_lib(\"https://d3js.org/d3.v5.js\", function(){\n",
       "         LDAvis_load_lib(\"https://cdn.jsdelivr.net/gh/bmabey/pyLDAvis@3.3.1/pyLDAvis/js/ldavis.v3.0.0.js\", function(){\n",
       "                 new LDAvis(\"#\" + \"ldavis_el114162515017437696721229271\", ldavis_el114162515017437696721229271_data);\n",
       "            })\n",
       "         });\n",
       "}\n",
       "</script>"
      ],
      "text/plain": [
       "<IPython.core.display.HTML object>"
      ]
     },
     "execution_count": 28,
     "metadata": {},
     "output_type": "execute_result"
    }
   ],
   "source": [
    "lda_display = pyLDAvis.gensim_models.prepare(lda_model, corpus, dictionary)\n",
    "pyLDAvis.display(lda_display)"
   ]
  },
  {
   "cell_type": "code",
   "execution_count": null,
   "id": "6843847c-2aae-42a9-9340-16a8c2d8d7de",
   "metadata": {},
   "outputs": [],
   "source": []
  },
  {
   "cell_type": "code",
   "execution_count": null,
   "id": "fbc21627-4ae7-4adc-922e-f140c14373ef",
   "metadata": {},
   "outputs": [],
   "source": []
  },
  {
   "cell_type": "code",
   "execution_count": 31,
   "id": "dc385709-267b-4d17-9a51-5b96c4c85463",
   "metadata": {},
   "outputs": [],
   "source": [
    "df['topic'] = [sorted(lda_model[corpus][text])[0][0] for text in range(len(df['text']))]"
   ]
  },
  {
   "cell_type": "code",
   "execution_count": 33,
   "id": "6a169377-086f-4456-b789-b02614c23a50",
   "metadata": {},
   "outputs": [
    {
     "data": {
      "text/plain": [
       "0    107\n",
       "1     14\n",
       "Name: topic, dtype: int64"
      ]
     },
     "execution_count": 33,
     "metadata": {},
     "output_type": "execute_result"
    }
   ],
   "source": [
    "df.topic.value_counts()"
   ]
  },
  {
   "cell_type": "code",
   "execution_count": null,
   "id": "26ff3896-cba4-442e-86b4-36bae282f09e",
   "metadata": {},
   "outputs": [],
   "source": []
  }
 ],
 "metadata": {
  "kernelspec": {
   "display_name": "Python 3 (ipykernel)",
   "language": "python",
   "name": "python3"
  },
  "language_info": {
   "codemirror_mode": {
    "name": "ipython",
    "version": 3
   },
   "file_extension": ".py",
   "mimetype": "text/x-python",
   "name": "python",
   "nbconvert_exporter": "python",
   "pygments_lexer": "ipython3",
   "version": "3.8.8"
  }
 },
 "nbformat": 4,
 "nbformat_minor": 5
}
