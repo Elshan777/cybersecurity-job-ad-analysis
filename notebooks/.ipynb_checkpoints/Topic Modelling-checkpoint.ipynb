{
 "cells": [
  {
   "cell_type": "code",
   "execution_count": 1,
   "id": "3ea87e27-5bfd-40cb-8857-86b245d4dbf4",
   "metadata": {},
   "outputs": [
    {
     "name": "stderr",
     "output_type": "stream",
     "text": [
      "C:\\Users\\elsha\\anaconda3\\lib\\site-packages\\scipy\\sparse\\sparsetools.py:21: DeprecationWarning: `scipy.sparse.sparsetools` is deprecated!\n",
      "scipy.sparse.sparsetools is a private module for scipy.sparse, and should not be used.\n",
      "  _deprecated()\n"
     ]
    }
   ],
   "source": [
    "import pandas as pd\n",
    "import matplotlib.pyplot as plt\n",
    "import seaborn as sns\n",
    "sns.set()\n",
    "import spacy\n",
    "import pyLDAvis.gensim_models\n",
    "pyLDAvis.enable_notebook()# Visualise inside a notebook\n",
    "import en_core_web_md\n",
    "from gensim.corpora.dictionary import Dictionary\n",
    "from gensim.models import LdaMulticore\n",
    "from gensim.models import CoherenceModel"
   ]
  },
  {
   "cell_type": "markdown",
   "id": "c1dcbc53-a42e-4b83-800e-7657d9e7d243",
   "metadata": {},
   "source": [
    "### Collecting the data (Step 1)"
   ]
  },
  {
   "cell_type": "code",
   "execution_count": 4,
   "id": "aacc38fa-972a-42ec-8043-f2a986e72819",
   "metadata": {},
   "outputs": [
    {
     "data": {
      "text/html": [
       "<div>\n",
       "<style scoped>\n",
       "    .dataframe tbody tr th:only-of-type {\n",
       "        vertical-align: middle;\n",
       "    }\n",
       "\n",
       "    .dataframe tbody tr th {\n",
       "        vertical-align: top;\n",
       "    }\n",
       "\n",
       "    .dataframe thead th {\n",
       "        text-align: right;\n",
       "    }\n",
       "</style>\n",
       "<table border=\"1\" class=\"dataframe\">\n",
       "  <thead>\n",
       "    <tr style=\"text-align: right;\">\n",
       "      <th></th>\n",
       "      <th>country</th>\n",
       "      <th>title</th>\n",
       "      <th>text</th>\n",
       "      <th>job_title</th>\n",
       "    </tr>\n",
       "  </thead>\n",
       "  <tbody>\n",
       "    <tr>\n",
       "      <th>0</th>\n",
       "      <td>AT</td>\n",
       "      <td>Inform</td>\n",
       "      <td>Information Technology Security Manager Global...</td>\n",
       "      <td>Information Technology Security Manager</td>\n",
       "    </tr>\n",
       "    <tr>\n",
       "      <th>1</th>\n",
       "      <td>AT</td>\n",
       "      <td>Architect</td>\n",
       "      <td>Information Security Architect Copmany SWAROVS...</td>\n",
       "      <td>Information Security Architect</td>\n",
       "    </tr>\n",
       "    <tr>\n",
       "      <th>2</th>\n",
       "      <td>AT</td>\n",
       "      <td>Manager</td>\n",
       "      <td>Information Technology Security Manager Copman...</td>\n",
       "      <td>Information Technology Security Manager</td>\n",
       "    </tr>\n",
       "    <tr>\n",
       "      <th>3</th>\n",
       "      <td>AT</td>\n",
       "      <td>Analyst</td>\n",
       "      <td>Threat Detection Analyst Company Radar Cyber S...</td>\n",
       "      <td>Threat Detection Analyst</td>\n",
       "    </tr>\n",
       "    <tr>\n",
       "      <th>4</th>\n",
       "      <td>AT</td>\n",
       "      <td>Engineer</td>\n",
       "      <td>IT Security Engineer Company Global Blue Locat...</td>\n",
       "      <td>IT Security Engineer</td>\n",
       "    </tr>\n",
       "  </tbody>\n",
       "</table>\n",
       "</div>"
      ],
      "text/plain": [
       "  country      title                                               text  \\\n",
       "0      AT     Inform  Information Technology Security Manager Global...   \n",
       "1      AT  Architect  Information Security Architect Copmany SWAROVS...   \n",
       "2      AT    Manager  Information Technology Security Manager Copman...   \n",
       "3      AT    Analyst  Threat Detection Analyst Company Radar Cyber S...   \n",
       "4      AT   Engineer  IT Security Engineer Company Global Blue Locat...   \n",
       "\n",
       "                                 job_title  \n",
       "0  Information Technology Security Manager  \n",
       "1           Information Security Architect  \n",
       "2  Information Technology Security Manager  \n",
       "3                 Threat Detection Analyst  \n",
       "4                     IT Security Engineer  "
      ]
     },
     "execution_count": 4,
     "metadata": {},
     "output_type": "execute_result"
    }
   ],
   "source": [
    "df = pd.read_csv('../data/jobs_3.csv')\n",
    "df.head()"
   ]
  },
  {
   "cell_type": "code",
   "execution_count": 5,
   "id": "f1f084df-0151-4d5b-a04b-16a59712d86b",
   "metadata": {},
   "outputs": [
    {
     "data": {
      "text/html": [
       "<div>\n",
       "<style scoped>\n",
       "    .dataframe tbody tr th:only-of-type {\n",
       "        vertical-align: middle;\n",
       "    }\n",
       "\n",
       "    .dataframe tbody tr th {\n",
       "        vertical-align: top;\n",
       "    }\n",
       "\n",
       "    .dataframe thead th {\n",
       "        text-align: right;\n",
       "    }\n",
       "</style>\n",
       "<table border=\"1\" class=\"dataframe\">\n",
       "  <thead>\n",
       "    <tr style=\"text-align: right;\">\n",
       "      <th></th>\n",
       "      <th>country</th>\n",
       "      <th>title</th>\n",
       "      <th>text</th>\n",
       "      <th>job_title</th>\n",
       "    </tr>\n",
       "  </thead>\n",
       "  <tbody>\n",
       "    <tr>\n",
       "      <th>0</th>\n",
       "      <td>AT</td>\n",
       "      <td>Inform</td>\n",
       "      <td>Information Technology Security Manager Global...</td>\n",
       "      <td>Information Technology Security Manager</td>\n",
       "    </tr>\n",
       "    <tr>\n",
       "      <th>1</th>\n",
       "      <td>AT</td>\n",
       "      <td>Architect</td>\n",
       "      <td>Information Security Architect Copmany SWAROVS...</td>\n",
       "      <td>Information Security Architect</td>\n",
       "    </tr>\n",
       "    <tr>\n",
       "      <th>2</th>\n",
       "      <td>AT</td>\n",
       "      <td>Manager</td>\n",
       "      <td>Information Technology Security Manager Copman...</td>\n",
       "      <td>Information Technology Security Manager</td>\n",
       "    </tr>\n",
       "    <tr>\n",
       "      <th>3</th>\n",
       "      <td>AT</td>\n",
       "      <td>Analyst</td>\n",
       "      <td>Threat Detection Analyst Company Radar Cyber S...</td>\n",
       "      <td>Threat Detection Analyst</td>\n",
       "    </tr>\n",
       "    <tr>\n",
       "      <th>4</th>\n",
       "      <td>AT</td>\n",
       "      <td>Engineer</td>\n",
       "      <td>IT Security Engineer Company Global Blue Locat...</td>\n",
       "      <td>IT Security Engineer</td>\n",
       "    </tr>\n",
       "    <tr>\n",
       "      <th>...</th>\n",
       "      <td>...</td>\n",
       "      <td>...</td>\n",
       "      <td>...</td>\n",
       "      <td>...</td>\n",
       "    </tr>\n",
       "    <tr>\n",
       "      <th>264</th>\n",
       "      <td>LV</td>\n",
       "      <td>NaN</td>\n",
       "      <td>Compensa Vienna Insurance Group ADB Latvia is ...</td>\n",
       "      <td>IT Manager/Team lead</td>\n",
       "    </tr>\n",
       "    <tr>\n",
       "      <th>265</th>\n",
       "      <td>LV</td>\n",
       "      <td>NaN</td>\n",
       "      <td>Netcracker office in Riga is an integral compo...</td>\n",
       "      <td>IT HelpDesk L2 Engineer</td>\n",
       "    </tr>\n",
       "    <tr>\n",
       "      <th>266</th>\n",
       "      <td>LV</td>\n",
       "      <td>NaN</td>\n",
       "      <td>Overview ONE IDENTITY- Software Sales Account ...</td>\n",
       "      <td>ONE IDENTITY- Software Sales Account Manager –...</td>\n",
       "    </tr>\n",
       "    <tr>\n",
       "      <th>267</th>\n",
       "      <td>LV</td>\n",
       "      <td>NaN</td>\n",
       "      <td>The opportunityAt Worldline, our technology ad...</td>\n",
       "      <td>System analyst</td>\n",
       "    </tr>\n",
       "    <tr>\n",
       "      <th>268</th>\n",
       "      <td>LV</td>\n",
       "      <td>NaN</td>\n",
       "      <td>OpenStack, while complex and challenging in ma...</td>\n",
       "      <td>OpenStack Product Manager</td>\n",
       "    </tr>\n",
       "  </tbody>\n",
       "</table>\n",
       "<p>269 rows × 4 columns</p>\n",
       "</div>"
      ],
      "text/plain": [
       "    country      title                                               text  \\\n",
       "0        AT     Inform  Information Technology Security Manager Global...   \n",
       "1        AT  Architect  Information Security Architect Copmany SWAROVS...   \n",
       "2        AT    Manager  Information Technology Security Manager Copman...   \n",
       "3        AT    Analyst  Threat Detection Analyst Company Radar Cyber S...   \n",
       "4        AT   Engineer  IT Security Engineer Company Global Blue Locat...   \n",
       "..      ...        ...                                                ...   \n",
       "264      LV        NaN  Compensa Vienna Insurance Group ADB Latvia is ...   \n",
       "265      LV        NaN  Netcracker office in Riga is an integral compo...   \n",
       "266      LV        NaN  Overview ONE IDENTITY- Software Sales Account ...   \n",
       "267      LV        NaN  The opportunityAt Worldline, our technology ad...   \n",
       "268      LV        NaN  OpenStack, while complex and challenging in ma...   \n",
       "\n",
       "                                             job_title  \n",
       "0              Information Technology Security Manager  \n",
       "1                       Information Security Architect  \n",
       "2              Information Technology Security Manager  \n",
       "3                             Threat Detection Analyst  \n",
       "4                                 IT Security Engineer  \n",
       "..                                                 ...  \n",
       "264                               IT Manager/Team lead  \n",
       "265                            IT HelpDesk L2 Engineer  \n",
       "266  ONE IDENTITY- Software Sales Account Manager –...  \n",
       "267                                     System analyst  \n",
       "268                          OpenStack Product Manager  \n",
       "\n",
       "[269 rows x 4 columns]"
      ]
     },
     "execution_count": 5,
     "metadata": {},
     "output_type": "execute_result"
    }
   ],
   "source": [
    "df"
   ]
  },
  {
   "cell_type": "code",
   "execution_count": null,
   "id": "9edb7502-06c0-4afb-9d24-d3b19c34ae4f",
   "metadata": {},
   "outputs": [],
   "source": []
  },
  {
   "cell_type": "markdown",
   "id": "6c2302e7-d79b-4d31-8b45-135629e52cde",
   "metadata": {},
   "source": [
    "### Preprocess the data (Step 2)"
   ]
  },
  {
   "cell_type": "code",
   "execution_count": 6,
   "id": "044a584c-5c0c-4272-86eb-15acdac6b941",
   "metadata": {},
   "outputs": [],
   "source": [
    "nlp = en_core_web_md.load()\n",
    "# Tags I want to remove from the text\n",
    "removal= ['ADV','PRON','CCONJ','PUNCT','PART','DET','ADP','SPACE', 'NUM', 'SYM']\n",
    "\n",
    "tokens = []\n",
    "for summary in nlp.pipe(df['text']):\n",
    "    proj_tok= [token.lemma_.lower() for token in summary if token.pos_ not in removal and not token.is_stop and token.is_alpha]\n",
    "    tokens.append(proj_tok)"
   ]
  },
  {
   "cell_type": "code",
   "execution_count": 7,
   "id": "cdeffc8e-e33f-40cd-b918-7967b10621ed",
   "metadata": {},
   "outputs": [
    {
     "data": {
      "text/plain": [
       "0      [information, technology, security, manager, g...\n",
       "1      [information, security, architect, copmany, sw...\n",
       "2      [information, technology, security, manager, c...\n",
       "3      [threat, detection, analyst, company, radar, c...\n",
       "4      [security, engineer, company, global, blue, lo...\n",
       "                             ...                        \n",
       "264    [compensa, vienna, insurance, group, adb, latv...\n",
       "265    [netcracker, office, riga, integral, component...\n",
       "266    [overview, software, sales, account, manager, ...\n",
       "267    [opportunityat, worldline, technology, address...\n",
       "268    [openstack, complex, challenge, regard, contin...\n",
       "Name: tokens, Length: 269, dtype: object"
      ]
     },
     "execution_count": 7,
     "metadata": {},
     "output_type": "execute_result"
    }
   ],
   "source": [
    "df['tokens'] = tokens\n",
    "df['tokens']"
   ]
  },
  {
   "cell_type": "code",
   "execution_count": null,
   "id": "90477ac4-7c24-4c29-906b-9c99ce3143ef",
   "metadata": {},
   "outputs": [],
   "source": []
  },
  {
   "cell_type": "markdown",
   "id": "eed5075e-ad99-4e01-b6bd-5a5eb35fd943",
   "metadata": {},
   "source": [
    "### Create dictionary and corpus (Step 3)"
   ]
  },
  {
   "cell_type": "code",
   "execution_count": 8,
   "id": "15c6ff02-2179-4cb3-8d3f-af450cf376d8",
   "metadata": {},
   "outputs": [],
   "source": [
    "dictionary = Dictionary(df['tokens'])"
   ]
  },
  {
   "cell_type": "code",
   "execution_count": 9,
   "id": "6170de08-22e3-4a93-bea7-c548f4c68acf",
   "metadata": {},
   "outputs": [],
   "source": [
    "dictionary.filter_extremes(no_below=5, no_above=0.5, keep_n=1000)"
   ]
  },
  {
   "cell_type": "markdown",
   "id": "8859c257-90d7-4852-af19-6bc5e12f65ad",
   "metadata": {},
   "source": [
    "We are now ready to construct the corpus using the dictionary from above and the doc2bow function. The function doc2bow() simply counts the number of occurrences of each distinct word, converts the word to its integer word id and returns the result as a sparse vector:\n"
   ]
  },
  {
   "cell_type": "code",
   "execution_count": 10,
   "id": "1bb613b0-f56a-4ebe-86fb-54d5b794e396",
   "metadata": {},
   "outputs": [],
   "source": [
    "corpus = [dictionary.doc2bow(doc) for doc in df['tokens']]"
   ]
  },
  {
   "cell_type": "code",
   "execution_count": null,
   "id": "887b0d74-ba85-496a-9a33-325a0bd811b3",
   "metadata": {},
   "outputs": [],
   "source": []
  },
  {
   "cell_type": "markdown",
   "id": "70a200fe-adbf-40fe-b02c-16afb3b90f4f",
   "metadata": {},
   "source": [
    "### Model building (Step 4)"
   ]
  },
  {
   "cell_type": "code",
   "execution_count": 18,
   "id": "d2236fe9-8581-4954-b72b-db656d046ce7",
   "metadata": {},
   "outputs": [],
   "source": [
    "lda_model = LdaMulticore(corpus=corpus, id2word=dictionary, iterations=50, num_topics=10, workers = 4, passes=10)"
   ]
  },
  {
   "cell_type": "code",
   "execution_count": null,
   "id": "70d22be1-723c-4702-b796-914a142d17ad",
   "metadata": {},
   "outputs": [],
   "source": []
  },
  {
   "cell_type": "markdown",
   "id": "45ef2bc2-131d-46bf-a8b8-20e0ec5a8b0f",
   "metadata": {},
   "source": [
    "#### Calculating the coherence score using C_umass"
   ]
  },
  {
   "cell_type": "code",
   "execution_count": 11,
   "id": "088e755e-f2e8-42c7-98ad-8c941626ada1",
   "metadata": {},
   "outputs": [
    {
     "data": {
      "image/png": "[encoded data removed]",
      "text/plain": [
       "<Figure size 432x288 with 1 Axes>"
      ]
     },
     "metadata": {},
     "output_type": "display_data"
    }
   ],
   "source": [
    "topics = []\n",
    "score = []\n",
    "for i in range(1,20,1):\n",
    "   lda_model = LdaMulticore(corpus=corpus, id2word=dictionary, iterations=10, num_topics=i, workers = 4, passes=10, random_state=100)\n",
    "   cm = CoherenceModel(model=lda_model, corpus=corpus, dictionary=dictionary, coherence='u_mass')\n",
    "   topics.append(i)\n",
    "   score.append(cm.get_coherence())\n",
    "_=plt.plot(topics, score)\n",
    "_=plt.xlabel('Number of Topics')\n",
    "_=plt.ylabel('Coherence Score')\n",
    "plt.show()"
   ]
  },
  {
   "cell_type": "code",
   "execution_count": null,
   "id": "1621525b-fb21-447e-8101-ebdb5abb6892",
   "metadata": {},
   "outputs": [],
   "source": []
  },
  {
   "cell_type": "code",
   "execution_count": null,
   "id": "1cddd0b0-8777-4d5f-9387-4695a183d973",
   "metadata": {},
   "outputs": [],
   "source": []
  },
  {
   "cell_type": "markdown",
   "id": "6f83b489-f23f-4130-a146-bdb2f604e837",
   "metadata": {},
   "source": [
    "#### Calculating the coherence score using C_v:"
   ]
  },
  {
   "cell_type": "code",
   "execution_count": 12,
   "id": "4182965e-3b78-407d-ab82-60c8d70fec8c",
   "metadata": {},
   "outputs": [
    {
     "data": {
      "image/png": "[encoded data removed]",
      "text/plain": [
       "<Figure size 432x288 with 1 Axes>"
      ]
     },
     "metadata": {},
     "output_type": "display_data"
    }
   ],
   "source": [
    "topics = []\n",
    "score = []\n",
    "for i in range(1,20,1):\n",
    "   lda_model = LdaMulticore(corpus=corpus, id2word=dictionary, iterations=10, num_topics=i, workers = 4, passes=10, random_state=100)\n",
    "   cm = CoherenceModel(model=lda_model, texts = df['tokens'], corpus=corpus, dictionary=dictionary, coherence='c_v')\n",
    "   topics.append(i)\n",
    "   score.append(cm.get_coherence())\n",
    "_=plt.plot(topics, score)\n",
    "_=plt.xlabel('Number of Topics')\n",
    "_=plt.ylabel('Coherence Score')\n",
    "plt.show()"
   ]
  },
  {
   "cell_type": "code",
   "execution_count": null,
   "id": "67f62704-bb93-428d-ad38-8ef467ccad16",
   "metadata": {},
   "outputs": [],
   "source": []
  },
  {
   "cell_type": "code",
   "execution_count": null,
   "id": "9043b388-a7ac-4c98-b2b9-ea93837b1ee3",
   "metadata": {},
   "outputs": [],
   "source": []
  },
  {
   "cell_type": "code",
   "execution_count": 14,
   "id": "13b16dd5-dfe8-4b74-a92f-2c70b0459028",
   "metadata": {},
   "outputs": [],
   "source": [
    "lda_model = LdaMulticore(corpus=corpus, id2word=dictionary, iterations=100, num_topics=3, workers = 4, passes=100)"
   ]
  },
  {
   "cell_type": "code",
   "execution_count": 15,
   "id": "c75880fc-784d-4450-ae97-fd3cc18291cc",
   "metadata": {},
   "outputs": [
    {
     "data": {
      "text/plain": [
       "[(0,\n",
       "  '0.012*\"risk\" + 0.010*\"cyber\" + 0.010*\"project\" + 0.008*\"requirement\" + 0.008*\"control\" + 0.007*\"activity\" + 0.007*\"relate\" + 0.007*\"implementation\" + 0.007*\"cybersecurity\" + 0.007*\"compliance\"'),\n",
       " (1,\n",
       "  '0.016*\"product\" + 0.014*\"customer\" + 0.009*\"world\" + 0.009*\"people\" + 0.008*\"lead\" + 0.008*\"client\" + 0.008*\"build\" + 0.007*\"drive\" + 0.007*\"digital\" + 0.006*\"software\"'),\n",
       " (2,\n",
       "  '0.016*\"cloud\" + 0.015*\"network\" + 0.012*\"tool\" + 0.011*\"testing\" + 0.010*\"software\" + 0.010*\"engineer\" + 0.009*\"infrastructure\" + 0.009*\"threat\" + 0.008*\"datum\" + 0.007*\"incident\"')]"
      ]
     },
     "execution_count": 15,
     "metadata": {},
     "output_type": "execute_result"
    }
   ],
   "source": [
    "lda_model.print_topics()"
   ]
  },
  {
   "cell_type": "code",
   "execution_count": 24,
   "id": "70bbf79a-0572-4517-84c1-6ebb4bdd1b01",
   "metadata": {},
   "outputs": [
    {
     "data": {
      "text/plain": [
       "'0.012*\"risk\" + 0.010*\"cyber\" + 0.010*\"project\" + 0.008*\"requirement\" + 0.008*\"control\" + 0.007*\"activity\" + 0.007*\"relate\" + 0.007*\"implementation\" + 0.007*\"cybersecurity\" + 0.007*\"compliance\"'"
      ]
     },
     "execution_count": 24,
     "metadata": {},
     "output_type": "execute_result"
    }
   ],
   "source": [
    "lda_model.print_topics()[0][1]"
   ]
  },
  {
   "cell_type": "code",
   "execution_count": null,
   "id": "62e38e85-8b9e-4193-a551-b3e249a0876d",
   "metadata": {},
   "outputs": [],
   "source": []
  },
  {
   "cell_type": "code",
   "execution_count": 26,
   "id": "1dbdcfed-511a-4103-b28a-07fb631531ca",
   "metadata": {},
   "outputs": [
    {
     "data": {
      "text/plain": [
       "'https://www.linkedin.com/jobs/view/2589036509/\\n\\nInformation Security Architect\\n\\nCopmany: SWAROVSKI  \\nLocation: Wattens, Tyrol, Austria\\nEmployment Type: Full-time\\nIndustry: Luxury Goods & Jewelry\\nSize: 10,001+ employees\\n\\n\\nReference Number R-57255\\n\\nYou will be part of an international team, based in Wattens/Austria, and will be responsible to coordinate the overall Information Security Program and to oversee the evolution of the information security policies and controls. This includes ensuring a coordinated execution and evolution of the Information Security Program, in line with the information security strategic objectives.\\n\\nAbout The Job\\n\\n\\ncoordinate the Information Security Program\\ndefine the information security policy and control framework, and oversee corporate-wide information security policies, controls and services, and their evolution\\ndefine an overall reporting framework and KPIs for the Information Security Program\\ndefine the Information Security Awareness Program and oversee information security awareness initiatives\\nmanage Information Security Management processes\\nperform information security risk assessment and consulting activities\\nYou can watch this video for insight into the working environment. https //youtu.be/6d-pYXoC6w8WHAT\\n\\nAbout You\\n\\nWe are looking for a unique and amazing talent, who brings along the following\\n\\n\\nAt least 5 years of experience in the information security field\\nSolid know-how about information security management frameworks (e.g. ISO 27000, NIST CSF)\\nIdeally experience with managing a security program, policies and/or controls\\nSecurity certifications such as CISM are beneficial\\nAbility to translate security topics into business language and to communicate to stakeholders in business and IT\\nStrong lateral leadership skills\\nFluency in English; fluency in German is an advantage\\n\\nAbout Our Offer\\n\\n\\nAn environment in which you can develop yourself and contribute ideas.\\nExperience in an international organization with truly global challenges\\nWorking at the founding location in Wattens, Tyrol, where our heritage, technology and creativity as well as nature are combined in a unique working world with hundreds of professional fields, you will immerse yourself and write the next chapter of this innovative company with your colleagues.\\nFlexible working hours with no core hours to help you perform in the way that best supports you and the Swarovski company.\\nThe annual basic salary is at least 32,546,64 euros gross for this position. We will then clarify your actual salary personally and take your qualifications and experience into account.\\n\\nAs required by law, we advise that the collectively agreed base monthly salary for this position is set at a minimum of â\\x82¬ 32,546,64 gross. Our actual salaries are market competitive and take individual qualifications and experience into account.'"
      ]
     },
     "execution_count": 26,
     "metadata": {},
     "output_type": "execute_result"
    }
   ],
   "source": [
    "df['text'][1]"
   ]
  },
  {
   "cell_type": "code",
   "execution_count": 27,
   "id": "bc9fe846-3542-4192-ae33-e9a8d7b477ab",
   "metadata": {},
   "outputs": [
    {
     "data": {
      "text/plain": [
       "[(0, 0.9949639)]"
      ]
     },
     "execution_count": 27,
     "metadata": {},
     "output_type": "execute_result"
    }
   ],
   "source": [
    "lda_model[corpus][1]"
   ]
  },
  {
   "cell_type": "code",
   "execution_count": null,
   "id": "e7cd5bed-adf7-4f29-9cf2-f41eddad2a01",
   "metadata": {},
   "outputs": [],
   "source": []
  },
  {
   "cell_type": "code",
   "execution_count": null,
   "id": "ec8a1cc5-079d-449c-b1e7-c87466abc027",
   "metadata": {},
   "outputs": [],
   "source": []
  },
  {
   "cell_type": "code",
   "execution_count": 25,
   "id": "69faee80-397a-4b85-81ee-ed449fdd90c1",
   "metadata": {},
   "outputs": [
    {
     "name": "stderr",
     "output_type": "stream",
     "text": [
      "C:\\Users\\elsha\\anaconda3\\lib\\site-packages\\pyLDAvis\\_prepare.py:246: FutureWarning: In a future version of pandas all arguments of DataFrame.drop except for the argument 'labels' will be keyword-only\n",
      "  default_term_info = default_term_info.sort_values(\n"
     ]
    },
    {
     "data": {
      "text/html": [
       "\n",
       "<link rel=\"stylesheet\" type=\"text/css\" href=\"https://cdn.jsdelivr.net/gh/bmabey/pyLDAvis@3.3.1/pyLDAvis/js/ldavis.v1.0.0.css\">\n",
       "\n",
       "\n",
       "<div id=\"ldavis_el743229957836442082501578077\"></div>\n",
       "<script type=\"text/javascript\">\n",
       "\n",
       "var ldavis_el743229957836442082501578077_data = {\"mdsDat\": {\"x\": [0.09713456645411482, -0.13333824435456001, 0.03620367790044507], \"y\": [0.08479786652288879, 0.03047511368264301, -0.1152729802055318], \"topics\": [1, 2, 3], \"cluster\": [1, 1, 1], \"Freq\": [36.93380329019934, 35.03745810431161, 28.028738605489036]}, \"tinfo\": {\"Term\": [\"cloud\", \"network\", \"testing\", \"tool\", \"risk\", \"engineer\", \"world\", \"cyber\", \"cybersecurity\", \"linux\", \"threat\", \"sale\", \"product\", \"incident\", \"people\", \"market\", \"vulnerability\", \"aws\", \"code\", \"analysis\", \"status\", \"control\", \"build\", \"infrastructure\", \"activity\", \"test\", \"compliance\", \"automation\", \"source\", \"python\", \"seniority\", \"functions\", \"budapest\", \"hungary\", \"pci\", \"iso\", \"contract\", \"cybersecurity\", \"assign\", \"midsenior\", \"entry\", \"dss\", \"integrity\", \"confidentiality\", \"carry\", \"\\u00e2\", \"locate\", \"cisa\", \"cism\", \"supervision\", \"officer\", \"problemsolving\", \"industries\", \"beneficial\", \"fulltime\", \"tasks\", \"itil\", \"bachelor\\u00e2s\", \"cafeteria\", \"safe\", \"specific\", \"audit\", \"\\u00ef\", \"interpersonal\", \"associate\", \"cyber\", \"risk\", \"type\", \"systems\", \"activity\", \"maintenance\", \"evaluate\", \"cissp\", \"control\", \"services\", \"policy\", \"reporting\", \"compliance\", \"location\", \"implementation\", \"requirement\", \"assessment\", \"plan\", \"standard\", \"report\", \"project\", \"certification\", \"area\", \"relate\", \"degree\", \"english\", \"relevant\", \"international\", \"implement\", \"maintain\", \"industry\", \"computer\", \"design\", \"professional\", \"develop\", \"manage\", \"network\", \"ability\", \"customer\", \"ensure\", \"sale\", \"market\", \"gender\", \"equal\", \"employer\", \"age\", \"want\", \"disability\", \"sexual\", \"religion\", \"origin\", \"race\", \"bank\", \"color\", \"proud\", \"veteran\", \"empower\", \"sex\", \"expression\", \"investment\", \"journey\", \"difference\", \"marital\", \"accessible\", \"society\", \"inclusive\", \"care\", \"blockchain\", \"pregnancy\", \"genetic\", \"status\", \"adoption\", \"unique\", \"baltic\", \"marketing\", \"orientation\", \"world\", \"encourage\", \"digital\", \"identity\", \"people\", \"product\", \"client\", \"drive\", \"employee\", \"build\", \"customer\", \"lead\", \"join\", \"value\", \"create\", \"future\", \"challenge\", \"base\", \"offer\", \"bring\", \"help\", \"deliver\", \"group\", \"software\", \"organization\", \"ensure\", \"ability\", \"cloud\", \"need\", \"time\", \"project\", \"professional\", \"global\", \"aws\", \"python\", \"malware\", \"kubernetes\", \"docker\", \"container\", \"owasp\", \"custom\", \"allow\", \"linux\", \"scripting\", \"cause\", \"static\", \"go\", \"tooling\", \"javascript\", \"exploit\", \"storage\", \"troubleshooting\", \"orchestration\", \"switch\", \"bash\", \"proxy\", \"code\", \"minded\", \"devsecops\", \"developer\", \"deploy\", \"testing\", \"pipeline\", \"jira\", \"siem\", \"source\", \"automation\", \"tool\", \"accenture\", \"configuration\", \"cloud\", \"automate\", \"network\", \"engineer\", \"penetration\", \"web\", \"test\", \"threat\", \"vulnerability\", \"datum\", \"infrastructure\", \"research\", \"incident\", \"software\", \"understand\", \"problem\", \"open\", \"analysis\", \"data\", \"engineering\", \"develop\", \"able\", \"customer\", \"ability\", \"need\", \"product\", \"strong\", \"design\", \"look\"], \"Freq\": [285.0, 285.0, 148.0, 195.0, 237.0, 171.0, 167.0, 191.0, 113.0, 79.0, 186.0, 86.0, 364.0, 168.0, 171.0, 73.0, 143.0, 57.0, 64.0, 158.0, 79.0, 161.0, 170.0, 211.0, 140.0, 106.0, 136.0, 78.0, 70.0, 50.0, 59.260780712243694, 42.54520906236319, 38.64125532926344, 33.72704675289923, 30.77309481737366, 37.47884768226765, 33.624469336745356, 109.55178554832429, 20.94632214637465, 25.699958554990573, 18.971439179084577, 17.02463669341816, 16.999185470373494, 16.941045392486714, 18.73753077495695, 14.049585674866682, 14.97787362095449, 14.03224690965575, 14.03040164818031, 13.991686532675141, 19.59178549211848, 12.099516215904112, 13.021777901328864, 12.0869244575458, 74.29574940031156, 11.055270317730422, 10.1332992848904, 10.131607954553585, 10.123525135634742, 12.872126239576678, 34.00149928040898, 47.41768222218548, 55.37805226658163, 21.082479497005412, 39.02775442818755, 165.59469030497698, 201.75487015657012, 88.88388563186665, 35.54899100716636, 118.958236338039, 32.115955651351044, 30.417915446642525, 34.6006375156977, 133.03020417411813, 93.62282305088495, 79.7577922063831, 32.61410358657357, 107.06267505643658, 80.81204267247337, 110.08911804122009, 136.02305383910837, 67.84045492718244, 77.08088190099707, 103.72218195384963, 74.79740046405534, 164.10800233407042, 75.79521843619413, 95.9371901493306, 114.4367605936662, 94.29622684594892, 95.2717640028423, 84.11325943236028, 96.12419449259703, 95.63381004088775, 92.84464664777714, 102.72719402003587, 82.49216758727164, 100.66593943037881, 96.0549656361651, 100.70906309545043, 85.20940211441318, 99.78914766477217, 90.11749168899354, 96.07071441700626, 86.07557741192485, 85.72230489591738, 72.74437758751303, 55.260131896285564, 51.332921006230364, 57.14007529945634, 42.511843469120144, 53.13770280831061, 39.5582323580992, 38.586366770565704, 38.57571491649408, 34.64575036252867, 36.567466738376794, 36.48431261871684, 28.746678477738797, 28.715918346694433, 25.800074879026894, 27.70996755173488, 24.808327765501407, 22.876358617307783, 22.849079567319862, 21.876677033463956, 20.90265640460943, 16.987626577240018, 22.6345713255243, 16.018710566464097, 19.783892461708078, 23.553567654386562, 18.79908030017779, 15.023695517804065, 15.022306894797964, 75.18570562679645, 20.60382400809326, 38.15537301842245, 30.556809788956844, 33.978282547582836, 41.797276754461144, 140.06149040490624, 42.8813858914728, 106.23557000432338, 68.35296208967029, 134.0083639037961, 245.52387221701977, 123.64170088968704, 107.90688073711173, 86.15532308081674, 117.42413094932267, 224.0140782704063, 125.75239334689849, 91.7111502149972, 82.97395240068532, 87.16907048149834, 55.50572679053777, 59.04387290580182, 89.0783862997113, 90.15625524973277, 53.65928448426665, 78.47191870439443, 79.53609552319439, 62.52642693661781, 100.50612055118802, 69.45621263747277, 80.17490927020506, 80.45895387476077, 83.2488326376031, 70.97644554081613, 63.95741790997009, 71.69586654047099, 68.21096155548659, 65.81039064448676, 56.32905283162138, 49.57195774282247, 28.314081183028005, 29.23385025712799, 27.346421497364794, 27.344326047298214, 25.40487962611767, 21.565031229387756, 23.42701855524009, 76.55018660611992, 34.412839262958855, 20.44964376517332, 16.718346647377267, 16.62874003646225, 14.763934591476055, 15.636677935065233, 12.858983283545294, 13.765343799047494, 22.90188773987043, 12.810092834658061, 11.885045954538576, 11.877544997894423, 11.869938107832779, 60.933209384423044, 12.727692598418, 10.89660155190609, 52.0453492201652, 26.84863311285006, 136.12213125975566, 15.082849321553816, 31.034727061371015, 38.20919401052287, 60.24427067818375, 66.24990602842443, 150.9045621161546, 35.52744165896968, 34.65735971110218, 197.04781211582315, 32.138106319698366, 185.26846884708777, 118.93690992091655, 52.02437730578693, 57.08999723890204, 75.21086895760892, 113.50400576906767, 91.12087252351944, 99.91658512598512, 115.46925931212084, 57.50469899667707, 92.5762293473241, 124.60939192885421, 77.38805899049862, 64.29649961441805, 62.70146740293435, 78.86586208967024, 63.57843937636703, 74.06264358511424, 79.78552087692462, 48.907508520879304, 86.1618187061172, 65.1641204242572, 62.10349212603961, 69.04777301469197, 61.065211129475976, 60.133751649741384, 58.47565277628151], \"Total\": [285.0, 285.0, 148.0, 195.0, 237.0, 171.0, 167.0, 191.0, 113.0, 79.0, 186.0, 86.0, 364.0, 168.0, 171.0, 73.0, 143.0, 57.0, 64.0, 158.0, 79.0, 161.0, 170.0, 211.0, 140.0, 106.0, 136.0, 78.0, 70.0, 50.0, 59.979164912323014, 43.2606706114403, 39.32780918997387, 34.41071747662491, 31.460289146068106, 38.3420566319929, 34.40912285307715, 113.04382155840595, 21.626216809564923, 26.539797272830345, 19.658985296609995, 17.69292265464816, 17.69196511288899, 17.69075249999981, 19.654071927820475, 14.741612736161192, 15.723638528246319, 14.74124979737996, 14.741208473773092, 14.740340911332583, 20.641629727787596, 12.775378422217662, 13.757226097835733, 12.775145405392085, 78.6019834684953, 11.789940601237205, 10.808647983481992, 10.808453164699134, 10.808140314197082, 13.753994988989984, 36.37120191682621, 51.07794535730113, 59.9129235439281, 22.59417145836749, 42.2338147795701, 191.46981716898605, 237.86091029724165, 102.06128075126439, 39.274535814266, 140.449099468824, 35.34988107141531, 33.38673164627586, 38.29170508343534, 161.05091043165245, 112.06695271998882, 97.11939366494639, 36.36960325074496, 136.632032246311, 100.26611913838842, 153.91501673002688, 199.15070985885694, 87.19602514129787, 102.00237397922339, 148.83600297013345, 99.94106748808565, 272.63107873872946, 104.75775323823227, 144.28992463870324, 184.08956505146307, 143.0846903343481, 147.12308948662425, 123.6993470319572, 156.0615167754467, 160.41476022483585, 153.80334287072571, 196.84563109137565, 134.8628361086934, 205.40322346025724, 200.85033185837415, 245.3504291762418, 152.94020281085307, 285.93364721457385, 235.7405659880115, 406.24661139352975, 202.7969991105293, 86.38489801231555, 73.62076249547368, 55.950465840905544, 52.02347753870876, 57.91203122919476, 43.188474210483136, 53.98602518651088, 40.242979382235596, 39.261599008957084, 39.261220931133344, 35.33423947831554, 37.29686192857575, 37.29566152750932, 29.4436849423937, 29.442998751565316, 26.498564779134377, 28.46057703552666, 25.51651290324622, 23.553950361784487, 23.55305955825912, 22.57163452674992, 21.590146029502954, 17.66368022879972, 23.549969225371257, 16.682465970178445, 20.606493178868156, 24.533362977324348, 19.624628097738604, 15.70024481390328, 15.70016670585843, 79.45560970529925, 21.58499631006517, 40.23714476675184, 32.39064447638713, 36.31473240755564, 45.109843534065604, 167.46118962159042, 47.06004394644983, 127.50111189239763, 80.31831437192182, 171.31112452538542, 364.2159404180104, 169.53826943875598, 146.81918795512692, 113.90796529305065, 170.09715077627447, 406.24661139352975, 194.8256724351043, 132.1029343334566, 116.3882956327189, 124.39890045485568, 69.58815531572644, 80.30156555190756, 166.4851313060277, 177.357208196332, 71.3978477115251, 146.41078151381163, 150.49825410464817, 99.90272687309543, 275.0028505928189, 136.50854091947855, 202.7969991105293, 235.7405659880115, 285.58696494513947, 184.67102769006857, 124.22666547173495, 272.63107873872946, 200.85033185837415, 159.53335573746395, 57.04883481371662, 50.28145671345706, 29.011902986061266, 29.97873138999198, 28.04511051243777, 28.045140445766144, 26.111598841845908, 22.24462291254332, 24.177977357751434, 79.31830080955378, 35.790523919733886, 21.278736250784988, 17.41046168895362, 17.410315902963397, 15.476636613191763, 16.44354913764231, 13.543408536493802, 14.509715638252327, 24.18762368925979, 13.543212985694517, 12.576517359530834, 12.57657131393086, 12.576570931424092, 64.83198218297642, 13.544004727859305, 11.60946837472784, 56.135625861017154, 29.032719373601907, 148.11682421166822, 16.452660188419365, 33.880481568708234, 42.608797985163974, 70.73074791904718, 78.50391282504614, 195.0347011902746, 41.669904844311446, 40.70154174898632, 285.58696494513947, 37.78872256167868, 285.93364721457385, 171.03058057471188, 65.973288440626, 74.70687271227683, 106.87283510401953, 186.8534621441648, 143.96833247515698, 165.40517111554388, 211.37673736302543, 84.52232280452935, 168.53257193327838, 275.0028505928189, 135.33300334917703, 105.03607495944952, 106.03551909602366, 158.9340649437946, 116.83750857120003, 200.22332863618175, 245.3504291762418, 83.70912390999132, 406.24661139352975, 235.7405659880115, 184.67102769006857, 364.2159404180104, 182.75302523814315, 205.40322346025724, 152.2932893166413], \"Category\": [\"Default\", \"Default\", \"Default\", \"Default\", \"Default\", \"Default\", \"Default\", \"Default\", \"Default\", \"Default\", \"Default\", \"Default\", \"Default\", \"Default\", \"Default\", \"Default\", \"Default\", \"Default\", \"Default\", \"Default\", \"Default\", \"Default\", \"Default\", \"Default\", \"Default\", \"Default\", \"Default\", \"Default\", \"Default\", \"Default\", \"Topic1\", \"Topic1\", \"Topic1\", \"Topic1\", \"Topic1\", \"Topic1\", \"Topic1\", \"Topic1\", \"Topic1\", \"Topic1\", \"Topic1\", \"Topic1\", \"Topic1\", \"Topic1\", \"Topic1\", \"Topic1\", \"Topic1\", \"Topic1\", \"Topic1\", \"Topic1\", \"Topic1\", \"Topic1\", \"Topic1\", \"Topic1\", \"Topic1\", \"Topic1\", \"Topic1\", \"Topic1\", \"Topic1\", \"Topic1\", \"Topic1\", \"Topic1\", \"Topic1\", \"Topic1\", \"Topic1\", \"Topic1\", \"Topic1\", \"Topic1\", \"Topic1\", \"Topic1\", \"Topic1\", \"Topic1\", \"Topic1\", \"Topic1\", \"Topic1\", \"Topic1\", \"Topic1\", \"Topic1\", \"Topic1\", \"Topic1\", \"Topic1\", \"Topic1\", \"Topic1\", \"Topic1\", \"Topic1\", \"Topic1\", \"Topic1\", \"Topic1\", \"Topic1\", \"Topic1\", \"Topic1\", \"Topic1\", \"Topic1\", \"Topic1\", \"Topic1\", \"Topic1\", \"Topic1\", \"Topic1\", \"Topic1\", \"Topic1\", \"Topic1\", \"Topic1\", \"Topic1\", \"Topic1\", \"Topic1\", \"Topic2\", \"Topic2\", \"Topic2\", \"Topic2\", \"Topic2\", \"Topic2\", \"Topic2\", \"Topic2\", \"Topic2\", \"Topic2\", \"Topic2\", \"Topic2\", \"Topic2\", \"Topic2\", \"Topic2\", \"Topic2\", \"Topic2\", \"Topic2\", \"Topic2\", \"Topic2\", \"Topic2\", \"Topic2\", \"Topic2\", \"Topic2\", \"Topic2\", \"Topic2\", \"Topic2\", \"Topic2\", \"Topic2\", \"Topic2\", \"Topic2\", \"Topic2\", \"Topic2\", \"Topic2\", \"Topic2\", \"Topic2\", \"Topic2\", \"Topic2\", \"Topic2\", \"Topic2\", \"Topic2\", \"Topic2\", \"Topic2\", \"Topic2\", \"Topic2\", \"Topic2\", \"Topic2\", \"Topic2\", \"Topic2\", \"Topic2\", \"Topic2\", \"Topic2\", \"Topic2\", \"Topic2\", \"Topic2\", \"Topic2\", \"Topic2\", \"Topic2\", \"Topic2\", \"Topic2\", \"Topic2\", \"Topic2\", \"Topic2\", \"Topic2\", \"Topic2\", \"Topic2\", \"Topic2\", \"Topic2\", \"Topic2\", \"Topic3\", \"Topic3\", \"Topic3\", \"Topic3\", \"Topic3\", \"Topic3\", \"Topic3\", \"Topic3\", \"Topic3\", \"Topic3\", \"Topic3\", \"Topic3\", \"Topic3\", \"Topic3\", \"Topic3\", \"Topic3\", \"Topic3\", \"Topic3\", \"Topic3\", \"Topic3\", \"Topic3\", \"Topic3\", \"Topic3\", \"Topic3\", \"Topic3\", \"Topic3\", \"Topic3\", \"Topic3\", \"Topic3\", \"Topic3\", \"Topic3\", \"Topic3\", \"Topic3\", \"Topic3\", \"Topic3\", \"Topic3\", \"Topic3\", \"Topic3\", \"Topic3\", \"Topic3\", \"Topic3\", \"Topic3\", \"Topic3\", \"Topic3\", \"Topic3\", \"Topic3\", \"Topic3\", \"Topic3\", \"Topic3\", \"Topic3\", \"Topic3\", \"Topic3\", \"Topic3\", \"Topic3\", \"Topic3\", \"Topic3\", \"Topic3\", \"Topic3\", \"Topic3\", \"Topic3\", \"Topic3\", \"Topic3\", \"Topic3\", \"Topic3\", \"Topic3\", \"Topic3\"], \"logprob\": [30.0, 29.0, 28.0, 27.0, 26.0, 25.0, 24.0, 23.0, 22.0, 21.0, 20.0, 19.0, 18.0, 17.0, 16.0, 15.0, 14.0, 13.0, 12.0, 11.0, 10.0, 9.0, 8.0, 7.0, 6.0, 5.0, 4.0, 3.0, 2.0, 1.0, -5.6246, -5.956, -6.0523, -6.1883, -6.28, -6.0828, -6.1913, -5.0102, -6.6646, -6.4601, -6.7637, -6.8719, -6.8734, -6.8769, -6.7761, -7.064, -7.0, -7.0652, -7.0654, -7.0681, -6.7315, -7.2134, -7.14, -7.2145, -5.3985, -7.3037, -7.3908, -7.3909, -7.3917, -7.1515, -6.1802, -5.8476, -5.6924, -6.6582, -6.0423, -4.5971, -4.3995, -5.2193, -6.1357, -4.9278, -6.2372, -6.2916, -6.1627, -4.816, -5.1673, -5.3276, -6.2218, -5.0332, -5.3145, -5.0053, -4.7938, -5.4894, -5.3617, -5.0649, -5.3918, -4.6061, -5.3786, -5.1429, -4.9666, -5.1602, -5.1499, -5.2744, -5.141, -5.1461, -5.1757, -5.0745, -5.2939, -5.0948, -5.1417, -5.0944, -5.2615, -5.1035, -5.2055, -5.1415, -5.2514, -5.2028, -5.3669, -5.6418, -5.7156, -5.6084, -5.9041, -5.681, -5.9761, -6.001, -6.0013, -6.1087, -6.0547, -6.057, -6.2954, -6.2964, -6.4035, -6.3321, -6.4427, -6.5238, -6.525, -6.5685, -6.614, -6.8214, -6.5344, -6.8801, -6.669, -6.4946, -6.7201, -6.9443, -6.9443, -5.3339, -6.6284, -6.0122, -6.2343, -6.1282, -5.9211, -4.7118, -5.8954, -4.9882, -5.4292, -4.756, -4.1505, -4.8365, -4.9726, -5.1977, -4.8881, -4.2422, -4.8196, -5.1352, -5.2354, -5.186, -5.6374, -5.5756, -5.1644, -5.1523, -5.6712, -5.2911, -5.2777, -5.5183, -5.0437, -5.4132, -5.2697, -5.2661, -5.2321, -5.3915, -5.4957, -5.3815, -5.4313, -5.4671, -5.3995, -5.5273, -6.0873, -6.0554, -6.1221, -6.1222, -6.1958, -6.3596, -6.2768, -5.0928, -5.8923, -6.4127, -6.6142, -6.6196, -6.7385, -6.6811, -6.8767, -6.8085, -6.2995, -6.8805, -6.9554, -6.956, -6.9567, -5.3209, -6.8869, -7.0422, -5.4786, -6.1405, -4.5171, -6.7171, -5.9956, -5.7876, -5.3323, -5.2373, -4.4141, -5.8604, -5.8852, -4.1473, -5.9607, -4.2089, -4.6521, -5.479, -5.3861, -5.1104, -4.6989, -4.9185, -4.8264, -4.6817, -5.3788, -4.9027, -4.6055, -5.0819, -5.2672, -5.2923, -5.0629, -5.2784, -5.1258, -5.0514, -5.5408, -4.9745, -5.2538, -5.3019, -5.1959, -5.3188, -5.3341, -5.3621], \"loglift\": [30.0, 29.0, 28.0, 27.0, 26.0, 25.0, 24.0, 23.0, 22.0, 21.0, 20.0, 19.0, 18.0, 17.0, 16.0, 15.0, 14.0, 13.0, 12.0, 11.0, 10.0, 9.0, 8.0, 7.0, 6.0, 5.0, 4.0, 3.0, 2.0, 1.0, 0.984, 0.9794, 0.9784, 0.976, 0.974, 0.9733, 0.973, 0.9647, 0.9641, 0.9639, 0.9604, 0.9575, 0.9561, 0.9527, 0.9483, 0.948, 0.9475, 0.9468, 0.9466, 0.9439, 0.9438, 0.9417, 0.9411, 0.9407, 0.9397, 0.9317, 0.9315, 0.9314, 0.9306, 0.9298, 0.9287, 0.9217, 0.9173, 0.9268, 0.9171, 0.8509, 0.8314, 0.8578, 0.8964, 0.83, 0.9001, 0.9029, 0.8947, 0.8049, 0.8162, 0.7991, 0.8871, 0.7522, 0.7803, 0.6609, 0.6148, 0.745, 0.7159, 0.6349, 0.7062, 0.4884, 0.6724, 0.5879, 0.5206, 0.579, 0.5615, 0.6104, 0.5114, 0.4788, 0.4913, 0.3457, 0.5045, 0.2829, 0.2584, 0.1056, 0.4111, -0.0567, 0.0344, -0.4458, 0.1391, 1.0411, 1.0368, 1.0363, 1.0354, 1.0353, 1.033, 1.0329, 1.0316, 1.0314, 1.0311, 1.0291, 1.029, 1.0268, 1.0248, 1.0237, 1.022, 1.022, 1.0206, 1.0196, 1.0184, 1.0175, 1.0164, 1.0097, 1.0091, 1.0082, 1.008, 1.008, 1.0058, 1.0047, 1.0046, 0.9935, 1.0022, 0.9956, 0.9905, 0.9823, 0.9725, 0.8701, 0.9558, 0.8663, 0.8874, 0.8032, 0.6544, 0.7331, 0.7408, 0.7695, 0.6782, 0.4535, 0.611, 0.6838, 0.7103, 0.6931, 0.8226, 0.7412, 0.4234, 0.3721, 0.7631, 0.4251, 0.411, 0.5801, 0.0422, 0.3731, 0.1208, -0.0262, -0.184, 0.0925, 0.3849, -0.2869, -0.0312, 0.1633, 1.2592, 1.2577, 1.2476, 1.2468, 1.2467, 1.2466, 1.2445, 1.2409, 1.2404, 1.2364, 1.2327, 1.2322, 1.2314, 1.226, 1.2248, 1.2216, 1.2201, 1.2193, 1.2173, 1.2163, 1.2154, 1.2148, 1.2141, 1.2099, 1.2098, 1.2086, 1.1963, 1.1937, 1.1875, 1.185, 1.1842, 1.163, 1.1115, 1.1022, 1.0154, 1.1125, 1.1112, 0.9008, 1.11, 0.838, 0.9087, 1.0344, 1.003, 0.9206, 0.7735, 0.8145, 0.7679, 0.6673, 0.8868, 0.6728, 0.4803, 0.713, 0.7811, 0.7466, 0.5712, 0.6634, 0.2774, 0.1486, 0.7345, -0.2788, -0.0139, 0.1822, -0.391, 0.1757, 0.0435, 0.3147]}, \"token.table\": {\"Topic\": [1, 2, 3, 1, 2, 3, 1, 3, 2, 3, 1, 2, 3, 2, 3, 2, 3, 1, 2, 3, 1, 2, 3, 1, 2, 3, 1, 1, 3, 1, 3, 1, 2, 3, 1, 2, 3, 3, 1, 1, 2, 2, 1, 2, 3, 3, 1, 2, 1, 2, 3, 1, 1, 2, 3, 1, 1, 2, 1, 3, 3, 1, 2, 3, 1, 2, 3, 1, 1, 1, 3, 1, 2, 3, 1, 2, 3, 1, 2, 3, 2, 1, 2, 3, 1, 2, 3, 1, 1, 3, 3, 1, 1, 2, 3, 1, 2, 3, 3, 1, 2, 3, 1, 2, 3, 1, 2, 3, 1, 2, 3, 1, 2, 3, 1, 2, 3, 1, 2, 3, 2, 3, 1, 2, 3, 1, 2, 3, 1, 2, 3, 3, 2, 1, 2, 3, 2, 3, 1, 2, 3, 1, 1, 2, 3, 2, 2, 2, 3, 1, 2, 3, 1, 2, 3, 1, 2, 3, 1, 2, 3, 1, 2, 1, 3, 3, 2, 1, 3, 1, 1, 2, 3, 2, 2, 1, 2, 3, 3, 1, 2, 3, 1, 2, 3, 1, 2, 3, 1, 2, 3, 1, 2, 3, 1, 2, 3, 2, 1, 1, 2, 3, 1, 2, 3, 1, 1, 2, 3, 1, 3, 2, 1, 1, 3, 1, 3, 1, 2, 3, 2, 3, 1, 2, 3, 1, 3, 1, 1, 2, 1, 2, 3, 1, 2, 3, 1, 3, 3, 1, 2, 3, 2, 1, 2, 1, 2, 1, 3, 1, 2, 3, 1, 2, 3, 1, 2, 3, 1, 2, 1, 2, 3, 3, 1, 2, 3, 2, 3, 2, 3, 1, 1, 3, 1, 2, 3, 2, 3, 1, 2, 3, 1, 2, 3, 2, 1, 2, 3, 1, 1, 2, 3, 1, 2, 3, 1, 2, 3, 2, 3, 3, 2, 1, 2, 3, 1, 2, 3, 2, 1, 2, 3, 1, 2, 1, 2, 3, 1, 2, 3, 1, 2, 3, 1, 3, 2, 1, 3, 1, 1, 2, 2, 2, 1, 3, 2, 1, 2, 3, 2, 3, 1, 2, 1, 2, 3, 3, 2, 3, 3, 1, 2, 3, 1, 3, 1, 3, 1, 1, 2, 3, 1, 3, 1, 2, 3, 1, 2, 3, 1, 2, 3, 3, 1, 3, 1, 2, 3, 1, 2, 3, 1, 2, 3, 1, 2, 3, 2, 1, 2, 3, 2, 2, 3, 1, 2, 3, 1, 1, 3], \"Freq\": [0.38177561686424777, 0.33935610387933135, 0.2757268344019567, 0.2867070980913159, 0.1314074199585198, 0.58536032526977, 0.1439888097277258, 0.8639328583663547, 0.9766467115048815, 0.04246290050021224, 0.8472820434595586, 0.08544020606314877, 0.06408015454736157, 0.9728980120421711, 0.046328476763912906, 0.9956360067372468, 0.9512789121967733, 0.4907695529437563, 0.012583834690865546, 0.49706147028918907, 0.6653271199661414, 0.249497669987303, 0.08316588999576767, 0.7798520619467294, 0.011468412675687198, 0.21789984083805675, 0.9710436265816055, 0.9234306728755555, 0.07103312868273504, 0.920162306279647, 0.05873376423061577, 0.05292584306695215, 0.1058516861339043, 0.8468134890712344, 0.10190574854311789, 0.06369109283944868, 0.8407224254807226, 0.9816151404819851, 0.9252017700979104, 0.06174622432900356, 0.9570664770995553, 0.9652597252751869, 0.2763009503560066, 0.5345822735148823, 0.18620281437035227, 0.9541551270581831, 0.9393239465544624, 0.9681712135064316, 0.014006024439845673, 0.7563253197516663, 0.23810241547737643, 0.9916646974055844, 0.03527395945562713, 0.687842209384729, 0.27631268240241247, 0.9252285508233506, 0.040760820313312865, 0.9782596875195086, 0.966720793013145, 0.050880041737533944, 0.9399054419532168, 0.7254832950375183, 0.01909166565888206, 0.25773748639490784, 0.09962445868914895, 0.7347303828324734, 0.16188974536986703, 0.9497159462346466, 0.9497186085461163, 0.9140360797132718, 0.07834594968970901, 0.1415609589472055, 0.731398287893895, 0.1297642123682717, 0.017507801873802215, 0.29062951110511676, 0.6898073938278072, 0.030848971952690967, 0.030848971952690967, 0.9408936445570745, 0.9849310660923807, 0.7831252909062175, 0.21224891061944212, 0.007318927952394556, 0.6080251785147962, 0.029659764805599814, 0.36333211886859773, 0.9609540351661232, 0.1474145632370162, 0.8599182855492613, 0.9627336348060997, 0.9881100470121236, 0.8258258189508538, 0.0993474669414561, 0.07451060020609207, 0.13665715643659804, 0.699363094704943, 0.1607731252195271, 0.9890030541985325, 0.23630966341034934, 0.5513892146241485, 0.21169407347177127, 0.8669773777111456, 0.052227552874165396, 0.08356408459866463, 0.9730739679847668, 0.008846126981679699, 0.026538380945039092, 0.08558895274547954, 0.368032496805562, 0.5477692975710691, 0.21160160691439767, 0.18741856612418079, 0.604576019755422, 0.6569535830866937, 0.16074396181908465, 0.18171056553461742, 0.15947028849458764, 0.5315676283152921, 0.3122959816352341, 0.0688877942938582, 0.9299852229670857, 0.49171574962912956, 0.21908127458723595, 0.2921083661163146, 0.41165609670667824, 0.2649271909498424, 0.32606423501519066, 0.05344199791105066, 0.01781399930368355, 0.9263279637915447, 0.9475024734074331, 0.9726659547046824, 0.094116826291893, 0.8313652989117215, 0.07058761971891975, 0.9939621920154635, 0.9627346623585501, 0.06811098834749277, 0.7355986741529219, 0.19752186620772902, 0.9608361677619089, 0.23703346759409835, 0.7549954893737947, 0.008779017318299939, 0.984251437743821, 0.9838170169581687, 0.9137263035480842, 0.08499779567889156, 0.2981922871841126, 0.0058469075918453454, 0.6957820034295962, 0.33962076478890346, 0.28967653467288823, 0.3695873028585126, 0.6457178158200447, 0.2243019781269629, 0.12914356316400896, 0.4240693914466057, 0.39448315483405183, 0.18244845911074897, 0.9664791805544699, 0.9803266219958627, 0.898560551474237, 0.0898560551474237, 0.9598765307101573, 0.9764816366989015, 0.941452069459038, 0.05088930105183989, 0.9939744204665343, 0.08622156993208932, 0.8047346526995003, 0.11496209324278575, 0.9830123694839614, 0.9554038680622947, 0.3510237701772938, 0.413706586280382, 0.23819470119173508, 0.9764325986242698, 0.20019473567929358, 0.6306134173897748, 0.17016552532739954, 0.08196117714779073, 0.5327476514606397, 0.3824854933563568, 0.988064257105249, 0.8466313135646665, 0.14940552592317644, 0.5984486705927016, 0.0997414450987836, 0.3054581756150248, 0.7146801029359235, 0.11694765320769658, 0.16892438796667283, 0.4390842621763134, 0.011867142220981444, 0.5518221132756371, 0.9705678606445219, 0.9449579375630921, 0.5232526596040501, 0.2641663912564136, 0.2133651621686418, 0.35954760655367235, 0.09461779119833483, 0.5440522993904253, 0.9608881710723656, 0.6151420413152345, 0.30116329106058354, 0.083300484761438, 0.9294432433025949, 0.044259202062028324, 0.9765185683460312, 0.9649977922448459, 0.9251850939434992, 0.9730259487213168, 0.05903103814932741, 0.9149810913145748, 0.09083825473330807, 0.6964266196220286, 0.21952578227216119, 0.9746746507847064, 0.967352474750859, 0.15911660723422363, 0.6467320165003928, 0.19504616370646766, 0.02521486188669214, 0.9707721826376475, 0.9539776670045959, 0.8078501561250505, 0.18949571563427112, 0.1969883251889409, 0.4136754828967759, 0.3808440953652858, 0.6046682618476509, 0.19505427801537123, 0.20155608728255028, 0.9052364259826577, 0.08486591493587416, 0.96512110954778, 0.555772768950246, 0.29423264238542435, 0.15038557277477244, 0.9624268430925497, 0.01358312473416017, 0.9915681055936925, 0.05507406684301714, 0.9362591363312914, 0.9796608366190139, 0.9598342780595523, 0.2815817979161899, 0.3844674548471055, 0.3357321436693034, 0.3497314883160874, 0.0034973148831608744, 0.6470032533847617, 0.33266197974140305, 0.5074504775716318, 0.1578734819111743, 0.9689157427853752, 0.04844578713926876, 0.009430802136163636, 0.40552449185503636, 0.5941405345783091, 0.9598903903919769, 0.46150958449670504, 0.505462878258296, 0.029302195841060637, 0.9310606446303201, 0.06650433175930859, 0.9905406347143637, 0.9574289246484409, 0.9853692016646441, 0.21220709670398774, 0.7881977877576688, 0.029186662651666175, 0.7822025590646535, 0.1867946409706635, 0.0607804445328468, 0.911706667992702, 0.75488439137391, 0.09803693394466363, 0.14705540091699545, 0.8237283716576029, 0.04118641858288014, 0.13385586039436048, 0.9553991149690111, 0.04760269271229253, 0.34273938752850625, 0.6093144667173445, 0.9393068137324839, 0.13728119626673954, 0.6754234856323585, 0.18944805084810057, 0.47796784357664196, 0.33856055586678807, 0.1842167730451641, 0.6015455052252723, 0.2640931486354854, 0.13571453471545777, 0.9849540206382081, 0.9541551560780801, 0.9944023755106973, 0.9920405655268197, 0.6192637804762632, 0.14123559905598984, 0.2335819522849063, 0.6790658319182473, 0.25060762844601986, 0.07275705341981221, 0.9933465917529274, 0.7504422544710264, 0.04002358690512141, 0.2101238312518874, 0.907351113304324, 0.08248646484584764, 0.6828999007655387, 0.19583158919011773, 0.12051174719391859, 0.04732477607425206, 0.27211746242694934, 0.6862092530766549, 0.8492357981291325, 0.134532403664021, 0.016816550458002625, 0.9451799284794307, 0.07270614834457159, 0.9955443830904255, 0.02794035656596321, 0.9499721232427492, 0.983674915885302, 0.8387842956243219, 0.16061826937487014, 0.9797577002310331, 0.9933370261130372, 0.09387732555592783, 0.8918345927813144, 0.9590908219804901, 0.18181629714825087, 0.3672689202394668, 0.4545407428706272, 0.1413812280261084, 0.8482873681566503, 0.9348055111775332, 0.05498855948103137, 0.6987556634456881, 0.060469240105876856, 0.24187696042350743, 0.9764244224945484, 0.9439232834305205, 0.050342575116294426, 0.9648707355154121, 0.3720868637407784, 0.29000887909207723, 0.33378380423805115, 0.949774505502556, 0.9541592204702096, 0.9166244553531664, 0.07638537127943053, 0.9329987632716054, 0.2713505258073695, 0.028070744049038227, 0.7017686012259557, 0.08101712998417553, 0.9181941398206559, 0.3692733289938389, 0.021407149506889215, 0.6101037609463426, 0.22539444243853415, 0.5151872970023638, 0.2575936485011819, 0.13330961024538177, 0.0974185613331636, 0.7742211979635633, 0.9692028297165358, 0.04134345782980067, 0.9508995300854155, 0.8720251141753129, 0.009798034990733853, 0.11757641988880624, 0.31773476488254915, 0.110837708679959, 0.5689669045571228, 0.024852658055059245, 0.9444010060922513, 0.024852658055059245, 0.04295964618107534, 0.7131301266058506, 0.24057401861402192, 0.9811852157545167, 0.3403526258696883, 0.027783887826097003, 0.6320834480437069, 0.981735547614325, 0.22755603845811007, 0.762982011300722, 0.005971532880303104, 0.8360146032424345, 0.1612313877681838, 0.9496925642102906, 0.9179989348988128, 0.06676355890173184], \"Term\": [\"ability\", \"ability\", \"ability\", \"able\", \"able\", \"able\", \"accenture\", \"accenture\", \"accessible\", \"accessible\", \"activity\", \"activity\", \"activity\", \"adoption\", \"adoption\", \"age\", \"allow\", \"analysis\", \"analysis\", \"analysis\", \"area\", \"area\", \"area\", \"assessment\", \"assessment\", \"assessment\", \"assign\", \"associate\", \"associate\", \"audit\", \"audit\", \"automate\", \"automate\", \"automate\", \"automation\", \"automation\", \"automation\", \"aws\", \"bachelor\\u00e2s\", \"baltic\", \"baltic\", \"bank\", \"base\", \"base\", \"base\", \"bash\", \"beneficial\", \"blockchain\", \"bring\", \"bring\", \"bring\", \"budapest\", \"build\", \"build\", \"build\", \"cafeteria\", \"care\", \"care\", \"carry\", \"carry\", \"cause\", \"certification\", \"certification\", \"certification\", \"challenge\", \"challenge\", \"challenge\", \"cisa\", \"cism\", \"cissp\", \"cissp\", \"client\", \"client\", \"client\", \"cloud\", \"cloud\", \"cloud\", \"code\", \"code\", \"code\", \"color\", \"compliance\", \"compliance\", \"compliance\", \"computer\", \"computer\", \"computer\", \"confidentiality\", \"configuration\", \"configuration\", \"container\", \"contract\", \"control\", \"control\", \"control\", \"create\", \"create\", \"create\", \"custom\", \"customer\", \"customer\", \"customer\", \"cyber\", \"cyber\", \"cyber\", \"cybersecurity\", \"cybersecurity\", \"cybersecurity\", \"data\", \"data\", \"data\", \"datum\", \"datum\", \"datum\", \"degree\", \"degree\", \"degree\", \"deliver\", \"deliver\", \"deliver\", \"deploy\", \"deploy\", \"design\", \"design\", \"design\", \"develop\", \"develop\", \"develop\", \"developer\", \"developer\", \"developer\", \"devsecops\", \"difference\", \"digital\", \"digital\", \"digital\", \"disability\", \"docker\", \"drive\", \"drive\", \"drive\", \"dss\", \"employee\", \"employee\", \"employee\", \"employer\", \"empower\", \"encourage\", \"encourage\", \"engineer\", \"engineer\", \"engineer\", \"engineering\", \"engineering\", \"engineering\", \"english\", \"english\", \"english\", \"ensure\", \"ensure\", \"ensure\", \"entry\", \"equal\", \"evaluate\", \"evaluate\", \"exploit\", \"expression\", \"fulltime\", \"fulltime\", \"functions\", \"future\", \"future\", \"future\", \"gender\", \"genetic\", \"global\", \"global\", \"global\", \"go\", \"group\", \"group\", \"group\", \"help\", \"help\", \"help\", \"hungary\", \"identity\", \"identity\", \"implement\", \"implement\", \"implement\", \"implementation\", \"implementation\", \"implementation\", \"incident\", \"incident\", \"incident\", \"inclusive\", \"industries\", \"industry\", \"industry\", \"industry\", \"infrastructure\", \"infrastructure\", \"infrastructure\", \"integrity\", \"international\", \"international\", \"international\", \"interpersonal\", \"interpersonal\", \"investment\", \"iso\", \"itil\", \"javascript\", \"jira\", \"jira\", \"join\", \"join\", \"join\", \"journey\", \"kubernetes\", \"lead\", \"lead\", \"lead\", \"linux\", \"linux\", \"locate\", \"location\", \"location\", \"look\", \"look\", \"look\", \"maintain\", \"maintain\", \"maintain\", \"maintenance\", \"maintenance\", \"malware\", \"manage\", \"manage\", \"manage\", \"marital\", \"market\", \"market\", \"marketing\", \"marketing\", \"midsenior\", \"minded\", \"need\", \"need\", \"need\", \"network\", \"network\", \"network\", \"offer\", \"offer\", \"offer\", \"officer\", \"officer\", \"open\", \"open\", \"open\", \"orchestration\", \"organization\", \"organization\", \"organization\", \"orientation\", \"orientation\", \"origin\", \"owasp\", \"pci\", \"penetration\", \"penetration\", \"people\", \"people\", \"people\", \"pipeline\", \"pipeline\", \"plan\", \"plan\", \"plan\", \"policy\", \"policy\", \"policy\", \"pregnancy\", \"problem\", \"problem\", \"problem\", \"problemsolving\", \"product\", \"product\", \"product\", \"professional\", \"professional\", \"professional\", \"project\", \"project\", \"project\", \"proud\", \"proxy\", \"python\", \"race\", \"relate\", \"relate\", \"relate\", \"relevant\", \"relevant\", \"relevant\", \"religion\", \"report\", \"report\", \"report\", \"reporting\", \"reporting\", \"requirement\", \"requirement\", \"requirement\", \"research\", \"research\", \"research\", \"risk\", \"risk\", \"risk\", \"safe\", \"safe\", \"sale\", \"scripting\", \"scripting\", \"seniority\", \"services\", \"services\", \"sex\", \"sexual\", \"siem\", \"siem\", \"society\", \"software\", \"software\", \"software\", \"source\", \"source\", \"specific\", \"specific\", \"standard\", \"standard\", \"standard\", \"static\", \"status\", \"status\", \"storage\", \"strong\", \"strong\", \"strong\", \"supervision\", \"switch\", \"systems\", \"systems\", \"tasks\", \"test\", \"test\", \"test\", \"testing\", \"testing\", \"threat\", \"threat\", \"threat\", \"time\", \"time\", \"time\", \"tool\", \"tool\", \"tool\", \"tooling\", \"troubleshooting\", \"troubleshooting\", \"type\", \"type\", \"type\", \"understand\", \"understand\", \"understand\", \"unique\", \"unique\", \"unique\", \"value\", \"value\", \"value\", \"veteran\", \"vulnerability\", \"vulnerability\", \"vulnerability\", \"want\", \"web\", \"web\", \"world\", \"world\", \"world\", \"\\u00e2\", \"\\u00ef\", \"\\u00ef\"]}, \"R\": 30, \"lambda.step\": 0.01, \"plot.opts\": {\"xlab\": \"PC1\", \"ylab\": \"PC2\"}, \"topic.order\": [1, 2, 3]};\n",
       "\n",
       "function LDAvis_load_lib(url, callback){\n",
       "  var s = document.createElement('script');\n",
       "  s.src = url;\n",
       "  s.async = true;\n",
       "  s.onreadystatechange = s.onload = callback;\n",
       "  s.onerror = function(){console.warn(\"failed to load library \" + url);};\n",
       "  document.getElementsByTagName(\"head\")[0].appendChild(s);\n",
       "}\n",
       "\n",
       "if(typeof(LDAvis) !== \"undefined\"){\n",
       "   // already loaded: just create the visualization\n",
       "   !function(LDAvis){\n",
       "       new LDAvis(\"#\" + \"ldavis_el743229957836442082501578077\", ldavis_el743229957836442082501578077_data);\n",
       "   }(LDAvis);\n",
       "}else if(typeof define === \"function\" && define.amd){\n",
       "   // require.js is available: use it to load d3/LDAvis\n",
       "   require.config({paths: {d3: \"https://d3js.org/d3.v5\"}});\n",
       "   require([\"d3\"], function(d3){\n",
       "      window.d3 = d3;\n",
       "      LDAvis_load_lib(\"https://cdn.jsdelivr.net/gh/bmabey/pyLDAvis@3.3.1/pyLDAvis/js/ldavis.v3.0.0.js\", function(){\n",
       "        new LDAvis(\"#\" + \"ldavis_el743229957836442082501578077\", ldavis_el743229957836442082501578077_data);\n",
       "      });\n",
       "    });\n",
       "}else{\n",
       "    // require.js not available: dynamically load d3 & LDAvis\n",
       "    LDAvis_load_lib(\"https://d3js.org/d3.v5.js\", function(){\n",
       "         LDAvis_load_lib(\"https://cdn.jsdelivr.net/gh/bmabey/pyLDAvis@3.3.1/pyLDAvis/js/ldavis.v3.0.0.js\", function(){\n",
       "                 new LDAvis(\"#\" + \"ldavis_el743229957836442082501578077\", ldavis_el743229957836442082501578077_data);\n",
       "            })\n",
       "         });\n",
       "}\n",
       "</script>"
      ],
      "text/plain": [
       "<IPython.core.display.HTML object>"
      ]
     },
     "execution_count": 25,
     "metadata": {},
     "output_type": "execute_result"
    }
   ],
   "source": [
    "lda_display = pyLDAvis.gensim_models.prepare(lda_model, corpus, dictionary)\n",
    "pyLDAvis.display(lda_display)"
   ]
  },
  {
   "cell_type": "code",
   "execution_count": null,
   "id": "6843847c-2aae-42a9-9340-16a8c2d8d7de",
   "metadata": {},
   "outputs": [],
   "source": []
  },
  {
   "cell_type": "code",
   "execution_count": null,
   "id": "fbc21627-4ae7-4adc-922e-f140c14373ef",
   "metadata": {},
   "outputs": [],
   "source": []
  },
  {
   "cell_type": "code",
   "execution_count": 26,
   "id": "dc385709-267b-4d17-9a51-5b96c4c85463",
   "metadata": {},
   "outputs": [],
   "source": [
    "df['topic'] = [sorted(lda_model[corpus][text])[0][0] for text in range(len(df['text']))]"
   ]
  },
  {
   "cell_type": "code",
   "execution_count": 27,
   "id": "6a169377-086f-4456-b789-b02614c23a50",
   "metadata": {},
   "outputs": [
    {
     "data": {
      "text/plain": [
       "0    204\n",
       "1     51\n",
       "2     14\n",
       "Name: topic, dtype: int64"
      ]
     },
     "execution_count": 27,
     "metadata": {},
     "output_type": "execute_result"
    }
   ],
   "source": [
    "df.topic.value_counts()"
   ]
  },
  {
   "cell_type": "code",
   "execution_count": null,
   "id": "acd930c6-43e5-4c06-960b-2cd2a88ac42f",
   "metadata": {},
   "outputs": [],
   "source": []
  },
  {
   "cell_type": "code",
   "execution_count": null,
   "id": "60253a7c-9401-4fa9-93e4-54d5df1b483b",
   "metadata": {},
   "outputs": [],
   "source": []
  },
  {
   "cell_type": "code",
   "execution_count": 40,
   "id": "ec1444f0-dd17-4dcd-8579-8a0a215eb74b",
   "metadata": {},
   "outputs": [
    {
     "name": "stderr",
     "output_type": "stream",
     "text": [
      "C:\\Users\\elsha\\anaconda3\\lib\\site-packages\\seaborn\\categorical.py:381: DeprecationWarning: distutils Version classes are deprecated. Use packaging.version instead.\n",
      "  if LooseVersion(mpl.__version__) < \"3.0\":\n",
      "C:\\Users\\elsha\\anaconda3\\lib\\site-packages\\setuptools\\_distutils\\version.py:351: DeprecationWarning: distutils Version classes are deprecated. Use packaging.version instead.\n",
      "  other = LooseVersion(other)\n"
     ]
    },
    {
     "data": {
      "text/plain": [
       "<AxesSubplot:xlabel='country', ylabel='count'>"
      ]
     },
     "execution_count": 40,
     "metadata": {},
     "output_type": "execute_result"
    },
    {
     "data": {
      "image/png": "[encoded data removed]",
      "text/plain": [
       "<Figure size 1080x576 with 1 Axes>"
      ]
     },
     "metadata": {},
     "output_type": "display_data"
    }
   ],
   "source": [
    "plt.figure(figsize = (15,8))\n",
    "\n",
    "sns.countplot( data=df, x='country',  hue='topic'  )"
   ]
  },
  {
   "cell_type": "code",
   "execution_count": 34,
   "id": "9d482178-1097-4122-aaf2-057825965724",
   "metadata": {},
   "outputs": [
    {
     "data": {
      "text/html": [
       "<div>\n",
       "<style scoped>\n",
       "    .dataframe tbody tr th:only-of-type {\n",
       "        vertical-align: middle;\n",
       "    }\n",
       "\n",
       "    .dataframe tbody tr th {\n",
       "        vertical-align: top;\n",
       "    }\n",
       "\n",
       "    .dataframe thead th {\n",
       "        text-align: right;\n",
       "    }\n",
       "</style>\n",
       "<table border=\"1\" class=\"dataframe\">\n",
       "  <thead>\n",
       "    <tr style=\"text-align: right;\">\n",
       "      <th></th>\n",
       "      <th>country</th>\n",
       "      <th>topic</th>\n",
       "    </tr>\n",
       "  </thead>\n",
       "  <tbody>\n",
       "    <tr>\n",
       "      <th>0</th>\n",
       "      <td>AT</td>\n",
       "      <td>0</td>\n",
       "    </tr>\n",
       "    <tr>\n",
       "      <th>1</th>\n",
       "      <td>AT</td>\n",
       "      <td>0</td>\n",
       "    </tr>\n",
       "    <tr>\n",
       "      <th>2</th>\n",
       "      <td>AT</td>\n",
       "      <td>0</td>\n",
       "    </tr>\n",
       "    <tr>\n",
       "      <th>3</th>\n",
       "      <td>AT</td>\n",
       "      <td>0</td>\n",
       "    </tr>\n",
       "    <tr>\n",
       "      <th>4</th>\n",
       "      <td>AT</td>\n",
       "      <td>0</td>\n",
       "    </tr>\n",
       "    <tr>\n",
       "      <th>...</th>\n",
       "      <td>...</td>\n",
       "      <td>...</td>\n",
       "    </tr>\n",
       "    <tr>\n",
       "      <th>264</th>\n",
       "      <td>LV</td>\n",
       "      <td>0</td>\n",
       "    </tr>\n",
       "    <tr>\n",
       "      <th>265</th>\n",
       "      <td>LV</td>\n",
       "      <td>0</td>\n",
       "    </tr>\n",
       "    <tr>\n",
       "      <th>266</th>\n",
       "      <td>LV</td>\n",
       "      <td>1</td>\n",
       "    </tr>\n",
       "    <tr>\n",
       "      <th>267</th>\n",
       "      <td>LV</td>\n",
       "      <td>1</td>\n",
       "    </tr>\n",
       "    <tr>\n",
       "      <th>268</th>\n",
       "      <td>LV</td>\n",
       "      <td>1</td>\n",
       "    </tr>\n",
       "  </tbody>\n",
       "</table>\n",
       "<p>269 rows × 2 columns</p>\n",
       "</div>"
      ],
      "text/plain": [
       "    country  topic\n",
       "0        AT      0\n",
       "1        AT      0\n",
       "2        AT      0\n",
       "3        AT      0\n",
       "4        AT      0\n",
       "..      ...    ...\n",
       "264      LV      0\n",
       "265      LV      0\n",
       "266      LV      1\n",
       "267      LV      1\n",
       "268      LV      1\n",
       "\n",
       "[269 rows x 2 columns]"
      ]
     },
     "execution_count": 34,
     "metadata": {},
     "output_type": "execute_result"
    }
   ],
   "source": [
    "df[['country', 'topic']]"
   ]
  },
  {
   "cell_type": "code",
   "execution_count": 29,
   "id": "e6810118-91e8-4731-932d-1c349c0102ed",
   "metadata": {},
   "outputs": [
    {
     "data": {
      "text/html": [
       "<div>\n",
       "<style scoped>\n",
       "    .dataframe tbody tr th:only-of-type {\n",
       "        vertical-align: middle;\n",
       "    }\n",
       "\n",
       "    .dataframe tbody tr th {\n",
       "        vertical-align: top;\n",
       "    }\n",
       "\n",
       "    .dataframe thead th {\n",
       "        text-align: right;\n",
       "    }\n",
       "</style>\n",
       "<table border=\"1\" class=\"dataframe\">\n",
       "  <thead>\n",
       "    <tr style=\"text-align: right;\">\n",
       "      <th></th>\n",
       "      <th>country</th>\n",
       "      <th>title</th>\n",
       "      <th>text</th>\n",
       "      <th>job_title</th>\n",
       "      <th>tokens</th>\n",
       "      <th>topic</th>\n",
       "    </tr>\n",
       "  </thead>\n",
       "  <tbody>\n",
       "    <tr>\n",
       "      <th>0</th>\n",
       "      <td>AT</td>\n",
       "      <td>Inform</td>\n",
       "      <td>Information Technology Security Manager Global...</td>\n",
       "      <td>Information Technology Security Manager</td>\n",
       "      <td>[information, technology, security, manager, g...</td>\n",
       "      <td>0</td>\n",
       "    </tr>\n",
       "    <tr>\n",
       "      <th>1</th>\n",
       "      <td>AT</td>\n",
       "      <td>Architect</td>\n",
       "      <td>Information Security Architect Copmany SWAROVS...</td>\n",
       "      <td>Information Security Architect</td>\n",
       "      <td>[information, security, architect, copmany, sw...</td>\n",
       "      <td>0</td>\n",
       "    </tr>\n",
       "    <tr>\n",
       "      <th>2</th>\n",
       "      <td>AT</td>\n",
       "      <td>Manager</td>\n",
       "      <td>Information Technology Security Manager Copman...</td>\n",
       "      <td>Information Technology Security Manager</td>\n",
       "      <td>[information, technology, security, manager, c...</td>\n",
       "      <td>0</td>\n",
       "    </tr>\n",
       "    <tr>\n",
       "      <th>3</th>\n",
       "      <td>AT</td>\n",
       "      <td>Analyst</td>\n",
       "      <td>Threat Detection Analyst Company Radar Cyber S...</td>\n",
       "      <td>Threat Detection Analyst</td>\n",
       "      <td>[threat, detection, analyst, company, radar, c...</td>\n",
       "      <td>0</td>\n",
       "    </tr>\n",
       "    <tr>\n",
       "      <th>4</th>\n",
       "      <td>AT</td>\n",
       "      <td>Engineer</td>\n",
       "      <td>IT Security Engineer Company Global Blue Locat...</td>\n",
       "      <td>IT Security Engineer</td>\n",
       "      <td>[security, engineer, company, global, blue, lo...</td>\n",
       "      <td>0</td>\n",
       "    </tr>\n",
       "    <tr>\n",
       "      <th>...</th>\n",
       "      <td>...</td>\n",
       "      <td>...</td>\n",
       "      <td>...</td>\n",
       "      <td>...</td>\n",
       "      <td>...</td>\n",
       "      <td>...</td>\n",
       "    </tr>\n",
       "    <tr>\n",
       "      <th>264</th>\n",
       "      <td>LV</td>\n",
       "      <td>NaN</td>\n",
       "      <td>Compensa Vienna Insurance Group ADB Latvia is ...</td>\n",
       "      <td>IT Manager/Team lead</td>\n",
       "      <td>[compensa, vienna, insurance, group, adb, latv...</td>\n",
       "      <td>0</td>\n",
       "    </tr>\n",
       "    <tr>\n",
       "      <th>265</th>\n",
       "      <td>LV</td>\n",
       "      <td>NaN</td>\n",
       "      <td>Netcracker office in Riga is an integral compo...</td>\n",
       "      <td>IT HelpDesk L2 Engineer</td>\n",
       "      <td>[netcracker, office, riga, integral, component...</td>\n",
       "      <td>0</td>\n",
       "    </tr>\n",
       "    <tr>\n",
       "      <th>266</th>\n",
       "      <td>LV</td>\n",
       "      <td>NaN</td>\n",
       "      <td>Overview ONE IDENTITY- Software Sales Account ...</td>\n",
       "      <td>ONE IDENTITY- Software Sales Account Manager –...</td>\n",
       "      <td>[overview, software, sales, account, manager, ...</td>\n",
       "      <td>1</td>\n",
       "    </tr>\n",
       "    <tr>\n",
       "      <th>267</th>\n",
       "      <td>LV</td>\n",
       "      <td>NaN</td>\n",
       "      <td>The opportunityAt Worldline, our technology ad...</td>\n",
       "      <td>System analyst</td>\n",
       "      <td>[opportunityat, worldline, technology, address...</td>\n",
       "      <td>1</td>\n",
       "    </tr>\n",
       "    <tr>\n",
       "      <th>268</th>\n",
       "      <td>LV</td>\n",
       "      <td>NaN</td>\n",
       "      <td>OpenStack, while complex and challenging in ma...</td>\n",
       "      <td>OpenStack Product Manager</td>\n",
       "      <td>[openstack, complex, challenge, regard, contin...</td>\n",
       "      <td>1</td>\n",
       "    </tr>\n",
       "  </tbody>\n",
       "</table>\n",
       "<p>269 rows × 6 columns</p>\n",
       "</div>"
      ],
      "text/plain": [
       "    country      title                                               text  \\\n",
       "0        AT     Inform  Information Technology Security Manager Global...   \n",
       "1        AT  Architect  Information Security Architect Copmany SWAROVS...   \n",
       "2        AT    Manager  Information Technology Security Manager Copman...   \n",
       "3        AT    Analyst  Threat Detection Analyst Company Radar Cyber S...   \n",
       "4        AT   Engineer  IT Security Engineer Company Global Blue Locat...   \n",
       "..      ...        ...                                                ...   \n",
       "264      LV        NaN  Compensa Vienna Insurance Group ADB Latvia is ...   \n",
       "265      LV        NaN  Netcracker office in Riga is an integral compo...   \n",
       "266      LV        NaN  Overview ONE IDENTITY- Software Sales Account ...   \n",
       "267      LV        NaN  The opportunityAt Worldline, our technology ad...   \n",
       "268      LV        NaN  OpenStack, while complex and challenging in ma...   \n",
       "\n",
       "                                             job_title  \\\n",
       "0              Information Technology Security Manager   \n",
       "1                       Information Security Architect   \n",
       "2              Information Technology Security Manager   \n",
       "3                             Threat Detection Analyst   \n",
       "4                                 IT Security Engineer   \n",
       "..                                                 ...   \n",
       "264                               IT Manager/Team lead   \n",
       "265                            IT HelpDesk L2 Engineer   \n",
       "266  ONE IDENTITY- Software Sales Account Manager –...   \n",
       "267                                     System analyst   \n",
       "268                          OpenStack Product Manager   \n",
       "\n",
       "                                                tokens  topic  \n",
       "0    [information, technology, security, manager, g...      0  \n",
       "1    [information, security, architect, copmany, sw...      0  \n",
       "2    [information, technology, security, manager, c...      0  \n",
       "3    [threat, detection, analyst, company, radar, c...      0  \n",
       "4    [security, engineer, company, global, blue, lo...      0  \n",
       "..                                                 ...    ...  \n",
       "264  [compensa, vienna, insurance, group, adb, latv...      0  \n",
       "265  [netcracker, office, riga, integral, component...      0  \n",
       "266  [overview, software, sales, account, manager, ...      1  \n",
       "267  [opportunityat, worldline, technology, address...      1  \n",
       "268  [openstack, complex, challenge, regard, contin...      1  \n",
       "\n",
       "[269 rows x 6 columns]"
      ]
     },
     "execution_count": 29,
     "metadata": {},
     "output_type": "execute_result"
    }
   ],
   "source": [
    "df"
   ]
  },
  {
   "cell_type": "code",
   "execution_count": null,
   "id": "360c6429-a298-47cc-a4f3-07d9b4401be5",
   "metadata": {},
   "outputs": [],
   "source": []
  },
  {
   "cell_type": "code",
   "execution_count": null,
   "id": "76bfe515-160f-4208-83f9-12ac1dcd02e1",
   "metadata": {},
   "outputs": [],
   "source": []
  },
  {
   "cell_type": "code",
   "execution_count": null,
   "id": "26ff3896-cba4-442e-86b4-36bae282f09e",
   "metadata": {},
   "outputs": [],
   "source": []
  }
 ],
 "metadata": {
  "kernelspec": {
   "display_name": "Python 3 (ipykernel)",
   "language": "python",
   "name": "python3"
  },
  "language_info": {
   "codemirror_mode": {
    "name": "ipython",
    "version": 3
   },
   "file_extension": ".py",
   "mimetype": "text/x-python",
   "name": "python",
   "nbconvert_exporter": "python",
   "pygments_lexer": "ipython3",
   "version": "3.8.8"
  }
 },
 "nbformat": 4,
 "nbformat_minor": 5
}
