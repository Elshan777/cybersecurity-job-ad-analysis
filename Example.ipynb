{
 "cells": [
  {
   "cell_type": "code",
   "execution_count": 38,
   "id": "1e8f8bc1",
   "metadata": {},
   "outputs": [],
   "source": [
    "from linkedin import linkedin"
   ]
  },
  {
   "cell_type": "code",
   "execution_count": 39,
   "id": "c04a2389",
   "metadata": {},
   "outputs": [],
   "source": [
    "APPLICATON_KEY    = '77jo8hx0cb8qga'\n",
    "APPLICATON_SECRET = '3viK6WP76xpM3O3E'"
   ]
  },
  {
   "cell_type": "code",
   "execution_count": null,
   "id": "2bb5b2bf",
   "metadata": {},
   "outputs": [],
   "source": []
  },
  {
   "cell_type": "code",
   "execution_count": null,
   "id": "d28c412d",
   "metadata": {},
   "outputs": [],
   "source": []
  },
  {
   "cell_type": "code",
   "execution_count": 56,
   "id": "df35fe08",
   "metadata": {},
   "outputs": [
    {
     "name": "stdout",
     "output_type": "stream",
     "text": [
      "https://www.linkedin.com/uas/oauth2/authorization?response_type=code&client_id=77jo8hx0cb8qga&scope=r_basicprofile%20r_emailaddress%20w_share%20rw_company_admin%20r_fullprofile%20r_contactinfo&state=87f451c7ebe4f50a3a0b8422fa3f2c0b&redirect_uri=http%3A//localhost%3A3000\n"
     ]
    }
   ],
   "source": [
    "from linkedin import linkedin\n",
    "\n",
    "API_KEY = '77jo8hx0cb8qga'\n",
    "API_SECRET = '3viK6WP76xpM3O3E'\n",
    "RETURN_URL = 'http://localhost:3000'\n",
    "\n",
    "\n",
    "authentication = linkedin.LinkedInAuthentication(API_KEY, API_SECRET, RETURN_URL, linkedin.PERMISSIONS.enums.values())\n",
    "# Optionally one can send custom \"state\" value that will be returned from OAuth server\n",
    "# It can be used to track your user state or something else (it's up to you)\n",
    "# Be aware that this value is sent to OAuth server AS IS - make sure to encode or hash it\n",
    "#authorization.state = 'your_encoded_message'\n",
    "print(authentication.authorization_url)  # open this url on your browser\n",
    "application = linkedin.LinkedInApplication(authentication)"
   ]
  },
  {
   "cell_type": "code",
   "execution_count": null,
   "id": "4677f9d8",
   "metadata": {},
   "outputs": [],
   "source": []
  },
  {
   "cell_type": "code",
   "execution_count": null,
   "id": "742f1947",
   "metadata": {},
   "outputs": [
    {
     "name": "stdout",
     "output_type": "stream",
     "text": [
      "https://www.linkedin.com/uas/oauth2/authorization?response_type=code&client_id=77jo8hx0cb8qga&scope=r_basicprofile%20r_emailaddress%20w_share%20rw_company_admin%20r_fullprofile%20r_contactinfo&state=25ab5a52675397f8a47512f5d945c950&redirect_uri=http%3A//localhost%3A8000/\n"
     ]
    }
   ],
   "source": [
    "from linkedin import server\n",
    "application = server.quick_api(API_KEY, API_SECRET)"
   ]
  },
  {
   "cell_type": "code",
   "execution_count": null,
   "id": "b0325bed",
   "metadata": {},
   "outputs": [],
   "source": []
  },
  {
   "cell_type": "code",
   "execution_count": null,
   "id": "238f0f79",
   "metadata": {},
   "outputs": [],
   "source": []
  },
  {
   "cell_type": "code",
   "execution_count": 17,
   "id": "ab83112b",
   "metadata": {},
   "outputs": [
    {
     "name": "stderr",
     "output_type": "stream",
     "text": [
      "INFO:linkedin_api.linkedin:request failed: This profile can't be accessed\n"
     ]
    }
   ],
   "source": [
    "from linkedin_api import Linkedin\n",
    "\n",
    "# Authenticate using any Linkedin account credentials\n",
    "api = Linkedin('elshanqadimov7@gmail.com', 'password')\n",
    "\n",
    "# GET a profile\n",
    "profile = api.get_profile('Elshan Gadimov')\n",
    "\n",
    "# GET a profiles contact info\n",
    "# contact_info = api.get_profile_contact_info('billy-g')\n",
    "\n",
    "# GET 1st degree connections of a given profile\n",
    "# connections = api.get_profile_connections('1234asc12304')\n"
   ]
  },
  {
   "cell_type": "code",
   "execution_count": 25,
   "id": "8d224260",
   "metadata": {},
   "outputs": [],
   "source": [
    "jobs = api.search_jobs(keywords='Data Science', limit=3)"
   ]
  },
  {
   "cell_type": "code",
   "execution_count": 28,
   "id": "5b8fbacf",
   "metadata": {},
   "outputs": [
    {
     "ename": "AttributeError",
     "evalue": "'Linkedin' object has no attribute 'get_job_posting'",
     "output_type": "error",
     "traceback": [
      "\u001b[1;31m---------------------------------------------------------------------------\u001b[0m",
      "\u001b[1;31mAttributeError\u001b[0m                            Traceback (most recent call last)",
      "\u001b[1;32m~\\AppData\\Local\\Temp/ipykernel_11824/4153797388.py\u001b[0m in \u001b[0;36m<module>\u001b[1;34m\u001b[0m\n\u001b[1;32m----> 1\u001b[1;33m \u001b[0mapi\u001b[0m\u001b[1;33m.\u001b[0m\u001b[0mget_job_posting\u001b[0m\u001b[1;33m(\u001b[0m\u001b[1;33m)\u001b[0m\u001b[1;33m\u001b[0m\u001b[1;33m\u001b[0m\u001b[0m\n\u001b[0m",
      "\u001b[1;31mAttributeError\u001b[0m: 'Linkedin' object has no attribute 'get_job_posting'"
     ]
    }
   ],
   "source": [
    "api.get_job_posting()"
   ]
  },
  {
   "cell_type": "code",
   "execution_count": 31,
   "id": "27e6337e",
   "metadata": {},
   "outputs": [
    {
     "data": {
      "text/plain": [
       "{'salaryInsights': {'lockModuleShown': True,\n",
       "  'salaryExplorerUrl': 'https://www.linkedin.com/salary/',\n",
       "  'insightExists': False,\n",
       "  'jobCompensationAvailable': True,\n",
       "  '$type': 'com.linkedin.voyager.premium.SalaryInsights'},\n",
       " 'dashEntityUrn': 'urn:li:fsd_jobPosting:2900082594',\n",
       " 'companyDetails': {'company': 'urn:li:fs_normalized_company:2496',\n",
       "  '*companyResolutionResult': 'urn:li:fs_normalized_company:2496',\n",
       "  '$recipeTypes': ['com.linkedin.voyager.deco.jserp.WebJobPostingWithCompanyName'],\n",
       "  '$type': 'com.linkedin.voyager.jobs.JobPostingCompany'},\n",
       " 'jobState': 'LISTED',\n",
       " 'title': 'Data Science Senior Manager',\n",
       " 'duration': None,\n",
       " 'entityUrn': 'urn:li:fs_normalized_jobPosting:2900082594',\n",
       " 'briefBenefitsDescription': '',\n",
       " 'applyMethod': {'applyStartersPreferenceVoid': False,\n",
       "  'companyApplyUrl': 'https://diageo.wd3.myworkdayjobs.com/en-US/Diageo_Careers/job/London-England/Data-Science-Senior-Manager_JR1049834?source%3F=LinkedIn_ID&source=Linkedin',\n",
       "  '$type': 'com.linkedin.voyager.jobs.OffsiteApply'},\n",
       " '*savingInfo': 'urn:li:fs_jobSavingInfo:2900082594',\n",
       " 'new': False,\n",
       " 'formattedLocation': 'Budapest, Budapest, Hungary',\n",
       " 'expireAt': 1648847940000,\n",
       " 'listedAt': 1645525393000,\n",
       " '$recipeTypes': ['com.linkedin.voyager.deco.jserp.WebSearchJobJserpJobPostingWithSalary'],\n",
       " '$type': 'com.linkedin.voyager.jobs.JobPosting',\n",
       " 'standardizedAddresses': None,\n",
       " 'sourceDomain': 'diageo.wd3.myworkdayjobs.com'}"
      ]
     },
     "execution_count": 31,
     "metadata": {},
     "output_type": "execute_result"
    }
   ],
   "source": [
    "jobs[2]"
   ]
  },
  {
   "cell_type": "code",
   "execution_count": 42,
   "id": "7f49dca2",
   "metadata": {},
   "outputs": [
    {
     "data": {
      "text/plain": [
       "'2860597671'"
      ]
     },
     "execution_count": 42,
     "metadata": {},
     "output_type": "execute_result"
    }
   ],
   "source": [
    "jobs[-2][\"*savingInfo\"].split(\":\")[-1]"
   ]
  },
  {
   "cell_type": "code",
   "execution_count": 43,
   "id": "c9d5342c",
   "metadata": {},
   "outputs": [],
   "source": [
    "import requests"
   ]
  },
  {
   "cell_type": "code",
   "execution_count": 46,
   "id": "ff5f0964",
   "metadata": {},
   "outputs": [],
   "source": [
    "resp=requests.get(f'https://www.linkedin.com/jobs/view/{jobs[-2][\"*savingInfo\"].split(\":\")[-1]}')"
   ]
  },
  {
   "cell_type": "code",
   "execution_count": 51,
   "id": "e1f21d3c",
   "metadata": {},
   "outputs": [],
   "source": [
    "from bs4 import BeautifulSoup"
   ]
  },
  {
   "cell_type": "code",
   "execution_count": 52,
   "id": "51ae91d7",
   "metadata": {},
   "outputs": [],
   "source": [
    "page=BeautifulSoup(resp.text,\"html.parser\")"
   ]
  },
  {
   "cell_type": "code",
   "execution_count": 59,
   "id": "1cf9abf9",
   "metadata": {},
   "outputs": [
    {
     "data": {
      "text/plain": [
       "'Upwork ($UPWK) is the leading tech solution for companies looking to hire the best talent, maintain flexibility, and get more done. We’re passionate about our mission to create economic opportunities so people have better lives. Every year, more than $2 billion of work is done through Upwork by skilled professionals who want the freedom of working anytime, anywhere. Top companies connecting with extraordinary talent around the globe? Upwork is how.This is a Contract position through Upwork’s Talent Innovation Program (TIP). Our TIP team is a global group of professionals that augment Upwork’s business. Our TIP team members are located all over the world.Work/Project ScopeThis role is with the Upwork Trust and Safety team. The ideal candidate should be a talented and hardworking Senior Data Science Engineer with expert level knowledge of data science practices, SQL, Python and popular machine learning algorithms and packages to develop innovative trust and safety detection capabilities for our platform. You will have the opportunity to work on the vast data sets (structured, unstructured, texts, imagines etc.) in the Trust and Safety domain.You will be working on some business problems that may not have clearly defined requirements and need to be able to do independent research to figure out the details, hypothesize and verify, connect the dots to form the big picture. The ability to think out of the box is desired.You will work with SQL/PostgreSQL/Python to explore the existing raw data set against the business problems to be solved, derive the first level of data insights via all sorts of feature engineering techniques, and potentially instrument more complicated features via backend development on a regular basis. Statistical data analysis for both the raw data set and model results is also needed.You will experiment with different machine learning packages/algorithms (including but not limited to Classification, Regression, Clustering, Deep Learning, NLP), with a good understanding of the strength/weakness of each algorithm for the problem to solve, and have practical experience with hyperparameter tuning.You will be responsible for the full machine learning model training, testing, and final recommendation process, as well as to support the live auditing process.You will really impress us if you have a good working knowledge of the AWS Sagemaker machine learning platform and have developed a machine learning pipeline/framework on top of this platform. Experience with Databricks/Apache Spark platform is also appreciated.You will need to constantly communicate with the business, analytics, and engineering counterparts to clarify requirements, provide feedback, share the discovered data stories via stats, charts and formal presentations, and finally propose recommendations to maximize the overall business benefit with a controlled cost.This is a long term contract position.Must Haves (Required Skills/qualifications)Advanced Python/SQL/PostgreSQL skills to build end to end machine learning models from raw data exploration, to data cleansing, feature extraction, model training/validation, hyperparameter tuning till production model deployment and monitoring etc.Statistical data analysis skills.Work independently and with minimal supervision.Communicate frequently and effectively in English.Deliver high-quality machine learning models with good documentation.Be comfortable with multi-tasking and context switches, with proper time management according to the priorities.Overlap for at least 4 work hours a day on weekdays with the Upwork team located in California.Besides the above, we also highly value your dedication, sense of ownership, and desire to learn and grow. Upwork is proudly committed to fostering a diverse and inclusive workforce. We never discriminate based on race, religion, color, national origin, gender (including pregnancy, childbirth, or related medical condition), sexual orientation, gender identity, gender expression, age, status as a protected veteran, status as an individual with a disability, or other applicable legally protected characteristics.'"
      ]
     },
     "execution_count": 59,
     "metadata": {},
     "output_type": "execute_result"
    }
   ],
   "source": [
    "page.find(class_=\"show-more-less-html__markup show-more-less-html__markup--clamp-after-5\").text.strip()"
   ]
  },
  {
   "cell_type": "code",
   "execution_count": 61,
   "id": "6d60b641",
   "metadata": {},
   "outputs": [],
   "source": [
    "import time"
   ]
  },
  {
   "cell_type": "code",
   "execution_count": 63,
   "id": "023a5946",
   "metadata": {},
   "outputs": [],
   "source": [
    "time.sleep(2)"
   ]
  },
  {
   "cell_type": "code",
   "execution_count": null,
   "id": "aa7bfef0",
   "metadata": {},
   "outputs": [],
   "source": []
  }
 ],
 "metadata": {
  "kernelspec": {
   "display_name": "Python 3 (ipykernel)",
   "language": "python",
   "name": "python3"
  },
  "language_info": {
   "codemirror_mode": {
    "name": "ipython",
    "version": 3
   },
   "file_extension": ".py",
   "mimetype": "text/x-python",
   "name": "python",
   "nbconvert_exporter": "python",
   "pygments_lexer": "ipython3",
   "version": "3.8.8"
  }
 },
 "nbformat": 4,
 "nbformat_minor": 5
}
