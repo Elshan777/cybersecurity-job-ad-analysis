{
 "cells": [
  {
   "cell_type": "code",
   "execution_count": 38,
   "id": "38bc0353",
   "metadata": {},
   "outputs": [],
   "source": [
    "import numpy as np\n",
    "import pandas as pd\n",
    "import re"
   ]
  },
  {
   "cell_type": "code",
   "execution_count": 160,
   "id": "e077fbcc",
   "metadata": {},
   "outputs": [],
   "source": [
    "df = pd.read_csv('jobs.csv')"
   ]
  },
  {
   "cell_type": "code",
   "execution_count": 161,
   "id": "7add71cf",
   "metadata": {},
   "outputs": [
    {
     "data": {
      "text/html": [
       "<div>\n",
       "<style scoped>\n",
       "    .dataframe tbody tr th:only-of-type {\n",
       "        vertical-align: middle;\n",
       "    }\n",
       "\n",
       "    .dataframe tbody tr th {\n",
       "        vertical-align: top;\n",
       "    }\n",
       "\n",
       "    .dataframe thead th {\n",
       "        text-align: right;\n",
       "    }\n",
       "</style>\n",
       "<table border=\"1\" class=\"dataframe\">\n",
       "  <thead>\n",
       "    <tr style=\"text-align: right;\">\n",
       "      <th></th>\n",
       "      <th>country</th>\n",
       "      <th>title</th>\n",
       "      <th>text</th>\n",
       "    </tr>\n",
       "  </thead>\n",
       "  <tbody>\n",
       "    <tr>\n",
       "      <th>0</th>\n",
       "      <td>AT</td>\n",
       "      <td>Architect</td>\n",
       "      <td>https://www.linkedin.com/jobs/view/2589036509/...</td>\n",
       "    </tr>\n",
       "    <tr>\n",
       "      <th>1</th>\n",
       "      <td>AT</td>\n",
       "      <td>Manager</td>\n",
       "      <td>www.linkedin.com/jobs/view/2540581439/\\n\\nInfo...</td>\n",
       "    </tr>\n",
       "    <tr>\n",
       "      <th>2</th>\n",
       "      <td>AU</td>\n",
       "      <td>Inform</td>\n",
       "      <td>Information Technology Security Manager\\n\\nGlo...</td>\n",
       "    </tr>\n",
       "    <tr>\n",
       "      <th>3</th>\n",
       "      <td>CZ</td>\n",
       "      <td>IPSecu</td>\n",
       "      <td>https://www.linkedin.com/jobs/view/2410398234/...</td>\n",
       "    </tr>\n",
       "    <tr>\n",
       "      <th>4</th>\n",
       "      <td>CZ</td>\n",
       "      <td>Senior</td>\n",
       "      <td>https://www.linkedin.com/jobs/view/2487448959/...</td>\n",
       "    </tr>\n",
       "  </tbody>\n",
       "</table>\n",
       "</div>"
      ],
      "text/plain": [
       "  country      title                                               text\n",
       "0      AT  Architect  https://www.linkedin.com/jobs/view/2589036509/...\n",
       "1      AT    Manager  www.linkedin.com/jobs/view/2540581439/\\n\\nInfo...\n",
       "2      AU     Inform  Information Technology Security Manager\\n\\nGlo...\n",
       "3      CZ     IPSecu  https://www.linkedin.com/jobs/view/2410398234/...\n",
       "4      CZ     Senior  https://www.linkedin.com/jobs/view/2487448959/..."
      ]
     },
     "execution_count": 161,
     "metadata": {},
     "output_type": "execute_result"
    }
   ],
   "source": [
    "df.head()"
   ]
  },
  {
   "cell_type": "code",
   "execution_count": 162,
   "id": "b37526fb",
   "metadata": {},
   "outputs": [
    {
     "data": {
      "text/plain": [
       "0      https://www.linkedin.com/jobs/view/2589036509/...\n",
       "1      www.linkedin.com/jobs/view/2540581439/\\n\\nInfo...\n",
       "2      Information Technology Security Manager\\n\\nGlo...\n",
       "3      https://www.linkedin.com/jobs/view/2410398234/...\n",
       "4      https://www.linkedin.com/jobs/view/2487448959/...\n",
       "                             ...                        \n",
       "106    Cyber Security Incident Responder\\n\\nCompany: ...\n",
       "107    https://www.linkedin.com/jobs/view/2507722470/...\n",
       "108    Cybersecurity Professional for Active Director...\n",
       "109    Cyber Security Developer \\n\\nAbout the job\\nDo...\n",
       "110    Incident Response Engineer, \\n\\nWHO YOU ARE\\nY...\n",
       "Name: text, Length: 111, dtype: object"
      ]
     },
     "execution_count": 162,
     "metadata": {},
     "output_type": "execute_result"
    }
   ],
   "source": [
    "df['text']"
   ]
  },
  {
   "cell_type": "code",
   "execution_count": null,
   "id": "170c173e",
   "metadata": {},
   "outputs": [],
   "source": []
  },
  {
   "cell_type": "markdown",
   "id": "61286a32",
   "metadata": {},
   "source": [
    "### Word Count "
   ]
  },
  {
   "cell_type": "code",
   "execution_count": 10,
   "id": "1f90d065",
   "metadata": {
    "scrolled": false
   },
   "outputs": [
    {
     "data": {
      "text/html": [
       "<div>\n",
       "<style scoped>\n",
       "    .dataframe tbody tr th:only-of-type {\n",
       "        vertical-align: middle;\n",
       "    }\n",
       "\n",
       "    .dataframe tbody tr th {\n",
       "        vertical-align: top;\n",
       "    }\n",
       "\n",
       "    .dataframe thead th {\n",
       "        text-align: right;\n",
       "    }\n",
       "</style>\n",
       "<table border=\"1\" class=\"dataframe\">\n",
       "  <thead>\n",
       "    <tr style=\"text-align: right;\">\n",
       "      <th></th>\n",
       "      <th>text</th>\n",
       "      <th>word_count</th>\n",
       "    </tr>\n",
       "  </thead>\n",
       "  <tbody>\n",
       "    <tr>\n",
       "      <th>0</th>\n",
       "      <td>https://www.linkedin.com/jobs/view/2589036509/...</td>\n",
       "      <td>2861</td>\n",
       "    </tr>\n",
       "    <tr>\n",
       "      <th>1</th>\n",
       "      <td>www.linkedin.com/jobs/view/2540581439/\\n\\nInfo...</td>\n",
       "      <td>4849</td>\n",
       "    </tr>\n",
       "    <tr>\n",
       "      <th>2</th>\n",
       "      <td>Information Technology Security Manager\\n\\nGlo...</td>\n",
       "      <td>10242</td>\n",
       "    </tr>\n",
       "    <tr>\n",
       "      <th>3</th>\n",
       "      <td>https://www.linkedin.com/jobs/view/2410398234/...</td>\n",
       "      <td>2673</td>\n",
       "    </tr>\n",
       "    <tr>\n",
       "      <th>4</th>\n",
       "      <td>https://www.linkedin.com/jobs/view/2487448959/...</td>\n",
       "      <td>3394</td>\n",
       "    </tr>\n",
       "    <tr>\n",
       "      <th>...</th>\n",
       "      <td>...</td>\n",
       "      <td>...</td>\n",
       "    </tr>\n",
       "    <tr>\n",
       "      <th>106</th>\n",
       "      <td>Cyber Security Incident Responder\\n\\nCompany: ...</td>\n",
       "      <td>3976</td>\n",
       "    </tr>\n",
       "    <tr>\n",
       "      <th>107</th>\n",
       "      <td>https://www.linkedin.com/jobs/view/2507722470/...</td>\n",
       "      <td>3936</td>\n",
       "    </tr>\n",
       "    <tr>\n",
       "      <th>108</th>\n",
       "      <td>Cybersecurity Professional for Active Director...</td>\n",
       "      <td>3756</td>\n",
       "    </tr>\n",
       "    <tr>\n",
       "      <th>109</th>\n",
       "      <td>Cyber Security Developer \\n\\nAbout the job\\nDo...</td>\n",
       "      <td>2702</td>\n",
       "    </tr>\n",
       "    <tr>\n",
       "      <th>110</th>\n",
       "      <td>Incident Response Engineer, \\n\\nWHO YOU ARE\\nY...</td>\n",
       "      <td>4143</td>\n",
       "    </tr>\n",
       "  </tbody>\n",
       "</table>\n",
       "<p>111 rows × 2 columns</p>\n",
       "</div>"
      ],
      "text/plain": [
       "                                                  text  word_count\n",
       "0    https://www.linkedin.com/jobs/view/2589036509/...        2861\n",
       "1    www.linkedin.com/jobs/view/2540581439/\\n\\nInfo...        4849\n",
       "2    Information Technology Security Manager\\n\\nGlo...       10242\n",
       "3    https://www.linkedin.com/jobs/view/2410398234/...        2673\n",
       "4    https://www.linkedin.com/jobs/view/2487448959/...        3394\n",
       "..                                                 ...         ...\n",
       "106  Cyber Security Incident Responder\\n\\nCompany: ...        3976\n",
       "107  https://www.linkedin.com/jobs/view/2507722470/...        3936\n",
       "108  Cybersecurity Professional for Active Director...        3756\n",
       "109  Cyber Security Developer \\n\\nAbout the job\\nDo...        2702\n",
       "110  Incident Response Engineer, \\n\\nWHO YOU ARE\\nY...        4143\n",
       "\n",
       "[111 rows x 2 columns]"
      ]
     },
     "execution_count": 10,
     "metadata": {},
     "output_type": "execute_result"
    }
   ],
   "source": [
    "df['word_count'] = df['text'].apply(lambda x: len( x.strip(' ')))\n",
    "df[[ 'text', 'word_count']]"
   ]
  },
  {
   "cell_type": "code",
   "execution_count": 9,
   "id": "2a9a6d58",
   "metadata": {},
   "outputs": [
    {
     "data": {
      "text/plain": [
       "0       2861\n",
       "1       4849\n",
       "2      10242\n",
       "3       2673\n",
       "4       3394\n",
       "       ...  \n",
       "106     3976\n",
       "107     3936\n",
       "108     3756\n",
       "109     2702\n",
       "110     4143\n",
       "Name: word_count, Length: 111, dtype: int64"
      ]
     },
     "execution_count": 9,
     "metadata": {},
     "output_type": "execute_result"
    }
   ],
   "source": [
    "df['word_count']"
   ]
  },
  {
   "cell_type": "code",
   "execution_count": null,
   "id": "b0af8b91",
   "metadata": {},
   "outputs": [],
   "source": []
  },
  {
   "cell_type": "markdown",
   "id": "06724f6a",
   "metadata": {},
   "source": [
    "## Stopwords"
   ]
  },
  {
   "cell_type": "code",
   "execution_count": 102,
   "id": "9f5b388d",
   "metadata": {},
   "outputs": [],
   "source": [
    "from nltk.corpus import stopwords\n",
    "stop = stopwords.words('english')\n",
    "df['stopwords'] = df['text'].apply(lambda x: len([x for x in x.split() if x in stop]))"
   ]
  },
  {
   "cell_type": "code",
   "execution_count": 103,
   "id": "045c5737",
   "metadata": {},
   "outputs": [
    {
     "data": {
      "text/html": [
       "<div>\n",
       "<style scoped>\n",
       "    .dataframe tbody tr th:only-of-type {\n",
       "        vertical-align: middle;\n",
       "    }\n",
       "\n",
       "    .dataframe tbody tr th {\n",
       "        vertical-align: top;\n",
       "    }\n",
       "\n",
       "    .dataframe thead th {\n",
       "        text-align: right;\n",
       "    }\n",
       "</style>\n",
       "<table border=\"1\" class=\"dataframe\">\n",
       "  <thead>\n",
       "    <tr style=\"text-align: right;\">\n",
       "      <th></th>\n",
       "      <th>country</th>\n",
       "      <th>title</th>\n",
       "      <th>text</th>\n",
       "      <th>stopwords</th>\n",
       "    </tr>\n",
       "  </thead>\n",
       "  <tbody>\n",
       "    <tr>\n",
       "      <th>0</th>\n",
       "      <td>AT</td>\n",
       "      <td>Architect</td>\n",
       "      <td>https://www.linkedin.com/jobs/view/2589036509/...</td>\n",
       "      <td>134</td>\n",
       "    </tr>\n",
       "    <tr>\n",
       "      <th>1</th>\n",
       "      <td>AT</td>\n",
       "      <td>Manager</td>\n",
       "      <td>www.linkedin.com/jobs/view/2540581439/\\n\\nInfo...</td>\n",
       "      <td>199</td>\n",
       "    </tr>\n",
       "    <tr>\n",
       "      <th>2</th>\n",
       "      <td>AU</td>\n",
       "      <td>Inform</td>\n",
       "      <td>Information Technology Security Manager\\n\\nGlo...</td>\n",
       "      <td>300</td>\n",
       "    </tr>\n",
       "    <tr>\n",
       "      <th>3</th>\n",
       "      <td>CZ</td>\n",
       "      <td>IPSecu</td>\n",
       "      <td>https://www.linkedin.com/jobs/view/2410398234/...</td>\n",
       "      <td>82</td>\n",
       "    </tr>\n",
       "    <tr>\n",
       "      <th>4</th>\n",
       "      <td>CZ</td>\n",
       "      <td>Senior</td>\n",
       "      <td>https://www.linkedin.com/jobs/view/2487448959/...</td>\n",
       "      <td>105</td>\n",
       "    </tr>\n",
       "    <tr>\n",
       "      <th>...</th>\n",
       "      <td>...</td>\n",
       "      <td>...</td>\n",
       "      <td>...</td>\n",
       "      <td>...</td>\n",
       "    </tr>\n",
       "    <tr>\n",
       "      <th>106</th>\n",
       "      <td>RS</td>\n",
       "      <td>IncidentResponder</td>\n",
       "      <td>Cyber Security Incident Responder\\n\\nCompany: ...</td>\n",
       "      <td>138</td>\n",
       "    </tr>\n",
       "    <tr>\n",
       "      <th>107</th>\n",
       "      <td>RS</td>\n",
       "      <td>ProfessionalAD</td>\n",
       "      <td>https://www.linkedin.com/jobs/view/2507722470/...</td>\n",
       "      <td>178</td>\n",
       "    </tr>\n",
       "    <tr>\n",
       "      <th>108</th>\n",
       "      <td>RS</td>\n",
       "      <td>ProfessionalAD</td>\n",
       "      <td>Cybersecurity Professional for Active Director...</td>\n",
       "      <td>177</td>\n",
       "    </tr>\n",
       "    <tr>\n",
       "      <th>109</th>\n",
       "      <td>SE</td>\n",
       "      <td>CyberSec</td>\n",
       "      <td>Cyber Security Developer \\n\\nAbout the job\\nDo...</td>\n",
       "      <td>142</td>\n",
       "    </tr>\n",
       "    <tr>\n",
       "      <th>110</th>\n",
       "      <td>SE</td>\n",
       "      <td>Incident</td>\n",
       "      <td>Incident Response Engineer, \\n\\nWHO YOU ARE\\nY...</td>\n",
       "      <td>238</td>\n",
       "    </tr>\n",
       "  </tbody>\n",
       "</table>\n",
       "<p>111 rows × 4 columns</p>\n",
       "</div>"
      ],
      "text/plain": [
       "    country              title  \\\n",
       "0        AT          Architect   \n",
       "1        AT            Manager   \n",
       "2        AU             Inform   \n",
       "3        CZ             IPSecu   \n",
       "4        CZ             Senior   \n",
       "..      ...                ...   \n",
       "106      RS  IncidentResponder   \n",
       "107      RS     ProfessionalAD   \n",
       "108      RS     ProfessionalAD   \n",
       "109      SE           CyberSec   \n",
       "110      SE           Incident   \n",
       "\n",
       "                                                  text  stopwords  \n",
       "0    https://www.linkedin.com/jobs/view/2589036509/...        134  \n",
       "1    www.linkedin.com/jobs/view/2540581439/\\n\\nInfo...        199  \n",
       "2    Information Technology Security Manager\\n\\nGlo...        300  \n",
       "3    https://www.linkedin.com/jobs/view/2410398234/...         82  \n",
       "4    https://www.linkedin.com/jobs/view/2487448959/...        105  \n",
       "..                                                 ...        ...  \n",
       "106  Cyber Security Incident Responder\\n\\nCompany: ...        138  \n",
       "107  https://www.linkedin.com/jobs/view/2507722470/...        178  \n",
       "108  Cybersecurity Professional for Active Director...        177  \n",
       "109  Cyber Security Developer \\n\\nAbout the job\\nDo...        142  \n",
       "110  Incident Response Engineer, \\n\\nWHO YOU ARE\\nY...        238  \n",
       "\n",
       "[111 rows x 4 columns]"
      ]
     },
     "execution_count": 103,
     "metadata": {},
     "output_type": "execute_result"
    }
   ],
   "source": [
    "df"
   ]
  },
  {
   "cell_type": "code",
   "execution_count": null,
   "id": "3164b51e",
   "metadata": {},
   "outputs": [],
   "source": []
  },
  {
   "cell_type": "code",
   "execution_count": 104,
   "id": "0d8ec311",
   "metadata": {},
   "outputs": [
    {
     "data": {
      "text/plain": [
       "0              Architect\n",
       "1                Manager\n",
       "2                 Inform\n",
       "3                 IPSecu\n",
       "4                 Senior\n",
       "             ...        \n",
       "106    IncidentResponder\n",
       "107       ProfessionalAD\n",
       "108       ProfessionalAD\n",
       "109             CyberSec\n",
       "110             Incident\n",
       "Name: title, Length: 111, dtype: object"
      ]
     },
     "execution_count": 104,
     "metadata": {},
     "output_type": "execute_result"
    }
   ],
   "source": [
    "df['title']"
   ]
  },
  {
   "cell_type": "code",
   "execution_count": null,
   "id": "b1745da8",
   "metadata": {},
   "outputs": [],
   "source": []
  },
  {
   "cell_type": "markdown",
   "id": "2dba36e5",
   "metadata": {},
   "source": [
    "## Remove links"
   ]
  },
  {
   "cell_type": "code",
   "execution_count": 154,
   "id": "81b758b8",
   "metadata": {},
   "outputs": [],
   "source": [
    "# df['text'] = df['text'].apply(lambda x: '\\n\\n'+x)"
   ]
  },
  {
   "cell_type": "code",
   "execution_count": 163,
   "id": "4e254f45",
   "metadata": {},
   "outputs": [
    {
     "data": {
      "text/plain": [
       "0     \\n\\nInformation Security Architect\\n\\nCopmany:...\n",
       "1     \\n\\nInformation Technology Security Manager\\n\\...\n",
       "2     Information Technology Security Manager\\n\\nGlo...\n",
       "3     \\n\\n  IP Security Architect\\n\\n\\n      About t...\n",
       "4     \\n    \\n  Senior Information Security Analyst\\...\n",
       "5     \\n\\n  Security Analyst\\n\\n\\n      About the jo...\n",
       "6     \\n\\n  IT Security Analyst\\n\\n\\n      About the...\n",
       "7     \\n   \\n\\n  CYBER SECURITY & IT COMPLIANCE MANA...\n",
       "8     \\n\\n  Infrastructure Security Architect - Prag...\n",
       "9     \\n\\n  Group Product Manager\\n\\n      About the...\n",
       "10    \\n\\n  Application Security Architect\\n\\n\\nEasy...\n",
       "11    \\n\\n  Security Engineer\\n\\n\\n      About the j...\n",
       "12    ï»¿\\n\\nSpace Cybersecurity Specialist at CGI\\n...\n",
       "13    ï»¿\\n\\nCyber Security Specialist / Penetration...\n",
       "14    ï»¿\\n Cyber-Security Architect at Eaton\\n\\n\\n ...\n",
       "15    ï»¿\\n\\n\\nSecurity and Risk Manager at IBM\\n\\n\\...\n",
       "16    ï»¿\\n\\n\\n Cyber Security Expert at Zentiva\\n\\n...\n",
       "17    ï»¿ \\n\\nCyber Security Architect at Vodafone\\n...\n",
       "18    \\n\\n  Tier 1 Security Engineer\\n\\n      About ...\n",
       "19    \\n\\n  Sr. Security Engineer\\n\\n\\n      About t...\n",
       "Name: lf_text, dtype: object"
      ]
     },
     "execution_count": 163,
     "metadata": {},
     "output_type": "execute_result"
    }
   ],
   "source": [
    "df['lf_text'] = df['text'].apply(lambda x: re.sub(r'https?://\\S+|www\\.\\S+', '', x))\n",
    "\n",
    "df['lf_text'][:20]"
   ]
  },
  {
   "cell_type": "code",
   "execution_count": 164,
   "id": "c4334ba5",
   "metadata": {},
   "outputs": [
    {
     "data": {
      "text/plain": [
       "30    ï»¿\\n\\n\\nSystem Engineer at SolarWinds\\n\\n\\n  ...\n",
       "31    ï»¿\\n \\n Cyber Security Analyst at Honeywell\\n...\n",
       "32    \\n\\n  Security Engineer\\n\\n      About the job...\n",
       "33    ï»¿\\n\\nSecurity Consultant at Accenture\\n\\n\\n ...\n",
       "34    ï»¿\\n\\nSecurity Operations Analyst at 2K\\n\\n\\n...\n",
       "35    ï»¿\\n\\nSenior Security Manager at TietoEVRY\\n\\...\n",
       "36    ï»¿\\n  \\n\\n\\n_**Network Engineer | * Rockwell ...\n",
       "37    ï»¿\\n\\nSOC Analyst at Fortinet\\n\\n\\n      Abou...\n",
       "38    ï»¿\\n\\n\\nSenior Software Engineer in Test, Tal...\n",
       "39    Product Owner, \\n\\nCyber Range\\n\\nWhat you wil...\n",
       "40    Information Security Officer-GRC\\n\\n\\nWhat Is ...\n",
       "41    Security Engineer\\n\\nYour key job responsibili...\n",
       "42    Senior Security Researcher\\n\\nJob Description\\...\n",
       "43    Application Security Specialist WIP\\n\\nTHE ROL...\n",
       "44    \\n\\n  Security Engineer\\n\\nNetskope < Valencia...\n",
       "45    \\n\\n  Senior Security Engineer, Incident Respo...\n",
       "46    \\n\\n  Security Engineer\\n\\nGrupo ICA < Parets ...\n",
       "47    \\n\\n  Information Technology Manager\\n\\nSenito...\n",
       "48    \\n\\n  Senior Digital Forensics Consultant\\n\\nV...\n",
       "49    \\n\\n  JUNIOR SECURITY ENGINEER (D/M/W)\\n\\nAirb...\n",
       "Name: lf_text, dtype: object"
      ]
     },
     "execution_count": 164,
     "metadata": {},
     "output_type": "execute_result"
    }
   ],
   "source": [
    "df['lf_text'][30:50]"
   ]
  },
  {
   "cell_type": "code",
   "execution_count": 165,
   "id": "8f3a79f4",
   "metadata": {},
   "outputs": [],
   "source": [
    "# Remove the 'ï»¿' from some rows and get job title position\n",
    "df['job_title'] = df['lf_text'].apply(lambda x: (re.sub(r'^.*?\\n', '\\n', x).strip()).split('\\n')[0] )"
   ]
  },
  {
   "cell_type": "code",
   "execution_count": 172,
   "id": "bdf9f342",
   "metadata": {
    "scrolled": true
   },
   "outputs": [
    {
     "data": {
      "text/plain": [
       "country                                                     HU\n",
       "title                                                 Engineer\n",
       "text         Security Engineer\\nhttps://www.linkedin.com/jo...\n",
       "lf_text      Security Engineer\\n\\n\\nCompany: Emarsys\\nLocat...\n",
       "job_title                                     Company: Emarsys\n",
       "Name: 57, dtype: object"
      ]
     },
     "execution_count": 172,
     "metadata": {},
     "output_type": "execute_result"
    }
   ],
   "source": [
    "df.iloc[57]"
   ]
  },
  {
   "cell_type": "code",
   "execution_count": 171,
   "id": "a388e9a8",
   "metadata": {
    "scrolled": false
   },
   "outputs": [
    {
     "name": "stdout",
     "output_type": "stream",
     "text": [
      "0 Information Security Architect\n",
      "1 Information Technology Security Manager\n",
      "2 Global Blue < Vienna,\n",
      "3 IP Security Architect\n",
      "4 Senior Information Security Analyst\n",
      "5 Security Analyst\n",
      "6 IT Security Analyst\n",
      "7 CYBER SECURITY & IT COMPLIANCE MANAGER (M/F)\n",
      "8 Infrastructure Security Architect - Prague\n",
      "9 Group Product Manager\n",
      "10 Application Security Architect\n",
      "11 Security Engineer\n",
      "12 Space Cybersecurity Specialist at CGI\n",
      "13 Cyber Security Specialist / Penetration Tester at Resideo\n",
      "14 Cyber-Security Architect at Eaton\n",
      "15 Security and Risk Manager at IBM\n",
      "16 Cyber Security Expert at Zentiva\n",
      "17 Cyber Security Architect at Vodafone\n",
      "18 Tier 1 Security Engineer\n",
      "19 Sr. Security Engineer\n",
      "20 INFORMATION SECURITY ANALYST I at TE Connectivity\n",
      "21 Security QA Engineer at Collibra\n",
      "22 Information Security Engineer (f/m/d) at Deutsche BÃ¶rse\n",
      "23 We can offer this position as part time job in case of your\n",
      "24 Threat Hunting & Response Senior Analyst\n",
      "25 Associate Security Engineer\n",
      "26 Backend Developer Go/ C++ (CyberSecurity) at Acronis\n",
      "27 Security Architect - Network\n",
      "28 Senior Security Operations Engineer at Pure Storage\n",
      "29 Associate Offensive Security Engineer, Managed Services\n",
      "30 System Engineer at SolarWinds\n",
      "31 Cyber Security Analyst at Honeywell\n",
      "32 Security Engineer\n",
      "33 Security Consultant at Accenture\n",
      "34 Security Operations Analyst at 2K\n",
      "35 Senior Security Manager at TietoEVRY\n",
      "36 _**Network Engineer | * Rockwell Automation\n",
      "37 SOC Analyst at Fortinet\n",
      "38 Senior Software Engineer in Test, Talent Community Team at\n",
      "39 Cyber Range\n",
      "40 What Is Needed In This Role\n",
      "41 Your key job responsibilities as the Security Engineer in Europe (Remote) will include:\n",
      "42 Job Description\n",
      "43 THE ROLE\n",
      "44 Security Engineer\n",
      "45 Senior Security Engineer, Incident Response\n",
      "46 Security Engineer\n",
      "47 Information Technology Manager\n",
      "48 Senior Digital Forensics Consultant\n",
      "49 JUNIOR SECURITY ENGINEER (D/M/W)\n",
      "50 Aircraft Cyber Security Engineer\n",
      "51 Presales Security Consultant (Germany)\n",
      "52 Company: Betsson Group Budapest\n",
      "53 Company: Diligent Corporation \n",
      "54 Company: Play'n GO \n",
      "55 Company: KPMG Global Services Hungary \n",
      "56 Company: Traffit Budapest\n",
      "57 Company: Emarsys\n",
      "58 Company: INNOVIEW \n",
      "59 Company: LogMeIn \n",
      "60 Company: Avon \n",
      "61 Company: Epicor Software\n",
      "62 Company: FireEye, Inc.\n",
      "63 Company: EPAM Systems\n",
      "64 Company: Genesys\n",
      "65 Company: Diligent Hungary\n",
      "66 Company: NISZ Zrt.\n",
      "67 Company: T-Systems Hungary Ltd.\n",
      "68 Company: Accenture Hungary\n",
      "69 Company: Docler Holding Budapest\n",
      "70 Company: MP Solutions Ltd.\n",
      "71 Company: Norsk Hydro\n",
      "72 Company: Deutsche Telekom IT Solutions HU\n",
      "73 Advanced Cyber Security Engineer\n",
      "74 Security Threat Monitoring Analyst\n",
      "75 The following requirements apply to a successful candidate:\n",
      "76 Responsibilities\n",
      "77 Your next challenge\n",
      "78 Planning, implementation and administration of security systems (SIEM, PAM, firewalls, IDS / IPS, etc.);\n",
      "79 Your responsibilities:\n",
      "80 Area:\n",
      "81 What Is Needed In This Role\n",
      "82 Job Description\n",
      "83 The SOC Analyst receives, researches, triages, and documents all security events and alerts as they are received. This individual support multiple security-related platforms and technologies, interfacing with others within the IT organization, as well as other internal business units and external customers/partners. Events will be generated from endpoints, networks, security information and event management (SIEM) systems, threat intelligence platforms, employees, third parties and other sources. While working with best-of-the-breed security systems/tools and going through a lot of trainings, you will improve your cyber security skills and knowledge daily.\n",
      "84 You will be responsible for technical IT and network security in Technology division and you will contribute to making sure that our solutions meet security best practices and comply to highest industry standards. Your input will be critical when building customer specific IT and Network solutions. You will be part of cybersecurity incidents investigation and remediation team. Primary focus of your work will be technical (e.g. hardening of our solutions) rather than creating documents.\n",
      "85 Job Description\n",
      "86 About the job:\n",
      "87 Role/Responsibilities\n",
      "88 In This Position, You Will\n",
      "89 Responsibilities\n",
      "90 JOB PURPOSE:\n",
      "91 What you'll do\n",
      "92 Experience needed\n",
      "93 ï§ Perception of the security of the network perimeter of organizations, KDV, mobile devices;\n",
      "94 Job Description\n",
      "95 Responsibilities\n",
      "96 Responsibilities\n",
      "97 What you'll do \n",
      "98 About The Role:\n",
      "99 Your daily responsibilities:\n",
      "100 Position Description\n",
      "101 Role & Responsibilities\n",
      "102 Design your lifestyle as a top freelance developer, with the freedom to work however, wherever, on your terms.\n",
      "103 Company: Control4 \n",
      "104 Company: Raiffeisen banka a.d. Beograd \n",
      "105 Seniority Level: Mid-Senior level\n",
      "106 Company: Tech Data\n",
      "107 Cybersecurity Professional for Active Directory (w/m/d)\n",
      "108 Company: Siemens Energy\n",
      "109 About the job\n",
      "110 WHO YOU ARE\n"
     ]
    }
   ],
   "source": [
    "for i in range(len(df['job_title'])):\n",
    "    print(i, df['job_title'][i])"
   ]
  },
  {
   "cell_type": "code",
   "execution_count": null,
   "id": "82cf9662",
   "metadata": {},
   "outputs": [],
   "source": []
  }
 ],
 "metadata": {
  "kernelspec": {
   "display_name": "Python 3 (ipykernel)",
   "language": "python",
   "name": "python3"
  },
  "language_info": {
   "codemirror_mode": {
    "name": "ipython",
    "version": 3
   },
   "file_extension": ".py",
   "mimetype": "text/x-python",
   "name": "python",
   "nbconvert_exporter": "python",
   "pygments_lexer": "ipython3",
   "version": "3.8.8"
  }
 },
 "nbformat": 4,
 "nbformat_minor": 5
}
