{
 "cells": [
  {
   "cell_type": "code",
   "execution_count": 1,
   "id": "1e8f8bc1",
   "metadata": {},
   "outputs": [],
   "source": [
    "from linkedin import linkedin"
   ]
  },
  {
   "cell_type": "code",
   "execution_count": 2,
   "id": "c04a2389",
   "metadata": {},
   "outputs": [],
   "source": [
    "APPLICATON_KEY    = '77jo8hx0cb8qga'\n",
    "APPLICATON_SECRET = '3viK6WP76xpM3O3E'"
   ]
  },
  {
   "cell_type": "code",
   "execution_count": null,
   "id": "2bb5b2bf",
   "metadata": {},
   "outputs": [],
   "source": []
  },
  {
   "cell_type": "code",
   "execution_count": null,
   "id": "d28c412d",
   "metadata": {},
   "outputs": [],
   "source": []
  },
  {
   "cell_type": "code",
   "execution_count": null,
   "id": "df35fe08",
   "metadata": {},
   "outputs": [],
   "source": [
    "from linkedin import linkedin\n",
    "\n",
    "API_KEY = '77jo8hx0cb8qga'\n",
    "API_SECRET = '3viK6WP76xpM3O3E'\n",
    "RETURN_URL = 'http://localhost:3000'\n",
    "\n",
    "\n",
    "authentication = linkedin.LinkedInAuthentication(API_KEY, API_SECRET, RETURN_URL, linkedin.PERMISSIONS.enums.values())\n",
    "# Optionally one can send custom \"state\" value that will be returned from OAuth server\n",
    "# It can be used to track your user state or something else (it's up to you)\n",
    "# Be aware that this value is sent to OAuth server AS IS - make sure to encode or hash it\n",
    "#authorization.state = 'your_encoded_message'\n",
    "print(authentication.authorization_url)  # open this url on your browser\n",
    "application = linkedin.LinkedInApplication(authentication)"
   ]
  },
  {
   "cell_type": "code",
   "execution_count": null,
   "id": "4677f9d8",
   "metadata": {},
   "outputs": [],
   "source": []
  },
  {
   "cell_type": "code",
   "execution_count": null,
   "id": "742f1947",
   "metadata": {},
   "outputs": [],
   "source": [
    "from linkedin import server\n",
    "application = server.quick_api(API_KEY, API_SECRET)"
   ]
  },
  {
   "cell_type": "code",
   "execution_count": null,
   "id": "b0325bed",
   "metadata": {},
   "outputs": [],
   "source": []
  },
  {
   "cell_type": "code",
   "execution_count": null,
   "id": "238f0f79",
   "metadata": {},
   "outputs": [],
   "source": []
  },
  {
   "cell_type": "code",
   "execution_count": null,
   "id": "ab83112b",
   "metadata": {},
   "outputs": [],
   "source": [
    "from linkedin_api import Linkedin\n",
    "\n",
    "# Authenticate using any Linkedin account credentials\n",
    "api = Linkedin('elshanqadimov7@gmail.com', 'Khazar120')\n",
    "\n",
    "# GET a profile\n",
    "# profile = api.get_profile('Elshan Gadimov')\n",
    "\n",
    "# GET a profiles contact info\n",
    "# contact_info = api.get_profile_contact_info('billy-g')\n",
    "\n",
    "# GET 1st degree connections of a given profile\n",
    "# connections = api.get_profile_connections('1234asc12304')\n"
   ]
  },
  {
   "cell_type": "code",
   "execution_count": 10,
   "id": "8d224260",
   "metadata": {},
   "outputs": [],
   "source": [
    "jobs = api.search_jobs(keywords='Cyber Security', limit=3)"
   ]
  },
  {
   "cell_type": "code",
   "execution_count": 13,
   "id": "27e6337e",
   "metadata": {},
   "outputs": [
    {
     "data": {
      "text/plain": [
       "{'salaryInsights': {'lockModuleShown': True,\n",
       "  'salaryExplorerUrl': 'https://www.linkedin.com/salary/',\n",
       "  'insightExists': False,\n",
       "  'jobCompensationAvailable': True,\n",
       "  '$type': 'com.linkedin.voyager.premium.SalaryInsights'},\n",
       " 'dashEntityUrn': 'urn:li:fsd_jobPosting:3025733299',\n",
       " 'companyDetails': {'company': 'urn:li:fs_normalized_company:46174',\n",
       "  '*companyResolutionResult': 'urn:li:fs_normalized_company:46174',\n",
       "  '$recipeTypes': ['com.linkedin.voyager.deco.jserp.WebJobPostingWithCompanyName'],\n",
       "  '$type': 'com.linkedin.voyager.jobs.JobPostingCompany'},\n",
       " 'jobState': 'LISTED',\n",
       " 'title': 'Cyber Security Specialist',\n",
       " 'duration': None,\n",
       " 'entityUrn': 'urn:li:fs_normalized_jobPosting:3025733299',\n",
       " 'briefBenefitsDescription': '',\n",
       " 'applyMethod': {'unifyApplyEnabled': True,\n",
       "  'type': 'CONTACT_INFORMATION',\n",
       "  '$type': 'com.linkedin.voyager.jobs.SimpleOnsiteApply'},\n",
       " '*savingInfo': 'urn:li:fs_jobSavingInfo:3025733299',\n",
       " 'new': False,\n",
       " 'formattedLocation': 'Budapest, Hungary',\n",
       " 'expireAt': 1652538927000,\n",
       " 'listedAt': 1649946927000,\n",
       " '$recipeTypes': ['com.linkedin.voyager.deco.jserp.WebSearchJobJserpJobPostingWithSalary'],\n",
       " '$type': 'com.linkedin.voyager.jobs.JobPosting',\n",
       " 'standardizedAddresses': None,\n",
       " 'sourceDomain': None}"
      ]
     },
     "execution_count": 13,
     "metadata": {},
     "output_type": "execute_result"
    }
   ],
   "source": [
    "jobs[0]"
   ]
  },
  {
   "cell_type": "code",
   "execution_count": 12,
   "id": "7f49dca2",
   "metadata": {},
   "outputs": [
    {
     "data": {
      "text/plain": [
       "'2801344999'"
      ]
     },
     "execution_count": 12,
     "metadata": {},
     "output_type": "execute_result"
    }
   ],
   "source": [
    "jobs[-2][\"*savingInfo\"].split(\":\")[-1]"
   ]
  },
  {
   "cell_type": "code",
   "execution_count": 14,
   "id": "c9d5342c",
   "metadata": {},
   "outputs": [],
   "source": [
    "import requests"
   ]
  },
  {
   "cell_type": "code",
   "execution_count": 15,
   "id": "ff5f0964",
   "metadata": {},
   "outputs": [],
   "source": [
    "resp=requests.get(f'https://www.linkedin.com/jobs/view/{jobs[-2][\"*savingInfo\"].split(\":\")[-1]}')"
   ]
  },
  {
   "cell_type": "code",
   "execution_count": 16,
   "id": "e1f21d3c",
   "metadata": {},
   "outputs": [],
   "source": [
    "from bs4 import BeautifulSoup"
   ]
  },
  {
   "cell_type": "code",
   "execution_count": 17,
   "id": "51ae91d7",
   "metadata": {},
   "outputs": [],
   "source": [
    "page=BeautifulSoup(resp.text,\"html.parser\")"
   ]
  },
  {
   "cell_type": "code",
   "execution_count": 18,
   "id": "1cf9abf9",
   "metadata": {},
   "outputs": [
    {
     "data": {
      "text/plain": [
       "'Cyber Security EngineerBudapest, HungaryEngineering225560Job DescriptionLet’s Talk About YouYour profileAt least 3- 5 years of active execution knowledge in Cyber Security projects or network administration projectsAdvantage: knowledge of Power Plant Instrumentation & Control Systems and FunctionsAdvantage: knowledge of power plant processesKnowledge of national and international cyber security standards and regulationsKnowledge of emerging cyber security technologies in ICSNetwork analysis knowledgeNetwork security controls knowledge: firewalls, routers, IDSApplication of cyber security controls in Operations Technology (OT)Cyber security policy and procedure developmentCyber security scanning toolsCyber security vulnerability assessmentsCyber security controls deployment and operationFluent English requiredWillingness to travelYour ResponsibilitiesTechnical execution of Omnivise Cyber Security projects, including:Technical clarification of interfaces to customers, other projects, or sub-projectsDesign of architecture, components, and mechanism for cyber security solutionsMaking decision on security related issuesFacilitate the procurement of third-party hardware/software included in project scopeResponsibility for implementation of Siemens cyber security solutions in accordance with best industry practices (remote and on-site)Monitoring and reporting of budget and work progresspreparation of customer documentationContinually improve knowledge with respect to trends and tools.Your opportunities for personal growthOpportunity to have an active engineering role on Siemens Energy future handling complex projects with a high digitalization levelWorking with an international teams and business environmentsExcellent opportunity for professional development on a new tailored organization for Siemens Energy businessCompetitive benefit package (basic salary, bonus, daily allowance for travelling periods)Siemens Energy follows EU guidelines and business standards for workers abroadLet’s Talk About Us\"Let’s make tomorrow different today\" is our genuine commitment at Siemens Energy to all cutomers and employees on the way to a sustainable future.In our division, Service and Digital, we offer a broad portfolio of cutting-edge technologies, services and solutions for the Gas and Power industries.Our Business Unit, Controls and Digitalization is focused on delivering value-creating services and solutions for our customers in the fields of controls, digitalization, automation and electric. We are focused on Engineering, Innovation, and Digital Transformation.MORE INSIGHTSBe Energized. Be you.Lucky for us, we are not all the same. Through diversity we generate power. We run on inclusion and compassion. Our combined creative energy is fueled by at least 130 nationalities. Siemens Energy celebrates character – no matter what ethnic background, gender, age, religion, identity, or disability. We energize society. All of society.Jobs & Careers: https://www.siemens-energy.com/global/en/company/jobs.htmlOrganization: Gas and PowerCompany: Siemens Energy Kft.Experience Level: Experienced ProfessionalJob Type: Full-time'"
      ]
     },
     "execution_count": 18,
     "metadata": {},
     "output_type": "execute_result"
    }
   ],
   "source": [
    "page.find(class_=\"show-more-less-html__markup show-more-less-html__markup--clamp-after-5\").text.strip()"
   ]
  },
  {
   "cell_type": "code",
   "execution_count": null,
   "id": "6d60b641",
   "metadata": {},
   "outputs": [],
   "source": [
    "import time"
   ]
  },
  {
   "cell_type": "code",
   "execution_count": null,
   "id": "023a5946",
   "metadata": {},
   "outputs": [],
   "source": [
    "time.sleep(2)"
   ]
  },
  {
   "cell_type": "code",
   "execution_count": null,
   "id": "aa7bfef0",
   "metadata": {},
   "outputs": [],
   "source": []
  }
 ],
 "metadata": {
  "kernelspec": {
   "display_name": "Python 3 (ipykernel)",
   "language": "python",
   "name": "python3"
  },
  "language_info": {
   "codemirror_mode": {
    "name": "ipython",
    "version": 3
   },
   "file_extension": ".py",
   "mimetype": "text/x-python",
   "name": "python",
   "nbconvert_exporter": "python",
   "pygments_lexer": "ipython3",
   "version": "3.8.8"
  }
 },
 "nbformat": 4,
 "nbformat_minor": 5
}
