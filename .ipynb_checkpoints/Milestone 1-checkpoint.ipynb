{
 "cells": [
  {
   "cell_type": "markdown",
   "id": "134953fa",
   "metadata": {},
   "source": [
    "# First Milestone Final Notebook "
   ]
  },
  {
   "cell_type": "code",
   "execution_count": 43,
   "id": "df765a8a",
   "metadata": {},
   "outputs": [],
   "source": [
    "import os\n",
    "import pandas as pd\n",
    "from sklearn.feature_extraction.text import CountVectorizer\n",
    "from sklearn.feature_extraction.text import TfidfVectorizer\n",
    "import nltk\n",
    "from textblob import TextBlob\n",
    "from nltk.corpus import stopwords\n",
    "import re\n",
    "import numpy as np"
   ]
  },
  {
   "cell_type": "markdown",
   "id": "65663ac3",
   "metadata": {},
   "source": [
    "# Loading the data"
   ]
  },
  {
   "cell_type": "code",
   "execution_count": 9,
   "id": "46227bae",
   "metadata": {},
   "outputs": [],
   "source": [
    "files = os.listdir('./001_medium')\n",
    "texts = []\n",
    "countries = []\n",
    "positions = []\n",
    "titles = []\n",
    "\n",
    "for i in range(len(files) ):\n",
    "#     print(i[:2])\n",
    "#     print(files[i])\n",
    "#     print( i, (files[i].split('.')[0]).split('_')[-1])\n",
    "    # Read the text\n",
    "    f = open(\"./001_medium/\"+files[i], \"r\",  encoding=\"ISO-8859-1\" )\n",
    "    s = f.read()\n",
    "    texts.append(s.strip())\n",
    "    # Read the country\n",
    "    countries.append(files[i].split('_')[0])\n",
    "    # Read the position\n",
    "    positions.append( (files[i].split('.')[0]).split('_')[-1] )\n",
    "    # Read the full title\n",
    "    titles.append( files[i].split('.') )\n",
    "#     titles.append(files[i])\n",
    "f.close()"
   ]
  },
  {
   "cell_type": "code",
   "execution_count": 10,
   "id": "d20f156c",
   "metadata": {},
   "outputs": [
    {
     "data": {
      "text/html": [
       "<div>\n",
       "<style scoped>\n",
       "    .dataframe tbody tr th:only-of-type {\n",
       "        vertical-align: middle;\n",
       "    }\n",
       "\n",
       "    .dataframe tbody tr th {\n",
       "        vertical-align: top;\n",
       "    }\n",
       "\n",
       "    .dataframe thead th {\n",
       "        text-align: right;\n",
       "    }\n",
       "</style>\n",
       "<table border=\"1\" class=\"dataframe\">\n",
       "  <thead>\n",
       "    <tr style=\"text-align: right;\">\n",
       "      <th></th>\n",
       "      <th>country</th>\n",
       "      <th>title</th>\n",
       "      <th>text</th>\n",
       "    </tr>\n",
       "  </thead>\n",
       "  <tbody>\n",
       "    <tr>\n",
       "      <th>0</th>\n",
       "      <td>AT</td>\n",
       "      <td>Inform</td>\n",
       "      <td>https://www.linkedin.com/company/global-blue/l...</td>\n",
       "    </tr>\n",
       "    <tr>\n",
       "      <th>1</th>\n",
       "      <td>AT</td>\n",
       "      <td>Architect</td>\n",
       "      <td>https://www.linkedin.com/jobs/view/2589036509/...</td>\n",
       "    </tr>\n",
       "    <tr>\n",
       "      <th>2</th>\n",
       "      <td>AT</td>\n",
       "      <td>Manager</td>\n",
       "      <td>www.linkedin.com/jobs/view/2540581439/\\n\\nInfo...</td>\n",
       "    </tr>\n",
       "    <tr>\n",
       "      <th>3</th>\n",
       "      <td>CZ</td>\n",
       "      <td>IPSecu</td>\n",
       "      <td>https://www.linkedin.com/jobs/view/2410398234/...</td>\n",
       "    </tr>\n",
       "    <tr>\n",
       "      <th>4</th>\n",
       "      <td>CZ</td>\n",
       "      <td>Senior</td>\n",
       "      <td>https://www.linkedin.com/jobs/view/2487448959/...</td>\n",
       "    </tr>\n",
       "  </tbody>\n",
       "</table>\n",
       "</div>"
      ],
      "text/plain": [
       "  country      title                                               text\n",
       "0      AT     Inform  https://www.linkedin.com/company/global-blue/l...\n",
       "1      AT  Architect  https://www.linkedin.com/jobs/view/2589036509/...\n",
       "2      AT    Manager  www.linkedin.com/jobs/view/2540581439/\\n\\nInfo...\n",
       "3      CZ     IPSecu  https://www.linkedin.com/jobs/view/2410398234/...\n",
       "4      CZ     Senior  https://www.linkedin.com/jobs/view/2487448959/..."
      ]
     },
     "execution_count": 10,
     "metadata": {},
     "output_type": "execute_result"
    }
   ],
   "source": [
    "# Creating a dataframe\n",
    "df = pd.DataFrame(list(zip(countries, positions, texts)),\n",
    "               columns =['country', 'title', 'text'])\n",
    "df.head()"
   ]
  },
  {
   "cell_type": "markdown",
   "id": "9863d4ef",
   "metadata": {},
   "source": [
    "### Now I will write dataframe to csv so we don't have read files everytime"
   ]
  },
  {
   "cell_type": "code",
   "execution_count": 11,
   "id": "755788a4",
   "metadata": {},
   "outputs": [],
   "source": [
    "df.to_csv('jobs.csv', index=False)\n",
    "df = pd.read_csv('jobs.csv')"
   ]
  },
  {
   "cell_type": "code",
   "execution_count": null,
   "id": "df6bfcaf",
   "metadata": {},
   "outputs": [],
   "source": []
  },
  {
   "cell_type": "code",
   "execution_count": 23,
   "id": "12d1e2a7",
   "metadata": {},
   "outputs": [],
   "source": [
    "df = pd.read_csv('jobs.csv')"
   ]
  },
  {
   "cell_type": "code",
   "execution_count": null,
   "id": "0b572b82",
   "metadata": {},
   "outputs": [],
   "source": []
  },
  {
   "cell_type": "markdown",
   "id": "e87ad2c5",
   "metadata": {},
   "source": [
    "## Basic feature extraction"
   ]
  },
  {
   "cell_type": "code",
   "execution_count": 13,
   "id": "ef61a6c1",
   "metadata": {},
   "outputs": [
    {
     "data": {
      "text/html": [
       "<div>\n",
       "<style scoped>\n",
       "    .dataframe tbody tr th:only-of-type {\n",
       "        vertical-align: middle;\n",
       "    }\n",
       "\n",
       "    .dataframe tbody tr th {\n",
       "        vertical-align: top;\n",
       "    }\n",
       "\n",
       "    .dataframe thead th {\n",
       "        text-align: right;\n",
       "    }\n",
       "</style>\n",
       "<table border=\"1\" class=\"dataframe\">\n",
       "  <thead>\n",
       "    <tr style=\"text-align: right;\">\n",
       "      <th></th>\n",
       "      <th>text</th>\n",
       "      <th>word_count</th>\n",
       "    </tr>\n",
       "  </thead>\n",
       "  <tbody>\n",
       "    <tr>\n",
       "      <th>0</th>\n",
       "      <td>https://www.linkedin.com/company/global-blue/l...</td>\n",
       "      <td>10293</td>\n",
       "    </tr>\n",
       "    <tr>\n",
       "      <th>1</th>\n",
       "      <td>https://www.linkedin.com/jobs/view/2589036509/...</td>\n",
       "      <td>2861</td>\n",
       "    </tr>\n",
       "    <tr>\n",
       "      <th>2</th>\n",
       "      <td>www.linkedin.com/jobs/view/2540581439/\\n\\nInfo...</td>\n",
       "      <td>4849</td>\n",
       "    </tr>\n",
       "    <tr>\n",
       "      <th>3</th>\n",
       "      <td>https://www.linkedin.com/jobs/view/2410398234/...</td>\n",
       "      <td>2673</td>\n",
       "    </tr>\n",
       "    <tr>\n",
       "      <th>4</th>\n",
       "      <td>https://www.linkedin.com/jobs/view/2487448959/...</td>\n",
       "      <td>3394</td>\n",
       "    </tr>\n",
       "  </tbody>\n",
       "</table>\n",
       "</div>"
      ],
      "text/plain": [
       "                                                text  word_count\n",
       "0  https://www.linkedin.com/company/global-blue/l...       10293\n",
       "1  https://www.linkedin.com/jobs/view/2589036509/...        2861\n",
       "2  www.linkedin.com/jobs/view/2540581439/\\n\\nInfo...        4849\n",
       "3  https://www.linkedin.com/jobs/view/2410398234/...        2673\n",
       "4  https://www.linkedin.com/jobs/view/2487448959/...        3394"
      ]
     },
     "execution_count": 13,
     "metadata": {},
     "output_type": "execute_result"
    }
   ],
   "source": [
    "df['word_count'] = df['text'].apply(lambda x: len( x.strip(' ')))\n",
    "df[[ 'text', 'word_count']].head()"
   ]
  },
  {
   "cell_type": "code",
   "execution_count": null,
   "id": "b55b3144",
   "metadata": {},
   "outputs": [],
   "source": [
    "\n"
   ]
  },
  {
   "cell_type": "code",
   "execution_count": 16,
   "id": "0a1dd6d6",
   "metadata": {},
   "outputs": [
    {
     "data": {
      "text/html": [
       "<div>\n",
       "<style scoped>\n",
       "    .dataframe tbody tr th:only-of-type {\n",
       "        vertical-align: middle;\n",
       "    }\n",
       "\n",
       "    .dataframe tbody tr th {\n",
       "        vertical-align: top;\n",
       "    }\n",
       "\n",
       "    .dataframe thead th {\n",
       "        text-align: right;\n",
       "    }\n",
       "</style>\n",
       "<table border=\"1\" class=\"dataframe\">\n",
       "  <thead>\n",
       "    <tr style=\"text-align: right;\">\n",
       "      <th></th>\n",
       "      <th>country</th>\n",
       "      <th>title</th>\n",
       "      <th>text</th>\n",
       "      <th>word_count</th>\n",
       "      <th>stopwords</th>\n",
       "    </tr>\n",
       "  </thead>\n",
       "  <tbody>\n",
       "    <tr>\n",
       "      <th>0</th>\n",
       "      <td>AT</td>\n",
       "      <td>Inform</td>\n",
       "      <td>https://www.linkedin.com/company/global-blue/l...</td>\n",
       "      <td>10293</td>\n",
       "      <td>300</td>\n",
       "    </tr>\n",
       "    <tr>\n",
       "      <th>1</th>\n",
       "      <td>AT</td>\n",
       "      <td>Architect</td>\n",
       "      <td>https://www.linkedin.com/jobs/view/2589036509/...</td>\n",
       "      <td>2861</td>\n",
       "      <td>134</td>\n",
       "    </tr>\n",
       "    <tr>\n",
       "      <th>2</th>\n",
       "      <td>AT</td>\n",
       "      <td>Manager</td>\n",
       "      <td>www.linkedin.com/jobs/view/2540581439/\\n\\nInfo...</td>\n",
       "      <td>4849</td>\n",
       "      <td>199</td>\n",
       "    </tr>\n",
       "    <tr>\n",
       "      <th>3</th>\n",
       "      <td>CZ</td>\n",
       "      <td>IPSecu</td>\n",
       "      <td>https://www.linkedin.com/jobs/view/2410398234/...</td>\n",
       "      <td>2673</td>\n",
       "      <td>82</td>\n",
       "    </tr>\n",
       "    <tr>\n",
       "      <th>4</th>\n",
       "      <td>CZ</td>\n",
       "      <td>Senior</td>\n",
       "      <td>https://www.linkedin.com/jobs/view/2487448959/...</td>\n",
       "      <td>3394</td>\n",
       "      <td>105</td>\n",
       "    </tr>\n",
       "  </tbody>\n",
       "</table>\n",
       "</div>"
      ],
      "text/plain": [
       "  country      title                                               text  \\\n",
       "0      AT     Inform  https://www.linkedin.com/company/global-blue/l...   \n",
       "1      AT  Architect  https://www.linkedin.com/jobs/view/2589036509/...   \n",
       "2      AT    Manager  www.linkedin.com/jobs/view/2540581439/\\n\\nInfo...   \n",
       "3      CZ     IPSecu  https://www.linkedin.com/jobs/view/2410398234/...   \n",
       "4      CZ     Senior  https://www.linkedin.com/jobs/view/2487448959/...   \n",
       "\n",
       "   word_count  stopwords  \n",
       "0       10293        300  \n",
       "1        2861        134  \n",
       "2        4849        199  \n",
       "3        2673         82  \n",
       "4        3394        105  "
      ]
     },
     "execution_count": 16,
     "metadata": {},
     "output_type": "execute_result"
    }
   ],
   "source": [
    "# Stop words per row\n",
    "stop = stopwords.words('english')\n",
    "df['stopwords'] = df['text'].apply(lambda x: len([x for x in x.split() if x in stop]))\n",
    "df.head()"
   ]
  },
  {
   "cell_type": "code",
   "execution_count": null,
   "id": "2b88ac7d",
   "metadata": {},
   "outputs": [],
   "source": []
  },
  {
   "cell_type": "markdown",
   "id": "cc3ac98c",
   "metadata": {},
   "source": [
    "## Cleaning the text column"
   ]
  },
  {
   "cell_type": "code",
   "execution_count": 25,
   "id": "a131ad4e",
   "metadata": {
    "scrolled": true
   },
   "outputs": [
    {
     "name": "stderr",
     "output_type": "stream",
     "text": [
      "C:\\Users\\elsha\\AppData\\Local\\Temp/ipykernel_11204/3961677791.py:8: FutureWarning: The default value of regex will change from True to False in a future version.\n",
      "  df['text'] = df['text'].str.replace('[^\\w\\s]','')\n"
     ]
    },
    {
     "data": {
      "text/html": [
       "<div>\n",
       "<style scoped>\n",
       "    .dataframe tbody tr th:only-of-type {\n",
       "        vertical-align: middle;\n",
       "    }\n",
       "\n",
       "    .dataframe tbody tr th {\n",
       "        vertical-align: top;\n",
       "    }\n",
       "\n",
       "    .dataframe thead th {\n",
       "        text-align: right;\n",
       "    }\n",
       "</style>\n",
       "<table border=\"1\" class=\"dataframe\">\n",
       "  <thead>\n",
       "    <tr style=\"text-align: right;\">\n",
       "      <th></th>\n",
       "      <th>country</th>\n",
       "      <th>title</th>\n",
       "      <th>text</th>\n",
       "      <th>job_title</th>\n",
       "    </tr>\n",
       "  </thead>\n",
       "  <tbody>\n",
       "    <tr>\n",
       "      <th>0</th>\n",
       "      <td>AT</td>\n",
       "      <td>Inform</td>\n",
       "      <td>Information Technology Security Manager Global...</td>\n",
       "      <td>Information Technology Security Manager</td>\n",
       "    </tr>\n",
       "    <tr>\n",
       "      <th>1</th>\n",
       "      <td>AT</td>\n",
       "      <td>Architect</td>\n",
       "      <td>Information Security Architect Copmany SWAROVS...</td>\n",
       "      <td>Information Security Architect</td>\n",
       "    </tr>\n",
       "    <tr>\n",
       "      <th>2</th>\n",
       "      <td>AT</td>\n",
       "      <td>Manager</td>\n",
       "      <td>Information Technology Security Manager Copman...</td>\n",
       "      <td>Information Technology Security Manager</td>\n",
       "    </tr>\n",
       "    <tr>\n",
       "      <th>3</th>\n",
       "      <td>CZ</td>\n",
       "      <td>IPSecu</td>\n",
       "      <td>IP Security Architect About job Description Th...</td>\n",
       "      <td>IP Security Architect</td>\n",
       "    </tr>\n",
       "    <tr>\n",
       "      <th>4</th>\n",
       "      <td>CZ</td>\n",
       "      <td>Senior</td>\n",
       "      <td>Senior Information Security Analyst About job ...</td>\n",
       "      <td>Senior Information Security Analyst</td>\n",
       "    </tr>\n",
       "  </tbody>\n",
       "</table>\n",
       "</div>"
      ],
      "text/plain": [
       "  country      title                                               text  \\\n",
       "0      AT     Inform  Information Technology Security Manager Global...   \n",
       "1      AT  Architect  Information Security Architect Copmany SWAROVS...   \n",
       "2      AT    Manager  Information Technology Security Manager Copman...   \n",
       "3      CZ     IPSecu  IP Security Architect About job Description Th...   \n",
       "4      CZ     Senior  Senior Information Security Analyst About job ...   \n",
       "\n",
       "                                 job_title  \n",
       "0  Information Technology Security Manager  \n",
       "1           Information Security Architect  \n",
       "2  Information Technology Security Manager  \n",
       "3                    IP Security Architect  \n",
       "4      Senior Information Security Analyst  "
      ]
     },
     "execution_count": 25,
     "metadata": {},
     "output_type": "execute_result"
    }
   ],
   "source": [
    "\n",
    "# Removal of links\n",
    "df['text'] = df['text'].apply(lambda x: re.sub(r'https?://\\S+|www\\.\\S+', '', x))\n",
    "\n",
    "# Extract Job Title from text\n",
    "df['job_title'] = df['text'].apply(lambda x: (re.sub(r'^.*?\\n', '\\n', x).strip()).split('\\n')[0] )\n",
    "\n",
    "# Removal of punctuations\n",
    "df['text'] = df['text'].str.replace('[^\\w\\s]','')\n",
    "\n",
    "stop = stopwords.words('english')\n",
    "df['text'] = df['text'].apply(lambda x: \" \".join(x for x in x.split() if x not in stop))\n",
    "\n",
    "df.head()"
   ]
  },
  {
   "cell_type": "code",
   "execution_count": null,
   "id": "1278024a",
   "metadata": {},
   "outputs": [],
   "source": []
  },
  {
   "cell_type": "markdown",
   "id": "22d9376f",
   "metadata": {},
   "source": [
    "#### Lets check how many roles we have for each position"
   ]
  },
  {
   "cell_type": "code",
   "execution_count": 29,
   "id": "c9016768",
   "metadata": {},
   "outputs": [
    {
     "data": {
      "text/plain": [
       "Security Engineer                                         7\n",
       "Information Security Engineer                             4\n",
       "Security Analyst                                          4\n",
       "Cyber Security Consultant                                 2\n",
       "Senior Security Researcher                                2\n",
       "                                                         ..\n",
       "Cyber Security Analyst at Honeywell                       1\n",
       "System Engineer at SolarWinds                             1\n",
       "Associate Offensive Security Engineer Managed Services    1\n",
       "Senior Security Operations Engineer at Pure Storage       1\n",
       "Incident Response Engineer                                1\n",
       "Name: job_title, Length: 91, dtype: int64"
      ]
     },
     "execution_count": 29,
     "metadata": {},
     "output_type": "execute_result"
    }
   ],
   "source": [
    "df['job_title'].value_counts()"
   ]
  },
  {
   "cell_type": "markdown",
   "id": "f50d81e3",
   "metadata": {},
   "source": [
    "Security Engineers come on top followed by Information Security Engineers"
   ]
  },
  {
   "cell_type": "code",
   "execution_count": null,
   "id": "8c1ade8b",
   "metadata": {},
   "outputs": [],
   "source": []
  },
  {
   "cell_type": "code",
   "execution_count": null,
   "id": "03828b73",
   "metadata": {},
   "outputs": [],
   "source": []
  },
  {
   "cell_type": "markdown",
   "id": "b8e8152a",
   "metadata": {},
   "source": [
    "### Lemmatization"
   ]
  },
  {
   "cell_type": "code",
   "execution_count": 54,
   "id": "02d11278",
   "metadata": {},
   "outputs": [
    {
     "name": "stdout",
     "output_type": "stream",
     "text": [
      "0    Information Technology Security Manager Global...\n",
      "1    Information Security Architect Copmany SWAROVS...\n",
      "2    Information Technology Security Manager Copman...\n",
      "3    IP Security Architect About job Description Th...\n",
      "4    Senior Information Security Analyst About job ...\n",
      "Name: text, dtype: object\n"
     ]
    }
   ],
   "source": [
    "# Lemmatization\n",
    "from textblob import Word\n",
    "df['text'] = df['text'].apply(lambda x: \" \".join([Word(word).lemmatize() for word in x.split()]))\n",
    "print(df['text'].head())"
   ]
  },
  {
   "cell_type": "code",
   "execution_count": null,
   "id": "0439f33f",
   "metadata": {},
   "outputs": [],
   "source": []
  },
  {
   "cell_type": "markdown",
   "id": "4fbdf673",
   "metadata": {},
   "source": [
    "## Most frequent words"
   ]
  },
  {
   "cell_type": "code",
   "execution_count": 51,
   "id": "9df7fbd3",
   "metadata": {},
   "outputs": [
    {
     "name": "stdout",
     "output_type": "stream",
     "text": [
      "security       760\n",
      "Security       387\n",
      "team           248\n",
      "experience     234\n",
      "system         223\n",
      "IT             215\n",
      "Experience     181\n",
      "work           164\n",
      "skill          162\n",
      "You            158\n",
      "Information    152\n",
      "information    132\n",
      "management     132\n",
      "network        127\n",
      "knowledge      126\n",
      "technology     124\n",
      "solution       119\n",
      "Job            109\n",
      "technical      109\n",
      "The            107\n",
      "dtype: int64\n"
     ]
    }
   ],
   "source": [
    "freq = pd.Series(' '.join(df['text']).split()).value_counts()[:20]\n",
    "print(freq)"
   ]
  },
  {
   "cell_type": "code",
   "execution_count": null,
   "id": "e2dfb623",
   "metadata": {},
   "outputs": [],
   "source": []
  },
  {
   "cell_type": "markdown",
   "id": "5fde3eb4",
   "metadata": {},
   "source": [
    "### N Grams"
   ]
  },
  {
   "cell_type": "code",
   "execution_count": 50,
   "id": "d39935ce",
   "metadata": {},
   "outputs": [
    {
     "name": "stdout",
     "output_type": "stream",
     "text": [
      "[WordList(['Information', 'Technology']), WordList(['Technology', 'Security']), WordList(['Security', 'Manager']), WordList(['Manager', 'Global']), WordList(['Global', 'Blue'])]\n"
     ]
    }
   ],
   "source": [
    "print(TextBlob(df['text'][0]).ngrams(2)[:5])"
   ]
  },
  {
   "cell_type": "code",
   "execution_count": null,
   "id": "69029ba2",
   "metadata": {},
   "outputs": [],
   "source": []
  },
  {
   "cell_type": "code",
   "execution_count": null,
   "id": "932c621e",
   "metadata": {},
   "outputs": [],
   "source": []
  },
  {
   "cell_type": "markdown",
   "id": "cf8ac0c9",
   "metadata": {},
   "source": [
    "## Applying TF IDF"
   ]
  },
  {
   "cell_type": "code",
   "execution_count": 37,
   "id": "035c42c2",
   "metadata": {},
   "outputs": [
    {
     "data": {
      "text/html": [
       "<div>\n",
       "<style scoped>\n",
       "    .dataframe tbody tr th:only-of-type {\n",
       "        vertical-align: middle;\n",
       "    }\n",
       "\n",
       "    .dataframe tbody tr th {\n",
       "        vertical-align: top;\n",
       "    }\n",
       "\n",
       "    .dataframe thead th {\n",
       "        text-align: right;\n",
       "    }\n",
       "</style>\n",
       "<table border=\"1\" class=\"dataframe\">\n",
       "  <thead>\n",
       "    <tr style=\"text-align: right;\">\n",
       "      <th></th>\n",
       "      <th>TF-IDF</th>\n",
       "    </tr>\n",
       "  </thead>\n",
       "  <tbody>\n",
       "    <tr>\n",
       "      <th>information</th>\n",
       "      <td>0.397172</td>\n",
       "    </tr>\n",
       "    <tr>\n",
       "      <th>security</th>\n",
       "      <td>0.356113</td>\n",
       "    </tr>\n",
       "    <tr>\n",
       "      <th>program</th>\n",
       "      <td>0.298509</td>\n",
       "    </tr>\n",
       "    <tr>\n",
       "      <th>salary</th>\n",
       "      <td>0.217892</td>\n",
       "    </tr>\n",
       "    <tr>\n",
       "      <th>define</th>\n",
       "      <td>0.166721</td>\n",
       "    </tr>\n",
       "  </tbody>\n",
       "</table>\n",
       "</div>"
      ],
      "text/plain": [
       "               TF-IDF\n",
       "information  0.397172\n",
       "security     0.356113\n",
       "program      0.298509\n",
       "salary       0.217892\n",
       "define       0.166721"
      ]
     },
     "execution_count": 37,
     "metadata": {},
     "output_type": "execute_result"
    }
   ],
   "source": [
    "tfidf = TfidfVectorizer(max_features=1000, lowercase=True, analyzer='word',\n",
    " stop_words= 'english',ngram_range=(1,1))\n",
    "\n",
    "vect = tfidf.fit_transform(df['text'])\n",
    "\n",
    "tf_df = pd.DataFrame(vect[1].T.todense(), index=tfidf.get_feature_names_out(), \n",
    "             columns=[\"TF-IDF\"]).sort_values('TF-IDF', ascending=False)\n",
    "tf_df.head()"
   ]
  },
  {
   "cell_type": "code",
   "execution_count": null,
   "id": "001f6c8b",
   "metadata": {},
   "outputs": [],
   "source": []
  },
  {
   "cell_type": "code",
   "execution_count": null,
   "id": "f7a39f2b",
   "metadata": {},
   "outputs": [],
   "source": []
  },
  {
   "cell_type": "markdown",
   "id": "b3a7c9da",
   "metadata": {},
   "source": [
    "## Find Cosine Similarity using Spacy"
   ]
  },
  {
   "cell_type": "code",
   "execution_count": 40,
   "id": "440fb35e",
   "metadata": {},
   "outputs": [
    {
     "name": "stderr",
     "output_type": "stream",
     "text": [
      "C:\\Users\\elsha\\anaconda3\\lib\\site-packages\\spacy\\util.py:833: UserWarning: [W095] Model 'en_core_web_md' (3.1.0) was trained with spaCy v3.1 and may not be 100% compatible with the current version (3.2.1). If you see errors or degraded performance, download a newer compatible model or retrain your custom model with the current spaCy version. For more details and available updates, run: python -m spacy validate\n",
      "  warnings.warn(warn_msg)\n"
     ]
    }
   ],
   "source": [
    "import en_core_web_md \n",
    "\n",
    "nlp = en_core_web_md.load()"
   ]
  },
  {
   "cell_type": "code",
   "execution_count": 41,
   "id": "8441f1c8",
   "metadata": {},
   "outputs": [
    {
     "data": {
      "text/plain": [
       "0.9871958346186012"
      ]
     },
     "execution_count": 41,
     "metadata": {},
     "output_type": "execute_result"
    }
   ],
   "source": [
    "doc1 = nlp(df['text'][0])\n",
    "doc2 = nlp(df['text'][1])\n",
    "\n",
    "doc1.similarity(doc2) "
   ]
  },
  {
   "cell_type": "code",
   "execution_count": null,
   "id": "b729577b",
   "metadata": {},
   "outputs": [],
   "source": []
  },
  {
   "cell_type": "code",
   "execution_count": null,
   "id": "15e5d4c8",
   "metadata": {},
   "outputs": [],
   "source": []
  },
  {
   "cell_type": "markdown",
   "id": "655a00b6",
   "metadata": {},
   "source": [
    "### Below I built a sparse matrix which contains cosine similarites between job description"
   ]
  },
  {
   "cell_type": "code",
   "execution_count": 44,
   "id": "8878e17b",
   "metadata": {},
   "outputs": [],
   "source": [
    "# Because of the run time I set N to 5. When N is 110 it takes few minutes to run. I did run it once and saved it to csv \n",
    "# N = (len(df['text']))\n",
    "N = 5\n",
    "matrix = np.zeros(( N, N))\n",
    "for i in range(N):\n",
    "    for j in range(N):\n",
    "        matrix[i][j] = nlp(df['text'][i]).similarity( nlp(df['text'][j] ) )\n",
    "\n",
    "sp_df = pd.DataFrame(matrix)\n",
    "\n",
    "sp_df.columns = list(df['job_title'])[:N]\n",
    "sp_df.index = list(df['job_title'])[:N]"
   ]
  },
  {
   "cell_type": "code",
   "execution_count": 45,
   "id": "4f8e0c6b",
   "metadata": {},
   "outputs": [
    {
     "data": {
      "text/html": [
       "<div>\n",
       "<style scoped>\n",
       "    .dataframe tbody tr th:only-of-type {\n",
       "        vertical-align: middle;\n",
       "    }\n",
       "\n",
       "    .dataframe tbody tr th {\n",
       "        vertical-align: top;\n",
       "    }\n",
       "\n",
       "    .dataframe thead th {\n",
       "        text-align: right;\n",
       "    }\n",
       "</style>\n",
       "<table border=\"1\" class=\"dataframe\">\n",
       "  <thead>\n",
       "    <tr style=\"text-align: right;\">\n",
       "      <th></th>\n",
       "      <th>Information Technology Security Manager</th>\n",
       "      <th>Information Security Architect</th>\n",
       "      <th>Information Technology Security Manager</th>\n",
       "      <th>IP Security Architect</th>\n",
       "      <th>Senior Information Security Analyst</th>\n",
       "    </tr>\n",
       "  </thead>\n",
       "  <tbody>\n",
       "    <tr>\n",
       "      <th>Information Technology Security Manager</th>\n",
       "      <td>1.000000</td>\n",
       "      <td>0.987196</td>\n",
       "      <td>0.989958</td>\n",
       "      <td>0.908403</td>\n",
       "      <td>0.968996</td>\n",
       "    </tr>\n",
       "    <tr>\n",
       "      <th>Information Security Architect</th>\n",
       "      <td>0.987196</td>\n",
       "      <td>1.000000</td>\n",
       "      <td>0.987307</td>\n",
       "      <td>0.912618</td>\n",
       "      <td>0.977619</td>\n",
       "    </tr>\n",
       "    <tr>\n",
       "      <th>Information Technology Security Manager</th>\n",
       "      <td>0.989958</td>\n",
       "      <td>0.987307</td>\n",
       "      <td>1.000000</td>\n",
       "      <td>0.915909</td>\n",
       "      <td>0.981832</td>\n",
       "    </tr>\n",
       "    <tr>\n",
       "      <th>IP Security Architect</th>\n",
       "      <td>0.908403</td>\n",
       "      <td>0.912618</td>\n",
       "      <td>0.915909</td>\n",
       "      <td>1.000000</td>\n",
       "      <td>0.916763</td>\n",
       "    </tr>\n",
       "    <tr>\n",
       "      <th>Senior Information Security Analyst</th>\n",
       "      <td>0.968996</td>\n",
       "      <td>0.977619</td>\n",
       "      <td>0.981832</td>\n",
       "      <td>0.916763</td>\n",
       "      <td>1.000000</td>\n",
       "    </tr>\n",
       "  </tbody>\n",
       "</table>\n",
       "</div>"
      ],
      "text/plain": [
       "                                         Information Technology Security Manager  \\\n",
       "Information Technology Security Manager                                 1.000000   \n",
       "Information Security Architect                                          0.987196   \n",
       "Information Technology Security Manager                                 0.989958   \n",
       "IP Security Architect                                                   0.908403   \n",
       "Senior Information Security Analyst                                     0.968996   \n",
       "\n",
       "                                         Information Security Architect  \\\n",
       "Information Technology Security Manager                        0.987196   \n",
       "Information Security Architect                                 1.000000   \n",
       "Information Technology Security Manager                        0.987307   \n",
       "IP Security Architect                                          0.912618   \n",
       "Senior Information Security Analyst                            0.977619   \n",
       "\n",
       "                                         Information Technology Security Manager  \\\n",
       "Information Technology Security Manager                                 0.989958   \n",
       "Information Security Architect                                          0.987307   \n",
       "Information Technology Security Manager                                 1.000000   \n",
       "IP Security Architect                                                   0.915909   \n",
       "Senior Information Security Analyst                                     0.981832   \n",
       "\n",
       "                                         IP Security Architect  \\\n",
       "Information Technology Security Manager               0.908403   \n",
       "Information Security Architect                        0.912618   \n",
       "Information Technology Security Manager               0.915909   \n",
       "IP Security Architect                                 1.000000   \n",
       "Senior Information Security Analyst                   0.916763   \n",
       "\n",
       "                                         Senior Information Security Analyst  \n",
       "Information Technology Security Manager                             0.968996  \n",
       "Information Security Architect                                      0.977619  \n",
       "Information Technology Security Manager                             0.981832  \n",
       "IP Security Architect                                               0.916763  \n",
       "Senior Information Security Analyst                                 1.000000  "
      ]
     },
     "execution_count": 45,
     "metadata": {},
     "output_type": "execute_result"
    }
   ],
   "source": [
    "sp_df.head()"
   ]
  },
  {
   "cell_type": "code",
   "execution_count": 47,
   "id": "f28d9767",
   "metadata": {},
   "outputs": [],
   "source": [
    "import seaborn as sns"
   ]
  },
  {
   "cell_type": "code",
   "execution_count": 48,
   "id": "78e6169d",
   "metadata": {},
   "outputs": [
    {
     "data": {
      "text/plain": [
       "<AxesSubplot:>"
      ]
     },
     "execution_count": 48,
     "metadata": {},
     "output_type": "execute_result"
    },
    {
     "data": {
      "image/png": "[encoded data removed]",
      "text/plain": [
       "<Figure size 432x288 with 2 Axes>"
      ]
     },
     "metadata": {
      "needs_background": "light"
     },
     "output_type": "display_data"
    }
   ],
   "source": [
    "sns.heatmap(sp_df)"
   ]
  },
  {
   "cell_type": "markdown",
   "id": "c88fbb15",
   "metadata": {},
   "source": [
    "<h3> <center> ** Coming Soon ** </center></h3>\n",
    "<h1> <center> Investigating the sparse matrix </center>  </h1>"
   ]
  }
 ],
 "metadata": {
  "kernelspec": {
   "display_name": "Python 3 (ipykernel)",
   "language": "python",
   "name": "python3"
  },
  "language_info": {
   "codemirror_mode": {
    "name": "ipython",
    "version": 3
   },
   "file_extension": ".py",
   "mimetype": "text/x-python",
   "name": "python",
   "nbconvert_exporter": "python",
   "pygments_lexer": "ipython3",
   "version": "3.8.8"
  }
 },
 "nbformat": 4,
 "nbformat_minor": 5
}
