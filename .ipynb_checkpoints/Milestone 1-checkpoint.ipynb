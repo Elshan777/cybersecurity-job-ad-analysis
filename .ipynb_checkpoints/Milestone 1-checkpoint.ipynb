{
 "cells": [
  {
   "cell_type": "code",
   "execution_count": 2,
   "id": "601235e5",
   "metadata": {},
   "outputs": [],
   "source": [
    "import os\n",
    "import pandas as pd\n",
    "from sklearn.feature_extraction.text import CountVectorizer\n",
    "from sklearn.feature_extraction.text import TfidfVectorizer\n",
    "import nltk\n",
    "from textblob import TextBlob\n",
    "from nltk.corpus import stopwords\n",
    "import re"
   ]
  },
  {
   "cell_type": "markdown",
   "id": "57a4f2e0",
   "metadata": {},
   "source": [
    "# Loading the data"
   ]
  },
  {
   "cell_type": "code",
   "execution_count": 9,
   "id": "8708d386",
   "metadata": {},
   "outputs": [],
   "source": [
    "files = os.listdir('./001_medium')\n",
    "texts = []\n",
    "countries = []\n",
    "positions = []\n",
    "titles = []\n",
    "\n",
    "for i in range(len(files) ):\n",
    "#     print(i[:2])\n",
    "#     print(files[i])\n",
    "#     print( i, (files[i].split('.')[0]).split('_')[-1])\n",
    "    # Read the text\n",
    "    f = open(\"./001_medium/\"+files[i], \"r\",  encoding=\"ISO-8859-1\" )\n",
    "    s = f.read()\n",
    "    texts.append(s.strip())\n",
    "    # Read the country\n",
    "    countries.append(files[i].split('_')[0])\n",
    "    # Read the position\n",
    "    positions.append( (files[i].split('.')[0]).split('_')[-1] )\n",
    "    # Read the full title\n",
    "    titles.append( files[i].split('.') )\n",
    "#     titles.append(files[i])\n",
    "f.close()"
   ]
  },
  {
   "cell_type": "code",
   "execution_count": 10,
   "id": "a2a99d13",
   "metadata": {},
   "outputs": [
    {
     "data": {
      "text/html": [
       "<div>\n",
       "<style scoped>\n",
       "    .dataframe tbody tr th:only-of-type {\n",
       "        vertical-align: middle;\n",
       "    }\n",
       "\n",
       "    .dataframe tbody tr th {\n",
       "        vertical-align: top;\n",
       "    }\n",
       "\n",
       "    .dataframe thead th {\n",
       "        text-align: right;\n",
       "    }\n",
       "</style>\n",
       "<table border=\"1\" class=\"dataframe\">\n",
       "  <thead>\n",
       "    <tr style=\"text-align: right;\">\n",
       "      <th></th>\n",
       "      <th>country</th>\n",
       "      <th>title</th>\n",
       "      <th>text</th>\n",
       "    </tr>\n",
       "  </thead>\n",
       "  <tbody>\n",
       "    <tr>\n",
       "      <th>0</th>\n",
       "      <td>AT</td>\n",
       "      <td>Inform</td>\n",
       "      <td>https://www.linkedin.com/company/global-blue/l...</td>\n",
       "    </tr>\n",
       "    <tr>\n",
       "      <th>1</th>\n",
       "      <td>AT</td>\n",
       "      <td>Architect</td>\n",
       "      <td>https://www.linkedin.com/jobs/view/2589036509/...</td>\n",
       "    </tr>\n",
       "    <tr>\n",
       "      <th>2</th>\n",
       "      <td>AT</td>\n",
       "      <td>Manager</td>\n",
       "      <td>www.linkedin.com/jobs/view/2540581439/\\n\\nInfo...</td>\n",
       "    </tr>\n",
       "    <tr>\n",
       "      <th>3</th>\n",
       "      <td>CZ</td>\n",
       "      <td>IPSecu</td>\n",
       "      <td>https://www.linkedin.com/jobs/view/2410398234/...</td>\n",
       "    </tr>\n",
       "    <tr>\n",
       "      <th>4</th>\n",
       "      <td>CZ</td>\n",
       "      <td>Senior</td>\n",
       "      <td>https://www.linkedin.com/jobs/view/2487448959/...</td>\n",
       "    </tr>\n",
       "  </tbody>\n",
       "</table>\n",
       "</div>"
      ],
      "text/plain": [
       "  country      title                                               text\n",
       "0      AT     Inform  https://www.linkedin.com/company/global-blue/l...\n",
       "1      AT  Architect  https://www.linkedin.com/jobs/view/2589036509/...\n",
       "2      AT    Manager  www.linkedin.com/jobs/view/2540581439/\\n\\nInfo...\n",
       "3      CZ     IPSecu  https://www.linkedin.com/jobs/view/2410398234/...\n",
       "4      CZ     Senior  https://www.linkedin.com/jobs/view/2487448959/..."
      ]
     },
     "execution_count": 10,
     "metadata": {},
     "output_type": "execute_result"
    }
   ],
   "source": [
    "# Creating a dataframe\n",
    "df = pd.DataFrame(list(zip(countries, positions, texts)),\n",
    "               columns =['country', 'title', 'text'])\n",
    "df.head()"
   ]
  },
  {
   "cell_type": "markdown",
   "id": "15e15327",
   "metadata": {},
   "source": [
    "### Now I will write dataframe to csv so we don't have read files everytime"
   ]
  },
  {
   "cell_type": "code",
   "execution_count": 11,
   "id": "a228c640",
   "metadata": {},
   "outputs": [],
   "source": [
    "df.to_csv('jobs.csv', index=False)\n",
    "df = pd.read_csv('jobs.csv')"
   ]
  },
  {
   "cell_type": "code",
   "execution_count": null,
   "id": "853a909a",
   "metadata": {},
   "outputs": [],
   "source": []
  },
  {
   "cell_type": "code",
   "execution_count": 23,
   "id": "9c67f726",
   "metadata": {},
   "outputs": [],
   "source": [
    "df = pd.read_csv('jobs.csv')"
   ]
  },
  {
   "cell_type": "code",
   "execution_count": null,
   "id": "53ac1340",
   "metadata": {},
   "outputs": [],
   "source": []
  },
  {
   "cell_type": "markdown",
   "id": "65ce0a91",
   "metadata": {},
   "source": [
    "## Basic feature extraction"
   ]
  },
  {
   "cell_type": "code",
   "execution_count": 13,
   "id": "46bedfdf",
   "metadata": {},
   "outputs": [
    {
     "data": {
      "text/html": [
       "<div>\n",
       "<style scoped>\n",
       "    .dataframe tbody tr th:only-of-type {\n",
       "        vertical-align: middle;\n",
       "    }\n",
       "\n",
       "    .dataframe tbody tr th {\n",
       "        vertical-align: top;\n",
       "    }\n",
       "\n",
       "    .dataframe thead th {\n",
       "        text-align: right;\n",
       "    }\n",
       "</style>\n",
       "<table border=\"1\" class=\"dataframe\">\n",
       "  <thead>\n",
       "    <tr style=\"text-align: right;\">\n",
       "      <th></th>\n",
       "      <th>text</th>\n",
       "      <th>word_count</th>\n",
       "    </tr>\n",
       "  </thead>\n",
       "  <tbody>\n",
       "    <tr>\n",
       "      <th>0</th>\n",
       "      <td>https://www.linkedin.com/company/global-blue/l...</td>\n",
       "      <td>10293</td>\n",
       "    </tr>\n",
       "    <tr>\n",
       "      <th>1</th>\n",
       "      <td>https://www.linkedin.com/jobs/view/2589036509/...</td>\n",
       "      <td>2861</td>\n",
       "    </tr>\n",
       "    <tr>\n",
       "      <th>2</th>\n",
       "      <td>www.linkedin.com/jobs/view/2540581439/\\n\\nInfo...</td>\n",
       "      <td>4849</td>\n",
       "    </tr>\n",
       "    <tr>\n",
       "      <th>3</th>\n",
       "      <td>https://www.linkedin.com/jobs/view/2410398234/...</td>\n",
       "      <td>2673</td>\n",
       "    </tr>\n",
       "    <tr>\n",
       "      <th>4</th>\n",
       "      <td>https://www.linkedin.com/jobs/view/2487448959/...</td>\n",
       "      <td>3394</td>\n",
       "    </tr>\n",
       "  </tbody>\n",
       "</table>\n",
       "</div>"
      ],
      "text/plain": [
       "                                                text  word_count\n",
       "0  https://www.linkedin.com/company/global-blue/l...       10293\n",
       "1  https://www.linkedin.com/jobs/view/2589036509/...        2861\n",
       "2  www.linkedin.com/jobs/view/2540581439/\\n\\nInfo...        4849\n",
       "3  https://www.linkedin.com/jobs/view/2410398234/...        2673\n",
       "4  https://www.linkedin.com/jobs/view/2487448959/...        3394"
      ]
     },
     "execution_count": 13,
     "metadata": {},
     "output_type": "execute_result"
    }
   ],
   "source": [
    "df['word_count'] = df['text'].apply(lambda x: len( x.strip(' ')))\n",
    "df[[ 'text', 'word_count']].head()"
   ]
  },
  {
   "cell_type": "code",
   "execution_count": null,
   "id": "a8b5029e",
   "metadata": {},
   "outputs": [],
   "source": [
    "\n"
   ]
  },
  {
   "cell_type": "code",
   "execution_count": 16,
   "id": "92f90138",
   "metadata": {},
   "outputs": [
    {
     "data": {
      "text/html": [
       "<div>\n",
       "<style scoped>\n",
       "    .dataframe tbody tr th:only-of-type {\n",
       "        vertical-align: middle;\n",
       "    }\n",
       "\n",
       "    .dataframe tbody tr th {\n",
       "        vertical-align: top;\n",
       "    }\n",
       "\n",
       "    .dataframe thead th {\n",
       "        text-align: right;\n",
       "    }\n",
       "</style>\n",
       "<table border=\"1\" class=\"dataframe\">\n",
       "  <thead>\n",
       "    <tr style=\"text-align: right;\">\n",
       "      <th></th>\n",
       "      <th>country</th>\n",
       "      <th>title</th>\n",
       "      <th>text</th>\n",
       "      <th>word_count</th>\n",
       "      <th>stopwords</th>\n",
       "    </tr>\n",
       "  </thead>\n",
       "  <tbody>\n",
       "    <tr>\n",
       "      <th>0</th>\n",
       "      <td>AT</td>\n",
       "      <td>Inform</td>\n",
       "      <td>https://www.linkedin.com/company/global-blue/l...</td>\n",
       "      <td>10293</td>\n",
       "      <td>300</td>\n",
       "    </tr>\n",
       "    <tr>\n",
       "      <th>1</th>\n",
       "      <td>AT</td>\n",
       "      <td>Architect</td>\n",
       "      <td>https://www.linkedin.com/jobs/view/2589036509/...</td>\n",
       "      <td>2861</td>\n",
       "      <td>134</td>\n",
       "    </tr>\n",
       "    <tr>\n",
       "      <th>2</th>\n",
       "      <td>AT</td>\n",
       "      <td>Manager</td>\n",
       "      <td>www.linkedin.com/jobs/view/2540581439/\\n\\nInfo...</td>\n",
       "      <td>4849</td>\n",
       "      <td>199</td>\n",
       "    </tr>\n",
       "    <tr>\n",
       "      <th>3</th>\n",
       "      <td>CZ</td>\n",
       "      <td>IPSecu</td>\n",
       "      <td>https://www.linkedin.com/jobs/view/2410398234/...</td>\n",
       "      <td>2673</td>\n",
       "      <td>82</td>\n",
       "    </tr>\n",
       "    <tr>\n",
       "      <th>4</th>\n",
       "      <td>CZ</td>\n",
       "      <td>Senior</td>\n",
       "      <td>https://www.linkedin.com/jobs/view/2487448959/...</td>\n",
       "      <td>3394</td>\n",
       "      <td>105</td>\n",
       "    </tr>\n",
       "  </tbody>\n",
       "</table>\n",
       "</div>"
      ],
      "text/plain": [
       "  country      title                                               text  \\\n",
       "0      AT     Inform  https://www.linkedin.com/company/global-blue/l...   \n",
       "1      AT  Architect  https://www.linkedin.com/jobs/view/2589036509/...   \n",
       "2      AT    Manager  www.linkedin.com/jobs/view/2540581439/\\n\\nInfo...   \n",
       "3      CZ     IPSecu  https://www.linkedin.com/jobs/view/2410398234/...   \n",
       "4      CZ     Senior  https://www.linkedin.com/jobs/view/2487448959/...   \n",
       "\n",
       "   word_count  stopwords  \n",
       "0       10293        300  \n",
       "1        2861        134  \n",
       "2        4849        199  \n",
       "3        2673         82  \n",
       "4        3394        105  "
      ]
     },
     "execution_count": 16,
     "metadata": {},
     "output_type": "execute_result"
    }
   ],
   "source": [
    "# Stop words per row\n",
    "stop = stopwords.words('english')\n",
    "df['stopwords'] = df['text'].apply(lambda x: len([x for x in x.split() if x in stop]))\n",
    "df.head()"
   ]
  },
  {
   "cell_type": "code",
   "execution_count": null,
   "id": "b60b2b33",
   "metadata": {},
   "outputs": [],
   "source": []
  },
  {
   "cell_type": "markdown",
   "id": "506fefbe",
   "metadata": {},
   "source": [
    "## Cleaning the text column"
   ]
  },
  {
   "cell_type": "code",
   "execution_count": 24,
   "id": "491e4158",
   "metadata": {},
   "outputs": [
    {
     "name": "stderr",
     "output_type": "stream",
     "text": [
      "C:\\Users\\elsha\\AppData\\Local\\Temp/ipykernel_11204/985002950.py:5: FutureWarning: The default value of regex will change from True to False in a future version.\n",
      "  df['text'] = df['text'].str.replace('[^\\w\\s]','')\n"
     ]
    },
    {
     "data": {
      "text/html": [
       "<div>\n",
       "<style scoped>\n",
       "    .dataframe tbody tr th:only-of-type {\n",
       "        vertical-align: middle;\n",
       "    }\n",
       "\n",
       "    .dataframe tbody tr th {\n",
       "        vertical-align: top;\n",
       "    }\n",
       "\n",
       "    .dataframe thead th {\n",
       "        text-align: right;\n",
       "    }\n",
       "</style>\n",
       "<table border=\"1\" class=\"dataframe\">\n",
       "  <thead>\n",
       "    <tr style=\"text-align: right;\">\n",
       "      <th></th>\n",
       "      <th>country</th>\n",
       "      <th>title</th>\n",
       "      <th>text</th>\n",
       "      <th>job_title</th>\n",
       "    </tr>\n",
       "  </thead>\n",
       "  <tbody>\n",
       "    <tr>\n",
       "      <th>0</th>\n",
       "      <td>AT</td>\n",
       "      <td>Inform</td>\n",
       "      <td>\\n\\nInformation Technology Security Manager\\n\\...</td>\n",
       "      <td>Information Technology Security Manager</td>\n",
       "    </tr>\n",
       "    <tr>\n",
       "      <th>1</th>\n",
       "      <td>AT</td>\n",
       "      <td>Architect</td>\n",
       "      <td>\\n\\nInformation Security Architect\\n\\nCopmany ...</td>\n",
       "      <td>Information Security Architect</td>\n",
       "    </tr>\n",
       "    <tr>\n",
       "      <th>2</th>\n",
       "      <td>AT</td>\n",
       "      <td>Manager</td>\n",
       "      <td>\\n\\nInformation Technology Security Manager\\n\\...</td>\n",
       "      <td>Information Technology Security Manager</td>\n",
       "    </tr>\n",
       "    <tr>\n",
       "      <th>3</th>\n",
       "      <td>CZ</td>\n",
       "      <td>IPSecu</td>\n",
       "      <td>\\n\\n  IP Security Architect\\n\\n\\n      About t...</td>\n",
       "      <td>IP Security Architect</td>\n",
       "    </tr>\n",
       "    <tr>\n",
       "      <th>4</th>\n",
       "      <td>CZ</td>\n",
       "      <td>Senior</td>\n",
       "      <td>\\n    \\n  Senior Information Security Analyst\\...</td>\n",
       "      <td>Senior Information Security Analyst</td>\n",
       "    </tr>\n",
       "  </tbody>\n",
       "</table>\n",
       "</div>"
      ],
      "text/plain": [
       "  country      title                                               text  \\\n",
       "0      AT     Inform  \\n\\nInformation Technology Security Manager\\n\\...   \n",
       "1      AT  Architect  \\n\\nInformation Security Architect\\n\\nCopmany ...   \n",
       "2      AT    Manager  \\n\\nInformation Technology Security Manager\\n\\...   \n",
       "3      CZ     IPSecu  \\n\\n  IP Security Architect\\n\\n\\n      About t...   \n",
       "4      CZ     Senior  \\n    \\n  Senior Information Security Analyst\\...   \n",
       "\n",
       "                                 job_title  \n",
       "0  Information Technology Security Manager  \n",
       "1           Information Security Architect  \n",
       "2  Information Technology Security Manager  \n",
       "3                    IP Security Architect  \n",
       "4      Senior Information Security Analyst  "
      ]
     },
     "execution_count": 24,
     "metadata": {},
     "output_type": "execute_result"
    }
   ],
   "source": [
    "# Remove the links from text\n",
    "df['text'] = df['text'].apply(lambda x: re.sub(r'https?://\\S+|www\\.\\S+', '', x))\n",
    "# Remove some additional unnecessary symbols from some rows and get job title position\n",
    "df['job_title'] = df['text'].apply(lambda x: (re.sub(r'^.*?\\n', '\\n', x).strip()).split('\\n')[0] )\n",
    "df['text'] = df['text'].str.replace('[^\\w\\s]','')\n",
    "\n",
    "df.head()"
   ]
  },
  {
   "cell_type": "code",
   "execution_count": null,
   "id": "03985ee0",
   "metadata": {},
   "outputs": [],
   "source": []
  }
 ],
 "metadata": {
  "kernelspec": {
   "display_name": "Python 3 (ipykernel)",
   "language": "python",
   "name": "python3"
  },
  "language_info": {
   "codemirror_mode": {
    "name": "ipython",
    "version": 3
   },
   "file_extension": ".py",
   "mimetype": "text/x-python",
   "name": "python",
   "nbconvert_exporter": "python",
   "pygments_lexer": "ipython3",
   "version": "3.8.8"
  }
 },
 "nbformat": 4,
 "nbformat_minor": 5
}
