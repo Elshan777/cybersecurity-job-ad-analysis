{
 "cells": [
  {
   "cell_type": "code",
   "execution_count": 1,
   "id": "a94b978e-d846-4a4c-8e83-a81ce6523a13",
   "metadata": {},
   "outputs": [],
   "source": [
    "import pandas as pd"
   ]
  },
  {
   "cell_type": "code",
   "execution_count": 2,
   "id": "7100a34e-1de3-4175-993f-518d0335f340",
   "metadata": {},
   "outputs": [
    {
     "name": "stdout",
     "output_type": "stream",
     "text": [
      "Requirement already satisfied: python3-linkedin in c:\\users\\elsha\\anaconda3\\lib\\site-packages (1.0.2)\n",
      "Requirement already satisfied: requests>=2.8.1 in c:\\users\\elsha\\anaconda3\\lib\\site-packages (from python3-linkedin) (2.26.0)\n",
      "Requirement already satisfied: requests-oauthlib>=0.5.0 in c:\\users\\elsha\\anaconda3\\lib\\site-packages (from python3-linkedin) (1.3.1)\n",
      "Requirement already satisfied: urllib3<1.27,>=1.21.1 in c:\\users\\elsha\\anaconda3\\lib\\site-packages (from requests>=2.8.1->python3-linkedin) (1.26.7)\n",
      "Requirement already satisfied: charset-normalizer~=2.0.0 in c:\\users\\elsha\\anaconda3\\lib\\site-packages (from requests>=2.8.1->python3-linkedin) (2.0.4)\n",
      "Requirement already satisfied: idna<4,>=2.5 in c:\\users\\elsha\\anaconda3\\lib\\site-packages (from requests>=2.8.1->python3-linkedin) (3.2)\n",
      "Requirement already satisfied: certifi>=2017.4.17 in c:\\users\\elsha\\anaconda3\\lib\\site-packages (from requests>=2.8.1->python3-linkedin) (2021.10.8)\n",
      "Requirement already satisfied: oauthlib>=3.0.0 in c:\\users\\elsha\\anaconda3\\lib\\site-packages (from requests-oauthlib>=0.5.0->python3-linkedin) (3.2.0)\n"
     ]
    },
    {
     "name": "stderr",
     "output_type": "stream",
     "text": [
      "WARNING: You are using pip version 22.0.2; however, version 22.0.4 is available.\n",
      "You should consider upgrading via the 'C:\\Users\\elsha\\anaconda3\\python.exe -m pip install --upgrade pip' command.\n"
     ]
    }
   ],
   "source": [
    "!pip install python3-linkedin"
   ]
  },
  {
   "cell_type": "code",
   "execution_count": 6,
   "id": "58472318-d2e0-48df-8351-a06f15fb00fb",
   "metadata": {},
   "outputs": [
    {
     "name": "stdout",
     "output_type": "stream",
     "text": [
      "https://www.linkedin.com/uas/oauth2/authorization?response_type=code&client_id=77jo8hx0cb8qga&scope=&state=98dcc95b6f3ab1e02eae01e228b747e9&redirect_uri=http%3A//localhost%3A8888\n"
     ]
    },
    {
     "ename": "LinkedInError",
     "evalue": "invalid_request: Unknown Error",
     "output_type": "error",
     "traceback": [
      "\u001b[1;31m---------------------------------------------------------------------------\u001b[0m",
      "\u001b[1;31mHTTPError\u001b[0m                                 Traceback (most recent call last)",
      "\u001b[1;32m~\\anaconda3\\lib\\site-packages\\linkedin\\utils.py\u001b[0m in \u001b[0;36mraise_for_error\u001b[1;34m(response)\u001b[0m\n\u001b[0;32m     48\u001b[0m     \u001b[1;32mtry\u001b[0m\u001b[1;33m:\u001b[0m\u001b[1;33m\u001b[0m\u001b[1;33m\u001b[0m\u001b[0m\n\u001b[1;32m---> 49\u001b[1;33m         \u001b[0mresponse\u001b[0m\u001b[1;33m.\u001b[0m\u001b[0mraise_for_status\u001b[0m\u001b[1;33m(\u001b[0m\u001b[1;33m)\u001b[0m\u001b[1;33m\u001b[0m\u001b[1;33m\u001b[0m\u001b[0m\n\u001b[0m\u001b[0;32m     50\u001b[0m     \u001b[1;32mexcept\u001b[0m \u001b[1;33m(\u001b[0m\u001b[0mrequests\u001b[0m\u001b[1;33m.\u001b[0m\u001b[0mHTTPError\u001b[0m\u001b[1;33m,\u001b[0m \u001b[0mrequests\u001b[0m\u001b[1;33m.\u001b[0m\u001b[0mConnectionError\u001b[0m\u001b[1;33m)\u001b[0m \u001b[1;32mas\u001b[0m \u001b[0merror\u001b[0m\u001b[1;33m:\u001b[0m\u001b[1;33m\u001b[0m\u001b[1;33m\u001b[0m\u001b[0m\n",
      "\u001b[1;32m~\\anaconda3\\lib\\site-packages\\requests\\models.py\u001b[0m in \u001b[0;36mraise_for_status\u001b[1;34m(self)\u001b[0m\n\u001b[0;32m    952\u001b[0m         \u001b[1;32mif\u001b[0m \u001b[0mhttp_error_msg\u001b[0m\u001b[1;33m:\u001b[0m\u001b[1;33m\u001b[0m\u001b[1;33m\u001b[0m\u001b[0m\n\u001b[1;32m--> 953\u001b[1;33m             \u001b[1;32mraise\u001b[0m \u001b[0mHTTPError\u001b[0m\u001b[1;33m(\u001b[0m\u001b[0mhttp_error_msg\u001b[0m\u001b[1;33m,\u001b[0m \u001b[0mresponse\u001b[0m\u001b[1;33m=\u001b[0m\u001b[0mself\u001b[0m\u001b[1;33m)\u001b[0m\u001b[1;33m\u001b[0m\u001b[1;33m\u001b[0m\u001b[0m\n\u001b[0m\u001b[0;32m    954\u001b[0m \u001b[1;33m\u001b[0m\u001b[0m\n",
      "\u001b[1;31mHTTPError\u001b[0m: 401 Client Error: Unauthorized for url: https://www.linkedin.com/uas/oauth2/accessToken",
      "\nDuring handling of the above exception, another exception occurred:\n",
      "\u001b[1;31mLinkedInError\u001b[0m                             Traceback (most recent call last)",
      "\u001b[1;32m~\\AppData\\Local\\Temp/ipykernel_5008/2997087184.py\u001b[0m in \u001b[0;36m<module>\u001b[1;34m\u001b[0m\n\u001b[0;32m     18\u001b[0m \u001b[0mauthentication\u001b[0m\u001b[1;33m.\u001b[0m\u001b[0mauthorization_code\u001b[0m \u001b[1;33m=\u001b[0m \u001b[1;34m'AQWLAQa8lknJ_8uHs0U25sz3ermvJkqRDNcWpKIFMe142CZ5Zm88-smF_6zUSFPTVcBNCCY3kaKpnEzEqvjBIq19Tx0FYtqwbxqSRJoj0U9q6Yrjx5rrqx5hx7lUDdRIie0aQA4urI3GxZpUXFAbu6T2K5Dlh604AFSSuaK0VadvhoDRFrhTppb8e88_mILxLOtC4GNCMf4EOzTYvS3XgFI6RfiII3No7kVX1oBQgjpT12XowUc7OAizU-eHFdUf_PLiMYmXxaAjUTPOR2BGPMjkdSMlgaEI2wF_w_I36tDJ3B6VWNzHOR81Z6PoNYWksGfUeZt-t3pR609kFED5yaNFQtNC8Q'\u001b[0m\u001b[1;33m\u001b[0m\u001b[1;33m\u001b[0m\u001b[0m\n\u001b[0;32m     19\u001b[0m \u001b[1;33m\u001b[0m\u001b[0m\n\u001b[1;32m---> 20\u001b[1;33m \u001b[0mresult\u001b[0m \u001b[1;33m=\u001b[0m \u001b[0mauthentication\u001b[0m\u001b[1;33m.\u001b[0m\u001b[0mget_access_token\u001b[0m\u001b[1;33m(\u001b[0m\u001b[1;33m)\u001b[0m\u001b[1;33m\u001b[0m\u001b[1;33m\u001b[0m\u001b[0m\n\u001b[0m\u001b[0;32m     21\u001b[0m \u001b[1;33m\u001b[0m\u001b[0m\n\u001b[0;32m     22\u001b[0m \u001b[0mprint\u001b[0m \u001b[1;33m(\u001b[0m\u001b[1;34m\"Access Token:\"\u001b[0m\u001b[1;33m,\u001b[0m \u001b[0mresult\u001b[0m\u001b[1;33m.\u001b[0m\u001b[0maccess_token\u001b[0m\u001b[1;33m)\u001b[0m\u001b[1;33m\u001b[0m\u001b[1;33m\u001b[0m\u001b[0m\n",
      "\u001b[1;32m~\\anaconda3\\lib\\site-packages\\linkedin\\linkedin.py\u001b[0m in \u001b[0;36mget_access_token\u001b[1;34m(self, timeout)\u001b[0m\n\u001b[0;32m    134\u001b[0m               'client_secret': self.secret}\n\u001b[0;32m    135\u001b[0m         \u001b[0mresponse\u001b[0m \u001b[1;33m=\u001b[0m \u001b[0mrequests\u001b[0m\u001b[1;33m.\u001b[0m\u001b[0mpost\u001b[0m\u001b[1;33m(\u001b[0m\u001b[0mself\u001b[0m\u001b[1;33m.\u001b[0m\u001b[0mACCESS_TOKEN_URL\u001b[0m\u001b[1;33m,\u001b[0m \u001b[0mdata\u001b[0m\u001b[1;33m=\u001b[0m\u001b[0mqd\u001b[0m\u001b[1;33m,\u001b[0m \u001b[0mtimeout\u001b[0m\u001b[1;33m=\u001b[0m\u001b[0mtimeout\u001b[0m\u001b[1;33m)\u001b[0m\u001b[1;33m\u001b[0m\u001b[1;33m\u001b[0m\u001b[0m\n\u001b[1;32m--> 136\u001b[1;33m         \u001b[0mraise_for_error\u001b[0m\u001b[1;33m(\u001b[0m\u001b[0mresponse\u001b[0m\u001b[1;33m)\u001b[0m\u001b[1;33m\u001b[0m\u001b[1;33m\u001b[0m\u001b[0m\n\u001b[0m\u001b[0;32m    137\u001b[0m         \u001b[0mresponse\u001b[0m \u001b[1;33m=\u001b[0m \u001b[0mresponse\u001b[0m\u001b[1;33m.\u001b[0m\u001b[0mjson\u001b[0m\u001b[1;33m(\u001b[0m\u001b[1;33m)\u001b[0m\u001b[1;33m\u001b[0m\u001b[1;33m\u001b[0m\u001b[0m\n\u001b[0;32m    138\u001b[0m         \u001b[0mself\u001b[0m\u001b[1;33m.\u001b[0m\u001b[0mtoken\u001b[0m \u001b[1;33m=\u001b[0m \u001b[0mAccessToken\u001b[0m\u001b[1;33m(\u001b[0m\u001b[0mresponse\u001b[0m\u001b[1;33m[\u001b[0m\u001b[1;34m'access_token'\u001b[0m\u001b[1;33m]\u001b[0m\u001b[1;33m,\u001b[0m \u001b[0mresponse\u001b[0m\u001b[1;33m[\u001b[0m\u001b[1;34m'expires_in'\u001b[0m\u001b[1;33m]\u001b[0m\u001b[1;33m)\u001b[0m\u001b[1;33m\u001b[0m\u001b[1;33m\u001b[0m\u001b[0m\n",
      "\u001b[1;32m~\\anaconda3\\lib\\site-packages\\linkedin\\utils.py\u001b[0m in \u001b[0;36mraise_for_error\u001b[1;34m(response)\u001b[0m\n\u001b[0;32m     60\u001b[0m                 \u001b[0merror_code\u001b[0m \u001b[1;33m=\u001b[0m \u001b[0mresponse\u001b[0m\u001b[1;33m.\u001b[0m\u001b[0mget\u001b[0m\u001b[1;33m(\u001b[0m\u001b[1;34m'status'\u001b[0m\u001b[1;33m)\u001b[0m\u001b[1;33m\u001b[0m\u001b[1;33m\u001b[0m\u001b[0m\n\u001b[0;32m     61\u001b[0m                 \u001b[0mex\u001b[0m \u001b[1;33m=\u001b[0m \u001b[0mget_exception_for_error_code\u001b[0m\u001b[1;33m(\u001b[0m\u001b[0merror_code\u001b[0m\u001b[1;33m)\u001b[0m\u001b[1;33m\u001b[0m\u001b[1;33m\u001b[0m\u001b[0m\n\u001b[1;32m---> 62\u001b[1;33m                 \u001b[1;32mraise\u001b[0m \u001b[0mex\u001b[0m\u001b[1;33m(\u001b[0m\u001b[0mmessage\u001b[0m\u001b[1;33m)\u001b[0m\u001b[1;33m\u001b[0m\u001b[1;33m\u001b[0m\u001b[0m\n\u001b[0m\u001b[0;32m     63\u001b[0m             \u001b[1;32melse\u001b[0m\u001b[1;33m:\u001b[0m\u001b[1;33m\u001b[0m\u001b[1;33m\u001b[0m\u001b[0m\n\u001b[0;32m     64\u001b[0m                 \u001b[1;32mraise\u001b[0m \u001b[0mLinkedInError\u001b[0m\u001b[1;33m(\u001b[0m\u001b[0merror\u001b[0m\u001b[1;33m.\u001b[0m\u001b[0mmessage\u001b[0m\u001b[1;33m)\u001b[0m\u001b[1;33m\u001b[0m\u001b[1;33m\u001b[0m\u001b[0m\n",
      "\u001b[1;31mLinkedInError\u001b[0m: invalid_request: Unknown Error"
     ]
    }
   ],
   "source": [
    "from linkedin import linkedin # pip install python3-linkedin\n",
    "\n",
    "APPLICATON_KEY    = '77jo8hx0cb8qga'\n",
    "APPLICATON_SECRET = '3viK6WP76xpM3O3E'\n",
    "\n",
    "# OAuth redirect URL, must match the URL specified in the app settings\n",
    "RETURN_URL = 'http://localhost:8888'\n",
    "\n",
    "authentication = linkedin.LinkedInAuthentication(\n",
    "                    APPLICATON_KEY,\n",
    "                    APPLICATON_SECRET,\n",
    "                    RETURN_URL)\n",
    "\n",
    "# Open this URL in the browser and copy the section after 'code='\n",
    "print(authentication.authorization_url)\n",
    "\n",
    "# Paste it here, careful not to include '&state=' and anything afterwards\n",
    "authentication.authorization_code = 'AQWLAQa8lknJ_8uHs0U25sz3ermvJkqRDNcWpKIFMe142CZ5Zm88-smF_6zUSFPTVcBNCCY3kaKpnEzEqvjBIq19Tx0FYtqwbxqSRJoj0U9q6Yrjx5rrqx5hx7lUDdRIie0aQA4urI3GxZpUXFAbu6T2K5Dlh604AFSSuaK0VadvhoDRFrhTppb8e88_mILxLOtC4GNCMf4EOzTYvS3XgFI6RfiII3No7kVX1oBQgjpT12XowUc7OAizU-eHFdUf_PLiMYmXxaAjUTPOR2BGPMjkdSMlgaEI2wF_w_I36tDJ3B6VWNzHOR81Z6PoNYWksGfUeZt-t3pR609kFED5yaNFQtNC8Q'\n",
    "\n",
    "result = authentication.get_access_token()\n",
    "\n",
    "print (\"Access Token:\", result.access_token)\n",
    "print (\"Expires in (seconds):\", result.expires_in)\n",
    "\n",
    "# Pass the access token to the application\n",
    "app = linkedin.LinkedInApplication(token=result.access_token)\n",
    "\n",
    "# Retrieve user profile\n",
    "app.get_profile(selectors=['id', 'first-name', 'last-name',\n",
    "                           'location', 'num-connections', 'headline'])\n"
   ]
  },
  {
   "cell_type": "code",
   "execution_count": 4,
   "id": "25bf979c-afb4-4863-b312-3eb7d70e8ced",
   "metadata": {},
   "outputs": [
    {
     "ename": "NameError",
     "evalue": "name 'app' is not defined",
     "output_type": "error",
     "traceback": [
      "\u001b[1;31m---------------------------------------------------------------------------\u001b[0m",
      "\u001b[1;31mNameError\u001b[0m                                 Traceback (most recent call last)",
      "\u001b[1;32m~\\AppData\\Local\\Temp/ipykernel_5008/2756133800.py\u001b[0m in \u001b[0;36m<module>\u001b[1;34m\u001b[0m\n\u001b[0;32m      6\u001b[0m \u001b[1;33m\u001b[0m\u001b[0m\n\u001b[0;32m      7\u001b[0m \u001b[1;31m# Display your own positions...\u001b[0m\u001b[1;33m\u001b[0m\u001b[1;33m\u001b[0m\u001b[1;33m\u001b[0m\u001b[0m\n\u001b[1;32m----> 8\u001b[1;33m \u001b[0mmy_positions\u001b[0m \u001b[1;33m=\u001b[0m \u001b[0mapp\u001b[0m\u001b[1;33m.\u001b[0m\u001b[0mget_profile\u001b[0m\u001b[1;33m(\u001b[0m\u001b[0mselectors\u001b[0m\u001b[1;33m=\u001b[0m\u001b[1;33m[\u001b[0m\u001b[1;34m'positions'\u001b[0m\u001b[1;33m]\u001b[0m\u001b[1;33m)\u001b[0m\u001b[1;33m\u001b[0m\u001b[1;33m\u001b[0m\u001b[0m\n\u001b[0m\u001b[0;32m      9\u001b[0m \u001b[0mprint\u001b[0m\u001b[1;33m(\u001b[0m\u001b[0mjson\u001b[0m\u001b[1;33m.\u001b[0m\u001b[0mdumps\u001b[0m\u001b[1;33m(\u001b[0m\u001b[0mmy_positions\u001b[0m\u001b[1;33m,\u001b[0m \u001b[0mindent\u001b[0m\u001b[1;33m=\u001b[0m\u001b[1;36m1\u001b[0m\u001b[1;33m)\u001b[0m\u001b[1;33m)\u001b[0m\u001b[1;33m\u001b[0m\u001b[1;33m\u001b[0m\u001b[0m\n",
      "\u001b[1;31mNameError\u001b[0m: name 'app' is not defined"
     ]
    }
   ],
   "source": [
    "import json\n",
    "\n",
    "# See https://developer.linkedin.com/docs/fields/positions for details\n",
    "# on additional field selectors that can be passed in for retrieving\n",
    "# additional profile information.\n",
    "\n",
    "# Display your own positions...\n",
    "my_positions = app.get_profile(selectors=['positions'])\n",
    "print(json.dumps(my_positions, indent=1))"
   ]
  },
  {
   "cell_type": "code",
   "execution_count": null,
   "id": "65b1fd68-8ac7-4f40-b6a9-643188864476",
   "metadata": {},
   "outputs": [],
   "source": []
  }
 ],
 "metadata": {
  "kernelspec": {
   "display_name": "Python 3 (ipykernel)",
   "language": "python",
   "name": "python3"
  },
  "language_info": {
   "codemirror_mode": {
    "name": "ipython",
    "version": 3
   },
   "file_extension": ".py",
   "mimetype": "text/x-python",
   "name": "python",
   "nbconvert_exporter": "python",
   "pygments_lexer": "ipython3",
   "version": "3.8.8"
  }
 },
 "nbformat": 4,
 "nbformat_minor": 5
}
