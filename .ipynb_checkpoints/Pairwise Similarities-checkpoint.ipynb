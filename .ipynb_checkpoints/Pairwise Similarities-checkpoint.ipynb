{
 "cells": [
  {
   "cell_type": "code",
   "execution_count": 96,
   "id": "260dd16e",
   "metadata": {},
   "outputs": [],
   "source": [
    "import numpy as np\n",
    "import pandas as pd\n",
    "import re\n",
    "import seaborn as sns\n",
    "import matplotlib.pyplot as plt"
   ]
  },
  {
   "cell_type": "code",
   "execution_count": 47,
   "id": "c4f88765",
   "metadata": {},
   "outputs": [],
   "source": [
    "df = pd.read_csv('jobs.csv')"
   ]
  },
  {
   "cell_type": "code",
   "execution_count": 48,
   "id": "1feee7b7",
   "metadata": {},
   "outputs": [
    {
     "data": {
      "text/html": [
       "<div>\n",
       "<style scoped>\n",
       "    .dataframe tbody tr th:only-of-type {\n",
       "        vertical-align: middle;\n",
       "    }\n",
       "\n",
       "    .dataframe tbody tr th {\n",
       "        vertical-align: top;\n",
       "    }\n",
       "\n",
       "    .dataframe thead th {\n",
       "        text-align: right;\n",
       "    }\n",
       "</style>\n",
       "<table border=\"1\" class=\"dataframe\">\n",
       "  <thead>\n",
       "    <tr style=\"text-align: right;\">\n",
       "      <th></th>\n",
       "      <th>country</th>\n",
       "      <th>title</th>\n",
       "      <th>text</th>\n",
       "    </tr>\n",
       "  </thead>\n",
       "  <tbody>\n",
       "    <tr>\n",
       "      <th>0</th>\n",
       "      <td>AT</td>\n",
       "      <td>Architect</td>\n",
       "      <td>https://www.linkedin.com/jobs/view/2589036509/...</td>\n",
       "    </tr>\n",
       "    <tr>\n",
       "      <th>1</th>\n",
       "      <td>AT</td>\n",
       "      <td>Manager</td>\n",
       "      <td>www.linkedin.com/jobs/view/2540581439/\\n\\nInfo...</td>\n",
       "    </tr>\n",
       "    <tr>\n",
       "      <th>2</th>\n",
       "      <td>AU</td>\n",
       "      <td>Inform</td>\n",
       "      <td>https://www.linkedin.com/company/global-blue/l...</td>\n",
       "    </tr>\n",
       "    <tr>\n",
       "      <th>3</th>\n",
       "      <td>CZ</td>\n",
       "      <td>IPSecu</td>\n",
       "      <td>https://www.linkedin.com/jobs/view/2410398234/...</td>\n",
       "    </tr>\n",
       "    <tr>\n",
       "      <th>4</th>\n",
       "      <td>CZ</td>\n",
       "      <td>Senior</td>\n",
       "      <td>https://www.linkedin.com/jobs/view/2487448959/...</td>\n",
       "    </tr>\n",
       "    <tr>\n",
       "      <th>...</th>\n",
       "      <td>...</td>\n",
       "      <td>...</td>\n",
       "      <td>...</td>\n",
       "    </tr>\n",
       "    <tr>\n",
       "      <th>106</th>\n",
       "      <td>RS</td>\n",
       "      <td>IncidentResponder</td>\n",
       "      <td>https://www.linkedin.com/jobs/view/26120892329...</td>\n",
       "    </tr>\n",
       "    <tr>\n",
       "      <th>107</th>\n",
       "      <td>RS</td>\n",
       "      <td>ProfessionalAD</td>\n",
       "      <td>https://www.linkedin.com/jobs/view/2507722470/...</td>\n",
       "    </tr>\n",
       "    <tr>\n",
       "      <th>108</th>\n",
       "      <td>RS</td>\n",
       "      <td>ProfessionalAD</td>\n",
       "      <td>https://www.linkedin.com/jobs/view/2507722470/...</td>\n",
       "    </tr>\n",
       "    <tr>\n",
       "      <th>109</th>\n",
       "      <td>SE</td>\n",
       "      <td>CyberSec</td>\n",
       "      <td>https://www.linkedin.com/jobs/view/2507722470/...</td>\n",
       "    </tr>\n",
       "    <tr>\n",
       "      <th>110</th>\n",
       "      <td>SE</td>\n",
       "      <td>Incident</td>\n",
       "      <td>https://www.linkedin.com/jobs/view/25077224709...</td>\n",
       "    </tr>\n",
       "  </tbody>\n",
       "</table>\n",
       "<p>111 rows × 3 columns</p>\n",
       "</div>"
      ],
      "text/plain": [
       "    country              title  \\\n",
       "0        AT          Architect   \n",
       "1        AT            Manager   \n",
       "2        AU             Inform   \n",
       "3        CZ             IPSecu   \n",
       "4        CZ             Senior   \n",
       "..      ...                ...   \n",
       "106      RS  IncidentResponder   \n",
       "107      RS     ProfessionalAD   \n",
       "108      RS     ProfessionalAD   \n",
       "109      SE           CyberSec   \n",
       "110      SE           Incident   \n",
       "\n",
       "                                                  text  \n",
       "0    https://www.linkedin.com/jobs/view/2589036509/...  \n",
       "1    www.linkedin.com/jobs/view/2540581439/\\n\\nInfo...  \n",
       "2    https://www.linkedin.com/company/global-blue/l...  \n",
       "3    https://www.linkedin.com/jobs/view/2410398234/...  \n",
       "4    https://www.linkedin.com/jobs/view/2487448959/...  \n",
       "..                                                 ...  \n",
       "106  https://www.linkedin.com/jobs/view/26120892329...  \n",
       "107  https://www.linkedin.com/jobs/view/2507722470/...  \n",
       "108  https://www.linkedin.com/jobs/view/2507722470/...  \n",
       "109  https://www.linkedin.com/jobs/view/2507722470/...  \n",
       "110  https://www.linkedin.com/jobs/view/25077224709...  \n",
       "\n",
       "[111 rows x 3 columns]"
      ]
     },
     "execution_count": 48,
     "metadata": {},
     "output_type": "execute_result"
    }
   ],
   "source": [
    "df"
   ]
  },
  {
   "cell_type": "code",
   "execution_count": null,
   "id": "c674c764",
   "metadata": {},
   "outputs": [],
   "source": []
  },
  {
   "cell_type": "code",
   "execution_count": null,
   "id": "f3548a0d",
   "metadata": {},
   "outputs": [],
   "source": []
  },
  {
   "cell_type": "code",
   "execution_count": 49,
   "id": "e5bb802f",
   "metadata": {},
   "outputs": [
    {
     "name": "stderr",
     "output_type": "stream",
     "text": [
      "C:\\Users\\elsha\\AppData\\Local\\Temp/ipykernel_11600/3596155951.py:12: FutureWarning: The default value of regex will change from True to False in a future version.\n",
      "  df['text'] = df['text'].str.replace('[^\\w\\s]','')\n"
     ]
    }
   ],
   "source": [
    "# Removal of stopwords\n",
    "from nltk.corpus import stopwords\n",
    "\n",
    "\n",
    "# Removal of links\n",
    "df['text'] = df['text'].apply(lambda x: re.sub(r'https?://\\S+|www\\.\\S+', '', x))\n",
    "\n",
    "# Extract Job Title from text\n",
    "df['job_title'] = df['text'].apply(lambda x: (re.sub(r'^.*?\\n', '\\n', x).strip()).split('\\n')[0] )\n",
    "\n",
    "# Removal of punctuations\n",
    "df['text'] = df['text'].str.replace('[^\\w\\s]','')\n",
    "\n",
    "stop = stopwords.words('english')\n",
    "df['text'] = df['text'].apply(lambda x: \" \".join(x for x in x.split() if x not in stop))"
   ]
  },
  {
   "cell_type": "code",
   "execution_count": 50,
   "id": "6e0faba8",
   "metadata": {},
   "outputs": [
    {
     "data": {
      "text/plain": [
       "0    Information Security Architect Copmany SWAROVS...\n",
       "1    Information Technology Security Manager Copman...\n",
       "2    Information Technology Security Manager Global...\n",
       "3    IP Security Architect About job Description Th...\n",
       "4    Senior Information Security Analyst About job ...\n",
       "Name: text, dtype: object"
      ]
     },
     "execution_count": 50,
     "metadata": {},
     "output_type": "execute_result"
    }
   ],
   "source": [
    "# Lemmatization\n",
    "from textblob import Word\n",
    "df['text'] = df['text'].apply(lambda x: \" \".join([Word(word).lemmatize() for word in x.split()]))\n",
    "df['text'].head()"
   ]
  },
  {
   "cell_type": "code",
   "execution_count": null,
   "id": "e0b8c858",
   "metadata": {},
   "outputs": [],
   "source": []
  },
  {
   "cell_type": "code",
   "execution_count": 92,
   "id": "583d2dad",
   "metadata": {},
   "outputs": [
    {
     "data": {
      "text/plain": [
       "Security Engineer                                          7\n",
       "Information Security Engineer                              4\n",
       "Security Analyst                                           4\n",
       "Cyber Security Consultant                                  2\n",
       "Penetration Tester                                         2\n",
       "                                                          ..\n",
       "Cyber Security Analyst at Honeywell                        1\n",
       "System Engineer at SolarWinds                              1\n",
       "Associate Offensive Security Engineer, Managed Services    1\n",
       "Senior Security Operations Engineer at Pure Storage        1\n",
       "Incident Response Engineer                                 1\n",
       "Name: job_title, Length: 91, dtype: int64"
      ]
     },
     "execution_count": 92,
     "metadata": {},
     "output_type": "execute_result"
    }
   ],
   "source": [
    "df['job_title'].value_counts()"
   ]
  },
  {
   "cell_type": "code",
   "execution_count": null,
   "id": "57e6ffa8",
   "metadata": {},
   "outputs": [],
   "source": []
  },
  {
   "cell_type": "code",
   "execution_count": null,
   "id": "2b0682e5",
   "metadata": {},
   "outputs": [],
   "source": []
  },
  {
   "cell_type": "code",
   "execution_count": 51,
   "id": "8270b204",
   "metadata": {},
   "outputs": [],
   "source": [
    "# Let's import text feature extraction TfidfVectorizer\n",
    "from sklearn.feature_extraction.text import TfidfVectorizer\n",
    "\n",
    "# Import Cosien Similarity metric\n",
    "from sklearn.metrics.pairwise import cosine_similarity"
   ]
  },
  {
   "cell_type": "code",
   "execution_count": 52,
   "id": "616378e5",
   "metadata": {},
   "outputs": [],
   "source": [
    "# Create TFidfVectorizer \n",
    "tfidf = TfidfVectorizer()\n",
    "\n",
    "# Fit and transform the documents \n",
    "tfidf_vector = tfidf.fit_transform(df['text'])"
   ]
  },
  {
   "cell_type": "code",
   "execution_count": 53,
   "id": "09814779",
   "metadata": {},
   "outputs": [
    {
     "data": {
      "text/plain": [
       "array([[1.        , 0.23469631, 0.17998257, ..., 0.12238441, 0.17857406,\n",
       "        0.15370278],\n",
       "       [0.23469631, 1.        , 0.63815828, ..., 0.16047038, 0.23225287,\n",
       "        0.14487311],\n",
       "       [0.17998257, 0.63815828, 1.        , ..., 0.14749756, 0.16859459,\n",
       "        0.12079596],\n",
       "       ...,\n",
       "       [0.12238441, 0.16047038, 0.14749756, ..., 1.        , 0.1774875 ,\n",
       "        0.19516535],\n",
       "       [0.17857406, 0.23225287, 0.16859459, ..., 0.1774875 , 1.        ,\n",
       "        0.21243609],\n",
       "       [0.15370278, 0.14487311, 0.12079596, ..., 0.19516535, 0.21243609,\n",
       "        1.        ]])"
      ]
     },
     "execution_count": 53,
     "metadata": {},
     "output_type": "execute_result"
    }
   ],
   "source": [
    "# Compute cosine similarity\n",
    "cosine_sim=cosine_similarity(tfidf_vector, tfidf_vector)\n",
    "cosine_sim"
   ]
  },
  {
   "cell_type": "code",
   "execution_count": 54,
   "id": "6ad966ce",
   "metadata": {},
   "outputs": [
    {
     "data": {
      "text/plain": [
       "(111, 111)"
      ]
     },
     "execution_count": 54,
     "metadata": {},
     "output_type": "execute_result"
    }
   ],
   "source": [
    "cosine_sim.shape"
   ]
  },
  {
   "cell_type": "code",
   "execution_count": null,
   "id": "4a4ef70a",
   "metadata": {},
   "outputs": [],
   "source": []
  },
  {
   "cell_type": "markdown",
   "id": "ca1e07d9",
   "metadata": {},
   "source": [
    "## Find Cosine Similarity using Spacy"
   ]
  },
  {
   "cell_type": "code",
   "execution_count": 67,
   "id": "ae789ff7",
   "metadata": {},
   "outputs": [],
   "source": [
    "import en_core_web_md \n",
    "\n",
    "nlp = en_core_web_md.load()"
   ]
  },
  {
   "cell_type": "code",
   "execution_count": 68,
   "id": "9faf4be8",
   "metadata": {
    "scrolled": true
   },
   "outputs": [
    {
     "data": {
      "text/plain": [
       "0.9873073048514656"
      ]
     },
     "execution_count": 68,
     "metadata": {},
     "output_type": "execute_result"
    }
   ],
   "source": [
    "doc1 = nlp(df['text'][0])\n",
    "doc2 = nlp(df['text'][1])\n",
    "\n",
    "doc1.similarity(doc2) "
   ]
  },
  {
   "cell_type": "code",
   "execution_count": null,
   "id": "c8f5d0e8",
   "metadata": {},
   "outputs": [],
   "source": []
  },
  {
   "cell_type": "code",
   "execution_count": 107,
   "id": "9c15470b",
   "metadata": {},
   "outputs": [],
   "source": [
    "N = (len(df['text']))\n",
    "# N = 20\n",
    "matrix = np.zeros(( N, N))\n",
    "for i in range(N):\n",
    "    for j in range(N):\n",
    "        matrix[i][j] = nlp(df['text'][i]).similarity( nlp(df['text'][j] ) )\n",
    "\n",
    "sp_df = pd.DataFrame(matrix)\n",
    "\n",
    "sp_df.columns = list(df['job_title'])[:N]\n",
    "sp_df.index = list(df['job_title'])[:N]"
   ]
  },
  {
   "cell_type": "code",
   "execution_count": 110,
   "id": "d1aebfae",
   "metadata": {},
   "outputs": [],
   "source": [
    "sp_df.to_csv('pairwise_similarity_matrix.csv', index=False)"
   ]
  },
  {
   "cell_type": "code",
   "execution_count": 112,
   "id": "b0d3bcdd",
   "metadata": {},
   "outputs": [
    {
     "data": {
      "text/html": [
       "<div>\n",
       "<style scoped>\n",
       "    .dataframe tbody tr th:only-of-type {\n",
       "        vertical-align: middle;\n",
       "    }\n",
       "\n",
       "    .dataframe tbody tr th {\n",
       "        vertical-align: top;\n",
       "    }\n",
       "\n",
       "    .dataframe thead th {\n",
       "        text-align: right;\n",
       "    }\n",
       "</style>\n",
       "<table border=\"1\" class=\"dataframe\">\n",
       "  <thead>\n",
       "    <tr style=\"text-align: right;\">\n",
       "      <th></th>\n",
       "      <th>Information Security Architect</th>\n",
       "      <th>Information Technology Security Manager</th>\n",
       "      <th>Information Technology Security Manager</th>\n",
       "      <th>IP Security Architect</th>\n",
       "      <th>Senior Information Security Analyst</th>\n",
       "      <th>Security Analyst</th>\n",
       "      <th>IT Security Analyst</th>\n",
       "      <th>CYBER SECURITY &amp; IT COMPLIANCE MANAGER (M/F)</th>\n",
       "      <th>Infrastructure Security Architect</th>\n",
       "      <th>Group Product Manager</th>\n",
       "      <th>...</th>\n",
       "      <th>Penetration Tester</th>\n",
       "      <th>Senior AWS Developer</th>\n",
       "      <th>Cybersecurity Engineer</th>\n",
       "      <th>Information System Security Engineer</th>\n",
       "      <th>Information Security Engineer</th>\n",
       "      <th>Cyber Security Incident Responder</th>\n",
       "      <th>Cybersecurity Professional for Active Directory (w/m/d)</th>\n",
       "      <th>Cybersecurity Professional for Active Directory (w/m/d)</th>\n",
       "      <th>Cyber Security Developer</th>\n",
       "      <th>Incident Response Engineer</th>\n",
       "    </tr>\n",
       "  </thead>\n",
       "  <tbody>\n",
       "    <tr>\n",
       "      <th>Information Security Architect</th>\n",
       "      <td>1.000000</td>\n",
       "      <td>0.987307</td>\n",
       "      <td>0.987196</td>\n",
       "      <td>0.912618</td>\n",
       "      <td>0.977619</td>\n",
       "      <td>0.958724</td>\n",
       "      <td>0.975430</td>\n",
       "      <td>0.980403</td>\n",
       "      <td>0.969762</td>\n",
       "      <td>0.961146</td>\n",
       "      <td>...</td>\n",
       "      <td>0.971345</td>\n",
       "      <td>0.923491</td>\n",
       "      <td>0.966627</td>\n",
       "      <td>0.855451</td>\n",
       "      <td>0.962628</td>\n",
       "      <td>0.973688</td>\n",
       "      <td>0.974058</td>\n",
       "      <td>0.974258</td>\n",
       "      <td>0.974260</td>\n",
       "      <td>0.961629</td>\n",
       "    </tr>\n",
       "    <tr>\n",
       "      <th>Information Technology Security Manager</th>\n",
       "      <td>0.987307</td>\n",
       "      <td>1.000000</td>\n",
       "      <td>0.989958</td>\n",
       "      <td>0.915909</td>\n",
       "      <td>0.981832</td>\n",
       "      <td>0.962427</td>\n",
       "      <td>0.981442</td>\n",
       "      <td>0.985367</td>\n",
       "      <td>0.973421</td>\n",
       "      <td>0.971123</td>\n",
       "      <td>...</td>\n",
       "      <td>0.979120</td>\n",
       "      <td>0.921126</td>\n",
       "      <td>0.976189</td>\n",
       "      <td>0.859100</td>\n",
       "      <td>0.959546</td>\n",
       "      <td>0.980038</td>\n",
       "      <td>0.974344</td>\n",
       "      <td>0.974397</td>\n",
       "      <td>0.974973</td>\n",
       "      <td>0.963911</td>\n",
       "    </tr>\n",
       "    <tr>\n",
       "      <th>Information Technology Security Manager</th>\n",
       "      <td>0.987196</td>\n",
       "      <td>0.989958</td>\n",
       "      <td>1.000000</td>\n",
       "      <td>0.908403</td>\n",
       "      <td>0.968996</td>\n",
       "      <td>0.949813</td>\n",
       "      <td>0.975077</td>\n",
       "      <td>0.976106</td>\n",
       "      <td>0.963371</td>\n",
       "      <td>0.966552</td>\n",
       "      <td>...</td>\n",
       "      <td>0.973725</td>\n",
       "      <td>0.944414</td>\n",
       "      <td>0.964231</td>\n",
       "      <td>0.869746</td>\n",
       "      <td>0.960925</td>\n",
       "      <td>0.969990</td>\n",
       "      <td>0.982104</td>\n",
       "      <td>0.981855</td>\n",
       "      <td>0.969121</td>\n",
       "      <td>0.964307</td>\n",
       "    </tr>\n",
       "    <tr>\n",
       "      <th>IP Security Architect</th>\n",
       "      <td>0.912618</td>\n",
       "      <td>0.915909</td>\n",
       "      <td>0.908403</td>\n",
       "      <td>1.000000</td>\n",
       "      <td>0.916763</td>\n",
       "      <td>0.904748</td>\n",
       "      <td>0.934176</td>\n",
       "      <td>0.936655</td>\n",
       "      <td>0.958638</td>\n",
       "      <td>0.908865</td>\n",
       "      <td>...</td>\n",
       "      <td>0.926996</td>\n",
       "      <td>0.837852</td>\n",
       "      <td>0.938838</td>\n",
       "      <td>0.872094</td>\n",
       "      <td>0.961394</td>\n",
       "      <td>0.915433</td>\n",
       "      <td>0.906894</td>\n",
       "      <td>0.907253</td>\n",
       "      <td>0.952997</td>\n",
       "      <td>0.868820</td>\n",
       "    </tr>\n",
       "    <tr>\n",
       "      <th>Senior Information Security Analyst</th>\n",
       "      <td>0.977619</td>\n",
       "      <td>0.981832</td>\n",
       "      <td>0.968996</td>\n",
       "      <td>0.916763</td>\n",
       "      <td>1.000000</td>\n",
       "      <td>0.969186</td>\n",
       "      <td>0.974976</td>\n",
       "      <td>0.984082</td>\n",
       "      <td>0.975657</td>\n",
       "      <td>0.949615</td>\n",
       "      <td>...</td>\n",
       "      <td>0.964745</td>\n",
       "      <td>0.884707</td>\n",
       "      <td>0.969846</td>\n",
       "      <td>0.836062</td>\n",
       "      <td>0.957407</td>\n",
       "      <td>0.974982</td>\n",
       "      <td>0.948862</td>\n",
       "      <td>0.949035</td>\n",
       "      <td>0.970302</td>\n",
       "      <td>0.941297</td>\n",
       "    </tr>\n",
       "  </tbody>\n",
       "</table>\n",
       "<p>5 rows × 111 columns</p>\n",
       "</div>"
      ],
      "text/plain": [
       "                                         Information Security Architect  \\\n",
       "Information Security Architect                                 1.000000   \n",
       "Information Technology Security Manager                        0.987307   \n",
       "Information Technology Security Manager                        0.987196   \n",
       "IP Security Architect                                          0.912618   \n",
       "Senior Information Security Analyst                            0.977619   \n",
       "\n",
       "                                         Information Technology Security Manager  \\\n",
       "Information Security Architect                                          0.987307   \n",
       "Information Technology Security Manager                                 1.000000   \n",
       "Information Technology Security Manager                                 0.989958   \n",
       "IP Security Architect                                                   0.915909   \n",
       "Senior Information Security Analyst                                     0.981832   \n",
       "\n",
       "                                         Information Technology Security Manager  \\\n",
       "Information Security Architect                                          0.987196   \n",
       "Information Technology Security Manager                                 0.989958   \n",
       "Information Technology Security Manager                                 1.000000   \n",
       "IP Security Architect                                                   0.908403   \n",
       "Senior Information Security Analyst                                     0.968996   \n",
       "\n",
       "                                         IP Security Architect  \\\n",
       "Information Security Architect                        0.912618   \n",
       "Information Technology Security Manager               0.915909   \n",
       "Information Technology Security Manager               0.908403   \n",
       "IP Security Architect                                 1.000000   \n",
       "Senior Information Security Analyst                   0.916763   \n",
       "\n",
       "                                         Senior Information Security Analyst  \\\n",
       "Information Security Architect                                      0.977619   \n",
       "Information Technology Security Manager                             0.981832   \n",
       "Information Technology Security Manager                             0.968996   \n",
       "IP Security Architect                                               0.916763   \n",
       "Senior Information Security Analyst                                 1.000000   \n",
       "\n",
       "                                         Security Analyst  \\\n",
       "Information Security Architect                   0.958724   \n",
       "Information Technology Security Manager          0.962427   \n",
       "Information Technology Security Manager          0.949813   \n",
       "IP Security Architect                            0.904748   \n",
       "Senior Information Security Analyst              0.969186   \n",
       "\n",
       "                                         IT Security Analyst  \\\n",
       "Information Security Architect                      0.975430   \n",
       "Information Technology Security Manager             0.981442   \n",
       "Information Technology Security Manager             0.975077   \n",
       "IP Security Architect                               0.934176   \n",
       "Senior Information Security Analyst                 0.974976   \n",
       "\n",
       "                                         CYBER SECURITY & IT COMPLIANCE MANAGER (M/F)  \\\n",
       "Information Security Architect                                               0.980403   \n",
       "Information Technology Security Manager                                      0.985367   \n",
       "Information Technology Security Manager                                      0.976106   \n",
       "IP Security Architect                                                        0.936655   \n",
       "Senior Information Security Analyst                                          0.984082   \n",
       "\n",
       "                                         Infrastructure Security Architect   \\\n",
       "Information Security Architect                                     0.969762   \n",
       "Information Technology Security Manager                            0.973421   \n",
       "Information Technology Security Manager                            0.963371   \n",
       "IP Security Architect                                              0.958638   \n",
       "Senior Information Security Analyst                                0.975657   \n",
       "\n",
       "                                         Group Product Manager  ...  \\\n",
       "Information Security Architect                        0.961146  ...   \n",
       "Information Technology Security Manager               0.971123  ...   \n",
       "Information Technology Security Manager               0.966552  ...   \n",
       "IP Security Architect                                 0.908865  ...   \n",
       "Senior Information Security Analyst                   0.949615  ...   \n",
       "\n",
       "                                         Penetration Tester  \\\n",
       "Information Security Architect                     0.971345   \n",
       "Information Technology Security Manager            0.979120   \n",
       "Information Technology Security Manager            0.973725   \n",
       "IP Security Architect                              0.926996   \n",
       "Senior Information Security Analyst                0.964745   \n",
       "\n",
       "                                         Senior AWS Developer   \\\n",
       "Information Security Architect                        0.923491   \n",
       "Information Technology Security Manager               0.921126   \n",
       "Information Technology Security Manager               0.944414   \n",
       "IP Security Architect                                 0.837852   \n",
       "Senior Information Security Analyst                   0.884707   \n",
       "\n",
       "                                         Cybersecurity Engineer  \\\n",
       "Information Security Architect                         0.966627   \n",
       "Information Technology Security Manager                0.976189   \n",
       "Information Technology Security Manager                0.964231   \n",
       "IP Security Architect                                  0.938838   \n",
       "Senior Information Security Analyst                    0.969846   \n",
       "\n",
       "                                         Information System Security Engineer  \\\n",
       "Information Security Architect                                       0.855451   \n",
       "Information Technology Security Manager                              0.859100   \n",
       "Information Technology Security Manager                              0.869746   \n",
       "IP Security Architect                                                0.872094   \n",
       "Senior Information Security Analyst                                  0.836062   \n",
       "\n",
       "                                         Information Security Engineer  \\\n",
       "Information Security Architect                                0.962628   \n",
       "Information Technology Security Manager                       0.959546   \n",
       "Information Technology Security Manager                       0.960925   \n",
       "IP Security Architect                                         0.961394   \n",
       "Senior Information Security Analyst                           0.957407   \n",
       "\n",
       "                                         Cyber Security Incident Responder  \\\n",
       "Information Security Architect                                    0.973688   \n",
       "Information Technology Security Manager                           0.980038   \n",
       "Information Technology Security Manager                           0.969990   \n",
       "IP Security Architect                                             0.915433   \n",
       "Senior Information Security Analyst                               0.974982   \n",
       "\n",
       "                                         Cybersecurity Professional for Active Directory (w/m/d)  \\\n",
       "Information Security Architect                                                    0.974058         \n",
       "Information Technology Security Manager                                           0.974344         \n",
       "Information Technology Security Manager                                           0.982104         \n",
       "IP Security Architect                                                             0.906894         \n",
       "Senior Information Security Analyst                                               0.948862         \n",
       "\n",
       "                                         Cybersecurity Professional for Active Directory (w/m/d)  \\\n",
       "Information Security Architect                                                    0.974258         \n",
       "Information Technology Security Manager                                           0.974397         \n",
       "Information Technology Security Manager                                           0.981855         \n",
       "IP Security Architect                                                             0.907253         \n",
       "Senior Information Security Analyst                                               0.949035         \n",
       "\n",
       "                                         Cyber Security Developer   \\\n",
       "Information Security Architect                            0.974260   \n",
       "Information Technology Security Manager                   0.974973   \n",
       "Information Technology Security Manager                   0.969121   \n",
       "IP Security Architect                                     0.952997   \n",
       "Senior Information Security Analyst                       0.970302   \n",
       "\n",
       "                                         Incident Response Engineer  \n",
       "Information Security Architect                             0.961629  \n",
       "Information Technology Security Manager                    0.963911  \n",
       "Information Technology Security Manager                    0.964307  \n",
       "IP Security Architect                                      0.868820  \n",
       "Senior Information Security Analyst                        0.941297  \n",
       "\n",
       "[5 rows x 111 columns]"
      ]
     },
     "execution_count": 112,
     "metadata": {},
     "output_type": "execute_result"
    }
   ],
   "source": [
    "sp_df.head()"
   ]
  },
  {
   "cell_type": "code",
   "execution_count": 126,
   "id": "4f18e1d1",
   "metadata": {},
   "outputs": [
    {
     "name": "stdout",
     "output_type": "stream",
     "text": [
      "104\n",
      "0.8554507131019559\n"
     ]
    }
   ],
   "source": [
    "print(sp_df.iloc[0].argmin())\n",
    "print(sp_df.iloc[0].min())"
   ]
  },
  {
   "cell_type": "code",
   "execution_count": 133,
   "id": "9e0f5163",
   "metadata": {},
   "outputs": [
    {
     "data": {
      "text/plain": [
       "'Information System Security Engineer'"
      ]
     },
     "execution_count": 133,
     "metadata": {},
     "output_type": "execute_result"
    }
   ],
   "source": [
    "sp_df.index[104]"
   ]
  },
  {
   "cell_type": "code",
   "execution_count": 134,
   "id": "b2c199c8",
   "metadata": {},
   "outputs": [
    {
     "data": {
      "text/plain": [
       "Information Security Architect                             0.855451\n",
       "Information Technology Security Manager                    0.859100\n",
       "Information Technology Security Manager                    0.869746\n",
       "IP Security Architect                                      0.872094\n",
       "Senior Information Security Analyst                        0.836062\n",
       "                                                             ...   \n",
       "Cyber Security Incident Responder                          0.847908\n",
       "Cybersecurity Professional for Active Directory (w/m/d)    0.863739\n",
       "Cybersecurity Professional for Active Directory (w/m/d)    0.860770\n",
       "Cyber Security Developer                                   0.875392\n",
       "Incident Response Engineer                                 0.826858\n",
       "Name: Information System Security Engineer, Length: 111, dtype: float64"
      ]
     },
     "execution_count": 134,
     "metadata": {},
     "output_type": "execute_result"
    }
   ],
   "source": [
    "sp_df['Information System Security Engineer']"
   ]
  },
  {
   "cell_type": "code",
   "execution_count": null,
   "id": "a1defe40",
   "metadata": {},
   "outputs": [],
   "source": []
  },
  {
   "cell_type": "code",
   "execution_count": 77,
   "id": "318b55b2",
   "metadata": {
    "scrolled": true
   },
   "outputs": [
    {
     "ename": "ValueError",
     "evalue": "could not convert string to float: 'Information Security Architect'",
     "output_type": "error",
     "traceback": [
      "\u001b[1;31m---------------------------------------------------------------------------\u001b[0m",
      "\u001b[1;31mValueError\u001b[0m                                Traceback (most recent call last)",
      "\u001b[1;32m~\\AppData\\Local\\Temp/ipykernel_11600/1256105356.py\u001b[0m in \u001b[0;36m<module>\u001b[1;34m\u001b[0m\n\u001b[1;32m----> 1\u001b[1;33m \u001b[0mmatrix\u001b[0m\u001b[1;33m[\u001b[0m\u001b[1;36m0\u001b[0m\u001b[1;33m]\u001b[0m \u001b[1;33m=\u001b[0m \u001b[0mlist\u001b[0m\u001b[1;33m(\u001b[0m\u001b[0mdf\u001b[0m\u001b[1;33m[\u001b[0m\u001b[1;34m'job_title'\u001b[0m\u001b[1;33m]\u001b[0m\u001b[1;33m)\u001b[0m\u001b[1;33m[\u001b[0m\u001b[1;33m:\u001b[0m\u001b[1;36m10\u001b[0m\u001b[1;33m]\u001b[0m\u001b[1;33m\u001b[0m\u001b[1;33m\u001b[0m\u001b[0m\n\u001b[0m",
      "\u001b[1;31mValueError\u001b[0m: could not convert string to float: 'Information Security Architect'"
     ]
    }
   ],
   "source": [
    "matrix[0] = list(df['job_title'])[:10]"
   ]
  }
 ],
 "metadata": {
  "kernelspec": {
   "display_name": "Python 3 (ipykernel)",
   "language": "python",
   "name": "python3"
  },
  "language_info": {
   "codemirror_mode": {
    "name": "ipython",
    "version": 3
   },
   "file_extension": ".py",
   "mimetype": "text/x-python",
   "name": "python",
   "nbconvert_exporter": "python",
   "pygments_lexer": "ipython3",
   "version": "3.8.8"
  }
 },
 "nbformat": 4,
 "nbformat_minor": 5
}
