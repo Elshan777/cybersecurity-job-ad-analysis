{
 "cells": [
  {
   "cell_type": "code",
   "execution_count": 1,
   "id": "1e8f8bc1",
   "metadata": {},
   "outputs": [],
   "source": [
    "from linkedin import linkedin"
   ]
  },
  {
   "cell_type": "code",
   "execution_count": 2,
   "id": "c04a2389",
   "metadata": {},
   "outputs": [],
   "source": [
    "APPLICATON_KEY    = '77jo8hx0cb8qga'\n",
    "APPLICATON_SECRET = '3viK6WP76xpM3O3E'"
   ]
  },
  {
   "cell_type": "code",
   "execution_count": null,
   "id": "2bb5b2bf",
   "metadata": {},
   "outputs": [],
   "source": []
  },
  {
   "cell_type": "code",
   "execution_count": null,
   "id": "d28c412d",
   "metadata": {},
   "outputs": [],
   "source": []
  },
  {
   "cell_type": "code",
   "execution_count": null,
   "id": "df35fe08",
   "metadata": {},
   "outputs": [],
   "source": [
    "from linkedin import linkedin\n",
    "\n",
    "API_KEY = '77jo8hx0cb8qga'\n",
    "API_SECRET = '3viK6WP76xpM3O3E'\n",
    "RETURN_URL = 'http://localhost:3000'\n",
    "\n",
    "\n",
    "authentication = linkedin.LinkedInAuthentication(API_KEY, API_SECRET, RETURN_URL, linkedin.PERMISSIONS.enums.values())\n",
    "# Optionally one can send custom \"state\" value that will be returned from OAuth server\n",
    "# It can be used to track your user state or something else (it's up to you)\n",
    "# Be aware that this value is sent to OAuth server AS IS - make sure to encode or hash it\n",
    "#authorization.state = 'your_encoded_message'\n",
    "print(authentication.authorization_url)  # open this url on your browser\n",
    "application = linkedin.LinkedInApplication(authentication)"
   ]
  },
  {
   "cell_type": "code",
   "execution_count": null,
   "id": "4677f9d8",
   "metadata": {},
   "outputs": [],
   "source": []
  },
  {
   "cell_type": "code",
   "execution_count": null,
   "id": "742f1947",
   "metadata": {},
   "outputs": [],
   "source": [
    "from linkedin import server\n",
    "application = server.quick_api(API_KEY, API_SECRET)"
   ]
  },
  {
   "cell_type": "code",
   "execution_count": null,
   "id": "b0325bed",
   "metadata": {},
   "outputs": [],
   "source": []
  },
  {
   "cell_type": "code",
   "execution_count": null,
   "id": "238f0f79",
   "metadata": {},
   "outputs": [],
   "source": []
  },
  {
   "cell_type": "code",
   "execution_count": 8,
   "id": "ab83112b",
   "metadata": {},
   "outputs": [
    {
     "name": "stderr",
     "output_type": "stream",
     "text": [
      "INFO:linkedin_api.linkedin:request failed: This profile can't be accessed\n"
     ]
    }
   ],
   "source": [
    "from linkedin_api import Linkedin\n",
    "\n",
    "# Authenticate using any Linkedin account credentials\n",
    "api = Linkedin('elshanqadimov7@gmail.com', 'password')\n",
    "\n",
    "# GET a profile\n",
    "profile = api.get_profile('Elshan Gadimov')\n",
    "\n",
    "# GET a profiles contact info\n",
    "# contact_info = api.get_profile_contact_info('billy-g')\n",
    "\n",
    "# GET 1st degree connections of a given profile\n",
    "# connections = api.get_profile_connections('1234asc12304')\n"
   ]
  },
  {
   "cell_type": "code",
   "execution_count": 9,
   "id": "8d224260",
   "metadata": {},
   "outputs": [],
   "source": [
    "jobs = api.search_jobs(keywords='cyber', limit=3)"
   ]
  },
  {
   "cell_type": "code",
   "execution_count": 10,
   "id": "5b8fbacf",
   "metadata": {},
   "outputs": [
    {
     "ename": "AttributeError",
     "evalue": "'Linkedin' object has no attribute 'get_job_posting'",
     "output_type": "error",
     "traceback": [
      "\u001b[1;31m---------------------------------------------------------------------------\u001b[0m",
      "\u001b[1;31mAttributeError\u001b[0m                            Traceback (most recent call last)",
      "\u001b[1;32m~\\AppData\\Local\\Temp/ipykernel_9912/4153797388.py\u001b[0m in \u001b[0;36m<module>\u001b[1;34m\u001b[0m\n\u001b[1;32m----> 1\u001b[1;33m \u001b[0mapi\u001b[0m\u001b[1;33m.\u001b[0m\u001b[0mget_job_posting\u001b[0m\u001b[1;33m(\u001b[0m\u001b[1;33m)\u001b[0m\u001b[1;33m\u001b[0m\u001b[1;33m\u001b[0m\u001b[0m\n\u001b[0m",
      "\u001b[1;31mAttributeError\u001b[0m: 'Linkedin' object has no attribute 'get_job_posting'"
     ]
    }
   ],
   "source": [
    "api.get_job_posting()"
   ]
  },
  {
   "cell_type": "code",
   "execution_count": 11,
   "id": "27e6337e",
   "metadata": {},
   "outputs": [
    {
     "data": {
      "text/plain": [
       "{'salaryInsights': {'lockModuleShown': True,\n",
       "  'salaryExplorerUrl': 'https://www.linkedin.com/salary/',\n",
       "  'insightExists': False,\n",
       "  'jobCompensationAvailable': True,\n",
       "  '$type': 'com.linkedin.voyager.premium.SalaryInsights'},\n",
       " 'dashEntityUrn': 'urn:li:fsd_jobPosting:3022224806',\n",
       " 'companyDetails': {'company': 'urn:li:fs_normalized_company:2886771',\n",
       "  '*companyResolutionResult': 'urn:li:fs_normalized_company:2886771',\n",
       "  '$recipeTypes': ['com.linkedin.voyager.deco.jserp.WebJobPostingWithCompanyName'],\n",
       "  '$type': 'com.linkedin.voyager.jobs.JobPostingCompany'},\n",
       " 'jobState': 'LISTED',\n",
       " 'title': 'Data Analyst',\n",
       " 'duration': None,\n",
       " 'entityUrn': 'urn:li:fs_normalized_jobPosting:3022224806',\n",
       " 'briefBenefitsDescription': '',\n",
       " 'applyMethod': {'applyStartersPreferenceVoid': False,\n",
       "  'companyApplyUrl': 'https://www.sentinelone.com/jobs/5059856003?gh_jid=5059856003&gh_src=c61082833us',\n",
       "  '$type': 'com.linkedin.voyager.jobs.OffsiteApply'},\n",
       " '*savingInfo': 'urn:li:fs_jobSavingInfo:3022224806',\n",
       " 'new': False,\n",
       " 'formattedLocation': 'Prague, Prague, Czechia',\n",
       " 'expireAt': 1652386055000,\n",
       " 'listedAt': 1649794056000,\n",
       " '$recipeTypes': ['com.linkedin.voyager.deco.jserp.WebSearchJobJserpJobPostingWithSalary'],\n",
       " '$type': 'com.linkedin.voyager.jobs.JobPosting',\n",
       " 'standardizedAddresses': None,\n",
       " 'sourceDomain': 'www.sentinelone.com'}"
      ]
     },
     "execution_count": 11,
     "metadata": {},
     "output_type": "execute_result"
    }
   ],
   "source": [
    "jobs[2]"
   ]
  },
  {
   "cell_type": "code",
   "execution_count": 12,
   "id": "7f49dca2",
   "metadata": {},
   "outputs": [
    {
     "data": {
      "text/plain": [
       "'3031479991'"
      ]
     },
     "execution_count": 12,
     "metadata": {},
     "output_type": "execute_result"
    }
   ],
   "source": [
    "jobs[-2][\"*savingInfo\"].split(\":\")[-1]"
   ]
  },
  {
   "cell_type": "code",
   "execution_count": 13,
   "id": "c9d5342c",
   "metadata": {},
   "outputs": [],
   "source": [
    "import requests"
   ]
  },
  {
   "cell_type": "code",
   "execution_count": 14,
   "id": "ff5f0964",
   "metadata": {},
   "outputs": [],
   "source": [
    "resp=requests.get(f'https://www.linkedin.com/jobs/view/{jobs[-2][\"*savingInfo\"].split(\":\")[-1]}')"
   ]
  },
  {
   "cell_type": "code",
   "execution_count": 15,
   "id": "e1f21d3c",
   "metadata": {},
   "outputs": [],
   "source": [
    "from bs4 import BeautifulSoup"
   ]
  },
  {
   "cell_type": "code",
   "execution_count": 16,
   "id": "51ae91d7",
   "metadata": {},
   "outputs": [],
   "source": [
    "page=BeautifulSoup(resp.text,\"html.parser\")"
   ]
  },
  {
   "cell_type": "code",
   "execution_count": 17,
   "id": "1cf9abf9",
   "metadata": {},
   "outputs": [
    {
     "data": {
      "text/plain": [
       "\"The Future Is What We Make It.When you join Honeywell, you become a member of our global team of thinkers, innovators, dreamers and doers who make the things that make the future. That means changing the way we fly, fueling jets in an eco-friendly way, keeping buildings smart and safe and even making it possible to breathe on Mars.Working at Honeywell isn’t just about developing cool things. That’s why all our employees enjoy access to dynamic career opportunities across different fields and industries.Are you ready to help us make the future?We have an opportunity for a Cyber Threat Intelligence Analyst to join our international team in Brno.Honeywell Global Security (HGS) believes in integrating security into all aspects of our business to protect the people, processes, and assets by which Honeywell achieves its greater mission. Advancements in technology, contractual and regulatory requirements, emerging threats, and Honeywell's growth worldwide continue to challenge all of us to ensure everything we do in business is done securely.The Threat Operations Group is searching for a threat intelligence analyst with experience in threat research, risk assessment, and threat hunting. The preferred candidate should also be able to formulate and follow through on threat hypothesis, prioritize threats, and create legible research reports that describe the threat, vulnerability, and risk to Honeywell. The position has a focus on Monitoring and Alerting. Candidate must be able to work with a team and coordinate work actions with that team.TasksThe successful candidate should possess the following skills:Experience performing forensic analysis of Windows and Unix systems to identify compromise artifacts (3+ years)Malware analysis and reverse engineering (3+ years)Experience in building sandbox/test lab environments to evaluate malicious codeAbility to identify actionable indicators of compromise based upon analysis of malware of forensic dataScripting and programming experience (e.g., Python, Perl, C, C++, Java, Assembly Language, Shell ScriptingStrong research background and an analytical approach, especially with respect to event classification, event correlation, and root cause analysis preferredRequirementsMinimum of three years’ experience performing incident response with an emphasis on system compromise analysisExperience performing security reviews/vulnerability risk assessments of network environments using both manual procedures and automated analysis tools.Possesses a solid understanding of the TCP/IP protocol suite, security architecture, and remote access security techniques/products.Experience with enterprise anti-virus solutions, virus outbreak management, and the ability to differentiate virus activity from directed attack patterns.Creation of tools to automate analysis of malicious binaries.Ability to perform network-based forensics and log analysisStrong understanding of incident response methodologies and technologiesEnsure the confidentiality, availability, and integrity of SOC data sourcesCandidate should be able to react quickly, decisively, and deliberately in high-stress situationsStrong verbal/written communication and interpersonal skills are required to document and communicate findings, escalate threats, and interact with customersHighly motivated individual with the ability to self-start, prioritize, and multi-taskWe ValueExperience with log management and/or SIEM technologies such as Splunk, ArcSight, and LogLogicExperience with threat intelligence and/or IOC platformsTechnical certifications considered an asset are: CISSP, GCIH, GCIA, GCFA, GPEN, GCFE, CCNA, CCNPBenefitsContributory pension scheme matched by employer up to specific amount Business travel accident insurance Online flexible benefit program for a broad scope of benefits in the areas of sports, culture, education, health, travel and other Multisport card - employees free or discounted access to leisure and sport facilities in the Czech Republic and SlovakiaGlobal partnerships and discounts - access to broad scope services including purchase and servicing of cars, employee phone tariffs, bank accounts, medical footwear, hairdresser or restaurantsOpportunity to attend the best available trainingsProfessional development plans, providing you with experience of outstanding up-to-date technologyIf this is your dream role, then we'd love to hear from you.We are an equal opportunity employer and value diversity at our company. We do not discriminate based on race, religion, color, national origin, gender, sexual orientation, age, marital status, veteran status, or disability status.We will ensure that individuals with disabilities are provided reasonable accommodation to participate in the job application or interview process, to perform crucial job functions, and to receive other benefits and privileges of employment. Please contact us to request accommodation.\""
      ]
     },
     "execution_count": 17,
     "metadata": {},
     "output_type": "execute_result"
    }
   ],
   "source": [
    "page.find(class_=\"show-more-less-html__markup show-more-less-html__markup--clamp-after-5\").text.strip()"
   ]
  },
  {
   "cell_type": "code",
   "execution_count": null,
   "id": "6d60b641",
   "metadata": {},
   "outputs": [],
   "source": [
    "import time"
   ]
  },
  {
   "cell_type": "code",
   "execution_count": null,
   "id": "023a5946",
   "metadata": {},
   "outputs": [],
   "source": [
    "time.sleep(2)"
   ]
  },
  {
   "cell_type": "code",
   "execution_count": null,
   "id": "aa7bfef0",
   "metadata": {},
   "outputs": [],
   "source": []
  }
 ],
 "metadata": {
  "kernelspec": {
   "display_name": "Python 3 (ipykernel)",
   "language": "python",
   "name": "python3"
  },
  "language_info": {
   "codemirror_mode": {
    "name": "ipython",
    "version": 3
   },
   "file_extension": ".py",
   "mimetype": "text/x-python",
   "name": "python",
   "nbconvert_exporter": "python",
   "pygments_lexer": "ipython3",
   "version": "3.8.8"
  }
 },
 "nbformat": 4,
 "nbformat_minor": 5
}
