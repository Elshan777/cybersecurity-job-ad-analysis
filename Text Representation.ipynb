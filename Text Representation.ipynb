{
 "cells": [
  {
   "cell_type": "code",
   "execution_count": 23,
   "id": "38bc0353",
   "metadata": {},
   "outputs": [],
   "source": [
    "import numpy as np\n",
    "import pandas as pd\n",
    "import re"
   ]
  },
  {
   "cell_type": "code",
   "execution_count": 32,
   "id": "e077fbcc",
   "metadata": {},
   "outputs": [],
   "source": [
    "df = pd.read_csv('jobs.csv')"
   ]
  },
  {
   "cell_type": "code",
   "execution_count": 33,
   "id": "7add71cf",
   "metadata": {},
   "outputs": [
    {
     "data": {
      "text/html": [
       "<div>\n",
       "<style scoped>\n",
       "    .dataframe tbody tr th:only-of-type {\n",
       "        vertical-align: middle;\n",
       "    }\n",
       "\n",
       "    .dataframe tbody tr th {\n",
       "        vertical-align: top;\n",
       "    }\n",
       "\n",
       "    .dataframe thead th {\n",
       "        text-align: right;\n",
       "    }\n",
       "</style>\n",
       "<table border=\"1\" class=\"dataframe\">\n",
       "  <thead>\n",
       "    <tr style=\"text-align: right;\">\n",
       "      <th></th>\n",
       "      <th>country</th>\n",
       "      <th>title</th>\n",
       "      <th>text</th>\n",
       "    </tr>\n",
       "  </thead>\n",
       "  <tbody>\n",
       "    <tr>\n",
       "      <th>0</th>\n",
       "      <td>AT</td>\n",
       "      <td>Architect</td>\n",
       "      <td>https://www.linkedin.com/jobs/view/2589036509/...</td>\n",
       "    </tr>\n",
       "    <tr>\n",
       "      <th>1</th>\n",
       "      <td>AT</td>\n",
       "      <td>Manager</td>\n",
       "      <td>www.linkedin.com/jobs/view/2540581439/\\n\\nInfo...</td>\n",
       "    </tr>\n",
       "    <tr>\n",
       "      <th>2</th>\n",
       "      <td>AU</td>\n",
       "      <td>Inform</td>\n",
       "      <td>https://www.linkedin.com/company/global-blue/l...</td>\n",
       "    </tr>\n",
       "    <tr>\n",
       "      <th>3</th>\n",
       "      <td>CZ</td>\n",
       "      <td>IPSecu</td>\n",
       "      <td>https://www.linkedin.com/jobs/view/2410398234/...</td>\n",
       "    </tr>\n",
       "    <tr>\n",
       "      <th>4</th>\n",
       "      <td>CZ</td>\n",
       "      <td>Senior</td>\n",
       "      <td>https://www.linkedin.com/jobs/view/2487448959/...</td>\n",
       "    </tr>\n",
       "  </tbody>\n",
       "</table>\n",
       "</div>"
      ],
      "text/plain": [
       "  country      title                                               text\n",
       "0      AT  Architect  https://www.linkedin.com/jobs/view/2589036509/...\n",
       "1      AT    Manager  www.linkedin.com/jobs/view/2540581439/\\n\\nInfo...\n",
       "2      AU     Inform  https://www.linkedin.com/company/global-blue/l...\n",
       "3      CZ     IPSecu  https://www.linkedin.com/jobs/view/2410398234/...\n",
       "4      CZ     Senior  https://www.linkedin.com/jobs/view/2487448959/..."
      ]
     },
     "execution_count": 33,
     "metadata": {},
     "output_type": "execute_result"
    }
   ],
   "source": [
    "df.head()"
   ]
  },
  {
   "cell_type": "code",
   "execution_count": 34,
   "id": "b37526fb",
   "metadata": {},
   "outputs": [
    {
     "data": {
      "text/plain": [
       "0      https://www.linkedin.com/jobs/view/2589036509/...\n",
       "1      www.linkedin.com/jobs/view/2540581439/\\n\\nInfo...\n",
       "2      https://www.linkedin.com/company/global-blue/l...\n",
       "3      https://www.linkedin.com/jobs/view/2410398234/...\n",
       "4      https://www.linkedin.com/jobs/view/2487448959/...\n",
       "                             ...                        \n",
       "106    https://www.linkedin.com/jobs/view/26120892329...\n",
       "107    https://www.linkedin.com/jobs/view/2507722470/...\n",
       "108    https://www.linkedin.com/jobs/view/2507722470/...\n",
       "109    https://www.linkedin.com/jobs/view/2507722470/...\n",
       "110    https://www.linkedin.com/jobs/view/25077224709...\n",
       "Name: text, Length: 111, dtype: object"
      ]
     },
     "execution_count": 34,
     "metadata": {},
     "output_type": "execute_result"
    }
   ],
   "source": [
    "df['text']"
   ]
  },
  {
   "cell_type": "code",
   "execution_count": null,
   "id": "170c173e",
   "metadata": {},
   "outputs": [],
   "source": []
  },
  {
   "cell_type": "markdown",
   "id": "61286a32",
   "metadata": {},
   "source": [
    "### Word Count "
   ]
  },
  {
   "cell_type": "code",
   "execution_count": 35,
   "id": "1f90d065",
   "metadata": {
    "scrolled": false
   },
   "outputs": [
    {
     "data": {
      "text/html": [
       "<div>\n",
       "<style scoped>\n",
       "    .dataframe tbody tr th:only-of-type {\n",
       "        vertical-align: middle;\n",
       "    }\n",
       "\n",
       "    .dataframe tbody tr th {\n",
       "        vertical-align: top;\n",
       "    }\n",
       "\n",
       "    .dataframe thead th {\n",
       "        text-align: right;\n",
       "    }\n",
       "</style>\n",
       "<table border=\"1\" class=\"dataframe\">\n",
       "  <thead>\n",
       "    <tr style=\"text-align: right;\">\n",
       "      <th></th>\n",
       "      <th>text</th>\n",
       "      <th>word_count</th>\n",
       "    </tr>\n",
       "  </thead>\n",
       "  <tbody>\n",
       "    <tr>\n",
       "      <th>0</th>\n",
       "      <td>https://www.linkedin.com/jobs/view/2589036509/...</td>\n",
       "      <td>2861</td>\n",
       "    </tr>\n",
       "    <tr>\n",
       "      <th>1</th>\n",
       "      <td>www.linkedin.com/jobs/view/2540581439/\\n\\nInfo...</td>\n",
       "      <td>4849</td>\n",
       "    </tr>\n",
       "    <tr>\n",
       "      <th>2</th>\n",
       "      <td>https://www.linkedin.com/company/global-blue/l...</td>\n",
       "      <td>10293</td>\n",
       "    </tr>\n",
       "    <tr>\n",
       "      <th>3</th>\n",
       "      <td>https://www.linkedin.com/jobs/view/2410398234/...</td>\n",
       "      <td>2673</td>\n",
       "    </tr>\n",
       "    <tr>\n",
       "      <th>4</th>\n",
       "      <td>https://www.linkedin.com/jobs/view/2487448959/...</td>\n",
       "      <td>3394</td>\n",
       "    </tr>\n",
       "    <tr>\n",
       "      <th>...</th>\n",
       "      <td>...</td>\n",
       "      <td>...</td>\n",
       "    </tr>\n",
       "    <tr>\n",
       "      <th>106</th>\n",
       "      <td>https://www.linkedin.com/jobs/view/26120892329...</td>\n",
       "      <td>4025</td>\n",
       "    </tr>\n",
       "    <tr>\n",
       "      <th>107</th>\n",
       "      <td>https://www.linkedin.com/jobs/view/2507722470/...</td>\n",
       "      <td>3936</td>\n",
       "    </tr>\n",
       "    <tr>\n",
       "      <th>108</th>\n",
       "      <td>https://www.linkedin.com/jobs/view/2507722470/...</td>\n",
       "      <td>3757</td>\n",
       "    </tr>\n",
       "    <tr>\n",
       "      <th>109</th>\n",
       "      <td>https://www.linkedin.com/jobs/view/2507722470/...</td>\n",
       "      <td>2750</td>\n",
       "    </tr>\n",
       "    <tr>\n",
       "      <th>110</th>\n",
       "      <td>https://www.linkedin.com/jobs/view/25077224709...</td>\n",
       "      <td>4192</td>\n",
       "    </tr>\n",
       "  </tbody>\n",
       "</table>\n",
       "<p>111 rows × 2 columns</p>\n",
       "</div>"
      ],
      "text/plain": [
       "                                                  text  word_count\n",
       "0    https://www.linkedin.com/jobs/view/2589036509/...        2861\n",
       "1    www.linkedin.com/jobs/view/2540581439/\\n\\nInfo...        4849\n",
       "2    https://www.linkedin.com/company/global-blue/l...       10293\n",
       "3    https://www.linkedin.com/jobs/view/2410398234/...        2673\n",
       "4    https://www.linkedin.com/jobs/view/2487448959/...        3394\n",
       "..                                                 ...         ...\n",
       "106  https://www.linkedin.com/jobs/view/26120892329...        4025\n",
       "107  https://www.linkedin.com/jobs/view/2507722470/...        3936\n",
       "108  https://www.linkedin.com/jobs/view/2507722470/...        3757\n",
       "109  https://www.linkedin.com/jobs/view/2507722470/...        2750\n",
       "110  https://www.linkedin.com/jobs/view/25077224709...        4192\n",
       "\n",
       "[111 rows x 2 columns]"
      ]
     },
     "execution_count": 35,
     "metadata": {},
     "output_type": "execute_result"
    }
   ],
   "source": [
    "df['word_count'] = df['text'].apply(lambda x: len( x.strip(' ')))\n",
    "df[[ 'text', 'word_count']]"
   ]
  },
  {
   "cell_type": "code",
   "execution_count": 36,
   "id": "2a9a6d58",
   "metadata": {},
   "outputs": [
    {
     "data": {
      "text/plain": [
       "0       2861\n",
       "1       4849\n",
       "2      10293\n",
       "3       2673\n",
       "4       3394\n",
       "       ...  \n",
       "106     4025\n",
       "107     3936\n",
       "108     3757\n",
       "109     2750\n",
       "110     4192\n",
       "Name: word_count, Length: 111, dtype: int64"
      ]
     },
     "execution_count": 36,
     "metadata": {},
     "output_type": "execute_result"
    }
   ],
   "source": [
    "df['word_count']"
   ]
  },
  {
   "cell_type": "code",
   "execution_count": null,
   "id": "b0af8b91",
   "metadata": {},
   "outputs": [],
   "source": []
  },
  {
   "cell_type": "markdown",
   "id": "06724f6a",
   "metadata": {},
   "source": [
    "## Stopwords"
   ]
  },
  {
   "cell_type": "code",
   "execution_count": 37,
   "id": "9f5b388d",
   "metadata": {},
   "outputs": [],
   "source": [
    "from nltk.corpus import stopwords\n",
    "stop = stopwords.words('english')\n",
    "df['stopwords'] = df['text'].apply(lambda x: len([x for x in x.split() if x in stop]))"
   ]
  },
  {
   "cell_type": "code",
   "execution_count": 49,
   "id": "045c5737",
   "metadata": {
    "collapsed": true
   },
   "outputs": [
    {
     "data": {
      "text/html": [
       "<div>\n",
       "<style scoped>\n",
       "    .dataframe tbody tr th:only-of-type {\n",
       "        vertical-align: middle;\n",
       "    }\n",
       "\n",
       "    .dataframe tbody tr th {\n",
       "        vertical-align: top;\n",
       "    }\n",
       "\n",
       "    .dataframe thead th {\n",
       "        text-align: right;\n",
       "    }\n",
       "</style>\n",
       "<table border=\"1\" class=\"dataframe\">\n",
       "  <thead>\n",
       "    <tr style=\"text-align: right;\">\n",
       "      <th></th>\n",
       "      <th>country</th>\n",
       "      <th>title</th>\n",
       "      <th>text</th>\n",
       "      <th>word_count</th>\n",
       "      <th>stopwords</th>\n",
       "      <th>lf_text</th>\n",
       "      <th>job_title</th>\n",
       "    </tr>\n",
       "  </thead>\n",
       "  <tbody>\n",
       "    <tr>\n",
       "      <th>0</th>\n",
       "      <td>AT</td>\n",
       "      <td>Architect</td>\n",
       "      <td>https://www.linkedin.com/jobs/view/2589036509/...</td>\n",
       "      <td>2861</td>\n",
       "      <td>134</td>\n",
       "      <td>\\n\\nInformation Security Architect\\n\\nCopmany:...</td>\n",
       "      <td>Information Security Architect</td>\n",
       "    </tr>\n",
       "    <tr>\n",
       "      <th>1</th>\n",
       "      <td>AT</td>\n",
       "      <td>Manager</td>\n",
       "      <td>www.linkedin.com/jobs/view/2540581439/\\n\\nInfo...</td>\n",
       "      <td>4849</td>\n",
       "      <td>199</td>\n",
       "      <td>\\n\\nInformation Technology Security Manager\\n\\...</td>\n",
       "      <td>Information Technology Security Manager</td>\n",
       "    </tr>\n",
       "    <tr>\n",
       "      <th>2</th>\n",
       "      <td>AU</td>\n",
       "      <td>Inform</td>\n",
       "      <td>https://www.linkedin.com/company/global-blue/l...</td>\n",
       "      <td>10293</td>\n",
       "      <td>300</td>\n",
       "      <td>\\n\\nInformation Technology Security Manager\\n\\...</td>\n",
       "      <td>Information Technology Security Manager</td>\n",
       "    </tr>\n",
       "    <tr>\n",
       "      <th>3</th>\n",
       "      <td>CZ</td>\n",
       "      <td>IPSecu</td>\n",
       "      <td>https://www.linkedin.com/jobs/view/2410398234/...</td>\n",
       "      <td>2673</td>\n",
       "      <td>82</td>\n",
       "      <td>\\n\\n  IP Security Architect\\n\\n\\n      About t...</td>\n",
       "      <td>IP Security Architect</td>\n",
       "    </tr>\n",
       "    <tr>\n",
       "      <th>4</th>\n",
       "      <td>CZ</td>\n",
       "      <td>Senior</td>\n",
       "      <td>https://www.linkedin.com/jobs/view/2487448959/...</td>\n",
       "      <td>3394</td>\n",
       "      <td>105</td>\n",
       "      <td>\\n    \\n  Senior Information Security Analyst\\...</td>\n",
       "      <td>Senior Information Security Analyst</td>\n",
       "    </tr>\n",
       "  </tbody>\n",
       "</table>\n",
       "</div>"
      ],
      "text/plain": [
       "  country      title                                               text  \\\n",
       "0      AT  Architect  https://www.linkedin.com/jobs/view/2589036509/...   \n",
       "1      AT    Manager  www.linkedin.com/jobs/view/2540581439/\\n\\nInfo...   \n",
       "2      AU     Inform  https://www.linkedin.com/company/global-blue/l...   \n",
       "3      CZ     IPSecu  https://www.linkedin.com/jobs/view/2410398234/...   \n",
       "4      CZ     Senior  https://www.linkedin.com/jobs/view/2487448959/...   \n",
       "\n",
       "   word_count  stopwords                                            lf_text  \\\n",
       "0        2861        134  \\n\\nInformation Security Architect\\n\\nCopmany:...   \n",
       "1        4849        199  \\n\\nInformation Technology Security Manager\\n\\...   \n",
       "2       10293        300  \\n\\nInformation Technology Security Manager\\n\\...   \n",
       "3        2673         82  \\n\\n  IP Security Architect\\n\\n\\n      About t...   \n",
       "4        3394        105  \\n    \\n  Senior Information Security Analyst\\...   \n",
       "\n",
       "                                 job_title  \n",
       "0           Information Security Architect  \n",
       "1  Information Technology Security Manager  \n",
       "2  Information Technology Security Manager  \n",
       "3                    IP Security Architect  \n",
       "4      Senior Information Security Analyst  "
      ]
     },
     "execution_count": 49,
     "metadata": {},
     "output_type": "execute_result"
    }
   ],
   "source": [
    "df.head()"
   ]
  },
  {
   "cell_type": "code",
   "execution_count": null,
   "id": "3164b51e",
   "metadata": {},
   "outputs": [],
   "source": []
  },
  {
   "cell_type": "markdown",
   "id": "2dba36e5",
   "metadata": {},
   "source": [
    "## Remove links"
   ]
  },
  {
   "cell_type": "code",
   "execution_count": 40,
   "id": "81b758b8",
   "metadata": {},
   "outputs": [],
   "source": [
    "# df['text'] = df['text'].apply(lambda x: '\\n\\n'+x)"
   ]
  },
  {
   "cell_type": "code",
   "execution_count": 41,
   "id": "4e254f45",
   "metadata": {},
   "outputs": [
    {
     "data": {
      "text/plain": [
       "0     \\n\\nInformation Security Architect\\n\\nCopmany:...\n",
       "1     \\n\\nInformation Technology Security Manager\\n\\...\n",
       "2     \\n\\nInformation Technology Security Manager\\n\\...\n",
       "3     \\n\\n  IP Security Architect\\n\\n\\n      About t...\n",
       "4     \\n    \\n  Senior Information Security Analyst\\...\n",
       "5     \\n\\n  Security Analyst\\n\\n\\n      About the jo...\n",
       "6     \\n\\n  IT Security Analyst\\n\\n\\n      About the...\n",
       "7     \\n   \\n\\n  CYBER SECURITY & IT COMPLIANCE MANA...\n",
       "8     \\n\\n  Infrastructure Security Architect \\n\\nPr...\n",
       "9     \\n\\n  Group Product Manager\\n\\n      About the...\n",
       "10    \\n\\n  Application Security Architect\\n\\n\\nEasy...\n",
       "11    \\n\\n  Security Engineer\\n\\n\\n      About the j...\n",
       "12    ï»¿\\n\\nSpace Cybersecurity Specialist \\n\\n    ...\n",
       "13    ï»¿\\n\\nCyber Security Specialist / Penetration...\n",
       "14    ï»¿\\n Cyber-Security Architect at Eaton\\n\\n\\n ...\n",
       "15    ï»¿\\n\\n\\nSecurity and Risk Manager at IBM\\n\\n\\...\n",
       "16    ï»¿\\n\\n\\n Cyber Security Expert at Zentiva\\n\\n...\n",
       "17    ï»¿ \\n\\nCyber Security Architect at Vodafone\\n...\n",
       "18    \\n\\n  Tier 1 Security Engineer\\n\\n      About ...\n",
       "19    \\n\\n  Sr. Security Engineer\\n\\n\\n      About t...\n",
       "Name: lf_text, dtype: object"
      ]
     },
     "execution_count": 41,
     "metadata": {},
     "output_type": "execute_result"
    }
   ],
   "source": [
    "df['lf_text'] = df['text'].apply(lambda x: re.sub(r'https?://\\S+|www\\.\\S+', '', x))\n",
    "\n",
    "df['lf_text'][:20]"
   ]
  },
  {
   "cell_type": "code",
   "execution_count": 43,
   "id": "8f3a79f4",
   "metadata": {},
   "outputs": [],
   "source": [
    "# Remove the 'ï»¿' from some rows and get job title position\n",
    "df['job_title'] = df['lf_text'].apply(lambda x: (re.sub(r'^.*?\\n', '\\n', x).strip()).split('\\n')[0] )"
   ]
  },
  {
   "cell_type": "code",
   "execution_count": 44,
   "id": "bdf9f342",
   "metadata": {
    "scrolled": true
   },
   "outputs": [
    {
     "data": {
      "text/plain": [
       "country                                                      HU\n",
       "title                                                  Engineer\n",
       "text          https://www.linkedin.com/jobs/view/2494545243/...\n",
       "word_count                                                 2689\n",
       "stopwords                                                    72\n",
       "lf_text       \\n\\nSecurity Engineer\\n\\n\\nCompany: Emarsys\\nL...\n",
       "job_title                                     Security Engineer\n",
       "Name: 57, dtype: object"
      ]
     },
     "execution_count": 44,
     "metadata": {},
     "output_type": "execute_result"
    }
   ],
   "source": [
    "df.iloc[57]"
   ]
  },
  {
   "cell_type": "code",
   "execution_count": 45,
   "id": "a388e9a8",
   "metadata": {
    "collapsed": true
   },
   "outputs": [
    {
     "name": "stdout",
     "output_type": "stream",
     "text": [
      "0 Information Security Architect\n",
      "1 Information Technology Security Manager\n",
      "2 Information Technology Security Manager\n",
      "3 IP Security Architect\n",
      "4 Senior Information Security Analyst\n",
      "5 Security Analyst\n",
      "6 IT Security Analyst\n",
      "7 CYBER SECURITY & IT COMPLIANCE MANAGER (M/F)\n",
      "8 Infrastructure Security Architect \n",
      "9 Group Product Manager\n",
      "10 Application Security Architect\n",
      "11 Security Engineer\n",
      "12 Space Cybersecurity Specialist \n",
      "13 Cyber Security Specialist / Penetration Tester at Resideo\n",
      "14 Cyber-Security Architect at Eaton\n",
      "15 Security and Risk Manager at IBM\n",
      "16 Cyber Security Expert at Zentiva\n",
      "17 Cyber Security Architect at Vodafone\n",
      "18 Tier 1 Security Engineer\n",
      "19 Sr. Security Engineer\n",
      "20 INFORMATION SECURITY ANALYST I at TE Connectivity\n",
      "21 Security QA Engineer \n",
      "22 Information Security Engineer \n",
      "23 Principal Security Architect\n",
      "24 Threat Hunting & Response Senior Analyst\n",
      "25 Associate Security Engineer\n",
      "26 Backend Developer Go/ C++ (CyberSecurity) at Acronis\n",
      "27 Security Architect - Network\n",
      "28 Senior Security Operations Engineer at Pure Storage\n",
      "29 Associate Offensive Security Engineer, Managed Services\n",
      "30 System Engineer at SolarWinds\n",
      "31 Cyber Security Analyst at Honeywell\n",
      "32 Security Engineer\n",
      "33 Security Consultant at Accenture\n",
      "34 Security Operations Analyst at 2K\n",
      "35 Senior Security Manager at TietoEVRY\n",
      "36 Network Engineer \n",
      "37 SOC Analyst at Fortinet\n",
      "38 Senior Software Engineer\n",
      "39 Cyber Range\n",
      "40 Information Security Officer-GRC\n",
      "41 Security Engineer\n",
      "42 Senior Security Researcher\n",
      "43 Application Security Specialist WIP\n",
      "44 Security Engineer\n",
      "45 Senior Security Engineer, Incident Response\n",
      "46 Security Engineer\n",
      "47 Information Technology Manager\n",
      "48 Senior Digital Forensics Consultant\n",
      "49 JUNIOR SECURITY ENGINEER (D/M/W)\n",
      "50 Aircraft Cyber Security Engineer\n",
      "51 Presales Security Consultant\n",
      "52 Information Security Engineer\n",
      "53 Security Analyst\n",
      "54 Information Security Engineer\n",
      "55 Information Security Analyst\n",
      "56 Cyber & Information Security Audit Manager\n",
      "57 Security Engineer\n",
      "58 IT Security Analyst\n",
      "59 Information Security Engineer\n",
      "60 Cyber Security Analyst\n",
      "61 IT Security Engineer\n",
      "62 Senior Security Researcher\n",
      "63 Security Analyst\n",
      "64 Security Engineer\n",
      "65 Security Analyst\n",
      "66 Cyber Security Consultant\n",
      "67 Network Security Engineer\n",
      "68 Cyber Security Consultant\n",
      "69 IT Security Specialist\n",
      "70 Chief Security Architect\n",
      "71 L3 Security Engineer, Cyber Security\n",
      "72 L3 Security Engineer, Cyber Security\n",
      "73 Advanced Cyber Security Engineer\n",
      "74 Security Threat Monitoring Analyst\n",
      "75 Cyber Security Specialist\n",
      "76 Information Security Lead \n",
      "77 National Security Expert \n",
      "78 Cyber Security Specalist\n",
      "79 Application Security Engineer \n",
      "80 Leader of Team for SOC \n",
      "81 Penetration Tester\n",
      "82 Senior Security Architect in Cyber Design\n",
      "83 SOC Analyst \n",
      "84 Technical Security Manager \n",
      "85 IT Security Engineer in Network Security Platform Support Team\n",
      "86 Information Security Analyst \n",
      "87 Sr. Endpoint CyberSecurity Engineer \n",
      "88 Security Engineer (Incident Response) \n",
      "89 Security Architect \n",
      "90 IT Security Expert \n",
      "91 Junior Security Engineer - INTERN\n",
      "92 IAM Security Expert\n",
      "93 Cyber Security Specalist\n",
      "94 Penetration tester (White Hat Hacker)\n",
      "95 Application Security Engineer or Senior Application Security Engineer\n",
      "96 Security Operations Engineer (SecOps)\n",
      "97 Embedded Security Engineer\n",
      "98 Information Security Officer\n",
      "99 Network Security Administrator\n",
      "100 Senior Infrastructure Engineer\n",
      "101 Penetration Tester\n",
      "102 Senior AWS Developer \n",
      "103 Cybersecurity Engineer\n",
      "104 Information System Security Engineer\n",
      "105 Information Security Engineer\n",
      "106 Cyber Security Incident Responder\n",
      "107 Cybersecurity Professional for Active Directory (w/m/d)\n",
      "108 Cybersecurity Professional for Active Directory (w/m/d)\n",
      "109 Cyber Security Developer \n",
      "110 Incident Response Engineer\n"
     ]
    }
   ],
   "source": [
    "for i in range(len(df['job_title'])):\n",
    "    print(i, df['job_title'][i])"
   ]
  },
  {
   "cell_type": "code",
   "execution_count": null,
   "id": "b44f802d",
   "metadata": {},
   "outputs": [],
   "source": []
  },
  {
   "cell_type": "code",
   "execution_count": null,
   "id": "2023a283",
   "metadata": {},
   "outputs": [],
   "source": []
  },
  {
   "cell_type": "code",
   "execution_count": 47,
   "id": "82cf9662",
   "metadata": {},
   "outputs": [
    {
     "data": {
      "text/plain": [
       "0      \\n\\nInformation Security Architect\\n\\nCopmany:...\n",
       "1      \\n\\nInformation Technology Security Manager\\n\\...\n",
       "2      \\n\\nInformation Technology Security Manager\\n\\...\n",
       "3      \\n\\n  IP Security Architect\\n\\n\\n      About t...\n",
       "4      \\n    \\n  Senior Information Security Analyst\\...\n",
       "                             ...                        \n",
       "106    \\n\\nCyber Security Incident Responder\\n\\nCompa...\n",
       "107    \\n\\nCybersecurity Professional for Active Dire...\n",
       "108    \\n\\nCybersecurity Professional for Active Dire...\n",
       "109    \\n\\nCyber Security Developer \\n\\nAbout the job...\n",
       "110    \\n\\nIncident Response Engineer\\n \\n\\nWHO YOU A...\n",
       "Name: lf_text, Length: 111, dtype: object"
      ]
     },
     "execution_count": 47,
     "metadata": {},
     "output_type": "execute_result"
    }
   ],
   "source": [
    "df['lf_text']"
   ]
  },
  {
   "cell_type": "markdown",
   "id": "6c155257",
   "metadata": {},
   "source": [
    "### Removing punctuations"
   ]
  },
  {
   "cell_type": "code",
   "execution_count": 57,
   "id": "e98403db",
   "metadata": {},
   "outputs": [
    {
     "name": "stderr",
     "output_type": "stream",
     "text": [
      "C:\\Users\\elsha\\AppData\\Local\\Temp/ipykernel_8992/2057007632.py:2: FutureWarning: The default value of regex will change from True to False in a future version.\n",
      "  df['lf_text'] = df['lf_text'].str.replace('[^\\w\\s]','')\n"
     ]
    }
   ],
   "source": [
    "# df['tweet'] = \n",
    "df['lf_text'] = df['lf_text'].str.replace('[^\\w\\s]','')"
   ]
  },
  {
   "cell_type": "code",
   "execution_count": null,
   "id": "9385ad5f",
   "metadata": {},
   "outputs": [],
   "source": []
  },
  {
   "cell_type": "markdown",
   "id": "c9d58a7a",
   "metadata": {},
   "source": [
    "### Remove stop words"
   ]
  },
  {
   "cell_type": "code",
   "execution_count": 50,
   "id": "7d078a22",
   "metadata": {},
   "outputs": [],
   "source": [
    "from nltk.corpus import stopwords\n",
    "stop = stopwords.words('english')"
   ]
  },
  {
   "cell_type": "code",
   "execution_count": 51,
   "id": "bd632fae",
   "metadata": {},
   "outputs": [],
   "source": [
    "df['lf_text'] = df['lf_text'].apply(lambda x: \" \".join(x for x in x.split() if x not in stop))"
   ]
  },
  {
   "cell_type": "code",
   "execution_count": 55,
   "id": "aed08474",
   "metadata": {},
   "outputs": [
    {
     "data": {
      "text/plain": [
       "0    Information Security Architect Copmany: SWAROV...\n",
       "1    Information Technology Security Manager Copman...\n",
       "2    Information Technology Security Manager Global...\n",
       "3    IP Security Architect About job *Description *...\n",
       "4    Senior Information Security Analyst About job ...\n",
       "Name: lf_text, dtype: object"
      ]
     },
     "execution_count": 55,
     "metadata": {},
     "output_type": "execute_result"
    }
   ],
   "source": [
    "df['lf_text'].head()"
   ]
  },
  {
   "cell_type": "code",
   "execution_count": null,
   "id": "6d48ba21",
   "metadata": {},
   "outputs": [],
   "source": []
  },
  {
   "cell_type": "markdown",
   "id": "9139d389",
   "metadata": {},
   "source": [
    "### Common words"
   ]
  },
  {
   "cell_type": "code",
   "execution_count": 60,
   "id": "7da42c9e",
   "metadata": {},
   "outputs": [
    {
     "data": {
      "text/plain": [
       "calling         1\n",
       "O2              1\n",
       "special         1\n",
       "path            1\n",
       "SAFE            1\n",
       "ondemand        1\n",
       "Visio           1\n",
       "complexities    1\n",
       "suitable        1\n",
       "DDI             1\n",
       "versions        1\n",
       "Ciscoâs         1\n",
       "Github          1\n",
       "Promote         1\n",
       "labs            1\n",
       "costs           1\n",
       "UCS             1\n",
       "6500            1\n",
       "9500            1\n",
       "applicable      1\n",
       "dtype: int64"
      ]
     },
     "execution_count": 60,
     "metadata": {},
     "output_type": "execute_result"
    }
   ],
   "source": [
    "freq = pd.Series(' '.join(df['lf_text']).split()).value_counts()[-20:]\n",
    "freq"
   ]
  },
  {
   "cell_type": "code",
   "execution_count": null,
   "id": "d52d5a42",
   "metadata": {},
   "outputs": [],
   "source": []
  },
  {
   "cell_type": "code",
   "execution_count": null,
   "id": "64627efb",
   "metadata": {},
   "outputs": [],
   "source": []
  },
  {
   "cell_type": "markdown",
   "id": "46c78ea3",
   "metadata": {},
   "source": [
    "### Lemmatization"
   ]
  },
  {
   "cell_type": "code",
   "execution_count": 66,
   "id": "5d7db777",
   "metadata": {},
   "outputs": [
    {
     "data": {
      "text/plain": [
       "0    Information Security Architect Copmany SWAROVS...\n",
       "1    Information Technology Security Manager Copman...\n",
       "2    Information Technology Security Manager Global...\n",
       "3    IP Security Architect About job Description Th...\n",
       "4    Senior Information Security Analyst About job ...\n",
       "Name: text, dtype: object"
      ]
     },
     "execution_count": 66,
     "metadata": {},
     "output_type": "execute_result"
    }
   ],
   "source": [
    "from textblob import Word\n",
    "df['text'] = df['lf_text'].apply(lambda x: \" \".join([Word(word).lemmatize() for word in x.split()]))\n",
    "df['text'].head()"
   ]
  },
  {
   "cell_type": "code",
   "execution_count": null,
   "id": "e0773b71",
   "metadata": {},
   "outputs": [],
   "source": []
  },
  {
   "cell_type": "markdown",
   "id": "6dc64b53",
   "metadata": {},
   "source": [
    "### Tokenization"
   ]
  },
  {
   "cell_type": "code",
   "execution_count": 67,
   "id": "097c1c74",
   "metadata": {},
   "outputs": [
    {
     "name": "stderr",
     "output_type": "stream",
     "text": [
      "[nltk_data] Downloading package punkt to\n",
      "[nltk_data]     C:\\Users\\elsha\\AppData\\Roaming\\nltk_data...\n",
      "[nltk_data]   Package punkt is already up-to-date!\n",
      "[nltk_data] Downloading package wordnet to\n",
      "[nltk_data]     C:\\Users\\elsha\\AppData\\Roaming\\nltk_data...\n",
      "[nltk_data]   Package wordnet is already up-to-date!\n"
     ]
    },
    {
     "data": {
      "text/plain": [
       "True"
      ]
     },
     "execution_count": 67,
     "metadata": {},
     "output_type": "execute_result"
    }
   ],
   "source": [
    "import nltk\n",
    "nltk.download('punkt')\n",
    "nltk.download('wordnet')"
   ]
  },
  {
   "cell_type": "code",
   "execution_count": 68,
   "id": "a098282a",
   "metadata": {
    "collapsed": true
   },
   "outputs": [
    {
     "data": {
      "text/plain": [
       "WordList(['Information', 'Technology', 'Security', 'Manager', 'Copmany', 'Global', 'Blue', 'Location', 'Vienna', 'Austria', 'Employment', 'Type', 'Fulltime', 'Industry', 'Financial', 'Services', 'Size', '10015000', 'employee', 'Experience', 'MidSenior', 'level', 'About', 'job', 'IT', 'Security', 'Manager', 'Business', 'UnitFunction', 'Technology', 'Information', 'Security', 'Reports', 'to', 'AVP', 'IT', 'Security', 'Nature', 'aim', 'position', 'The', 'IT', 'Security', 'Manager', 'provide', 'security', 'service', 'part', 'IT', 'Security', 'team', 'The', 'team', 'review', 'cover', 'wide', 'range', 'product', 'initiative', 'project', 'respect', 'security', 'compliance', 'governance', 'risk', 'management', 'close', 'collaboration', 'core', 'infrastructure', 'product', 'processing', 'team', 'Global', 'Blue', 'group', 'Main', 'duty', 'responsibility', 'Support', 'internal', 'stakeholder', 'delivering', 'secure', 'IT', 'system', 'Participate', 'contribute', 'corporate', 'SOX', 'PCI', 'DSS', 'compliance', 'program', 'governing', 'executing', 'internal', 'IT', 'control', 'evaluation', 'design', 'operational', 'effectiveness', 'determining', 'exposure', 'risk', 'developing', 'remediation', 'strategy', 'performing', 'regular', 'internal', 'IT', 'audit', 'validation', 'definition', 'improvement', 'short', 'fallings', 'review', 'evaluate', 'test', 'application', 'security', 'control', 'provide', 'recommendation', 'guidance', 'identified', 'security', 'andor', 'control', 'risk', 'Support', 'team', 'day2day', 'security', 'activity', 'participate', 'change', 'management', 'process', 'test', 'identify', 'network', 'system', 'vulnerability', 'incl', 'coordination', 'tracking', 'remediation', 'identified', 'weakness', 'operate', 'improve', 'SPLUNK', 'security', 'toolset', 'regard', 'security', 'relevant', 'event', 'Develop', 'strong', 'understanding', 'business', 'system', 'process', 'Communicate', 'complex', 'technical', 'issue', 'simplified', 'term', 'relevant', 'staff', 'Document', 'time', 'time', 'system', 'architecture', 'advise', 'security', 'best', 'practice', 'Reporting', 'collaboration', 'The', 'holder', 'position', 'report', 'solidline', 'AVP', 'IT', 'Security', 'The', 'holder', 'position', 'work', 'within', 'IT', 'Security', 'team', 'The', 'holder', 'position', 'closely', 'collaborate', 'various', 'IT', 'department', 'IO', 'Product', 'Management', 'Internal', 'Audit', 'Finance', 'The', 'position', 'external', 'visibility', 'within', 'GB', 'group', 'Key', 'Competencies', 'Strong', 'experience', 'IT', 'general', 'control', 'environment', 'Some', 'experience', 'SOX', 'ISO', 'PCI', 'DSS', 'compliance', 'organization', 'At', 'least', 'one', 'certified', 'strong', 'plus', 'Clear', 'understanding', 'IT', 'audit', 'methodology', 'Strong', 'attention', 'detail', 'analytical', 'mind', 'outstanding', 'problemsolving', 'skill', 'attitude', 'Ability', 'work', 'pressure', 'fastpaced', 'environment', 'Experience', 'financial', 'service', 'andor', 'payment', 'company', 'preferred', 'Experience', 'engaging', 'stakeholder', 'level', 'incl', 'Clevel', 'seniority', 'help', 'understand', 'business', 'proposition', 'security', 'risk', 'profile', 'need', 'addressed', 'Preferable', 'skill', 'competency', 'Industry', 'proofed', 'knowledge', 'experience', 'IT', 'audit', 'Strong', 'profound', 'knowledge', 'technology', 'product', 'function', 'ITIL', 'certified', 'PCI', 'DSS', 'Professional', 'or', 'ISO27k', 'series', 'preferred', 'willingness', 'get', 'trained', 'fast', 'track', 'one', 'Ability', 'interface', 'business', 'IT', 'project', 'team', 'utilizing', 'consulting', 'negotiating', 'skill', 'Ability', 'undertake', 'complete', 'task', 'independently', 'meet', 'schedule', 'delivery', 'timeline', 'move', 'swiftly', 'concept', 'theory', 'action', 'Written', 'communication', 'skill', 'use', 'preparing', 'formal', 'documentation', 'policy', 'standard', 'training', 'material', 'Verbal', 'skill', 'include', 'ability', 'clearly', 'articulate', 'thought', 'deliver', 'presentation', 'training', 'level', 'Fluent', 'English', 'language', 'verbal', 'written', 'Education', 'qualification', 'Bachelors', 'Degree', 'higher', 'Computer', 'Science', 'Engineering', 'Economics', 'equivalent', 'Experience', '3', 'year', 'experience', 'Preferable', 'multinational', 'environment', 'Our', 'Offer', 'International', 'environment', 'inspiring', 'highly', 'motivated', 'colleague', '35', 'nationality', 'English', 'official', 'working', 'language', 'State', 'art', 'office', 'environment', 'well', 'connected', 'public', 'transportation', 'system', 'Flexible', 'working', 'time', 'distanceremote', 'work', 'protect', 'health', 'employee', 'family', 'pandemic', 'situation', 'Other', 'benefit', 'wellbeing', 'including', 'discount', 'gym', 'meal', 'voucher', 'language', 'course', 'company', 'doctor', 'etc', 'Global', 'Blue', 'guarantee', 'competitive', 'performancerelated', 'salary', 'depending', 'professional', 'personal', 'qualification', 'As', 'required', 'Austrian', 'federal', 'law', 'hereby', 'state', 'guaranteed', 'legal', 'annual', 'Min', 'compensation', 'according', 'Austrian', 'collective', 'agreement', 'amount', '3653006', 'EUR', 'however', 'total', 'compensation', 'subject', 'individual', 'agreement'])"
      ]
     },
     "execution_count": 68,
     "metadata": {},
     "output_type": "execute_result"
    }
   ],
   "source": [
    "TextBlob(df['text'][1]).words"
   ]
  },
  {
   "cell_type": "code",
   "execution_count": null,
   "id": "430efda7",
   "metadata": {},
   "outputs": [],
   "source": []
  },
  {
   "cell_type": "markdown",
   "id": "ef4808b2",
   "metadata": {},
   "source": [
    "### N grams"
   ]
  },
  {
   "cell_type": "code",
   "execution_count": 74,
   "id": "89107cc0",
   "metadata": {
    "scrolled": false
   },
   "outputs": [
    {
     "data": {
      "text/plain": [
       "[WordList(['Information', 'Security']),\n",
       " WordList(['Security', 'Architect']),\n",
       " WordList(['Architect', 'Copmany']),\n",
       " WordList(['Copmany', 'SWAROVSKI'])]"
      ]
     },
     "execution_count": 74,
     "metadata": {},
     "output_type": "execute_result"
    }
   ],
   "source": [
    "TextBlob(df['text'][0]).ngrams(2)[:4]"
   ]
  },
  {
   "cell_type": "code",
   "execution_count": null,
   "id": "ef8a77f6",
   "metadata": {},
   "outputs": [],
   "source": []
  },
  {
   "cell_type": "code",
   "execution_count": 93,
   "id": "4c7792fb",
   "metadata": {},
   "outputs": [],
   "source": [
    "from sklearn.feature_extraction.text import TfidfVectorizer\n",
    "tfidf = TfidfVectorizer(max_features=1000, lowercase=True, analyzer='word',\n",
    " stop_words= 'english',ngram_range=(1,1))"
   ]
  },
  {
   "cell_type": "code",
   "execution_count": 94,
   "id": "645ef6ad",
   "metadata": {},
   "outputs": [],
   "source": [
    "vect = tfidf.fit_transform(df['text'])"
   ]
  },
  {
   "cell_type": "code",
   "execution_count": 99,
   "id": "299dad31",
   "metadata": {},
   "outputs": [
    {
     "data": {
      "text/html": [
       "<div>\n",
       "<style scoped>\n",
       "    .dataframe tbody tr th:only-of-type {\n",
       "        vertical-align: middle;\n",
       "    }\n",
       "\n",
       "    .dataframe tbody tr th {\n",
       "        vertical-align: top;\n",
       "    }\n",
       "\n",
       "    .dataframe thead th {\n",
       "        text-align: right;\n",
       "    }\n",
       "</style>\n",
       "<table border=\"1\" class=\"dataframe\">\n",
       "  <thead>\n",
       "    <tr style=\"text-align: right;\">\n",
       "      <th></th>\n",
       "      <th>TF-IDF</th>\n",
       "    </tr>\n",
       "  </thead>\n",
       "  <tbody>\n",
       "    <tr>\n",
       "      <th>information</th>\n",
       "      <td>0.397172</td>\n",
       "    </tr>\n",
       "    <tr>\n",
       "      <th>security</th>\n",
       "      <td>0.356113</td>\n",
       "    </tr>\n",
       "    <tr>\n",
       "      <th>program</th>\n",
       "      <td>0.298509</td>\n",
       "    </tr>\n",
       "    <tr>\n",
       "      <th>salary</th>\n",
       "      <td>0.217892</td>\n",
       "    </tr>\n",
       "    <tr>\n",
       "      <th>define</th>\n",
       "      <td>0.166721</td>\n",
       "    </tr>\n",
       "  </tbody>\n",
       "</table>\n",
       "</div>"
      ],
      "text/plain": [
       "               TF-IDF\n",
       "information  0.397172\n",
       "security     0.356113\n",
       "program      0.298509\n",
       "salary       0.217892\n",
       "define       0.166721"
      ]
     },
     "execution_count": 99,
     "metadata": {},
     "output_type": "execute_result"
    }
   ],
   "source": [
    "tf_df = pd.DataFrame(vect[0].T.todense(), index=tfidf.get_feature_names_out(), \n",
    "             columns=[\"TF-IDF\"]).sort_values('TF-IDF', ascending=False)\n",
    "tf_df.head()"
   ]
  },
  {
   "cell_type": "code",
   "execution_count": 101,
   "id": "6afbd612",
   "metadata": {},
   "outputs": [
    {
     "data": {
      "text/html": [
       "<div>\n",
       "<style scoped>\n",
       "    .dataframe tbody tr th:only-of-type {\n",
       "        vertical-align: middle;\n",
       "    }\n",
       "\n",
       "    .dataframe tbody tr th {\n",
       "        vertical-align: top;\n",
       "    }\n",
       "\n",
       "    .dataframe thead th {\n",
       "        text-align: right;\n",
       "    }\n",
       "</style>\n",
       "<table border=\"1\" class=\"dataframe\">\n",
       "  <thead>\n",
       "    <tr style=\"text-align: right;\">\n",
       "      <th></th>\n",
       "      <th>TF-IDF</th>\n",
       "    </tr>\n",
       "  </thead>\n",
       "  <tbody>\n",
       "    <tr>\n",
       "      <th>information</th>\n",
       "      <td>0.397172</td>\n",
       "    </tr>\n",
       "    <tr>\n",
       "      <th>security</th>\n",
       "      <td>0.356113</td>\n",
       "    </tr>\n",
       "    <tr>\n",
       "      <th>program</th>\n",
       "      <td>0.298509</td>\n",
       "    </tr>\n",
       "    <tr>\n",
       "      <th>salary</th>\n",
       "      <td>0.217892</td>\n",
       "    </tr>\n",
       "    <tr>\n",
       "      <th>define</th>\n",
       "      <td>0.166721</td>\n",
       "    </tr>\n",
       "    <tr>\n",
       "      <th>policy</th>\n",
       "      <td>0.164488</td>\n",
       "    </tr>\n",
       "    <tr>\n",
       "      <th>control</th>\n",
       "      <td>0.152612</td>\n",
       "    </tr>\n",
       "    <tr>\n",
       "      <th>gross</th>\n",
       "      <td>0.151267</td>\n",
       "    </tr>\n",
       "    <tr>\n",
       "      <th>unique</th>\n",
       "      <td>0.151267</td>\n",
       "    </tr>\n",
       "    <tr>\n",
       "      <th>framework</th>\n",
       "      <td>0.149255</td>\n",
       "    </tr>\n",
       "  </tbody>\n",
       "</table>\n",
       "</div>"
      ],
      "text/plain": [
       "               TF-IDF\n",
       "information  0.397172\n",
       "security     0.356113\n",
       "program      0.298509\n",
       "salary       0.217892\n",
       "define       0.166721\n",
       "policy       0.164488\n",
       "control      0.152612\n",
       "gross        0.151267\n",
       "unique       0.151267\n",
       "framework    0.149255"
      ]
     },
     "execution_count": 101,
     "metadata": {},
     "output_type": "execute_result"
    }
   ],
   "source": [
    "tf_df.head(10)"
   ]
  },
  {
   "cell_type": "code",
   "execution_count": null,
   "id": "9bc753a6",
   "metadata": {},
   "outputs": [],
   "source": []
  },
  {
   "cell_type": "code",
   "execution_count": null,
   "id": "9960701c",
   "metadata": {},
   "outputs": [],
   "source": []
  }
 ],
 "metadata": {
  "kernelspec": {
   "display_name": "Python 3 (ipykernel)",
   "language": "python",
   "name": "python3"
  },
  "language_info": {
   "codemirror_mode": {
    "name": "ipython",
    "version": 3
   },
   "file_extension": ".py",
   "mimetype": "text/x-python",
   "name": "python",
   "nbconvert_exporter": "python",
   "pygments_lexer": "ipython3",
   "version": "3.8.8"
  }
 },
 "nbformat": 4,
 "nbformat_minor": 5
}
