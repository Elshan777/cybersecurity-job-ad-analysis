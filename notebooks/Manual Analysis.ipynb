{
 "cells": [
  {
   "cell_type": "code",
   "execution_count": 137,
   "id": "5da4cb0d-9558-4146-ba77-be621463f195",
   "metadata": {},
   "outputs": [],
   "source": [
    "import pandas as pd\n",
    "import numpy as np\n",
    "import matplotlib.pyplot as plt"
   ]
  },
  {
   "cell_type": "code",
   "execution_count": 138,
   "id": "d2428c14-6cad-4ca9-ad88-82159ae1cda1",
   "metadata": {},
   "outputs": [],
   "source": [
    "df = pd.read_csv('../data/jobs_3.csv')"
   ]
  },
  {
   "cell_type": "code",
   "execution_count": 139,
   "id": "f049eb16-d1f7-4d46-a16d-0c363f9ca301",
   "metadata": {},
   "outputs": [
    {
     "data": {
      "text/html": [
       "<div>\n",
       "<style scoped>\n",
       "    .dataframe tbody tr th:only-of-type {\n",
       "        vertical-align: middle;\n",
       "    }\n",
       "\n",
       "    .dataframe tbody tr th {\n",
       "        vertical-align: top;\n",
       "    }\n",
       "\n",
       "    .dataframe thead th {\n",
       "        text-align: right;\n",
       "    }\n",
       "</style>\n",
       "<table border=\"1\" class=\"dataframe\">\n",
       "  <thead>\n",
       "    <tr style=\"text-align: right;\">\n",
       "      <th></th>\n",
       "      <th>country</th>\n",
       "      <th>title</th>\n",
       "      <th>text</th>\n",
       "      <th>job_title</th>\n",
       "    </tr>\n",
       "  </thead>\n",
       "  <tbody>\n",
       "    <tr>\n",
       "      <th>0</th>\n",
       "      <td>AT</td>\n",
       "      <td>Inform</td>\n",
       "      <td>Information Technology Security Manager Global...</td>\n",
       "      <td>Information Technology Security Manager</td>\n",
       "    </tr>\n",
       "    <tr>\n",
       "      <th>1</th>\n",
       "      <td>AT</td>\n",
       "      <td>Architect</td>\n",
       "      <td>Information Security Architect Copmany SWAROVS...</td>\n",
       "      <td>Information Security Architect</td>\n",
       "    </tr>\n",
       "    <tr>\n",
       "      <th>2</th>\n",
       "      <td>AT</td>\n",
       "      <td>Manager</td>\n",
       "      <td>Information Technology Security Manager Copman...</td>\n",
       "      <td>Information Technology Security Manager</td>\n",
       "    </tr>\n",
       "    <tr>\n",
       "      <th>3</th>\n",
       "      <td>AT</td>\n",
       "      <td>Analyst</td>\n",
       "      <td>Threat Detection Analyst Company Radar Cyber S...</td>\n",
       "      <td>Threat Detection Analyst</td>\n",
       "    </tr>\n",
       "    <tr>\n",
       "      <th>4</th>\n",
       "      <td>AT</td>\n",
       "      <td>Engineer</td>\n",
       "      <td>IT Security Engineer Company Global Blue Locat...</td>\n",
       "      <td>IT Security Engineer</td>\n",
       "    </tr>\n",
       "  </tbody>\n",
       "</table>\n",
       "</div>"
      ],
      "text/plain": [
       "  country      title                                               text  \\\n",
       "0      AT     Inform  Information Technology Security Manager Global...   \n",
       "1      AT  Architect  Information Security Architect Copmany SWAROVS...   \n",
       "2      AT    Manager  Information Technology Security Manager Copman...   \n",
       "3      AT    Analyst  Threat Detection Analyst Company Radar Cyber S...   \n",
       "4      AT   Engineer  IT Security Engineer Company Global Blue Locat...   \n",
       "\n",
       "                                 job_title  \n",
       "0  Information Technology Security Manager  \n",
       "1           Information Security Architect  \n",
       "2  Information Technology Security Manager  \n",
       "3                 Threat Detection Analyst  \n",
       "4                     IT Security Engineer  "
      ]
     },
     "execution_count": 139,
     "metadata": {},
     "output_type": "execute_result"
    }
   ],
   "source": [
    "df.head()"
   ]
  },
  {
   "cell_type": "code",
   "execution_count": 140,
   "id": "c2646ea4-d387-41b4-a5a5-9982ebfbcbe0",
   "metadata": {},
   "outputs": [
    {
     "name": "stderr",
     "output_type": "stream",
     "text": [
      "[nltk_data] Downloading package punkt to\n",
      "[nltk_data]     C:\\Users\\elsha\\AppData\\Roaming\\nltk_data...\n",
      "[nltk_data]   Package punkt is already up-to-date!\n",
      "[nltk_data] Downloading package wordnet to\n",
      "[nltk_data]     C:\\Users\\elsha\\AppData\\Roaming\\nltk_data...\n",
      "[nltk_data]   Package wordnet is already up-to-date!\n"
     ]
    }
   ],
   "source": [
    "import nltk\n",
    "from textblob import TextBlob\n",
    "from textblob import Word\n",
    "nltk.download('punkt')\n",
    "nltk.download('wordnet')\n",
    "\n",
    "def lemmatize_text(text):\n",
    "    return text.apply(lambda x: \" \".join([Word(word).lemmatize() for word in x.split()]))\n",
    "def tokenize_text(text):\n",
    "    return text.apply(nltk.word_tokenize)"
   ]
  },
  {
   "cell_type": "code",
   "execution_count": 141,
   "id": "e3ac350e-283e-4c4f-88e8-181c9b1e5b7e",
   "metadata": {},
   "outputs": [],
   "source": [
    "df['text'] = lemmatize_text(df['text'])\n",
    "df['text'] = tokenize_text(df['text'])"
   ]
  },
  {
   "cell_type": "code",
   "execution_count": null,
   "id": "9f70d5a0-249e-462b-8d18-b2e40df824f9",
   "metadata": {},
   "outputs": [],
   "source": []
  },
  {
   "cell_type": "code",
   "execution_count": 142,
   "id": "f5838575-2c6f-49de-8f14-5b9ff6ad279b",
   "metadata": {},
   "outputs": [
    {
     "data": {
      "text/plain": [
       "0      [Information, Technology, Security, Manager, G...\n",
       "1      [Information, Security, Architect, Copmany, SW...\n",
       "2      [Information, Technology, Security, Manager, C...\n",
       "3      [Threat, Detection, Analyst, Company, Radar, C...\n",
       "4      [IT, Security, Engineer, Company, Global, Blue...\n",
       "                             ...                        \n",
       "264    [Compensa, Vienna, Insurance, Group, ADB, Latv...\n",
       "265    [Netcracker, office, in, Riga, is, an, integra...\n",
       "266    [Overview, ONE, IDENTITY-, Software, Sales, Ac...\n",
       "267    [The, opportunityAt, Worldline, ,, our, techno...\n",
       "268    [OpenStack, ,, while, complex, and, challengin...\n",
       "Name: text, Length: 269, dtype: object"
      ]
     },
     "execution_count": 142,
     "metadata": {},
     "output_type": "execute_result"
    }
   ],
   "source": [
    "df['text']"
   ]
  },
  {
   "cell_type": "code",
   "execution_count": 143,
   "id": "69dd7245-383a-474f-b8db-61148bbcd269",
   "metadata": {},
   "outputs": [
    {
     "name": "stdout",
     "output_type": "stream",
     "text": [
      "   Certificate  Amount\n",
      "0        CISSP     0.0\n",
      "1         CISA     0.0\n",
      "2         CISM     0.0\n",
      "3    Security+     0.0\n",
      "4          CEH     0.0\n",
      "5         GSEC     0.0\n",
      "6         SSCP     0.0\n",
      "7        CASP+     0.0\n",
      "8         GCIH     0.0\n",
      "9         OSCP     0.0\n",
      "10       CISCO     0.0\n",
      "11         ISO     0.0\n"
     ]
    }
   ],
   "source": [
    "certificates = ['CISSP', 'CISA', 'CISM', 'Security+', 'CEH', 'GSEC', 'SSCP', 'CASP+', 'GCIH', 'OSCP', 'CISCO', 'ISO']\n",
    "\n",
    "cert = pd.DataFrame( list(zip(certificates, np.zeros(len(certificates)) )), columns=['Certificate', 'Amount'] )\n",
    "\n",
    "print(cert)"
   ]
  },
  {
   "cell_type": "code",
   "execution_count": 144,
   "id": "4a8d9a74-76b0-435c-91f4-73c9508b174f",
   "metadata": {},
   "outputs": [],
   "source": [
    "def sum_of_certificates(text):\n",
    "    c = 0\n",
    "    for ind, i in text.items():\n",
    "        for j in range(len(cert['Certificate'])):\n",
    "            if cert.iloc[j]['Certificate'] in i:\n",
    "                cert['Amount'].loc[j] += 1\n",
    "                c+=1\n",
    "    return cert"
   ]
  },
  {
   "cell_type": "code",
   "execution_count": 145,
   "id": "d825bd44-12a0-49b0-b952-e7f285efbf36",
   "metadata": {},
   "outputs": [
    {
     "name": "stderr",
     "output_type": "stream",
     "text": [
      "C:\\Users\\elsha\\anaconda3\\lib\\site-packages\\pandas\\core\\indexing.py:1732: SettingWithCopyWarning: \n",
      "A value is trying to be set on a copy of a slice from a DataFrame\n",
      "\n",
      "See the caveats in the documentation: https://pandas.pydata.org/pandas-docs/stable/user_guide/indexing.html#returning-a-view-versus-a-copy\n",
      "  self._setitem_single_block(indexer, value, name)\n"
     ]
    }
   ],
   "source": [
    "cert = sum_of_certificates( df['text'] )"
   ]
  },
  {
   "cell_type": "code",
   "execution_count": 146,
   "id": "ed639606-fdee-451f-ab5e-93b58f50554f",
   "metadata": {},
   "outputs": [
    {
     "data": {
      "text/html": [
       "<div>\n",
       "<style scoped>\n",
       "    .dataframe tbody tr th:only-of-type {\n",
       "        vertical-align: middle;\n",
       "    }\n",
       "\n",
       "    .dataframe tbody tr th {\n",
       "        vertical-align: top;\n",
       "    }\n",
       "\n",
       "    .dataframe thead th {\n",
       "        text-align: right;\n",
       "    }\n",
       "</style>\n",
       "<table border=\"1\" class=\"dataframe\">\n",
       "  <thead>\n",
       "    <tr style=\"text-align: right;\">\n",
       "      <th></th>\n",
       "      <th>Certificate</th>\n",
       "      <th>Amount</th>\n",
       "    </tr>\n",
       "  </thead>\n",
       "  <tbody>\n",
       "    <tr>\n",
       "      <th>0</th>\n",
       "      <td>CISSP</td>\n",
       "      <td>35.0</td>\n",
       "    </tr>\n",
       "    <tr>\n",
       "      <th>1</th>\n",
       "      <td>CISA</td>\n",
       "      <td>14.0</td>\n",
       "    </tr>\n",
       "    <tr>\n",
       "      <th>2</th>\n",
       "      <td>CISM</td>\n",
       "      <td>14.0</td>\n",
       "    </tr>\n",
       "    <tr>\n",
       "      <th>3</th>\n",
       "      <td>Security+</td>\n",
       "      <td>0.0</td>\n",
       "    </tr>\n",
       "    <tr>\n",
       "      <th>4</th>\n",
       "      <td>CEH</td>\n",
       "      <td>18.0</td>\n",
       "    </tr>\n",
       "    <tr>\n",
       "      <th>5</th>\n",
       "      <td>GSEC</td>\n",
       "      <td>2.0</td>\n",
       "    </tr>\n",
       "    <tr>\n",
       "      <th>6</th>\n",
       "      <td>SSCP</td>\n",
       "      <td>1.0</td>\n",
       "    </tr>\n",
       "    <tr>\n",
       "      <th>7</th>\n",
       "      <td>CASP+</td>\n",
       "      <td>0.0</td>\n",
       "    </tr>\n",
       "    <tr>\n",
       "      <th>8</th>\n",
       "      <td>GCIH</td>\n",
       "      <td>1.0</td>\n",
       "    </tr>\n",
       "    <tr>\n",
       "      <th>9</th>\n",
       "      <td>OSCP</td>\n",
       "      <td>9.0</td>\n",
       "    </tr>\n",
       "    <tr>\n",
       "      <th>10</th>\n",
       "      <td>CISCO</td>\n",
       "      <td>0.0</td>\n",
       "    </tr>\n",
       "    <tr>\n",
       "      <th>11</th>\n",
       "      <td>ISO</td>\n",
       "      <td>29.0</td>\n",
       "    </tr>\n",
       "  </tbody>\n",
       "</table>\n",
       "</div>"
      ],
      "text/plain": [
       "   Certificate  Amount\n",
       "0        CISSP    35.0\n",
       "1         CISA    14.0\n",
       "2         CISM    14.0\n",
       "3    Security+     0.0\n",
       "4          CEH    18.0\n",
       "5         GSEC     2.0\n",
       "6         SSCP     1.0\n",
       "7        CASP+     0.0\n",
       "8         GCIH     1.0\n",
       "9         OSCP     9.0\n",
       "10       CISCO     0.0\n",
       "11         ISO    29.0"
      ]
     },
     "execution_count": 146,
     "metadata": {},
     "output_type": "execute_result"
    }
   ],
   "source": [
    "cert"
   ]
  },
  {
   "cell_type": "code",
   "execution_count": 62,
   "id": "857a7cc2-2ba0-4f03-b3ad-8cf247760da0",
   "metadata": {},
   "outputs": [
    {
     "data": {
      "image/png": "[encoded data removed]",
      "text/plain": [
       "<Figure size 432x288 with 1 Axes>"
      ]
     },
     "metadata": {
      "needs_background": "light"
     },
     "output_type": "display_data"
    }
   ],
   "source": [
    "cert.plot.bar(x='Certificate', y='Amount')\n",
    "plt.savefig('../figures/certificates_result.png')"
   ]
  },
  {
   "cell_type": "code",
   "execution_count": null,
   "id": "bf895ab9-c95c-474a-bd7a-1feb177c7eaf",
   "metadata": {},
   "outputs": [],
   "source": []
  },
  {
   "cell_type": "code",
   "execution_count": null,
   "id": "6e403d43-d99a-44fc-86e4-0932b438d8f6",
   "metadata": {},
   "outputs": [],
   "source": []
  },
  {
   "cell_type": "code",
   "execution_count": 39,
   "id": "fe4f858d-e9d5-4c4c-aefc-94a3c68a0de6",
   "metadata": {},
   "outputs": [
    {
     "name": "stdout",
     "output_type": "stream",
     "text": [
      "     Language  Amount\n",
      "0        Java     0.0\n",
      "1      Python     0.0\n",
      "2         SQL     0.0\n",
      "3           C     0.0\n",
      "4         C++     0.0\n",
      "5  JavaScript     0.0\n",
      "6        Ruby     0.0\n",
      "7         PHP     0.0\n",
      "8  PowerShell     0.0\n"
     ]
    }
   ],
   "source": [
    "programming = ['Java', 'Python', 'SQL', 'C', 'C++', 'JavaScript', 'Ruby', 'PHP', 'PowerShell']\n",
    "\n",
    "prog = pd.DataFrame( list(zip(programming, np.zeros(len(programming)) )), columns=['Language', 'Amount'] )\n",
    "\n",
    "print(prog)"
   ]
  },
  {
   "cell_type": "code",
   "execution_count": 40,
   "id": "24bc4582-f68e-47dd-811f-24cde89de7cf",
   "metadata": {},
   "outputs": [],
   "source": [
    "def sum_of_programming(text):\n",
    "    c = 0\n",
    "    for ind, i in text.items():\n",
    "        for j in range(len(prog['Language'])):\n",
    "            if prog.iloc[j]['Language'] in i:\n",
    "                prog['Amount'].loc[j] += 1\n",
    "                c+=1\n",
    "    return prog"
   ]
  },
  {
   "cell_type": "code",
   "execution_count": 41,
   "id": "d527addb-3464-4b0d-a22f-74ea37bb1e0e",
   "metadata": {},
   "outputs": [
    {
     "name": "stderr",
     "output_type": "stream",
     "text": [
      "C:\\Users\\elsha\\anaconda3\\lib\\site-packages\\pandas\\core\\indexing.py:1732: SettingWithCopyWarning: \n",
      "A value is trying to be set on a copy of a slice from a DataFrame\n",
      "\n",
      "See the caveats in the documentation: https://pandas.pydata.org/pandas-docs/stable/user_guide/indexing.html#returning-a-view-versus-a-copy\n",
      "  self._setitem_single_block(indexer, value, name)\n"
     ]
    }
   ],
   "source": [
    "prog = sum_of_programming( df['text'] )"
   ]
  },
  {
   "cell_type": "code",
   "execution_count": 42,
   "id": "47643235-e3b6-489b-8d35-9a8337ffe38c",
   "metadata": {},
   "outputs": [
    {
     "data": {
      "text/html": [
       "<div>\n",
       "<style scoped>\n",
       "    .dataframe tbody tr th:only-of-type {\n",
       "        vertical-align: middle;\n",
       "    }\n",
       "\n",
       "    .dataframe tbody tr th {\n",
       "        vertical-align: top;\n",
       "    }\n",
       "\n",
       "    .dataframe thead th {\n",
       "        text-align: right;\n",
       "    }\n",
       "</style>\n",
       "<table border=\"1\" class=\"dataframe\">\n",
       "  <thead>\n",
       "    <tr style=\"text-align: right;\">\n",
       "      <th></th>\n",
       "      <th>Language</th>\n",
       "      <th>Amount</th>\n",
       "    </tr>\n",
       "  </thead>\n",
       "  <tbody>\n",
       "    <tr>\n",
       "      <th>0</th>\n",
       "      <td>Java</td>\n",
       "      <td>13.0</td>\n",
       "    </tr>\n",
       "    <tr>\n",
       "      <th>1</th>\n",
       "      <td>Python</td>\n",
       "      <td>35.0</td>\n",
       "    </tr>\n",
       "    <tr>\n",
       "      <th>2</th>\n",
       "      <td>SQL</td>\n",
       "      <td>21.0</td>\n",
       "    </tr>\n",
       "    <tr>\n",
       "      <th>3</th>\n",
       "      <td>C</td>\n",
       "      <td>14.0</td>\n",
       "    </tr>\n",
       "    <tr>\n",
       "      <th>4</th>\n",
       "      <td>C++</td>\n",
       "      <td>1.0</td>\n",
       "    </tr>\n",
       "    <tr>\n",
       "      <th>5</th>\n",
       "      <td>JavaScript</td>\n",
       "      <td>12.0</td>\n",
       "    </tr>\n",
       "    <tr>\n",
       "      <th>6</th>\n",
       "      <td>Ruby</td>\n",
       "      <td>6.0</td>\n",
       "    </tr>\n",
       "    <tr>\n",
       "      <th>7</th>\n",
       "      <td>PHP</td>\n",
       "      <td>5.0</td>\n",
       "    </tr>\n",
       "    <tr>\n",
       "      <th>8</th>\n",
       "      <td>PowerShell</td>\n",
       "      <td>6.0</td>\n",
       "    </tr>\n",
       "  </tbody>\n",
       "</table>\n",
       "</div>"
      ],
      "text/plain": [
       "     Language  Amount\n",
       "0        Java    13.0\n",
       "1      Python    35.0\n",
       "2         SQL    21.0\n",
       "3           C    14.0\n",
       "4         C++     1.0\n",
       "5  JavaScript    12.0\n",
       "6        Ruby     6.0\n",
       "7         PHP     5.0\n",
       "8  PowerShell     6.0"
      ]
     },
     "execution_count": 42,
     "metadata": {},
     "output_type": "execute_result"
    }
   ],
   "source": [
    "prog"
   ]
  },
  {
   "cell_type": "code",
   "execution_count": 44,
   "id": "d8f5507d-904f-4483-a7e5-751c877e8f20",
   "metadata": {},
   "outputs": [
    {
     "data": {
      "image/png": "[encoded data removed]",
      "text/plain": [
       "<Figure size 432x288 with 1 Axes>"
      ]
     },
     "metadata": {
      "needs_background": "light"
     },
     "output_type": "display_data"
    }
   ],
   "source": [
    "prog.plot.bar(x='Language', y='Amount')\n",
    "plt.savefig('../figures/prog_lang_stat.png')"
   ]
  },
  {
   "cell_type": "code",
   "execution_count": null,
   "id": "08e18fa1-8fca-4355-b3b0-48d0f7f1d68b",
   "metadata": {},
   "outputs": [],
   "source": []
  },
  {
   "cell_type": "code",
   "execution_count": null,
   "id": "3ae6221a-9dd0-49c3-ba4f-0e0fc434ad6e",
   "metadata": {},
   "outputs": [],
   "source": []
  },
  {
   "cell_type": "code",
   "execution_count": 85,
   "id": "82773410-5544-4df4-a8a9-5d8540f6c7cc",
   "metadata": {},
   "outputs": [
    {
     "name": "stdout",
     "output_type": "stream",
     "text": [
      "             Skill  Amount\n",
      "0     Adaptability     0.0\n",
      "1    Communication     0.0\n",
      "2          Passion     0.0\n",
      "3       Leadership     0.0\n",
      "4  Business acumen     0.0\n",
      "5       Curiousity     0.0\n",
      "6       Networking     0.0\n",
      "7         Research     0.0\n",
      "8           Verbal     0.0\n"
     ]
    }
   ],
   "source": [
    "soft_skills = ['Adaptability', 'Communication', 'Passion', 'Leadership',\n",
    "               'Business acumen', 'Curiousity', 'Networking', 'Research', 'Verbal']\n",
    "\n",
    "soft = pd.DataFrame( list(zip(soft_skills, np.zeros(len(soft_skills)) )), columns=['Skill', 'Amount'] )\n",
    "\n",
    "print(soft)"
   ]
  },
  {
   "cell_type": "code",
   "execution_count": 86,
   "id": "7b001407-8b52-4416-a9dc-2ddfd620ff6e",
   "metadata": {},
   "outputs": [],
   "source": [
    "def sum_of_soft_skills(text):\n",
    "    c = 0\n",
    "    for ind, i in text.items():\n",
    "        for j in range(len(soft['Skill'])):\n",
    "            if soft.iloc[j]['Skill'] in i:\n",
    "                soft['Amount'].loc[j] += 1\n",
    "                c+=1\n",
    "    return soft"
   ]
  },
  {
   "cell_type": "code",
   "execution_count": 87,
   "id": "87c16ee4-3136-4894-ae18-6ce0dc3cc134",
   "metadata": {},
   "outputs": [
    {
     "name": "stderr",
     "output_type": "stream",
     "text": [
      "C:\\Users\\elsha\\anaconda3\\lib\\site-packages\\pandas\\core\\indexing.py:1732: SettingWithCopyWarning: \n",
      "A value is trying to be set on a copy of a slice from a DataFrame\n",
      "\n",
      "See the caveats in the documentation: https://pandas.pydata.org/pandas-docs/stable/user_guide/indexing.html#returning-a-view-versus-a-copy\n",
      "  self._setitem_single_block(indexer, value, name)\n"
     ]
    },
    {
     "data": {
      "text/html": [
       "<div>\n",
       "<style scoped>\n",
       "    .dataframe tbody tr th:only-of-type {\n",
       "        vertical-align: middle;\n",
       "    }\n",
       "\n",
       "    .dataframe tbody tr th {\n",
       "        vertical-align: top;\n",
       "    }\n",
       "\n",
       "    .dataframe thead th {\n",
       "        text-align: right;\n",
       "    }\n",
       "</style>\n",
       "<table border=\"1\" class=\"dataframe\">\n",
       "  <thead>\n",
       "    <tr style=\"text-align: right;\">\n",
       "      <th></th>\n",
       "      <th>Skill</th>\n",
       "      <th>Amount</th>\n",
       "    </tr>\n",
       "  </thead>\n",
       "  <tbody>\n",
       "    <tr>\n",
       "      <th>0</th>\n",
       "      <td>Adaptability</td>\n",
       "      <td>0.0</td>\n",
       "    </tr>\n",
       "    <tr>\n",
       "      <th>1</th>\n",
       "      <td>Communication</td>\n",
       "      <td>6.0</td>\n",
       "    </tr>\n",
       "    <tr>\n",
       "      <th>2</th>\n",
       "      <td>Passion</td>\n",
       "      <td>4.0</td>\n",
       "    </tr>\n",
       "    <tr>\n",
       "      <th>3</th>\n",
       "      <td>Leadership</td>\n",
       "      <td>3.0</td>\n",
       "    </tr>\n",
       "    <tr>\n",
       "      <th>4</th>\n",
       "      <td>Business acumen</td>\n",
       "      <td>0.0</td>\n",
       "    </tr>\n",
       "    <tr>\n",
       "      <th>5</th>\n",
       "      <td>Curiousity</td>\n",
       "      <td>0.0</td>\n",
       "    </tr>\n",
       "    <tr>\n",
       "      <th>6</th>\n",
       "      <td>Networking</td>\n",
       "      <td>8.0</td>\n",
       "    </tr>\n",
       "    <tr>\n",
       "      <th>7</th>\n",
       "      <td>Research</td>\n",
       "      <td>20.0</td>\n",
       "    </tr>\n",
       "    <tr>\n",
       "      <th>8</th>\n",
       "      <td>Verbal</td>\n",
       "      <td>2.0</td>\n",
       "    </tr>\n",
       "  </tbody>\n",
       "</table>\n",
       "</div>"
      ],
      "text/plain": [
       "             Skill  Amount\n",
       "0     Adaptability     0.0\n",
       "1    Communication     6.0\n",
       "2          Passion     4.0\n",
       "3       Leadership     3.0\n",
       "4  Business acumen     0.0\n",
       "5       Curiousity     0.0\n",
       "6       Networking     8.0\n",
       "7         Research    20.0\n",
       "8           Verbal     2.0"
      ]
     },
     "execution_count": 87,
     "metadata": {},
     "output_type": "execute_result"
    }
   ],
   "source": [
    "soft = sum_of_soft_skills( df['text'] )\n",
    "soft"
   ]
  },
  {
   "cell_type": "code",
   "execution_count": null,
   "id": "244b743a-6344-487a-987f-e5565e425aa7",
   "metadata": {},
   "outputs": [],
   "source": []
  },
  {
   "cell_type": "code",
   "execution_count": null,
   "id": "c7c8d67a-0d87-4fbc-ac6f-0604538eb826",
   "metadata": {},
   "outputs": [],
   "source": []
  },
  {
   "cell_type": "code",
   "execution_count": null,
   "id": "e83c8fa9-93d5-410c-956a-680994d38431",
   "metadata": {},
   "outputs": [],
   "source": []
  },
  {
   "cell_type": "code",
   "execution_count": 134,
   "id": "f286c156-2e2d-4382-9fa5-e7e76c1c792f",
   "metadata": {},
   "outputs": [
    {
     "name": "stdout",
     "output_type": "stream",
     "text": [
      "             Industry  Amount\n",
      "0         Information     0.0\n",
      "1  Telecommunications     0.0\n",
      "2          Accounting     0.0\n",
      "3              Energy     0.0\n",
      "4           Marketing     0.0\n",
      "5         Advertising     0.0\n",
      "6          Automotive     0.0\n",
      "7             Banking     0.0\n"
     ]
    }
   ],
   "source": [
    "industries = ['Information', 'Telecommunications', 'Accounting', 'Energy',\n",
    "              'Marketing', 'Advertising', 'Automotive', 'Banking']\n",
    "\n",
    "inds = pd.DataFrame( list(zip(industries, np.zeros(len(industries)) )), columns=['Industry', 'Amount'] )\n",
    "\n",
    "print(inds)"
   ]
  },
  {
   "cell_type": "code",
   "execution_count": 135,
   "id": "57be708f-f716-459a-803c-4470d9ff31df",
   "metadata": {},
   "outputs": [],
   "source": [
    "def sum_of_industries(text):\n",
    "    c = 0\n",
    "    for ind, i in text.items():\n",
    "        for j in range(len(industries)):\n",
    "            if inds.iloc[j]['Industry'] in i:\n",
    "                inds['Amount'].loc[j] += 1\n",
    "                c+=1\n",
    "    return inds"
   ]
  },
  {
   "cell_type": "code",
   "execution_count": 136,
   "id": "d09ba1dc-b2f4-4d97-a416-6880ed98f932",
   "metadata": {},
   "outputs": [
    {
     "name": "stderr",
     "output_type": "stream",
     "text": [
      "C:\\Users\\elsha\\anaconda3\\lib\\site-packages\\pandas\\core\\indexing.py:1732: SettingWithCopyWarning: \n",
      "A value is trying to be set on a copy of a slice from a DataFrame\n",
      "\n",
      "See the caveats in the documentation: https://pandas.pydata.org/pandas-docs/stable/user_guide/indexing.html#returning-a-view-versus-a-copy\n",
      "  self._setitem_single_block(indexer, value, name)\n"
     ]
    },
    {
     "data": {
      "text/html": [
       "<div>\n",
       "<style scoped>\n",
       "    .dataframe tbody tr th:only-of-type {\n",
       "        vertical-align: middle;\n",
       "    }\n",
       "\n",
       "    .dataframe tbody tr th {\n",
       "        vertical-align: top;\n",
       "    }\n",
       "\n",
       "    .dataframe thead th {\n",
       "        text-align: right;\n",
       "    }\n",
       "</style>\n",
       "<table border=\"1\" class=\"dataframe\">\n",
       "  <thead>\n",
       "    <tr style=\"text-align: right;\">\n",
       "      <th></th>\n",
       "      <th>Industry</th>\n",
       "      <th>Amount</th>\n",
       "    </tr>\n",
       "  </thead>\n",
       "  <tbody>\n",
       "    <tr>\n",
       "      <th>0</th>\n",
       "      <td>Information</td>\n",
       "      <td>98.0</td>\n",
       "    </tr>\n",
       "    <tr>\n",
       "      <th>1</th>\n",
       "      <td>Telecommunications</td>\n",
       "      <td>4.0</td>\n",
       "    </tr>\n",
       "    <tr>\n",
       "      <th>2</th>\n",
       "      <td>Accounting</td>\n",
       "      <td>1.0</td>\n",
       "    </tr>\n",
       "    <tr>\n",
       "      <th>3</th>\n",
       "      <td>Energy</td>\n",
       "      <td>3.0</td>\n",
       "    </tr>\n",
       "    <tr>\n",
       "      <th>4</th>\n",
       "      <td>Marketing</td>\n",
       "      <td>12.0</td>\n",
       "    </tr>\n",
       "    <tr>\n",
       "      <th>5</th>\n",
       "      <td>Advertising</td>\n",
       "      <td>4.0</td>\n",
       "    </tr>\n",
       "    <tr>\n",
       "      <th>6</th>\n",
       "      <td>Automotive</td>\n",
       "      <td>3.0</td>\n",
       "    </tr>\n",
       "    <tr>\n",
       "      <th>7</th>\n",
       "      <td>Banking</td>\n",
       "      <td>12.0</td>\n",
       "    </tr>\n",
       "  </tbody>\n",
       "</table>\n",
       "</div>"
      ],
      "text/plain": [
       "             Industry  Amount\n",
       "0         Information    98.0\n",
       "1  Telecommunications     4.0\n",
       "2          Accounting     1.0\n",
       "3              Energy     3.0\n",
       "4           Marketing    12.0\n",
       "5         Advertising     4.0\n",
       "6          Automotive     3.0\n",
       "7             Banking    12.0"
      ]
     },
     "execution_count": 136,
     "metadata": {},
     "output_type": "execute_result"
    }
   ],
   "source": [
    "inds = sum_of_industries( df['text'] )\n",
    "inds"
   ]
  },
  {
   "cell_type": "code",
   "execution_count": null,
   "id": "3eee2c11-be35-4114-866e-d89ea0f68957",
   "metadata": {},
   "outputs": [],
   "source": []
  },
  {
   "cell_type": "code",
   "execution_count": null,
   "id": "90ab02d5-9e3e-44b3-be79-b70da2592f4d",
   "metadata": {},
   "outputs": [],
   "source": []
  }
 ],
 "metadata": {
  "kernelspec": {
   "display_name": "Python 3 (ipykernel)",
   "language": "python",
   "name": "python3"
  },
  "language_info": {
   "codemirror_mode": {
    "name": "ipython",
    "version": 3
   },
   "file_extension": ".py",
   "mimetype": "text/x-python",
   "name": "python",
   "nbconvert_exporter": "python",
   "pygments_lexer": "ipython3",
   "version": "3.8.8"
  }
 },
 "nbformat": 4,
 "nbformat_minor": 5
}
