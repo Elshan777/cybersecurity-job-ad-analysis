{
 "cells": [
  {
   "cell_type": "code",
   "execution_count": 2,
   "id": "1e8f8bc1",
   "metadata": {},
   "outputs": [],
   "source": [
    "from linkedin import linkedin"
   ]
  },
  {
   "cell_type": "code",
   "execution_count": 3,
   "id": "c04a2389",
   "metadata": {},
   "outputs": [],
   "source": [
    "APPLICATON_KEY    = '77jo8hx0cb8qga'\n",
    "APPLICATON_SECRET = '3viK6WP76xpM3O3E'"
   ]
  },
  {
   "cell_type": "code",
   "execution_count": null,
   "id": "2bb5b2bf",
   "metadata": {},
   "outputs": [],
   "source": []
  },
  {
   "cell_type": "code",
   "execution_count": null,
   "id": "d28c412d",
   "metadata": {},
   "outputs": [],
   "source": []
  },
  {
   "cell_type": "code",
   "execution_count": null,
   "id": "df35fe08",
   "metadata": {},
   "outputs": [],
   "source": [
    "from linkedin import linkedin\n",
    "\n",
    "API_KEY = '77jo8hx0cb8qga'\n",
    "API_SECRET = '3viK6WP76xpM3O3E'\n",
    "RETURN_URL = 'http://localhost:3000'\n",
    "\n",
    "\n",
    "authentication = linkedin.LinkedInAuthentication(API_KEY, API_SECRET, RETURN_URL, linkedin.PERMISSIONS.enums.values())\n",
    "# Optionally one can send custom \"state\" value that will be returned from OAuth server\n",
    "# It can be used to track your user state or something else (it's up to you)\n",
    "# Be aware that this value is sent to OAuth server AS IS - make sure to encode or hash it\n",
    "#authorization.state = 'your_encoded_message'\n",
    "print(authentication.authorization_url)  # open this url on your browser\n",
    "application = linkedin.LinkedInApplication(authentication)"
   ]
  },
  {
   "cell_type": "code",
   "execution_count": null,
   "id": "4677f9d8",
   "metadata": {},
   "outputs": [],
   "source": []
  },
  {
   "cell_type": "code",
   "execution_count": 4,
   "id": "742f1947",
   "metadata": {},
   "outputs": [
    {
     "ename": "NameError",
     "evalue": "name 'API_KEY' is not defined",
     "output_type": "error",
     "traceback": [
      "\u001b[1;31m---------------------------------------------------------------------------\u001b[0m",
      "\u001b[1;31mNameError\u001b[0m                                 Traceback (most recent call last)",
      "\u001b[1;32m~\\AppData\\Local\\Temp/ipykernel_7176/2317435723.py\u001b[0m in \u001b[0;36m<module>\u001b[1;34m\u001b[0m\n\u001b[0;32m      1\u001b[0m \u001b[1;32mfrom\u001b[0m \u001b[0mlinkedin\u001b[0m \u001b[1;32mimport\u001b[0m \u001b[0mserver\u001b[0m\u001b[1;33m\u001b[0m\u001b[1;33m\u001b[0m\u001b[0m\n\u001b[1;32m----> 2\u001b[1;33m \u001b[0mapplication\u001b[0m \u001b[1;33m=\u001b[0m \u001b[0mserver\u001b[0m\u001b[1;33m.\u001b[0m\u001b[0mquick_api\u001b[0m\u001b[1;33m(\u001b[0m\u001b[0mAPI_KEY\u001b[0m\u001b[1;33m,\u001b[0m \u001b[0mAPI_SECRET\u001b[0m\u001b[1;33m)\u001b[0m\u001b[1;33m\u001b[0m\u001b[1;33m\u001b[0m\u001b[0m\n\u001b[0m",
      "\u001b[1;31mNameError\u001b[0m: name 'API_KEY' is not defined"
     ]
    }
   ],
   "source": [
    "from linkedin import server\n",
    "application = server.quick_api(API_KEY, API_SECRET)"
   ]
  },
  {
   "cell_type": "code",
   "execution_count": null,
   "id": "b0325bed",
   "metadata": {},
   "outputs": [],
   "source": []
  },
  {
   "cell_type": "code",
   "execution_count": null,
   "id": "238f0f79",
   "metadata": {},
   "outputs": [],
   "source": []
  },
  {
   "cell_type": "code",
   "execution_count": 5,
   "id": "ab83112b",
   "metadata": {},
   "outputs": [],
   "source": [
    "from linkedin_api import Linkedin\n",
    "\n",
    "# Authenticate using any Linkedin account credentials\n",
    "api = Linkedin('elshanqadimov7@gmail.com', 'Khazar120')\n",
    "\n",
    "# GET a profile\n",
    "# profile = api.get_profile('Elshan Gadimov')\n",
    "\n",
    "# GET a profiles contact info\n",
    "# contact_info = api.get_profile_contact_info('billy-g')\n",
    "\n",
    "# GET 1st degree connections of a given profile\n",
    "# connections = api.get_profile_connections('1234asc12304')\n"
   ]
  },
  {
   "cell_type": "code",
   "execution_count": 6,
   "id": "8d224260",
   "metadata": {},
   "outputs": [],
   "source": [
    "jobs = api.search_jobs(keywords='Cyber Security', limit=100)"
   ]
  },
  {
   "cell_type": "code",
   "execution_count": 65,
   "id": "cff2c1ec-0729-4545-baef-dcd4b88ed068",
   "metadata": {},
   "outputs": [],
   "source": [
    "cz_jobs =  api.search_jobs(keywords='cyber security', limit=100, listed_at=2160,\n",
    "                           distance=500, location_name='Prague, Czechia' )"
   ]
  },
  {
   "cell_type": "code",
   "execution_count": 66,
   "id": "59d1b4a2-a5ee-488d-b2fd-0e06276aa298",
   "metadata": {
    "collapsed": true,
    "jupyter": {
     "outputs_hidden": true
    },
    "tags": []
   },
   "outputs": [
    {
     "name": "stdout",
     "output_type": "stream",
     "text": [
      "Prague, Prague, Czechia\n",
      "Brno - město, South Moravia, Czechia\n",
      "Brno, South Moravia, Czechia\n",
      "Praha 10, Prague, Czechia\n",
      "Prague, Czechia\n",
      "Prague, Prague, Czechia\n",
      "Prague, Prague, Czechia\n",
      "Brno, South Moravia, Czechia\n",
      "Prague, Prague, Czechia\n",
      "Prague, Prague, Czechia\n",
      "Prague, Prague, Czechia\n",
      "Brno, South Moravia, Czechia\n",
      "Prague, Prague, Czechia\n",
      "Prague, Prague, Czechia\n",
      "Prague, Czechia\n",
      "Brno, South Moravia, Czechia\n",
      "Prague, Czechia\n",
      "Praha 10, Prague, Czechia\n",
      "Prague, Prague, Czechia\n",
      "Brno, South Moravia, Czechia\n",
      "Prague, Prague, Czechia\n",
      "Brno, South Moravia, Czechia\n",
      "Prague, Prague, Czechia\n",
      "Prague, Czechia\n",
      "Prague, Prague, Czechia\n",
      "Prague, Prague, Czechia\n",
      "Prague Metropolitan Area\n",
      "Prague, Prague, Czechia\n",
      "Prague, Prague, Czechia\n",
      "Brno, South Moravia, Czechia\n",
      "Prague, Prague, Czechia\n",
      "Czechia\n",
      "Praha 17, Prague, Czechia\n",
      "Prague, Prague, Czechia\n",
      "Prague, Czechia\n",
      "Jižní Město, Prague, Czechia\n",
      "Prague, Czechia\n",
      "Prague, Prague, Czechia\n",
      "Praha 17, Prague, Czechia\n",
      "Prague, Prague, Czechia\n",
      "Ostrava, Moravia-Silesia, Czechia\n",
      "Prague, Prague, Czechia\n",
      "Brno, South Moravia, Czechia\n",
      "Prague, Prague, Czechia\n",
      "Prague, Prague, Czechia\n",
      "Prague, Czechia\n",
      "Prague, Prague, Czechia\n",
      "European Union\n",
      "Prague, Prague, Czechia\n",
      "Prague, Prague, Czechia\n",
      "Prague, Prague, Czechia\n",
      "Prague, Prague, Czechia\n",
      "Brno, South Moravia, Czechia\n",
      "Brno, South Moravia, Czechia\n",
      "Prague, Prague, Czechia\n",
      "Kosice, Hradec Králové, Czechia\n",
      "Prague, Prague, Czechia\n",
      "Prague, Czechia\n",
      "Prague, Prague, Czechia\n",
      "Prague, Czechia\n",
      "European Union\n",
      "Czechia\n",
      "Prague, Prague, Czechia\n",
      "Brno, South Moravia, Czechia\n",
      "Prague, Czechia\n",
      "Jižní Město, Prague, Czechia\n",
      "Brno, South Moravia, Czechia\n",
      "Prague, Prague, Czechia\n",
      "Prague, Prague, Czechia\n",
      "Prague, Prague, Czechia\n",
      "Prague, Prague, Czechia\n",
      "Prague, Czechia\n",
      "European Union\n",
      "Praha 10, Prague, Czechia\n",
      "European Union\n",
      "Prague, Czechia\n",
      "Czechia\n",
      "Prague, Prague, Czechia\n",
      "European Union\n",
      "Brno, South Moravia, Czechia\n",
      "Prague, Prague, Czechia\n",
      "Prague, Czechia\n",
      "Prague, Prague, Czechia\n",
      "Ostrava, Moravia-Silesia, Czechia\n",
      "Prague, Prague, Czechia\n",
      "Czechia\n",
      "Prague, Prague, Czechia\n",
      "Ostrava, Moravia-Silesia, Czechia\n",
      "Prague, Prague, Czechia\n",
      "Prague, Prague, Czechia\n",
      "Brno, South Moravia, Czechia\n",
      "Prague, Czechia\n",
      "Ostrava, Moravia-Silesia, Czechia\n",
      "Prague, Prague, Czechia\n",
      "Praha-Dubeč, Prague, Czechia\n",
      "Praha-Dubeč, Prague, Czechia\n",
      "Prague 1, Prague, Czechia\n",
      "Prague, Prague, Czechia\n",
      "Prague, Prague, Czechia\n",
      "Ostrava, Moravia-Silesia, Czechia\n"
     ]
    }
   ],
   "source": [
    "for i in range(100):\n",
    "    print(cz_jobs[i]['formattedLocation'])"
   ]
  },
  {
   "cell_type": "code",
   "execution_count": null,
   "id": "555b3cfa-7728-4aba-bf03-a1940582d4be",
   "metadata": {},
   "outputs": [],
   "source": [
    "from tqdm import tqdm"
   ]
  },
  {
   "cell_type": "code",
   "execution_count": 28,
   "id": "27e6337e",
   "metadata": {},
   "outputs": [
    {
     "data": {
      "text/plain": [
       "{'salaryInsights': {'lockModuleShown': True,\n",
       "  'salaryExplorerUrl': 'https://www.linkedin.com/salary/',\n",
       "  'insightExists': False,\n",
       "  'jobCompensationAvailable': True,\n",
       "  '$type': 'com.linkedin.voyager.premium.SalaryInsights'},\n",
       " 'dashEntityUrn': 'urn:li:fsd_jobPosting:2947522236',\n",
       " 'companyDetails': {'company': 'urn:li:fs_normalized_company:11448',\n",
       "  '*companyResolutionResult': 'urn:li:fs_normalized_company:11448',\n",
       "  '$recipeTypes': ['com.linkedin.voyager.deco.jserp.WebJobPostingWithCompanyName'],\n",
       "  '$type': 'com.linkedin.voyager.jobs.JobPostingCompany'},\n",
       " 'jobState': 'LISTED',\n",
       " 'title': 'Junior Securities Analyst',\n",
       " 'duration': None,\n",
       " 'entityUrn': 'urn:li:fs_normalized_jobPosting:2947522236',\n",
       " 'briefBenefitsDescription': '',\n",
       " 'applyMethod': {'applyStartersPreferenceVoid': False,\n",
       "  'companyApplyUrl': 'https://jobs.citi.com/job/-/-/287/22839705856?source=LinkedInJB',\n",
       "  '$type': 'com.linkedin.voyager.jobs.OffsiteApply'},\n",
       " '*savingInfo': 'urn:li:fs_jobSavingInfo:2947522236',\n",
       " 'new': False,\n",
       " 'formattedLocation': 'Budapest, Budapest, Hungary',\n",
       " 'expireAt': 1651485073000,\n",
       " 'listedAt': 1644249087000,\n",
       " '$recipeTypes': ['com.linkedin.voyager.deco.jserp.WebSearchJobJserpJobPostingWithSalary'],\n",
       " '$type': 'com.linkedin.voyager.jobs.JobPosting',\n",
       " 'standardizedAddresses': None,\n",
       " 'sourceDomain': 'jobs.citi.com'}"
      ]
     },
     "execution_count": 28,
     "metadata": {},
     "output_type": "execute_result"
    }
   ],
   "source": [
    "jobs[0]"
   ]
  },
  {
   "cell_type": "code",
   "execution_count": 33,
   "id": "7f49dca2",
   "metadata": {},
   "outputs": [
    {
     "data": {
      "text/plain": [
       "'3025733299'"
      ]
     },
     "execution_count": 33,
     "metadata": {},
     "output_type": "execute_result"
    }
   ],
   "source": [
    "jobs[1][\"*savingInfo\"].split(\":\")[-1]"
   ]
  },
  {
   "cell_type": "code",
   "execution_count": 14,
   "id": "c9d5342c",
   "metadata": {},
   "outputs": [],
   "source": [
    "import requests"
   ]
  },
  {
   "cell_type": "code",
   "execution_count": 15,
   "id": "ff5f0964",
   "metadata": {},
   "outputs": [],
   "source": [
    "resp=requests.get(f'https://www.linkedin.com/jobs/view/{jobs[-2][\"*savingInfo\"].split(\":\")[-1]}')"
   ]
  },
  {
   "cell_type": "code",
   "execution_count": 16,
   "id": "e1f21d3c",
   "metadata": {},
   "outputs": [],
   "source": [
    "from bs4 import BeautifulSoup"
   ]
  },
  {
   "cell_type": "code",
   "execution_count": 17,
   "id": "51ae91d7",
   "metadata": {},
   "outputs": [],
   "source": [
    "page=BeautifulSoup(resp.text,\"html.parser\")"
   ]
  },
  {
   "cell_type": "code",
   "execution_count": 18,
   "id": "1cf9abf9",
   "metadata": {},
   "outputs": [
    {
     "data": {
      "text/plain": [
       "'Cyber Security EngineerBudapest, HungaryEngineering225560Job DescriptionLet’s Talk About YouYour profileAt least 3- 5 years of active execution knowledge in Cyber Security projects or network administration projectsAdvantage: knowledge of Power Plant Instrumentation & Control Systems and FunctionsAdvantage: knowledge of power plant processesKnowledge of national and international cyber security standards and regulationsKnowledge of emerging cyber security technologies in ICSNetwork analysis knowledgeNetwork security controls knowledge: firewalls, routers, IDSApplication of cyber security controls in Operations Technology (OT)Cyber security policy and procedure developmentCyber security scanning toolsCyber security vulnerability assessmentsCyber security controls deployment and operationFluent English requiredWillingness to travelYour ResponsibilitiesTechnical execution of Omnivise Cyber Security projects, including:Technical clarification of interfaces to customers, other projects, or sub-projectsDesign of architecture, components, and mechanism for cyber security solutionsMaking decision on security related issuesFacilitate the procurement of third-party hardware/software included in project scopeResponsibility for implementation of Siemens cyber security solutions in accordance with best industry practices (remote and on-site)Monitoring and reporting of budget and work progresspreparation of customer documentationContinually improve knowledge with respect to trends and tools.Your opportunities for personal growthOpportunity to have an active engineering role on Siemens Energy future handling complex projects with a high digitalization levelWorking with an international teams and business environmentsExcellent opportunity for professional development on a new tailored organization for Siemens Energy businessCompetitive benefit package (basic salary, bonus, daily allowance for travelling periods)Siemens Energy follows EU guidelines and business standards for workers abroadLet’s Talk About Us\"Let’s make tomorrow different today\" is our genuine commitment at Siemens Energy to all cutomers and employees on the way to a sustainable future.In our division, Service and Digital, we offer a broad portfolio of cutting-edge technologies, services and solutions for the Gas and Power industries.Our Business Unit, Controls and Digitalization is focused on delivering value-creating services and solutions for our customers in the fields of controls, digitalization, automation and electric. We are focused on Engineering, Innovation, and Digital Transformation.MORE INSIGHTSBe Energized. Be you.Lucky for us, we are not all the same. Through diversity we generate power. We run on inclusion and compassion. Our combined creative energy is fueled by at least 130 nationalities. Siemens Energy celebrates character – no matter what ethnic background, gender, age, religion, identity, or disability. We energize society. All of society.Jobs & Careers: https://www.siemens-energy.com/global/en/company/jobs.htmlOrganization: Gas and PowerCompany: Siemens Energy Kft.Experience Level: Experienced ProfessionalJob Type: Full-time'"
      ]
     },
     "execution_count": 18,
     "metadata": {},
     "output_type": "execute_result"
    }
   ],
   "source": [
    "page.find(class_=\"show-more-less-html__markup show-more-less-html__markup--clamp-after-5\").text.strip()"
   ]
  },
  {
   "cell_type": "code",
   "execution_count": 12,
   "id": "6d60b641",
   "metadata": {},
   "outputs": [],
   "source": [
    "import time\n",
    "import requests\n",
    "from bs4 import BeautifulSoup"
   ]
  },
  {
   "cell_type": "code",
   "execution_count": 36,
   "id": "aa7bfef0",
   "metadata": {
    "tags": []
   },
   "outputs": [
    {
     "data": {
      "text/plain": [
       "'REQ ID: 71003JOB TITLE: Cyber Security AnalystSALARY: CompetitiveLOCATION: UK - Gaydon; HU - Budapest; IRE - Shannon; UK - ManchesterWe’re re-examining our vehicles and what a vehicle means in the emerging world of automation, connectedness, electrification and the shared economy. New ideas, new technology, and new approaches to mobility are our business. Join a team of next generation thinkers.THE OPPORTUNITYJaguar Land Rover is leading the way with initiatives to improve the customer experience through the use of vehicle data to manage, update and improve the car.We are looking for a security analyst, with experience of threat and risk analysis, to join the team and play a leading role in continuing to manage and develop our connected diagnostics in a secure way.This exiting role will support one of our agile teams focussed on rapidly deploying new services to the customer and be a part of a wider vehicle cyber security group ensuring the resilience and compliance of all our customer products.What To ExpectAs a Cyber Security Analyst your responsibilities will include, but not be limited to:Timely analysis of information systems to identify risksIdentification, review and specification of security technologies needed to protect Jaguar Land Rover and customersWorking with a range of stakeholders to understand and model information flows and the properties of these flowCollaborate with your local and wider teams to deliver Jaguar Land Rover’s overall objectives in an agile wayDelivering a cyber security assurance case meeting emerging regulations for the connected products in your areas of responsibilities Engaging with cyber security and functional safety experts across the business to improve the overall cyber security posture of the company and drive towards the overall cyber security strategyWhat You’ll NeedYou will have an understanding of networking and cloud computing and the deployment of security in these environments and proven experience in a role where you are utilising your skills to address cyber security related challenges.You will have the ability to engineer in a way that is demonstrably compliant with standards and technical specifications, excellent collaborative skills and an enthusiastic can do attitudeAlthough not essential, it is desirable that you haveExperience working and delivering in an agile teamExperience of model based engineeringProject management skillsExperience of working with security in embedded systemsExperience working with suppliersSO WHY US?Join us for the next level of your career and help developing solutions that shape the future of cars Be part of an international, inclusive and open-minded team where you have actual influence on the processesSee the product you’re working on come to life from testing all the way to production  Work flexibly with high percentage of home office or from our award-winning officeWe honor your work with a competitive salary and performance related bonus schemeBenefit from our health and life insurance and cafeteria package Embrace our culture through various company programs such as charity events or our regular board game club'"
      ]
     },
     "execution_count": 36,
     "metadata": {},
     "output_type": "execute_result"
    }
   ],
   "source": [
    "resp=requests.get(f'https://www.linkedin.com/jobs/view/{jobs[10][\"*savingInfo\"].split(\":\")[-1]}')\n",
    "page=BeautifulSoup(resp.text,\"html.parser\")\n",
    "page.find(class_=\"show-more-less-html__markup show-more-less-html__markup--clamp-after-5\").text.strip()"
   ]
  },
  {
   "cell_type": "code",
   "execution_count": null,
   "id": "ed076e8e-538e-49f0-925a-798688d3e8ae",
   "metadata": {},
   "outputs": [],
   "source": []
  },
  {
   "cell_type": "code",
   "execution_count": 92,
   "id": "a0f0ccb1-04f9-4cf8-bca9-7e46f62ec825",
   "metadata": {},
   "outputs": [
    {
     "name": "stderr",
     "output_type": "stream",
     "text": [
      "100%|███████████████████████████████████████████████████████████████████████████████| 100/100 [08:10<00:00,  4.90s/it]\n"
     ]
    }
   ],
   "source": [
    "text = []\n",
    "for i in tqdm(range(100)):\n",
    "    resp=requests.get(f'https://www.linkedin.com/jobs/view/{cz_jobs[i][\"*savingInfo\"].split(\":\")[-1]}')\n",
    "    page=BeautifulSoup(resp.text,\"html.parser\")\n",
    "    text.append(page.find(class_=\"show-more-less-html__markup show-more-less-html__markup--clamp-after-5\").text.strip())\n",
    "    time.sleep(4)"
   ]
  },
  {
   "cell_type": "code",
   "execution_count": 93,
   "id": "f6baaf33-8cf7-4254-8b6a-5b0a31f95323",
   "metadata": {},
   "outputs": [
    {
     "data": {
      "text/plain": [
       "100"
      ]
     },
     "execution_count": 93,
     "metadata": {},
     "output_type": "execute_result"
    }
   ],
   "source": [
    "len(text)"
   ]
  },
  {
   "cell_type": "code",
   "execution_count": 88,
   "id": "da224d07-4b29-4460-b3c6-656b2f38d8f5",
   "metadata": {
    "collapsed": true,
    "jupyter": {
     "outputs_hidden": true
    },
    "tags": []
   },
   "outputs": [
    {
     "name": "stderr",
     "output_type": "stream",
     "text": [
      "100%|█████████████████████████████████████████████████████████████████████████████| 100/100 [00:00<00:00, 2563.61it/s]"
     ]
    },
    {
     "name": "stdout",
     "output_type": "stream",
     "text": [
      "0 Junior Application Security Engineer\n",
      "1 Cyber Security Analyst\n",
      "2 Security Operations Engineer Junior (Signing Bonus Eligible)\n",
      "3 Cyber Security\n",
      "4 Senior BI Engineer\n",
      "5 Security Data Onboarding Engineer #CFCPrague\n",
      "6 Associate Systems Engineer - Czech Republic (Czechia)\n",
      "7 Security Operations Engineer (Signing Bonus Eligible)\n",
      "8 Digital Technologist in Marketing Automation\n",
      "9 Cybersecurity- Insider Threat / Risk Analyst\n",
      "10 CIRT Forensic Investigations Analyst\n",
      "11 Cyber Threat Intelligence Analyst\n",
      "12 Security Platform Support Engineer #CFCPrague\n",
      "13 Security Operations Analyst #CFCPrague\n",
      "14 Cyber Security Project Manager\n",
      "15 Security Engineer\n",
      "16 Cyber Security Engineer\n",
      "17 Cyber Security\n",
      "18 Source Code Security Analyst #CFCPrague\n",
      "19 Technical IT support – Students with languages, work from any location\n",
      "20 Data Security Engineer\n",
      "21 Technical IT support - Students with languages, work from any location\n",
      "22 Crypto Security Consultant\n",
      "23 Software Engineer In Test\n",
      "24 Python Test Developer for Cyber Security Solution\n",
      "25 Intelligence Cloud Security Researcher\n",
      "26 Junior Webmaster (Prague - JWO2201)\n",
      "27 Digital Technologist in Marketing Automation\n",
      "28 Cloud Security Engineer - Part Time For A Student\n",
      "29 Privacy Engineer\n",
      "30 Offensive Security Researcher\n",
      "31 Application Security Engineer (Junior to Principal) - Remote within Czechia\n",
      "32 IT Security Consultant - Prague\n",
      "33 Penetration Tester #CFCPrague\n",
      "34 Information Security Analyst\n",
      "35 Research Engineer\n",
      "36 Security Researcher / Vulnerability Researcher\n",
      "37 Threat Hunter #CFCPrague\n",
      "38 Cloud Operations Engineer\n",
      "39 Security Operations Engineer\n",
      "40 Digitalisation/Industry 4.0 Engineer\n",
      "41 Data Security Administrator\n",
      "42 Great Internship Opportunity for Students (non-paid)\n",
      "43 Python Engineer\n",
      "44 Junior Security Software Engineer\n",
      "45 Privacy Engineer\n",
      "46 Security Operations Engineer #CFCPrague\n",
      "47 Application Security Engineer (Remote Europe)\n",
      "48 Data Analyst - Threat Intelligence Team\n",
      "49 Cloud Security Engineer #CFCPrague\n",
      "50 Associate Systems Engineer - Czech Republic (Czechia)\n",
      "51 Junior Security Consulting Analyst\n",
      "52 Software Engineer\n",
      "53 C# Developer\n",
      "54 Cyber Threat Response Analyst\n",
      "55 Security Operations Engineer\n",
      "56 Cybersecurity Operations & Incident Response Professional\n",
      "57 Java Software Engineer\n",
      "58 Security Engineer & QA IoT (m/f/d)\n",
      "59 Security Operations Center Analyst with Czech\n",
      "60 Security Engineer (Remote)\n",
      "61 Technical Account Manager - IR Partnerships (Europe)\n",
      "62 Python Test Developer/ka pro Cyber Security řešení\n",
      "63 Software engineer in test\n",
      "64 Vulnerability team analyst\n",
      "65 Garrett Engineering Internship - Connected Vehicles\n",
      "66 Security SELinux Internship\n",
      "67 Information Security Analyst\n",
      "68 Security Engineer for Blockchain Platform\n",
      "69 Cyber Security Engineer - Laser\n",
      "70 Java Software Engineer - Big Data\n",
      "71 Cyber Security Consultant\n",
      "72 Technical Consultant, Professional Services\n",
      "73 AWS Security Engineer\n",
      "74 Cloud Security Engineer\n",
      "75 Product and Solution Security Expert\n",
      "76 Incident Response Specialist (GERT)\n",
      "77 Cyber Security Authority\n",
      "78 Cloud Security Engineer\n",
      "79 Automation Engineering Internship - Linux Security\n",
      "80 Security Advisory Consultant\n",
      "81 INFORMATION SECURITY ENGINEER – CSEE HUB – ALD Automotive\n",
      "82 Customer Support Engineer\n",
      "83 SOC Security Analyst\n",
      "84 SIEM Platform Administrator #CFCPrague\n",
      "85 Cybersecurity Operations & Incident Response Professional\n",
      "86 Customer Engineer (Security / Cyber Security)\n",
      "87 SOC SIEM Security Engineer\n",
      "88 Security Operations Content Engineer #CFCPrague\n",
      "89 Data Privacy Manager\n",
      "90 Cybersecurity- Insider Threat / Risk Analyst\n",
      "91 Cyber Security Architect\n",
      "92 IT Security Consultant - Ostrava\n",
      "93 QA Automation Engineer\n",
      "94 QA Engineer\n",
      "95 Java Developer for ArcSight team\n",
      "96 IT Security Consultant - Prague\n",
      "97 IT Internal Audit Specialist\n",
      "98 Infrastructure Security Engineer\n",
      "99 SOC Security Analyst\n"
     ]
    },
    {
     "name": "stderr",
     "output_type": "stream",
     "text": [
      "\n"
     ]
    }
   ],
   "source": [
    "for i in range(100):\n",
    "    print(i, cz_jobs[i]['title'])"
   ]
  },
  {
   "cell_type": "code",
   "execution_count": 94,
   "id": "0237a091-66ff-40df-8582-cf0c091c8a22",
   "metadata": {},
   "outputs": [
    {
     "name": "stderr",
     "output_type": "stream",
     "text": [
      "INFO:numexpr.utils:NumExpr defaulting to 4 threads.\n"
     ]
    }
   ],
   "source": [
    "import pandas as pd"
   ]
  },
  {
   "cell_type": "code",
   "execution_count": 95,
   "id": "5ffe0f3e-daf9-4157-b00e-817ae1132f3f",
   "metadata": {},
   "outputs": [
    {
     "data": {
      "text/html": [
       "<div>\n",
       "<style scoped>\n",
       "    .dataframe tbody tr th:only-of-type {\n",
       "        vertical-align: middle;\n",
       "    }\n",
       "\n",
       "    .dataframe tbody tr th {\n",
       "        vertical-align: top;\n",
       "    }\n",
       "\n",
       "    .dataframe thead th {\n",
       "        text-align: right;\n",
       "    }\n",
       "</style>\n",
       "<table border=\"1\" class=\"dataframe\">\n",
       "  <thead>\n",
       "    <tr style=\"text-align: right;\">\n",
       "      <th></th>\n",
       "      <th>text</th>\n",
       "    </tr>\n",
       "  </thead>\n",
       "  <tbody>\n",
       "    <tr>\n",
       "      <th>0</th>\n",
       "      <td>Your tasks will include:Threat modeling and de...</td>\n",
       "    </tr>\n",
       "    <tr>\n",
       "      <th>1</th>\n",
       "      <td>Currys is Europe's leading specialist electric...</td>\n",
       "    </tr>\n",
       "    <tr>\n",
       "      <th>2</th>\n",
       "      <td>Jamf, the standard for Apple in the enterprise...</td>\n",
       "    </tr>\n",
       "    <tr>\n",
       "      <th>3</th>\n",
       "      <td>Our Cybersecurity Security Operations Team is ...</td>\n",
       "    </tr>\n",
       "    <tr>\n",
       "      <th>4</th>\n",
       "      <td>Senior BI Engineer About the role: The role wi...</td>\n",
       "    </tr>\n",
       "    <tr>\n",
       "      <th>...</th>\n",
       "      <td>...</td>\n",
       "    </tr>\n",
       "    <tr>\n",
       "      <th>95</th>\n",
       "      <td>Job DescriptionMicro Focus is one of the world...</td>\n",
       "    </tr>\n",
       "    <tr>\n",
       "      <th>96</th>\n",
       "      <td>Work on various project with focus on Security...</td>\n",
       "    </tr>\n",
       "    <tr>\n",
       "      <th>97</th>\n",
       "      <td>ResponsibilitiesWould you be interested in joi...</td>\n",
       "    </tr>\n",
       "    <tr>\n",
       "      <th>98</th>\n",
       "      <td>OverviewAccenture Advanced Technology Center (...</td>\n",
       "    </tr>\n",
       "    <tr>\n",
       "      <th>99</th>\n",
       "      <td>You may apply to TietoEVRY by selecting Apply ...</td>\n",
       "    </tr>\n",
       "  </tbody>\n",
       "</table>\n",
       "<p>100 rows × 1 columns</p>\n",
       "</div>"
      ],
      "text/plain": [
       "                                                 text\n",
       "0   Your tasks will include:Threat modeling and de...\n",
       "1   Currys is Europe's leading specialist electric...\n",
       "2   Jamf, the standard for Apple in the enterprise...\n",
       "3   Our Cybersecurity Security Operations Team is ...\n",
       "4   Senior BI Engineer About the role: The role wi...\n",
       "..                                                ...\n",
       "95  Job DescriptionMicro Focus is one of the world...\n",
       "96  Work on various project with focus on Security...\n",
       "97  ResponsibilitiesWould you be interested in joi...\n",
       "98  OverviewAccenture Advanced Technology Center (...\n",
       "99  You may apply to TietoEVRY by selecting Apply ...\n",
       "\n",
       "[100 rows x 1 columns]"
      ]
     },
     "execution_count": 95,
     "metadata": {},
     "output_type": "execute_result"
    }
   ],
   "source": [
    "df = pd.DataFrame(text, columns=['text'])\n",
    "df"
   ]
  },
  {
   "cell_type": "code",
   "execution_count": 97,
   "id": "7e912d79-d9da-44ad-9481-03d8e841869d",
   "metadata": {},
   "outputs": [],
   "source": [
    "df.to_csv('czech_jobs.csv',index=False)"
   ]
  },
  {
   "cell_type": "code",
   "execution_count": null,
   "id": "b1d96173-49d2-43b4-be60-c55504d9042c",
   "metadata": {},
   "outputs": [],
   "source": []
  },
  {
   "cell_type": "code",
   "execution_count": null,
   "id": "0d2b57ff-79c4-45cd-94d0-17e5b4485fb6",
   "metadata": {},
   "outputs": [],
   "source": []
  },
  {
   "cell_type": "markdown",
   "id": "4c272943-dc36-4d4b-a9f7-9f253aa34b11",
   "metadata": {},
   "source": [
    "## Jobs from Austria"
   ]
  },
  {
   "cell_type": "code",
   "execution_count": 90,
   "id": "509e5519-1d3f-41e3-9276-3a59cfb5d52b",
   "metadata": {},
   "outputs": [],
   "source": [
    "from linkedin_api import Linkedin\n",
    "from tqdm import tqdm\n",
    "import time\n",
    "import requests\n",
    "from bs4 import BeautifulSoup\n",
    "\n",
    "# Authenticate using any Linkedin account credentials\n",
    "api = Linkedin('elshangadimov@outlook.com', 'linkedinElshan1919')\n",
    "\n",
    "# jobs = api.search_jobs(keywords='Cyber Security', limit=5)"
   ]
  },
  {
   "cell_type": "code",
   "execution_count": 6,
   "id": "c2d66a51-398d-4b22-94c2-5dc475fb3be0",
   "metadata": {},
   "outputs": [],
   "source": [
    "at_jobs =  api.search_jobs(keywords='security', limit=100, listed_at=864000 ,\n",
    "                           distance=1000, location_name='Vienna, Austria' )"
   ]
  },
  {
   "cell_type": "code",
   "execution_count": 11,
   "id": "7db434b9-a841-447d-bce4-e0d0cc3cd406",
   "metadata": {},
   "outputs": [
    {
     "name": "stderr",
     "output_type": "stream",
     "text": [
      "100%|███████████████████████████████████████████████████████████████████████████████| 100/100 [07:51<00:00,  4.72s/it]\n"
     ]
    }
   ],
   "source": [
    "text = []\n",
    "for i in tqdm(range(len(at_jobs))):\n",
    "    resp=requests.get(f'https://www.linkedin.com/jobs/view/{at_jobs[i][\"*savingInfo\"].split(\":\")[-1]}')\n",
    "    page=BeautifulSoup(resp.text,\"html.parser\")\n",
    "    text.append(page.find(class_=\"show-more-less-html__markup show-more-less-html__markup--clamp-after-5\").text.strip())\n",
    "    time.sleep(4)"
   ]
  },
  {
   "cell_type": "code",
   "execution_count": 22,
   "id": "69b5f2f1-c653-4801-95a1-311599d7b3e0",
   "metadata": {},
   "outputs": [
    {
     "data": {
      "text/html": [
       "<div>\n",
       "<style scoped>\n",
       "    .dataframe tbody tr th:only-of-type {\n",
       "        vertical-align: middle;\n",
       "    }\n",
       "\n",
       "    .dataframe tbody tr th {\n",
       "        vertical-align: top;\n",
       "    }\n",
       "\n",
       "    .dataframe thead th {\n",
       "        text-align: right;\n",
       "    }\n",
       "</style>\n",
       "<table border=\"1\" class=\"dataframe\">\n",
       "  <thead>\n",
       "    <tr style=\"text-align: right;\">\n",
       "      <th></th>\n",
       "      <th>job_title</th>\n",
       "      <th>text</th>\n",
       "    </tr>\n",
       "  </thead>\n",
       "  <tbody>\n",
       "    <tr>\n",
       "      <th>0</th>\n",
       "      <td>Software Cyber Security Specialist (m/w/d)</td>\n",
       "      <td>Description Development of cyber security requ...</td>\n",
       "    </tr>\n",
       "    <tr>\n",
       "      <th>1</th>\n",
       "      <td>Researcher Security Analytics (w/m/d, 20-40 h)</td>\n",
       "      <td>With more than 3,700 students in six departmen...</td>\n",
       "    </tr>\n",
       "    <tr>\n",
       "      <th>2</th>\n",
       "      <td>Cybersecurity Specialist</td>\n",
       "      <td>Cybersecurity SpecialistFull Time (40h/w)Klost...</td>\n",
       "    </tr>\n",
       "    <tr>\n",
       "      <th>3</th>\n",
       "      <td>Cyber Security Generalist (all genders)</td>\n",
       "      <td>The future of banking is digital, and IT is th...</td>\n",
       "    </tr>\n",
       "    <tr>\n",
       "      <th>4</th>\n",
       "      <td>Junior Information Security Officer (w/m/d)</td>\n",
       "      <td>Die Porsche Holding Salzburg ist das größte un...</td>\n",
       "    </tr>\n",
       "  </tbody>\n",
       "</table>\n",
       "</div>"
      ],
      "text/plain": [
       "                                        job_title  \\\n",
       "0      Software Cyber Security Specialist (m/w/d)   \n",
       "1  Researcher Security Analytics (w/m/d, 20-40 h)   \n",
       "2                        Cybersecurity Specialist   \n",
       "3         Cyber Security Generalist (all genders)   \n",
       "4    Junior Information Security Officer (w/m/d)    \n",
       "\n",
       "                                                text  \n",
       "0  Description Development of cyber security requ...  \n",
       "1  With more than 3,700 students in six departmen...  \n",
       "2  Cybersecurity SpecialistFull Time (40h/w)Klost...  \n",
       "3  The future of banking is digital, and IT is th...  \n",
       "4  Die Porsche Holding Salzburg ist das größte un...  "
      ]
     },
     "execution_count": 22,
     "metadata": {},
     "output_type": "execute_result"
    }
   ],
   "source": [
    "import pandas as pd\n",
    "\n",
    "job_title = []\n",
    "for i in range(len(at_jobs)):\n",
    "    job_title.append(at_jobs[i]['title'])\n",
    "\n",
    "\n",
    "# df = pd.DataFrame(data=[ job_title, text], columns=['job_title', 'text'], axis=1)\n",
    "df = pd.DataFrame({'job_title': job_title, 'text': text})\n",
    "\n",
    "# df.to_csv('at_jobs.csv',index=False)\n",
    "df.head()"
   ]
  },
  {
   "cell_type": "code",
   "execution_count": 29,
   "id": "0cec3ebe-f267-45a6-bf0b-2bb68c81d77a",
   "metadata": {
    "collapsed": true,
    "jupyter": {
     "outputs_hidden": true
    },
    "tags": []
   },
   "outputs": [
    {
     "name": "stdout",
     "output_type": "stream",
     "text": [
      "0 Software Cyber Security Specialist \n",
      "1 Researcher Security Analytics \n",
      "2 Cybersecurity Specialist\n",
      "3 Cyber Security Generalist \n",
      "4 Junior Information Security Officer \n",
      "5 Praktikum Network Security \n",
      "6 Mitarbeiter:in Kassa Greeter & Security \n",
      "7 Security Operations Center Analyst – L3 \n",
      "8 CTO & Co-Founder \n",
      "9 Global Service Team Member: SAP R2P \n",
      "10 Data Security Specialist \n",
      "11 Greiner Professional Program - Information Security \n",
      "12 Praktikum im IT-Security Office \n",
      "13 Greiner Professional Program - Information Security \n",
      "14 Junior IT Security Consultant \n",
      "15 Security, Risk & Compliance Consultant\n",
      "16 Information Security Consultant \n",
      "17 IT-Security Mitarbeiter/in \n",
      "18 Head of Department - Settlement and Custody Services \n",
      "19 Cyber Security Consultant \n",
      "20 IT Security Engineer\n",
      "21 Security Digital Trust Technical Specialist \n",
      "22 Customer Engineer, Security and Compliance, Google Cloud \n",
      "23 Nuclear Security Information Officer \n",
      "24 Cyber Security Architect\n",
      "25 Studiengangsleiter*in für den Master-Studiengang IT-Security \n",
      "26 Containment and Security Specialist\n",
      "27 \n",
      "28 Cyber Security Spezialist:in - Fokus Security Operations\n",
      "29 System Engineer \n",
      "30 Cyber Security Consultant \n",
      "31 Security Penetration Tester \n",
      "32 Automation Sales Representative \n",
      "33 Automotive Security - Security of Advanced Driver Assistance Systems\n",
      "34 Security Specialist-Senior M/F/D\n",
      "35 Automotive Security - Security of wireless interfaces of connected vehicles\n",
      "36 Mitarbeiter:in Kassa Greeter & Security \n",
      "37  Linux Administrator & Cloud Platform Operator \n",
      "38 IT Network & Security \n",
      "39 OT Cybersecurity Engineer \n",
      "40 Security Consultant\n",
      "41 Cyber Security Engineer \n",
      "42 Cyber Security Specialist \n",
      "43 Programmverantwortlicher Security \n",
      "44 IT Network & Security \n",
      "45 IT Professional \n",
      "46 Security Penetration Tester \n",
      "47 Sales Engineer - CyberSecurity \n",
      "48 MS SQL db or ORCALE Sql db\n",
      "49 Junior Cyber Security Consultant \n",
      "50 \n",
      "51 CISO Office – Security Team Member \n",
      "52 GUCCI Client Advisor \n",
      "53 Security Researcher \n",
      "54 Cyber Security Operations Manager\n",
      "55 Environmental, Health & Safety Coordinator \n",
      "56 Network Engineer - Service Configuration \n",
      "57 Detektivassistent\n",
      "58 Automotive Security - Anomaly detectio6\n",
      "59 Security Researcher - Mobile Malware \n",
      "60 Privacy & Security Advisor \n",
      "61 IBM StudentInnen-Teilzeitjob: Projektmanagement\n",
      "62 Datenschutzbeauftragte:r – Chief Information Security Officer \n",
      "63 Microsoft 365 Security Expert:in - Consulting & Compliance \n",
      "64 Wachdienstmitarbeiter \n",
      "65 Information Security Officer\n",
      "66 Security Certification Expert \n",
      "67 Network Security Engineer \n",
      "68 BereichsleiterIn Cyber Security at Digital Factory Vorarlberg GmbH\n",
      "69 Nuclear Security Officer \n",
      "70 IT Systems Monitoring Engineer \n",
      "71 Information Security Officer \n",
      "72 Praktikant:in Cyber Security \n",
      "73 Consultant \n",
      "74 Professional Services Service Assurance Consultant  \n",
      "75 Payment Support Service Centre Officer\n",
      "76 Senior IT Server Network Security \n",
      "77 Netzwerk- und IT Security, Junior oder Senior\n",
      "78 Initiativbewerbung\n",
      "79 Sales Assistant Prada \n",
      "80 Junior IT-Security Architekt \n",
      "81 Internship - International Data Centre or International Monitoring System Divisions\n",
      "82 Inside Sales Representative Security \n",
      "83 Security Analyst\n",
      "84 Junior Project Engineer Cyber Security \n",
      "85 Product Marketing Manager Security & NaaS \n",
      "86 Product Manager - Accounts \n",
      "87 Sicherheitsdienst at TG-Security GmbH\n",
      "88 \n",
      "89 Territory Manager - Hungary\n",
      "90 Unsolicited application\n",
      "91 Doorman/Security für Nachtgastronomie at Thurs GmbH\n",
      "92 Network Security Specialist \n",
      "93 Inside Sales Representative Security \n",
      "94 Junior Cyber Security Consultant \n",
      "95 \n",
      "96 FH-Dozent*in Security Management \n",
      "97 Inside Sales Representative\n",
      "98 Environmental, Health & Safety Coordinator \n",
      "99 Virtual Sales Engineer \n"
     ]
    }
   ],
   "source": [
    "for i in range(len(job_title) ):\n",
    "    print(i, job_title[i].split('(')[0])"
   ]
  },
  {
   "cell_type": "code",
   "execution_count": 44,
   "id": "8aa2bcb8-b037-4cde-af5c-d9defc143421",
   "metadata": {},
   "outputs": [],
   "source": [
    "# 27 50 88 89 95\n",
    "df = df.drop(df.index[[27, 50, 88, 89, 95]])"
   ]
  },
  {
   "cell_type": "code",
   "execution_count": 45,
   "id": "7856d287-0166-431a-a7c2-a045be3dda6d",
   "metadata": {},
   "outputs": [],
   "source": [
    "df['job_title'] = df['job_title'].apply(lambda x: x.split('(')[0] if len( x.split('(')[0]) >1 else x.split('(')[2]  )"
   ]
  },
  {
   "cell_type": "markdown",
   "id": "e8af71c0-f3d9-49c5-9e7f-3027e21acb18",
   "metadata": {},
   "source": [
    "### Keep only English text"
   ]
  },
  {
   "cell_type": "code",
   "execution_count": 72,
   "id": "e09f2d5b-2db5-4f88-88e7-af7b5804a36f",
   "metadata": {},
   "outputs": [
    {
     "name": "stdout",
     "output_type": "stream",
     "text": [
      "Collecting langid\n",
      "  Downloading langid-1.1.6.tar.gz (1.9 MB)\n",
      "     ---------------------------------------- 1.9/1.9 MB 3.7 MB/s eta 0:00:00\n",
      "  Preparing metadata (setup.py): started\n",
      "  Preparing metadata (setup.py): finished with status 'done'\n",
      "Requirement already satisfied: numpy in c:\\users\\elsha\\anaconda3\\lib\\site-packages (from langid) (1.21.4)\n",
      "Building wheels for collected packages: langid\n",
      "  Building wheel for langid (setup.py): started\n",
      "  Building wheel for langid (setup.py): finished with status 'done'\n",
      "  Created wheel for langid: filename=langid-1.1.6-py3-none-any.whl size=1941188 sha256=c8f8e0e35138fa89869f1ef7d40daef41e6adc2e08b3bcf9fac64f2530803812\n",
      "  Stored in directory: c:\\users\\elsha\\appdata\\local\\pip\\cache\\wheels\\c5\\01\\a4\\0160c55074707b535a6757a541842817d530d8080ca943a107\n",
      "Successfully built langid\n",
      "Installing collected packages: langid\n",
      "Successfully installed langid-1.1.6\n"
     ]
    },
    {
     "name": "stderr",
     "output_type": "stream",
     "text": [
      "WARNING: You are using pip version 22.0.2; however, version 22.0.4 is available.\n",
      "You should consider upgrading via the 'C:\\Users\\elsha\\anaconda3\\python.exe -m pip install --upgrade pip' command.\n"
     ]
    }
   ],
   "source": [
    "!pip install langid"
   ]
  },
  {
   "cell_type": "code",
   "execution_count": 98,
   "id": "c16fb9b5-6d3d-44a3-9bf8-129b26f10143",
   "metadata": {},
   "outputs": [],
   "source": [
    "import langid\n",
    "df = df[df['text'].apply(lambda x: langid.classify(x)[0] ) == 'en']\n",
    "# for i in job\n",
    "# b = TextBlob(\"bonjour\")\n",
    "# print(b.detect_language())\n",
    "# df['text'].apply(lambda x: langid.classify(x)[0] ).value_counts()"
   ]
  },
  {
   "cell_type": "code",
   "execution_count": 99,
   "id": "103da6fe-c1fb-40e0-8ace-27eb8c7436dd",
   "metadata": {},
   "outputs": [
    {
     "data": {
      "text/plain": [
       "(48, 2)"
      ]
     },
     "execution_count": 99,
     "metadata": {},
     "output_type": "execute_result"
    }
   ],
   "source": [
    "df.shape"
   ]
  },
  {
   "cell_type": "code",
   "execution_count": 100,
   "id": "6f906677-aee7-4cbe-97db-0fe91437090d",
   "metadata": {},
   "outputs": [],
   "source": [
    "df.to_csv('at_jobs.csv',index=False)"
   ]
  },
  {
   "cell_type": "code",
   "execution_count": null,
   "id": "74e09683-3129-4983-a094-67006d4659a7",
   "metadata": {},
   "outputs": [],
   "source": []
  },
  {
   "cell_type": "code",
   "execution_count": null,
   "id": "8ec37378-73b1-4ebc-af3b-e6fd8d2249b2",
   "metadata": {},
   "outputs": [],
   "source": []
  },
  {
   "cell_type": "code",
   "execution_count": null,
   "id": "383b48fe-48bb-48f2-a137-48a0a05646f3",
   "metadata": {},
   "outputs": [],
   "source": []
  },
  {
   "cell_type": "markdown",
   "id": "16487e29-eea5-4205-914b-ff273a210059",
   "metadata": {},
   "source": [
    "## Jobs from Latvia"
   ]
  },
  {
   "cell_type": "code",
   "execution_count": 101,
   "id": "c8a7a835-4cc9-489a-b1f5-09441a81f9ed",
   "metadata": {},
   "outputs": [],
   "source": [
    "from linkedin_api import Linkedin\n",
    "from tqdm import tqdm\n",
    "import time\n",
    "import requests\n",
    "from bs4 import BeautifulSoup\n",
    "\n",
    "# Authenticate using any Linkedin account credentials\n",
    "api = Linkedin('elshangadimov@outlook.com', 'linkedinElshan1919')"
   ]
  },
  {
   "cell_type": "code",
   "execution_count": 116,
   "id": "a9e0f2df-bbd9-447a-ae06-5e28f30ad689",
   "metadata": {},
   "outputs": [],
   "source": [
    "latvia_jobs =  api.search_jobs(keywords='security', limit=100, listed_at=864000,\n",
    "                           distance=2000, location_name='Riga, Latvia' )"
   ]
  },
  {
   "cell_type": "code",
   "execution_count": 117,
   "id": "5759aba9-a75a-471f-9f9d-c342fc87fd63",
   "metadata": {
    "collapsed": true,
    "jupyter": {
     "outputs_hidden": true
    },
    "tags": []
   },
   "outputs": [
    {
     "name": "stdout",
     "output_type": "stream",
     "text": [
      "Riga, Riga, Latvia\n",
      "Riga, Riga, Latvia\n",
      "European Economic Area\n",
      "Riga, Riga, Latvia\n",
      "Riga, Riga, Latvia\n",
      "Latvia\n",
      "Riga, Riga, Latvia\n",
      "EMEA\n",
      "Riga, Riga, Latvia\n",
      "European Union\n",
      "Riga, Latvia\n",
      "European Union\n",
      "Riga, Riga, Latvia\n",
      "European Union\n",
      "Riga, Riga, Latvia\n",
      "Riga, Riga, Latvia\n",
      "European Union\n",
      "European Union\n",
      "Riga, Riga, Latvia\n",
      "Riga, Riga, Latvia\n",
      "Riga, Riga, Latvia\n",
      "Riga, Riga, Latvia\n",
      "Riga, Riga, Latvia\n",
      "EMEA\n",
      "Riga, Riga, Latvia\n",
      "Riga, Latvia\n",
      "Riga, Riga, Latvia\n",
      "Riga, Latvia\n",
      "EMEA\n",
      "Riga, Riga, Latvia\n",
      "Riga, Latvia\n",
      "European Union\n",
      "Riga, Riga, Latvia\n",
      "European Union\n",
      "Riga, Latvia\n",
      "Riga, Riga, Latvia\n",
      "Riga, Riga, Latvia\n",
      "European Union\n",
      "European Union\n",
      "European Union\n",
      "Riga, Riga, Latvia\n",
      "Riga, Latvia\n",
      "Riga, Riga, Latvia\n",
      "European Union\n",
      "Riga, Riga, Latvia\n",
      "EMEA\n",
      "European Union\n",
      "EMEA\n",
      "EMEA\n",
      "Riga, Riga, Latvia\n",
      "Riga, Latvia\n",
      "European Union\n",
      "Latvia\n",
      "Riga, Riga, Latvia\n",
      "Latvia\n",
      "Riga, Riga, Latvia\n",
      "European Union\n",
      "EMEA\n",
      "European Union\n",
      "Ape, Aluksne, Latvia\n",
      "Riga, Riga, Latvia\n",
      "EMEA\n",
      "European Union\n",
      "EMEA\n",
      "European Union\n",
      "Riga, Latvia\n",
      "Riga, Riga, Latvia\n",
      "Riga, Riga, Latvia\n",
      "Riga, Latvia\n",
      "European Union\n",
      "European Union\n",
      "Riga, Latvia\n",
      "European Union\n",
      "Riga, Riga, Latvia\n",
      "European Union\n",
      "EMEA\n",
      "Riga, Latvia\n",
      "Riga, Riga, Latvia\n",
      "Riga, Latvia\n",
      "Riga, Riga, Latvia\n",
      "Riga, Riga, Latvia\n",
      "Riga, Latvia\n",
      "European Union\n",
      "Riga, Latvia\n",
      "Riga, Riga, Latvia\n",
      "Riga, Riga, Latvia\n",
      "EMEA\n",
      "EMEA\n",
      "EMEA\n",
      "Riga, Latvia\n",
      "EMEA\n",
      "Riga, Latvia\n",
      "Riga, Riga, Latvia\n",
      "Riga, Riga, Latvia\n",
      "Riga, Latvia\n",
      "Riga, Latvia\n",
      "Riga, Riga, Latvia\n",
      "EMEA\n",
      "Riga, Riga, Latvia\n",
      "EMEA\n"
     ]
    }
   ],
   "source": [
    "for i in latvia_jobs:\n",
    "    print(i['formattedLocation'])"
   ]
  },
  {
   "cell_type": "code",
   "execution_count": 119,
   "id": "b9a1caf0-856d-4738-88c4-042523fb38c7",
   "metadata": {
    "collapsed": true,
    "jupyter": {
     "outputs_hidden": true
    },
    "tags": []
   },
   "outputs": [
    {
     "name": "stdout",
     "output_type": "stream",
     "text": [
      "Automotive Cybersecurity Consultant (m/f/d)\n",
      "Security Engineer & QA IoT (m/f/d)\n",
      "Cloud Security Engineer\n",
      "Cyber Security Specialist\n",
      "Cyber Security Specialist\n",
      "Cyber Security Specialist\n",
      "Information Security Officer\n",
      "[Remote] Internal IT Specialist\n",
      "Information Security Intern\n",
      "Individual Data Master/IDM/Data Engineer -Remote in Europe/European work pemit*\n",
      "Atlassian (Jira/Confluence) specialists\n",
      "Research Engineer - Cryptography and Zero-Knowledge Protocols\n",
      "IT System Engineer\n",
      "Support Escalation Engineer - EMEA\n",
      "Infrastructure Security Engineer\n",
      "Security Services Manager\n",
      "Senior Director Analyst, Digital Business-Application Services\n",
      "Cloud Security Engineer\n",
      "Industry Executive Education Baltics Markets\n",
      "IAM Product Manager\n",
      "Private Banking & Investment Services Operations specialist\n",
      "Service Owner\n",
      "CEE Area Solution Architect for Security\n",
      "Security Certifications Product Manager - CIS, FIPS, FedRAMP and more\n",
      "Software Engineer AML Solutions – Anti-Financial Crime\n",
      "System Administrator (m/f/d)\n",
      "Network Engineer\n",
      "Information Technology Coordinator\n",
      "Senior Engineering Manager\n",
      "Automotive Cybersecurity Analyst (m/f/d)\n",
      "Application Security Engineer\n",
      "Professional Services Service Assurance Consultant  (Europe)\n",
      "Information Security Consultant at SEB\n",
      "Technology Lead (Senior Business Analyst), UN Fleet - Temporary Appointment\n",
      "DATA & ARTIFICIAL INTELLIGENCE TECHNOLOGY LEAD\n",
      "Senior ICT & Information Security Risk Analyst\n",
      "IT Security Analyst\n",
      "Security Analyst\n",
      "Agility Coach\n",
      "Technical Application Specialist (UK)\n",
      "Data Privacy and Information Security project assistant\n",
      "SAP SECURITY CONSULTANT\n",
      "Penetration Tester\n",
      "Security Project Manager\n",
      "Information Security Officer - GRC\n",
      "Head of Centre of Excellence\n",
      "Application Security Engineer (Remote Europe)\n",
      "Dedicated Services Engineer (EU Only)\n",
      "Inside Sales Representative\n",
      "QA Specialist\n",
      "\t SECURITY ENGINEER - ANALYST\n",
      "Enterprise Solutions Engineer - Power BI\n",
      "Technical Game Director\n",
      "Application Security Engineer\n",
      "Governance, Risk and Compliance Specialist\n",
      "IT Security Manager\n",
      "Product Manager - Mobile\n",
      "Linux Desktop Gaming Product Manager\n",
      "Technical Escalations Engineer - EMEA\n",
      "Simultaneous Translator; Arabic & Arabic/Kurdish\n",
      "Linux Support Engineer, EMEA\n",
      "Senior Product Security Engineer - Mobile\n",
      "UX Researcher - MetaMask Institutional\n",
      "Architect\n",
      "Site Reliability Engineer\n",
      "Functional Test Engineer\n",
      "Solution Architect for Remote Team in Customer Overview and Digital Enablers Tribe\n",
      "Atlassian Cloud Administrator\n",
      "\t APPLICATION SECURITY ARCHITECT\n",
      "Lead Security Engineer (m/f/d) - Remote\n",
      "Cloud Security Engineer\n",
      "Big Data Engineer\n",
      "Applied Researcher - Cryptography\n",
      "Junior Email Delivery Specialist\n",
      "Ecosystem Engagement Program Manager\n",
      "Kubernetes Product Manager\n",
      "Software Architect\n",
      "Atlassian Cloud Administrator\n",
      "IT Analyst\n",
      "Application Security Architect\n",
      "Identity and Access Management Architect\n",
      "IT DevOps Engineer\n",
      "Broadband Network Technical Architect\n",
      "DATA & ARTIFICIAL INTELLIGENCE GROUP LEAD\n",
      "Enterprise Area Architect of Digital Channels Tribe in SEB\n",
      "Site Reliability Engineer\n",
      "Linux Support Engineer, EMEA\n",
      "SmartNIC OS Product Manager\n",
      "Systems Engineer\n",
      "Data Scientist\n",
      "Embedded Linux Engineer\n",
      "DevOps with Python development experience\n",
      "Video Broadcast Engineer\n",
      "Product Manager (Acronis Cyber Platform)\n",
      "Solution Expert\n",
      "IT Manager/Team lead\n",
      "IT HelpDesk L2 Engineer\n",
      "ONE IDENTITY- Software Sales Account Manager – Finland\n",
      "System analyst\n",
      "OpenStack Product Manager\n"
     ]
    }
   ],
   "source": [
    "for i in latvia_jobs:\n",
    "    print(i['title'])"
   ]
  },
  {
   "cell_type": "code",
   "execution_count": null,
   "id": "1bef47b6-6385-4507-9fed-0f49de9f3a4e",
   "metadata": {},
   "outputs": [],
   "source": []
  },
  {
   "cell_type": "code",
   "execution_count": null,
   "id": "fda7c945-b5a6-4bc8-9d5e-61f6723b88b3",
   "metadata": {},
   "outputs": [],
   "source": []
  },
  {
   "cell_type": "code",
   "execution_count": 121,
   "id": "99d2a5d9-40d4-41a0-93c7-3a50bd0e31e3",
   "metadata": {},
   "outputs": [
    {
     "name": "stderr",
     "output_type": "stream",
     "text": [
      "100%|███████████████████████████████████████████████████████████████████████████████| 100/100 [08:01<00:00,  4.82s/it]\n"
     ]
    }
   ],
   "source": [
    "text = []\n",
    "for i in tqdm(range(len(latvia_jobs))):\n",
    "    resp=requests.get(f'https://www.linkedin.com/jobs/view/{latvia_jobs[i][\"*savingInfo\"].split(\":\")[-1]}')\n",
    "    page=BeautifulSoup(resp.text,\"html.parser\")\n",
    "    text.append(page.find(class_=\"show-more-less-html__markup show-more-less-html__markup--clamp-after-5\").text.strip())\n",
    "    time.sleep(4)"
   ]
  },
  {
   "cell_type": "code",
   "execution_count": 122,
   "id": "bb893b53-5fc0-4aae-8f72-8d60556d924d",
   "metadata": {},
   "outputs": [],
   "source": [
    "import pandas as pd\n",
    "\n",
    "job_title = []\n",
    "for i in range(len(latvia_jobs)):\n",
    "    job_title.append(latvia_jobs[i]['title'])"
   ]
  },
  {
   "cell_type": "code",
   "execution_count": 124,
   "id": "ae48b360-b619-4050-8e6a-d5811c0e7758",
   "metadata": {},
   "outputs": [
    {
     "data": {
      "text/html": [
       "<div>\n",
       "<style scoped>\n",
       "    .dataframe tbody tr th:only-of-type {\n",
       "        vertical-align: middle;\n",
       "    }\n",
       "\n",
       "    .dataframe tbody tr th {\n",
       "        vertical-align: top;\n",
       "    }\n",
       "\n",
       "    .dataframe thead th {\n",
       "        text-align: right;\n",
       "    }\n",
       "</style>\n",
       "<table border=\"1\" class=\"dataframe\">\n",
       "  <thead>\n",
       "    <tr style=\"text-align: right;\">\n",
       "      <th></th>\n",
       "      <th>job_title</th>\n",
       "      <th>text</th>\n",
       "    </tr>\n",
       "  </thead>\n",
       "  <tbody>\n",
       "    <tr>\n",
       "      <th>0</th>\n",
       "      <td>Automotive Cybersecurity Consultant (m/f/d)</td>\n",
       "      <td>Your ChallengeConsult car manufacture and supp...</td>\n",
       "    </tr>\n",
       "    <tr>\n",
       "      <th>1</th>\n",
       "      <td>Security Engineer &amp; QA IoT (m/f/d)</td>\n",
       "      <td>Job DescriptionWe are recruiting new team memb...</td>\n",
       "    </tr>\n",
       "    <tr>\n",
       "      <th>2</th>\n",
       "      <td>Cloud Security Engineer</td>\n",
       "      <td>Our clients are some of the global brands in t...</td>\n",
       "    </tr>\n",
       "    <tr>\n",
       "      <th>3</th>\n",
       "      <td>Cyber Security Specialist</td>\n",
       "      <td>It's fun to work in a company where people tru...</td>\n",
       "    </tr>\n",
       "    <tr>\n",
       "      <th>4</th>\n",
       "      <td>Cyber Security Specialist</td>\n",
       "      <td>It's fun to work in a company where people tru...</td>\n",
       "    </tr>\n",
       "    <tr>\n",
       "      <th>...</th>\n",
       "      <td>...</td>\n",
       "      <td>...</td>\n",
       "    </tr>\n",
       "    <tr>\n",
       "      <th>95</th>\n",
       "      <td>IT Manager/Team lead</td>\n",
       "      <td>Compensa Vienna Insurance Group ADB Latvia is ...</td>\n",
       "    </tr>\n",
       "    <tr>\n",
       "      <th>96</th>\n",
       "      <td>IT HelpDesk L2 Engineer</td>\n",
       "      <td>Netcracker office in Riga is an integral compo...</td>\n",
       "    </tr>\n",
       "    <tr>\n",
       "      <th>97</th>\n",
       "      <td>ONE IDENTITY- Software Sales Account Manager –...</td>\n",
       "      <td>Overview ONE IDENTITY- Software Sales Account ...</td>\n",
       "    </tr>\n",
       "    <tr>\n",
       "      <th>98</th>\n",
       "      <td>System analyst</td>\n",
       "      <td>The opportunityAt Worldline, our technology ad...</td>\n",
       "    </tr>\n",
       "    <tr>\n",
       "      <th>99</th>\n",
       "      <td>OpenStack Product Manager</td>\n",
       "      <td>OpenStack, while complex and challenging in ma...</td>\n",
       "    </tr>\n",
       "  </tbody>\n",
       "</table>\n",
       "<p>100 rows × 2 columns</p>\n",
       "</div>"
      ],
      "text/plain": [
       "                                            job_title  \\\n",
       "0         Automotive Cybersecurity Consultant (m/f/d)   \n",
       "1                  Security Engineer & QA IoT (m/f/d)   \n",
       "2                             Cloud Security Engineer   \n",
       "3                           Cyber Security Specialist   \n",
       "4                           Cyber Security Specialist   \n",
       "..                                                ...   \n",
       "95                               IT Manager/Team lead   \n",
       "96                            IT HelpDesk L2 Engineer   \n",
       "97  ONE IDENTITY- Software Sales Account Manager –...   \n",
       "98                                     System analyst   \n",
       "99                          OpenStack Product Manager   \n",
       "\n",
       "                                                 text  \n",
       "0   Your ChallengeConsult car manufacture and supp...  \n",
       "1   Job DescriptionWe are recruiting new team memb...  \n",
       "2   Our clients are some of the global brands in t...  \n",
       "3   It's fun to work in a company where people tru...  \n",
       "4   It's fun to work in a company where people tru...  \n",
       "..                                                ...  \n",
       "95  Compensa Vienna Insurance Group ADB Latvia is ...  \n",
       "96  Netcracker office in Riga is an integral compo...  \n",
       "97  Overview ONE IDENTITY- Software Sales Account ...  \n",
       "98  The opportunityAt Worldline, our technology ad...  \n",
       "99  OpenStack, while complex and challenging in ma...  \n",
       "\n",
       "[100 rows x 2 columns]"
      ]
     },
     "execution_count": 124,
     "metadata": {},
     "output_type": "execute_result"
    }
   ],
   "source": [
    "df = pd.DataFrame({'job_title': job_title, 'text': text})\n",
    "df"
   ]
  },
  {
   "cell_type": "code",
   "execution_count": 126,
   "id": "32aa2705-cce1-42a5-b959-cf6b8a01d8b7",
   "metadata": {
    "collapsed": true,
    "jupyter": {
     "outputs_hidden": true
    },
    "tags": []
   },
   "outputs": [
    {
     "name": "stdout",
     "output_type": "stream",
     "text": [
      "Automotive Cybersecurity Consultant (m/f/d)\n",
      "Security Engineer & QA IoT (m/f/d)\n",
      "Cloud Security Engineer\n",
      "Cyber Security Specialist\n",
      "Cyber Security Specialist\n",
      "Cyber Security Specialist\n",
      "Information Security Officer\n",
      "[Remote] Internal IT Specialist\n",
      "Information Security Intern\n",
      "Individual Data Master/IDM/Data Engineer -Remote in Europe/European work pemit*\n",
      "Atlassian (Jira/Confluence) specialists\n",
      "Research Engineer - Cryptography and Zero-Knowledge Protocols\n",
      "IT System Engineer\n",
      "Support Escalation Engineer - EMEA\n",
      "Infrastructure Security Engineer\n",
      "Security Services Manager\n",
      "Senior Director Analyst, Digital Business-Application Services\n",
      "Cloud Security Engineer\n",
      "Industry Executive Education Baltics Markets\n",
      "IAM Product Manager\n",
      "Private Banking & Investment Services Operations specialist\n",
      "Service Owner\n",
      "CEE Area Solution Architect for Security\n",
      "Security Certifications Product Manager - CIS, FIPS, FedRAMP and more\n",
      "Software Engineer AML Solutions – Anti-Financial Crime\n",
      "System Administrator (m/f/d)\n",
      "Network Engineer\n",
      "Information Technology Coordinator\n",
      "Senior Engineering Manager\n",
      "Automotive Cybersecurity Analyst (m/f/d)\n",
      "Application Security Engineer\n",
      "Professional Services Service Assurance Consultant  (Europe)\n",
      "Information Security Consultant at SEB\n",
      "Technology Lead (Senior Business Analyst), UN Fleet - Temporary Appointment\n",
      "DATA & ARTIFICIAL INTELLIGENCE TECHNOLOGY LEAD\n",
      "Senior ICT & Information Security Risk Analyst\n",
      "IT Security Analyst\n",
      "Security Analyst\n",
      "Agility Coach\n",
      "Technical Application Specialist (UK)\n",
      "Data Privacy and Information Security project assistant\n",
      "SAP SECURITY CONSULTANT\n",
      "Penetration Tester\n",
      "Security Project Manager\n",
      "Information Security Officer - GRC\n",
      "Head of Centre of Excellence\n",
      "Application Security Engineer (Remote Europe)\n",
      "Dedicated Services Engineer (EU Only)\n",
      "Inside Sales Representative\n",
      "QA Specialist\n",
      "\t SECURITY ENGINEER - ANALYST\n",
      "Enterprise Solutions Engineer - Power BI\n",
      "Technical Game Director\n",
      "Application Security Engineer\n",
      "Governance, Risk and Compliance Specialist\n",
      "IT Security Manager\n",
      "Product Manager - Mobile\n",
      "Linux Desktop Gaming Product Manager\n",
      "Technical Escalations Engineer - EMEA\n",
      "Simultaneous Translator; Arabic & Arabic/Kurdish\n",
      "Linux Support Engineer, EMEA\n",
      "Senior Product Security Engineer - Mobile\n",
      "UX Researcher - MetaMask Institutional\n",
      "Architect\n",
      "Site Reliability Engineer\n",
      "Functional Test Engineer\n",
      "Solution Architect for Remote Team in Customer Overview and Digital Enablers Tribe\n",
      "Atlassian Cloud Administrator\n",
      "\t APPLICATION SECURITY ARCHITECT\n",
      "Lead Security Engineer (m/f/d) - Remote\n",
      "Cloud Security Engineer\n",
      "Big Data Engineer\n",
      "Applied Researcher - Cryptography\n",
      "Junior Email Delivery Specialist\n",
      "Ecosystem Engagement Program Manager\n",
      "Kubernetes Product Manager\n",
      "Software Architect\n",
      "Atlassian Cloud Administrator\n",
      "IT Analyst\n",
      "Application Security Architect\n",
      "Identity and Access Management Architect\n",
      "IT DevOps Engineer\n",
      "Broadband Network Technical Architect\n",
      "DATA & ARTIFICIAL INTELLIGENCE GROUP LEAD\n",
      "Enterprise Area Architect of Digital Channels Tribe in SEB\n",
      "Site Reliability Engineer\n",
      "Linux Support Engineer, EMEA\n",
      "SmartNIC OS Product Manager\n",
      "Systems Engineer\n",
      "Data Scientist\n",
      "Embedded Linux Engineer\n",
      "DevOps with Python development experience\n",
      "Video Broadcast Engineer\n",
      "Product Manager (Acronis Cyber Platform)\n",
      "Solution Expert\n",
      "IT Manager/Team lead\n",
      "IT HelpDesk L2 Engineer\n",
      "ONE IDENTITY- Software Sales Account Manager – Finland\n",
      "System analyst\n",
      "OpenStack Product Manager\n"
     ]
    }
   ],
   "source": [
    "for i in df['job_title']:\n",
    "    print(i)"
   ]
  },
  {
   "cell_type": "code",
   "execution_count": 127,
   "id": "cf939757-aeb7-4fd8-8d4a-af7d5a292f92",
   "metadata": {},
   "outputs": [
    {
     "data": {
      "text/plain": [
       "en    100\n",
       "Name: text, dtype: int64"
      ]
     },
     "execution_count": 127,
     "metadata": {},
     "output_type": "execute_result"
    }
   ],
   "source": [
    "df['text'].apply(lambda x: langid.classify(x)[0] ).value_counts()"
   ]
  },
  {
   "cell_type": "code",
   "execution_count": null,
   "id": "e7ffdc15-4b50-49f7-9ac2-60a6a895120a",
   "metadata": {},
   "outputs": [],
   "source": [
    "import langid\n",
    "df = df[df['text'].apply(lambda x: langid.classify(x)[0] ) == 'en']"
   ]
  },
  {
   "cell_type": "code",
   "execution_count": 128,
   "id": "48ea775f-8e02-48ce-b3b7-e8b4960fffce",
   "metadata": {},
   "outputs": [],
   "source": [
    "df.to_csv('latvia_jobs.csv',index=False)"
   ]
  },
  {
   "cell_type": "code",
   "execution_count": null,
   "id": "56364219-14ef-47fb-82b0-ff861f95854c",
   "metadata": {},
   "outputs": [],
   "source": []
  },
  {
   "cell_type": "code",
   "execution_count": null,
   "id": "1c372905-2e43-4dbd-917e-760c4286ac8e",
   "metadata": {},
   "outputs": [],
   "source": []
  },
  {
   "cell_type": "code",
   "execution_count": null,
   "id": "bedc636c-6d04-4073-b8b6-b7f0f77a3274",
   "metadata": {},
   "outputs": [],
   "source": []
  },
  {
   "cell_type": "markdown",
   "id": "5eca9531-f945-4611-9658-81ee4ea901c3",
   "metadata": {},
   "source": [
    "## Combine all csv files together"
   ]
  },
  {
   "cell_type": "code",
   "execution_count": 15,
   "id": "f54da7a2-cd8b-49e2-ba71-8d80b50399f3",
   "metadata": {},
   "outputs": [],
   "source": [
    "import pandas as pd\n",
    "import numpy as np"
   ]
  },
  {
   "cell_type": "code",
   "execution_count": 7,
   "id": "6708ff0f-3eb5-4bfb-95e2-30d6fbcc505a",
   "metadata": {},
   "outputs": [],
   "source": [
    "latv_jobs = pd.read_csv('latvia_jobs.csv')\n",
    "at_jobs = pd.read_csv('at_jobs.csv')"
   ]
  },
  {
   "cell_type": "code",
   "execution_count": 22,
   "id": "3a7a2393-7d18-41e7-b2e9-1c30fc7315c4",
   "metadata": {},
   "outputs": [
    {
     "data": {
      "text/html": [
       "<div>\n",
       "<style scoped>\n",
       "    .dataframe tbody tr th:only-of-type {\n",
       "        vertical-align: middle;\n",
       "    }\n",
       "\n",
       "    .dataframe tbody tr th {\n",
       "        vertical-align: top;\n",
       "    }\n",
       "\n",
       "    .dataframe thead th {\n",
       "        text-align: right;\n",
       "    }\n",
       "</style>\n",
       "<table border=\"1\" class=\"dataframe\">\n",
       "  <thead>\n",
       "    <tr style=\"text-align: right;\">\n",
       "      <th></th>\n",
       "      <th>job_title</th>\n",
       "      <th>text</th>\n",
       "      <th>country</th>\n",
       "    </tr>\n",
       "  </thead>\n",
       "  <tbody>\n",
       "    <tr>\n",
       "      <th>0</th>\n",
       "      <td>Automotive Cybersecurity Consultant (m/f/d)</td>\n",
       "      <td>Your ChallengeConsult car manufacture and supp...</td>\n",
       "      <td>LV</td>\n",
       "    </tr>\n",
       "    <tr>\n",
       "      <th>1</th>\n",
       "      <td>Security Engineer &amp; QA IoT (m/f/d)</td>\n",
       "      <td>Job DescriptionWe are recruiting new team memb...</td>\n",
       "      <td>LV</td>\n",
       "    </tr>\n",
       "    <tr>\n",
       "      <th>2</th>\n",
       "      <td>Cloud Security Engineer</td>\n",
       "      <td>Our clients are some of the global brands in t...</td>\n",
       "      <td>LV</td>\n",
       "    </tr>\n",
       "    <tr>\n",
       "      <th>3</th>\n",
       "      <td>Cyber Security Specialist</td>\n",
       "      <td>It's fun to work in a company where people tru...</td>\n",
       "      <td>LV</td>\n",
       "    </tr>\n",
       "    <tr>\n",
       "      <th>4</th>\n",
       "      <td>Cyber Security Specialist</td>\n",
       "      <td>It's fun to work in a company where people tru...</td>\n",
       "      <td>LV</td>\n",
       "    </tr>\n",
       "  </tbody>\n",
       "</table>\n",
       "</div>"
      ],
      "text/plain": [
       "                                     job_title  \\\n",
       "0  Automotive Cybersecurity Consultant (m/f/d)   \n",
       "1           Security Engineer & QA IoT (m/f/d)   \n",
       "2                      Cloud Security Engineer   \n",
       "3                    Cyber Security Specialist   \n",
       "4                    Cyber Security Specialist   \n",
       "\n",
       "                                                text country  \n",
       "0  Your ChallengeConsult car manufacture and supp...      LV  \n",
       "1  Job DescriptionWe are recruiting new team memb...      LV  \n",
       "2  Our clients are some of the global brands in t...      LV  \n",
       "3  It's fun to work in a company where people tru...      LV  \n",
       "4  It's fun to work in a company where people tru...      LV  "
      ]
     },
     "execution_count": 22,
     "metadata": {},
     "output_type": "execute_result"
    }
   ],
   "source": [
    "country = np.full(( len(latv_jobs) ), 'LV')\n",
    "latv_jobs['country'] = country\n",
    "latv_jobs.head()"
   ]
  },
  {
   "cell_type": "code",
   "execution_count": 21,
   "id": "e4cb5fac-f3dd-42ec-a213-9d67700ffb9b",
   "metadata": {},
   "outputs": [
    {
     "data": {
      "text/html": [
       "<div>\n",
       "<style scoped>\n",
       "    .dataframe tbody tr th:only-of-type {\n",
       "        vertical-align: middle;\n",
       "    }\n",
       "\n",
       "    .dataframe tbody tr th {\n",
       "        vertical-align: top;\n",
       "    }\n",
       "\n",
       "    .dataframe thead th {\n",
       "        text-align: right;\n",
       "    }\n",
       "</style>\n",
       "<table border=\"1\" class=\"dataframe\">\n",
       "  <thead>\n",
       "    <tr style=\"text-align: right;\">\n",
       "      <th></th>\n",
       "      <th>job_title</th>\n",
       "      <th>text</th>\n",
       "      <th>country</th>\n",
       "    </tr>\n",
       "  </thead>\n",
       "  <tbody>\n",
       "    <tr>\n",
       "      <th>0</th>\n",
       "      <td>Software Cyber Security Specialist</td>\n",
       "      <td>Description Development of cyber security requ...</td>\n",
       "      <td>AT</td>\n",
       "    </tr>\n",
       "    <tr>\n",
       "      <th>1</th>\n",
       "      <td>Researcher Security Analytics</td>\n",
       "      <td>With more than 3,700 students in six departmen...</td>\n",
       "      <td>AT</td>\n",
       "    </tr>\n",
       "    <tr>\n",
       "      <th>2</th>\n",
       "      <td>Cybersecurity Specialist</td>\n",
       "      <td>Cybersecurity SpecialistFull Time (40h/w)Klost...</td>\n",
       "      <td>AT</td>\n",
       "    </tr>\n",
       "    <tr>\n",
       "      <th>3</th>\n",
       "      <td>Cyber Security Generalist</td>\n",
       "      <td>The future of banking is digital, and IT is th...</td>\n",
       "      <td>AT</td>\n",
       "    </tr>\n",
       "    <tr>\n",
       "      <th>4</th>\n",
       "      <td>Security Operations Center Analyst – L3</td>\n",
       "      <td>International business requires an internation...</td>\n",
       "      <td>AT</td>\n",
       "    </tr>\n",
       "  </tbody>\n",
       "</table>\n",
       "</div>"
      ],
      "text/plain": [
       "                                  job_title  \\\n",
       "0       Software Cyber Security Specialist    \n",
       "1            Researcher Security Analytics    \n",
       "2                  Cybersecurity Specialist   \n",
       "3                Cyber Security Generalist    \n",
       "4  Security Operations Center Analyst – L3    \n",
       "\n",
       "                                                text country  \n",
       "0  Description Development of cyber security requ...      AT  \n",
       "1  With more than 3,700 students in six departmen...      AT  \n",
       "2  Cybersecurity SpecialistFull Time (40h/w)Klost...      AT  \n",
       "3  The future of banking is digital, and IT is th...      AT  \n",
       "4  International business requires an internation...      AT  "
      ]
     },
     "execution_count": 21,
     "metadata": {},
     "output_type": "execute_result"
    }
   ],
   "source": [
    "country = np.full(( len(at_jobs) ), 'AT')\n",
    "at_jobs['country'] = country\n",
    "at_jobs.head()"
   ]
  },
  {
   "cell_type": "code",
   "execution_count": 24,
   "id": "44cee0ed-6e48-405f-ae29-350f4f464e7d",
   "metadata": {},
   "outputs": [
    {
     "data": {
      "text/html": [
       "<div>\n",
       "<style scoped>\n",
       "    .dataframe tbody tr th:only-of-type {\n",
       "        vertical-align: middle;\n",
       "    }\n",
       "\n",
       "    .dataframe tbody tr th {\n",
       "        vertical-align: top;\n",
       "    }\n",
       "\n",
       "    .dataframe thead th {\n",
       "        text-align: right;\n",
       "    }\n",
       "</style>\n",
       "<table border=\"1\" class=\"dataframe\">\n",
       "  <thead>\n",
       "    <tr style=\"text-align: right;\">\n",
       "      <th></th>\n",
       "      <th>country</th>\n",
       "      <th>title</th>\n",
       "      <th>text</th>\n",
       "    </tr>\n",
       "  </thead>\n",
       "  <tbody>\n",
       "    <tr>\n",
       "      <th>0</th>\n",
       "      <td>AT</td>\n",
       "      <td>Inform</td>\n",
       "      <td>https://www.linkedin.com/company/global-blue/l...</td>\n",
       "    </tr>\n",
       "    <tr>\n",
       "      <th>1</th>\n",
       "      <td>AT</td>\n",
       "      <td>Architect</td>\n",
       "      <td>https://www.linkedin.com/jobs/view/2589036509/...</td>\n",
       "    </tr>\n",
       "    <tr>\n",
       "      <th>2</th>\n",
       "      <td>AT</td>\n",
       "      <td>Manager</td>\n",
       "      <td>www.linkedin.com/jobs/view/2540581439/\\n\\nInfo...</td>\n",
       "    </tr>\n",
       "    <tr>\n",
       "      <th>3</th>\n",
       "      <td>AT</td>\n",
       "      <td>Analyst</td>\n",
       "      <td>https://www.linkedin.com/jobs/view/2997674064\\...</td>\n",
       "    </tr>\n",
       "    <tr>\n",
       "      <th>4</th>\n",
       "      <td>AT</td>\n",
       "      <td>Engineer</td>\n",
       "      <td>https://www.linkedin.com/jobs/view/3020920801\\...</td>\n",
       "    </tr>\n",
       "  </tbody>\n",
       "</table>\n",
       "</div>"
      ],
      "text/plain": [
       "  country      title                                               text\n",
       "0      AT     Inform  https://www.linkedin.com/company/global-blue/l...\n",
       "1      AT  Architect  https://www.linkedin.com/jobs/view/2589036509/...\n",
       "2      AT    Manager  www.linkedin.com/jobs/view/2540581439/\\n\\nInfo...\n",
       "3      AT    Analyst  https://www.linkedin.com/jobs/view/2997674064\\...\n",
       "4      AT   Engineer  https://www.linkedin.com/jobs/view/3020920801\\..."
      ]
     },
     "execution_count": 24,
     "metadata": {},
     "output_type": "execute_result"
    }
   ],
   "source": [
    "df = pd.read_csv('../data/jobs.csv')\n",
    "df.head()"
   ]
  },
  {
   "cell_type": "code",
   "execution_count": 32,
   "id": "2aee4f88-af56-48e9-9a4b-6d01c6a93a9a",
   "metadata": {},
   "outputs": [
    {
     "data": {
      "text/html": [
       "<div>\n",
       "<style scoped>\n",
       "    .dataframe tbody tr th:only-of-type {\n",
       "        vertical-align: middle;\n",
       "    }\n",
       "\n",
       "    .dataframe tbody tr th {\n",
       "        vertical-align: top;\n",
       "    }\n",
       "\n",
       "    .dataframe thead th {\n",
       "        text-align: right;\n",
       "    }\n",
       "</style>\n",
       "<table border=\"1\" class=\"dataframe\">\n",
       "  <thead>\n",
       "    <tr style=\"text-align: right;\">\n",
       "      <th></th>\n",
       "      <th>title</th>\n",
       "      <th>text</th>\n",
       "      <th>country</th>\n",
       "    </tr>\n",
       "  </thead>\n",
       "  <tbody>\n",
       "    <tr>\n",
       "      <th>0</th>\n",
       "      <td>Software Cyber Security Specialist</td>\n",
       "      <td>Description Development of cyber security requ...</td>\n",
       "      <td>AT</td>\n",
       "    </tr>\n",
       "    <tr>\n",
       "      <th>1</th>\n",
       "      <td>Researcher Security Analytics</td>\n",
       "      <td>With more than 3,700 students in six departmen...</td>\n",
       "      <td>AT</td>\n",
       "    </tr>\n",
       "    <tr>\n",
       "      <th>2</th>\n",
       "      <td>Cybersecurity Specialist</td>\n",
       "      <td>Cybersecurity SpecialistFull Time (40h/w)Klost...</td>\n",
       "      <td>AT</td>\n",
       "    </tr>\n",
       "    <tr>\n",
       "      <th>3</th>\n",
       "      <td>Cyber Security Generalist</td>\n",
       "      <td>The future of banking is digital, and IT is th...</td>\n",
       "      <td>AT</td>\n",
       "    </tr>\n",
       "    <tr>\n",
       "      <th>4</th>\n",
       "      <td>Security Operations Center Analyst – L3</td>\n",
       "      <td>International business requires an internation...</td>\n",
       "      <td>AT</td>\n",
       "    </tr>\n",
       "    <tr>\n",
       "      <th>...</th>\n",
       "      <td>...</td>\n",
       "      <td>...</td>\n",
       "      <td>...</td>\n",
       "    </tr>\n",
       "    <tr>\n",
       "      <th>95</th>\n",
       "      <td>IT Manager/Team lead</td>\n",
       "      <td>Compensa Vienna Insurance Group ADB Latvia is ...</td>\n",
       "      <td>LV</td>\n",
       "    </tr>\n",
       "    <tr>\n",
       "      <th>96</th>\n",
       "      <td>IT HelpDesk L2 Engineer</td>\n",
       "      <td>Netcracker office in Riga is an integral compo...</td>\n",
       "      <td>LV</td>\n",
       "    </tr>\n",
       "    <tr>\n",
       "      <th>97</th>\n",
       "      <td>ONE IDENTITY- Software Sales Account Manager –...</td>\n",
       "      <td>Overview ONE IDENTITY- Software Sales Account ...</td>\n",
       "      <td>LV</td>\n",
       "    </tr>\n",
       "    <tr>\n",
       "      <th>98</th>\n",
       "      <td>System analyst</td>\n",
       "      <td>The opportunityAt Worldline, our technology ad...</td>\n",
       "      <td>LV</td>\n",
       "    </tr>\n",
       "    <tr>\n",
       "      <th>99</th>\n",
       "      <td>OpenStack Product Manager</td>\n",
       "      <td>OpenStack, while complex and challenging in ma...</td>\n",
       "      <td>LV</td>\n",
       "    </tr>\n",
       "  </tbody>\n",
       "</table>\n",
       "<p>148 rows × 3 columns</p>\n",
       "</div>"
      ],
      "text/plain": [
       "                                                title  \\\n",
       "0                 Software Cyber Security Specialist    \n",
       "1                      Researcher Security Analytics    \n",
       "2                            Cybersecurity Specialist   \n",
       "3                          Cyber Security Generalist    \n",
       "4            Security Operations Center Analyst – L3    \n",
       "..                                                ...   \n",
       "95                               IT Manager/Team lead   \n",
       "96                            IT HelpDesk L2 Engineer   \n",
       "97  ONE IDENTITY- Software Sales Account Manager –...   \n",
       "98                                     System analyst   \n",
       "99                          OpenStack Product Manager   \n",
       "\n",
       "                                                 text country  \n",
       "0   Description Development of cyber security requ...      AT  \n",
       "1   With more than 3,700 students in six departmen...      AT  \n",
       "2   Cybersecurity SpecialistFull Time (40h/w)Klost...      AT  \n",
       "3   The future of banking is digital, and IT is th...      AT  \n",
       "4   International business requires an internation...      AT  \n",
       "..                                                ...     ...  \n",
       "95  Compensa Vienna Insurance Group ADB Latvia is ...      LV  \n",
       "96  Netcracker office in Riga is an integral compo...      LV  \n",
       "97  Overview ONE IDENTITY- Software Sales Account ...      LV  \n",
       "98  The opportunityAt Worldline, our technology ad...      LV  \n",
       "99  OpenStack, while complex and challenging in ma...      LV  \n",
       "\n",
       "[148 rows x 3 columns]"
      ]
     },
     "execution_count": 32,
     "metadata": {},
     "output_type": "execute_result"
    }
   ],
   "source": [
    "at_jobs.append(latv_jobs).rename(columns={'job_title': 'title' })"
   ]
  },
  {
   "cell_type": "code",
   "execution_count": null,
   "id": "4cb4e918-43dd-487f-b224-9151ea9fa0ba",
   "metadata": {},
   "outputs": [],
   "source": []
  },
  {
   "cell_type": "code",
   "execution_count": 33,
   "id": "393b913c-6f72-4050-8692-c32c734dba14",
   "metadata": {},
   "outputs": [
    {
     "data": {
      "text/html": [
       "<div>\n",
       "<style scoped>\n",
       "    .dataframe tbody tr th:only-of-type {\n",
       "        vertical-align: middle;\n",
       "    }\n",
       "\n",
       "    .dataframe tbody tr th {\n",
       "        vertical-align: top;\n",
       "    }\n",
       "\n",
       "    .dataframe thead th {\n",
       "        text-align: right;\n",
       "    }\n",
       "</style>\n",
       "<table border=\"1\" class=\"dataframe\">\n",
       "  <thead>\n",
       "    <tr style=\"text-align: right;\">\n",
       "      <th></th>\n",
       "      <th>country</th>\n",
       "      <th>title</th>\n",
       "      <th>text</th>\n",
       "    </tr>\n",
       "  </thead>\n",
       "  <tbody>\n",
       "    <tr>\n",
       "      <th>0</th>\n",
       "      <td>AT</td>\n",
       "      <td>Inform</td>\n",
       "      <td>https://www.linkedin.com/company/global-blue/l...</td>\n",
       "    </tr>\n",
       "    <tr>\n",
       "      <th>1</th>\n",
       "      <td>AT</td>\n",
       "      <td>Architect</td>\n",
       "      <td>https://www.linkedin.com/jobs/view/2589036509/...</td>\n",
       "    </tr>\n",
       "    <tr>\n",
       "      <th>2</th>\n",
       "      <td>AT</td>\n",
       "      <td>Manager</td>\n",
       "      <td>www.linkedin.com/jobs/view/2540581439/\\n\\nInfo...</td>\n",
       "    </tr>\n",
       "    <tr>\n",
       "      <th>3</th>\n",
       "      <td>AT</td>\n",
       "      <td>Analyst</td>\n",
       "      <td>https://www.linkedin.com/jobs/view/2997674064\\...</td>\n",
       "    </tr>\n",
       "    <tr>\n",
       "      <th>4</th>\n",
       "      <td>AT</td>\n",
       "      <td>Engineer</td>\n",
       "      <td>https://www.linkedin.com/jobs/view/3020920801\\...</td>\n",
       "    </tr>\n",
       "    <tr>\n",
       "      <th>...</th>\n",
       "      <td>...</td>\n",
       "      <td>...</td>\n",
       "      <td>...</td>\n",
       "    </tr>\n",
       "    <tr>\n",
       "      <th>95</th>\n",
       "      <td>LV</td>\n",
       "      <td>IT Manager/Team lead</td>\n",
       "      <td>Compensa Vienna Insurance Group ADB Latvia is ...</td>\n",
       "    </tr>\n",
       "    <tr>\n",
       "      <th>96</th>\n",
       "      <td>LV</td>\n",
       "      <td>IT HelpDesk L2 Engineer</td>\n",
       "      <td>Netcracker office in Riga is an integral compo...</td>\n",
       "    </tr>\n",
       "    <tr>\n",
       "      <th>97</th>\n",
       "      <td>LV</td>\n",
       "      <td>ONE IDENTITY- Software Sales Account Manager –...</td>\n",
       "      <td>Overview ONE IDENTITY- Software Sales Account ...</td>\n",
       "    </tr>\n",
       "    <tr>\n",
       "      <th>98</th>\n",
       "      <td>LV</td>\n",
       "      <td>System analyst</td>\n",
       "      <td>The opportunityAt Worldline, our technology ad...</td>\n",
       "    </tr>\n",
       "    <tr>\n",
       "      <th>99</th>\n",
       "      <td>LV</td>\n",
       "      <td>OpenStack Product Manager</td>\n",
       "      <td>OpenStack, while complex and challenging in ma...</td>\n",
       "    </tr>\n",
       "  </tbody>\n",
       "</table>\n",
       "<p>269 rows × 3 columns</p>\n",
       "</div>"
      ],
      "text/plain": [
       "   country                                              title  \\\n",
       "0       AT                                             Inform   \n",
       "1       AT                                          Architect   \n",
       "2       AT                                            Manager   \n",
       "3       AT                                            Analyst   \n",
       "4       AT                                           Engineer   \n",
       "..     ...                                                ...   \n",
       "95      LV                               IT Manager/Team lead   \n",
       "96      LV                            IT HelpDesk L2 Engineer   \n",
       "97      LV  ONE IDENTITY- Software Sales Account Manager –...   \n",
       "98      LV                                     System analyst   \n",
       "99      LV                          OpenStack Product Manager   \n",
       "\n",
       "                                                 text  \n",
       "0   https://www.linkedin.com/company/global-blue/l...  \n",
       "1   https://www.linkedin.com/jobs/view/2589036509/...  \n",
       "2   www.linkedin.com/jobs/view/2540581439/\\n\\nInfo...  \n",
       "3   https://www.linkedin.com/jobs/view/2997674064\\...  \n",
       "4   https://www.linkedin.com/jobs/view/3020920801\\...  \n",
       "..                                                ...  \n",
       "95  Compensa Vienna Insurance Group ADB Latvia is ...  \n",
       "96  Netcracker office in Riga is an integral compo...  \n",
       "97  Overview ONE IDENTITY- Software Sales Account ...  \n",
       "98  The opportunityAt Worldline, our technology ad...  \n",
       "99  OpenStack, while complex and challenging in ma...  \n",
       "\n",
       "[269 rows x 3 columns]"
      ]
     },
     "execution_count": 33,
     "metadata": {},
     "output_type": "execute_result"
    }
   ],
   "source": [
    "df.append( at_jobs.append(latv_jobs).rename(columns={'job_title': 'title' }) )"
   ]
  },
  {
   "cell_type": "code",
   "execution_count": 35,
   "id": "42936d02-feb0-4fbf-9856-68fb273ebb16",
   "metadata": {},
   "outputs": [],
   "source": [
    "df.to_csv('../data/jobs_1.csv', index=False)"
   ]
  },
  {
   "cell_type": "code",
   "execution_count": null,
   "id": "a99cbe19-b2bb-418d-a401-fc6db632fad8",
   "metadata": {},
   "outputs": [],
   "source": []
  },
  {
   "cell_type": "code",
   "execution_count": null,
   "id": "c4316461-81bd-439d-a032-4f5103c1a50d",
   "metadata": {},
   "outputs": [],
   "source": []
  }
 ],
 "metadata": {
  "kernelspec": {
   "display_name": "Python 3 (ipykernel)",
   "language": "python",
   "name": "python3"
  },
  "language_info": {
   "codemirror_mode": {
    "name": "ipython",
    "version": 3
   },
   "file_extension": ".py",
   "mimetype": "text/x-python",
   "name": "python",
   "nbconvert_exporter": "python",
   "pygments_lexer": "ipython3",
   "version": "3.8.8"
  }
 },
 "nbformat": 4,
 "nbformat_minor": 5
}
